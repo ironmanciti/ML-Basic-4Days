{
 "cells": [
  {
   "cell_type": "markdown",
   "id": "0d0edf1e",
   "metadata": {},
   "source": [
    "# Random Forest and Gradient Boosting\n",
    "\n",
    "## Random Forest Classifier"
   ]
  },
  {
   "cell_type": "code",
   "execution_count": null,
   "id": "5af45429",
   "metadata": {},
   "outputs": [],
   "source": []
  },
  {
   "cell_type": "code",
   "execution_count": null,
   "id": "2c0c3c91",
   "metadata": {},
   "outputs": [],
   "source": []
  },
  {
   "cell_type": "code",
   "execution_count": null,
   "id": "99aa2b66",
   "metadata": {},
   "outputs": [],
   "source": []
  },
  {
   "cell_type": "code",
   "execution_count": null,
   "id": "0bd9bb53",
   "metadata": {},
   "outputs": [],
   "source": [
    "# dataset 을 Training 과 Test set 으로 분리"
   ]
  },
  {
   "cell_type": "code",
   "execution_count": null,
   "id": "97dee440",
   "metadata": {},
   "outputs": [],
   "source": [
    "# Feature Scaling"
   ]
  },
  {
   "cell_type": "code",
   "execution_count": null,
   "id": "dcceb476",
   "metadata": {},
   "outputs": [],
   "source": [
    "# 랜덤 포레스트 분류기(RandomForestClassifier) 객체 생성\n",
    "# - n_estimators=10: 트리의 개수를 10개로 설정\n",
    "# - criterion='entropy': 정보 이득(Entropy)을 기준으로 분할\n",
    "# - random_state=0: 결과 재현성을 위한 랜덤 시드 고정\n",
    "# 학습 데이터(X_train, y_train)를 사용하여 모델 학습"
   ]
  },
  {
   "cell_type": "code",
   "execution_count": null,
   "id": "18dcef24",
   "metadata": {},
   "outputs": [],
   "source": [
    "# 테스트 데이터에 대해 랜덤 포레스트 모델로 예측 수행\n",
    "# 예측 결과 출력\n",
    "# 실제 테스트 세트에서 True (또는 1)인 값의 개수 출력\n",
    "# 예측된 결과 중 True (또는 1)인 값의 개수 출력\n",
    "# 예측 정확도 계산 및 출력 (예측이 맞은 비율)"
   ]
  },
  {
   "cell_type": "code",
   "execution_count": null,
   "id": "3a8812bc",
   "metadata": {},
   "outputs": [],
   "source": [
    "# 혼동 행렬(Confusion Matrix) 출력\n",
    "# - labels=[1, 0]: 1을 positive 클래스, 0을 negative 클래스로 지정\n",
    "# F1 스코어 출력\n",
    "# - 정밀도(precision)와 재현율(recall)의 조화 평균\n",
    "# - 불균형 클래스 문제에서 유용한 평가 지표"
   ]
  },
  {
   "cell_type": "markdown",
   "id": "5ae8e1c9",
   "metadata": {},
   "source": [
    "## Gradient Boosting Classifier\n",
    "\n",
    "- min_samples_split : node 분리에 필요한 최소 sample 수 => overfitting 방지  \n",
    "- max_depth : tree 깊이 조절 => overfitting 방지\n",
    "- learning_rate : 각 tree 의 기여도 조정, n_estimators 와 trade-off \n",
    "- n_estimators : number of sequential trees"
   ]
  },
  {
   "cell_type": "code",
   "execution_count": null,
   "id": "0f262bd0",
   "metadata": {},
   "outputs": [],
   "source": [
    "# 그래디언트 부스팅 분류기(Gradient Boosting Classifier) 생성\n",
    "# - learning_rate=0.1: 학습률 설정 (각 단계에서 기여하는 정도)\n",
    "# - n_estimators=500: 트리의 개수를 500개로 설정\n",
    "# - max_depth=5: 각 결정 트리의 최대 깊이를 5로 설정\n",
    "# 학습 데이터(X_train, y_train)를 사용하여 모델 학습"
   ]
  },
  {
   "cell_type": "code",
   "execution_count": null,
   "id": "0ef98f2e",
   "metadata": {},
   "outputs": [],
   "source": [
    "# 테스트 데이터(X_test)에 대해 그래디언트 부스팅 모델로 예측 수행\n",
    "# 예측 결과 출력\n",
    "# 테스트 세트에서 실제로 True(또는 1)인 샘플의 개수 출력\n",
    "# 예측 결과 중 True(또는 1)로 예측된 개수 출력\n",
    "# 예측 정확도 출력\n",
    "# - 예측이 실제 정답과 일치한 비율"
   ]
  },
  {
   "cell_type": "code",
   "execution_count": null,
   "id": "91ff28d4",
   "metadata": {},
   "outputs": [],
   "source": [
    "# 혼동 행렬(Confusion Matrix) 출력\n",
    "# - 실제 값(y_test)과 예측 값(y_pred)을 비교하여 분류 성능 평가\n",
    "# - labels=[1, 0]: 1을 positive 클래스, 0을 negative 클래스로 설정\n",
    "# F1 점수(F1 score) 출력\n",
    "# - 정밀도(precision)와 재현율(recall)의 조화 평균\n",
    "# - 불균형 데이터셋에서 효과적인 성능 평가 지표"
   ]
  },
  {
   "cell_type": "markdown",
   "id": "d1e5eb95",
   "metadata": {},
   "source": [
    "## 훈련 결과 시각화"
   ]
  },
  {
   "cell_type": "code",
   "execution_count": null,
   "id": "ff8d4edf",
   "metadata": {},
   "outputs": [],
   "source": [
    "# 색상 맵 생성\n",
    "# - cmap_light: 배경색 (결정 경계 시각화를 위한 연한 색상)\n",
    "# - cmap_bold: 데이터 포인트 표시용 진한 색상"
   ]
  },
  {
   "cell_type": "code",
   "execution_count": null,
   "id": "6a8bc8b0",
   "metadata": {},
   "outputs": [],
   "source": [
    "# X_test의 첫 번째 특성(x1)의 최소값과 최대값 범위 설정 (시각화 영역 확보를 위해 -1, +1 여유 추가)\n",
    "# X_test의 두 번째 특성(x2)의 최소값과 최대값 범위 설정\n",
    "# x1, x2 축을 따라 0.1 간격으로 그리드 포인트 생성\n",
    "# 생성된 그리드 포인트를 2차원 배열로 결합 (모델 입력 형태로 변환)\n",
    "# 랜덤 포레스트 모델로 각 그리드 포인트에 대한 예측 수행\n",
    "# 그래디언트 부스팅 모델로 각 그리드 포인트에 대한 예측 수행"
   ]
  },
  {
   "cell_type": "code",
   "execution_count": null,
   "id": "bf848f1c",
   "metadata": {},
   "outputs": [],
   "source": [
    "# 두 개의 서브플롯 생성 (1행 2열) - 랜덤 포레스트 vs 그래디언트 부스팅 비교\n",
    "# [좌측] 랜덤 포레스트 시각화\n",
    "# - 예측 결과(Y_rf)를 배경색으로 표현\n",
    "# - 실제 테스트 데이터를 클래스별로 색상 표시\n",
    "# - 제목 및 축 라벨 설정\n",
    "# [우측] 그래디언트 부스팅 시각화\n",
    "# - 예측 결과(Y_gb)를 배경색으로 표현\n",
    "# - 실제 테스트 데이터를 클래스별로 색상 표시\n",
    "# - 제목 및 축 라벨 설정\n",
    "# 레이아웃 정리"
   ]
  },
  {
   "cell_type": "code",
   "execution_count": null,
   "id": "999fcd63",
   "metadata": {},
   "outputs": [],
   "source": []
  },
  {
   "cell_type": "code",
   "execution_count": null,
   "id": "9538cc35",
   "metadata": {},
   "outputs": [],
   "source": [
    "# 그래디언트 부스팅 모델에서 계산된 특성 중요도 추출\n",
    "# - gb.feature_importances_: 각 특성이 예측에 기여한 정도를 나타내는 값\n",
    "# - ['Age', 'EstimatedSalary']: 특성 이름을 지정"
   ]
  },
  {
   "cell_type": "code",
   "execution_count": null,
   "id": "a0fe0f90",
   "metadata": {},
   "outputs": [],
   "source": [
    "# 특성 중요도(feature importance)를 막대그래프로 시각화\n",
    "# - kind='bar': 막대 그래프 형식\n",
    "# - title='feature importance': 그래프 제목 설정"
   ]
  },
  {
   "cell_type": "code",
   "execution_count": null,
   "id": "2bf196ea",
   "metadata": {},
   "outputs": [],
   "source": []
  }
 ],
 "metadata": {
  "kernelspec": {
   "display_name": "Python 3 (ipykernel)",
   "language": "python",
   "name": "python3"
  },
  "language_info": {
   "codemirror_mode": {
    "name": "ipython",
    "version": 3
   },
   "file_extension": ".py",
   "mimetype": "text/x-python",
   "name": "python",
   "nbconvert_exporter": "python",
   "pygments_lexer": "ipython3",
   "version": "3.9.21"
  }
 },
 "nbformat": 4,
 "nbformat_minor": 5
}
