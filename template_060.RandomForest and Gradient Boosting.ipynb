{
 "cells": [
  {
   "cell_type": "markdown",
   "id": "6ae38e78",
   "metadata": {},
   "source": [
    "# Random Forest and Gradient Boosting\n",
    "\n",
    "## Random Forest Classifier"
   ]
  },
  {
   "cell_type": "code",
   "execution_count": null,
   "id": "4aafbb06",
   "metadata": {},
   "outputs": [],
   "source": []
  },
  {
   "cell_type": "code",
   "execution_count": null,
   "id": "fa57e6e1",
   "metadata": {},
   "outputs": [],
   "source": []
  },
  {
   "cell_type": "code",
   "execution_count": null,
   "id": "a3d6aed3",
   "metadata": {},
   "outputs": [],
   "source": []
  },
  {
   "cell_type": "code",
   "execution_count": null,
   "id": "98bdbf09",
   "metadata": {},
   "outputs": [],
   "source": [
    "# dataset 을 Training 과 Test set 으로 분리"
   ]
  },
  {
   "cell_type": "code",
   "execution_count": null,
   "id": "c7a89400",
   "metadata": {},
   "outputs": [],
   "source": [
    "# Feature Scaling"
   ]
  },
  {
   "cell_type": "code",
   "execution_count": null,
   "id": "91675a37",
   "metadata": {},
   "outputs": [],
   "source": [
    "# Training set 에 대해 Random Forest Classifier model 을 fitting"
   ]
  },
  {
   "cell_type": "code",
   "execution_count": null,
   "id": "3cca9b50",
   "metadata": {},
   "outputs": [],
   "source": []
  },
  {
   "cell_type": "code",
   "execution_count": null,
   "id": "1c5d4a91",
   "metadata": {},
   "outputs": [],
   "source": [
    "# making confusion matrix"
   ]
  },
  {
   "cell_type": "markdown",
   "id": "b8534888",
   "metadata": {},
   "source": [
    "## Gradient Boosting Classifier\n",
    "\n",
    "- min_samples_split : node 분리에 필요한 최소 sample 수 => overfitting 방지  \n",
    "- max_depth : tree 깊이 조절 => overfitting 방지\n",
    "- learning_rate : 각 tree 의 기여도 조정, n_estimators 와 trade-off \n",
    "- n_estimators : number of sequential trees"
   ]
  },
  {
   "cell_type": "code",
   "execution_count": null,
   "id": "77cd4d7d",
   "metadata": {},
   "outputs": [],
   "source": []
  },
  {
   "cell_type": "code",
   "execution_count": null,
   "id": "3d93a0de",
   "metadata": {},
   "outputs": [],
   "source": []
  },
  {
   "cell_type": "code",
   "execution_count": null,
   "id": "bbea32e5",
   "metadata": {},
   "outputs": [],
   "source": [
    "# making confusion matrix"
   ]
  },
  {
   "cell_type": "markdown",
   "id": "8a2fb1de",
   "metadata": {},
   "source": [
    "## Visualization of the Training result"
   ]
  },
  {
   "cell_type": "code",
   "execution_count": null,
   "id": "403b6844",
   "metadata": {},
   "outputs": [],
   "source": [
    "# Create color maps"
   ]
  },
  {
   "cell_type": "code",
   "execution_count": null,
   "id": "eebaf64c",
   "metadata": {},
   "outputs": [],
   "source": []
  },
  {
   "cell_type": "code",
   "execution_count": null,
   "id": "c349b912",
   "metadata": {},
   "outputs": [],
   "source": [
    "# Random Forest\n",
    "# Gradient Boosting"
   ]
  },
  {
   "cell_type": "code",
   "execution_count": null,
   "id": "eaea6a93",
   "metadata": {},
   "outputs": [],
   "source": []
  },
  {
   "cell_type": "code",
   "execution_count": null,
   "id": "a5d1e59c",
   "metadata": {},
   "outputs": [],
   "source": []
  },
  {
   "cell_type": "code",
   "execution_count": null,
   "id": "150faf00",
   "metadata": {},
   "outputs": [],
   "source": []
  },
  {
   "cell_type": "code",
   "execution_count": null,
   "id": "13f0acec",
   "metadata": {},
   "outputs": [],
   "source": []
  }
 ],
 "metadata": {
  "kernelspec": {
   "display_name": "Python 3 (ipykernel)",
   "language": "python",
   "name": "python3"
  },
  "language_info": {
   "codemirror_mode": {
    "name": "ipython",
    "version": 3
   },
   "file_extension": ".py",
   "mimetype": "text/x-python",
   "name": "python",
   "nbconvert_exporter": "python",
   "pygments_lexer": "ipython3",
   "version": "3.9.7"
  }
 },
 "nbformat": 4,
 "nbformat_minor": 5
}
