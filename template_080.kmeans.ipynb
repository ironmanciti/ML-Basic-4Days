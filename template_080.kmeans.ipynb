{
 "cells": [
  {
   "cell_type": "markdown",
   "id": "c5e32102",
   "metadata": {},
   "source": [
    "# K-Means Clustering\n",
    "\n",
    "### Random 하게 생성된 toy dataset 으로 K-Means clustering test\n",
    "\n",
    "make_blobs : \n",
    "```\n",
    "    Input :\n",
    "         n_samples :  cluster 에 균등 분할될 total data point 숫자  \n",
    "         centers : generate 할 centroid 숫자  \n",
    "         cluster_std : cluster 의 standard deviation    \n",
    "\n",
    "    Output : \n",
    "        X: 생성된 sample 들  \n",
    "        y: 각 sample 의 label\n",
    "```\n",
    "KMeans :  \n",
    "> init : initialization method -> k-means++ (smart choosing of centroids)  \n",
    "> n_clusters : k 값  \n",
    "> n_init : 반복횟수  "
   ]
  },
  {
   "cell_type": "code",
   "execution_count": null,
   "id": "378f2567",
   "metadata": {},
   "outputs": [],
   "source": []
  },
  {
   "cell_type": "code",
   "execution_count": null,
   "id": "04d7a1a2",
   "metadata": {},
   "outputs": [],
   "source": []
  },
  {
   "cell_type": "code",
   "execution_count": null,
   "id": "f3b73696",
   "metadata": {},
   "outputs": [],
   "source": []
  },
  {
   "cell_type": "code",
   "execution_count": null,
   "id": "99f7b59a",
   "metadata": {},
   "outputs": [],
   "source": []
  },
  {
   "cell_type": "code",
   "execution_count": null,
   "id": "32ae6a7d",
   "metadata": {},
   "outputs": [],
   "source": []
  },
  {
   "cell_type": "code",
   "execution_count": null,
   "id": "48423b95",
   "metadata": {},
   "outputs": [],
   "source": []
  },
  {
   "cell_type": "code",
   "execution_count": null,
   "id": "3d80f4e8",
   "metadata": {},
   "outputs": [],
   "source": []
  },
  {
   "cell_type": "code",
   "execution_count": null,
   "id": "d5237eb6",
   "metadata": {},
   "outputs": [],
   "source": []
  },
  {
   "cell_type": "code",
   "execution_count": null,
   "id": "f332c8c9",
   "metadata": {},
   "outputs": [],
   "source": []
  },
  {
   "cell_type": "code",
   "execution_count": null,
   "id": "a7065632",
   "metadata": {},
   "outputs": [],
   "source": []
  },
  {
   "cell_type": "code",
   "execution_count": null,
   "id": "a213b8fe",
   "metadata": {},
   "outputs": [],
   "source": [
    "# 뚜렷한 색상의 사용자 정의 컬러맵 생성\n",
    "# 여기서는 빨간색, 초록색, 파란색을 각각의 클래스에 대한 데이터 포인트 색상으로 사용\n",
    "# 연한 색상의 사용자 정의 컬러맵 생성\n",
    "# 여기서는 연한 빨간색, 연한 초록색, 연한 파란색을 각각의 클래스에 대한 배경 색상으로 사용"
   ]
  },
  {
   "cell_type": "code",
   "execution_count": null,
   "id": "88b6a61a",
   "metadata": {},
   "outputs": [],
   "source": [
    "# 클러스터의 수만큼 반복하여 각 클러스터의 데이터 포인트와 중심을 플로팅\n",
    "    # i번째 클러스터에 속하는 데이터 포인트를 선택\n",
    "    # 선택된 데이터 포인트를 플로팅\n",
    "    # i번째 클러스터의 중심을 플로팅\n",
    "# 그래프의 제목을 설정\n",
    "# 범례를 표시\n",
    "# 그래프를 표시"
   ]
  },
  {
   "cell_type": "code",
   "execution_count": null,
   "id": "07a97c1e",
   "metadata": {},
   "outputs": [],
   "source": []
  }
 ],
 "metadata": {
  "kernelspec": {
   "display_name": "Python 3 (ipykernel)",
   "language": "python",
   "name": "python3"
  },
  "language_info": {
   "codemirror_mode": {
    "name": "ipython",
    "version": 3
   },
   "file_extension": ".py",
   "mimetype": "text/x-python",
   "name": "python",
   "nbconvert_exporter": "python",
   "pygments_lexer": "ipython3",
   "version": "3.9.7"
  }
 },
 "nbformat": 4,
 "nbformat_minor": 5
}
