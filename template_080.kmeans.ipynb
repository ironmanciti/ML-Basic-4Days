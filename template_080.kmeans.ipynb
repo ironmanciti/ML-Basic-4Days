{
 "cells": [
  {
   "cell_type": "markdown",
   "id": "507fc2cc",
   "metadata": {},
   "source": [
    "# K-Means Clustering\n",
    "\n",
    "### Random 하게 생성된 toy dataset 으로 K-Means clustering test\n",
    "\n",
    "make_blobs : \n",
    "```\n",
    "    Input :\n",
    "         n_samples :  cluster 에 균등 분할될 total data point 숫자  \n",
    "         centers : generate 할 centroid 숫자  \n",
    "         cluster_std : cluster 의 standard deviation    \n",
    "\n",
    "    Output : \n",
    "        X: 생성된 sample 들  \n",
    "        y: 각 sample 의 label\n",
    "```\n",
    "KMeans :  \n",
    "> init : initialization method -> k-means++ (smart choosing of centroids)  \n",
    "> n_clusters : k 값  \n",
    "> n_init : 반복횟수  "
   ]
  },
  {
   "cell_type": "code",
   "execution_count": null,
   "id": "03c5296a",
   "metadata": {},
   "outputs": [],
   "source": []
  },
  {
   "cell_type": "code",
   "execution_count": null,
   "id": "29437a92",
   "metadata": {},
   "outputs": [],
   "source": []
  },
  {
   "cell_type": "code",
   "execution_count": null,
   "id": "87e22e11",
   "metadata": {},
   "outputs": [],
   "source": [
    "# 클러스터 중심 좌표를 리스트로 정의 (총 3개의 중심)\n",
    "# 지정한 중심 좌표를 기준으로 총 1500개의 샘플 데이터를 생성\n",
    "# X는 생성된 데이터 포인트, _는 클러스터 라벨(여기선 사용하지 않음)"
   ]
  },
  {
   "cell_type": "code",
   "execution_count": null,
   "id": "b876cf92",
   "metadata": {},
   "outputs": [],
   "source": []
  },
  {
   "cell_type": "code",
   "execution_count": null,
   "id": "7b6d1b1c",
   "metadata": {},
   "outputs": [],
   "source": []
  },
  {
   "cell_type": "code",
   "execution_count": null,
   "id": "a13d763e",
   "metadata": {},
   "outputs": [],
   "source": []
  },
  {
   "cell_type": "code",
   "execution_count": null,
   "id": "56d2fe99",
   "metadata": {},
   "outputs": [],
   "source": []
  },
  {
   "cell_type": "code",
   "execution_count": null,
   "id": "f7709c1d",
   "metadata": {},
   "outputs": [],
   "source": []
  },
  {
   "cell_type": "code",
   "execution_count": null,
   "id": "dd84ee58",
   "metadata": {},
   "outputs": [],
   "source": []
  },
  {
   "cell_type": "code",
   "execution_count": null,
   "id": "c67f6e0f",
   "metadata": {},
   "outputs": [],
   "source": []
  },
  {
   "cell_type": "code",
   "execution_count": null,
   "id": "350448fd",
   "metadata": {},
   "outputs": [],
   "source": [
    "# 뚜렷한 색상의 사용자 정의 컬러맵 생성\n",
    "# 여기서는 빨간색, 초록색, 파란색을 각각의 클래스에 대한 데이터 포인트 색상으로 사용\n",
    "# 연한 색상의 사용자 정의 컬러맵 생성\n",
    "# 여기서는 연한 빨간색, 연한 초록색, 연한 파란색을 각각의 클래스에 대한 배경 색상으로 사용"
   ]
  },
  {
   "cell_type": "code",
   "execution_count": null,
   "id": "dee70d7c",
   "metadata": {},
   "outputs": [],
   "source": [
    "# 클러스터의 수만큼 반복하여 각 클러스터의 데이터 포인트와 중심을 플로팅\n",
    "    # i번째 클러스터에 속하는 데이터 포인트를 선택\n",
    "    # 선택된 데이터 포인트를 플로팅\n",
    "    # i번째 클러스터의 중심을 플로팅\n",
    "# 그래프의 제목을 설정\n",
    "# 범례를 표시\n",
    "# 그래프를 표시"
   ]
  },
  {
   "cell_type": "code",
   "execution_count": null,
   "id": "ee274275",
   "metadata": {},
   "outputs": [],
   "source": []
  }
 ],
 "metadata": {
  "kernelspec": {
   "display_name": "Python 3 (ipykernel)",
   "language": "python",
   "name": "python3"
  },
  "language_info": {
   "codemirror_mode": {
    "name": "ipython",
    "version": 3
   },
   "file_extension": ".py",
   "mimetype": "text/x-python",
   "name": "python",
   "nbconvert_exporter": "python",
   "pygments_lexer": "ipython3",
   "version": "3.9.21"
  }
 },
 "nbformat": 4,
 "nbformat_minor": 5
}
