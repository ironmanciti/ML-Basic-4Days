{
 "cells": [
  {
   "cell_type": "markdown",
   "id": "84d3bbda",
   "metadata": {
    "colab_type": "text",
    "id": "uMzSmlzgrTPV"
   },
   "source": [
    "# 100. Boston House Price Regression\n",
    "\n",
    "- 보스턴 주택가격 예측\n",
    "\n",
    "### 13 개의 종속변수와 1 개의 독립변수 (주택가격 중앙값) 으로 구성\n",
    "\n",
    "#### 독립변수 (13 개)\n",
    "CRIM 자치시(town) 별 1인당 범죄율  \n",
    "ZN 25,000 평방피트를 초과하는 거주지역의 비율  \n",
    "INDUS 비소매상업지역이 점유하고 있는 토지의 비율  \n",
    "CHAS 찰스강에 대한 더미변수(강의 경계에 위치한 경우는 1, 아니면 0)  \n",
    "NOX 10ppm 당 농축 일산화질소  \n",
    "RM 주택 1가구당 평균 방의 개수  \n",
    "AGE 1940년 이전에 건축된 소유주택의 비율  \n",
    "DIS 5개의 보스턴 직업센터까지의 접근성 지수  \n",
    "RAD 방사형 도로까지의 접근성 지수  \n",
    "TAX 10,000 달러 당 재산세율  \n",
    "PTRATIO 자치시(town)별 학생/교사 비율  \n",
    "B 1000(Bk-0.63)^2, 여기서 Bk는 자치시별 흑인의 비율을 말함  \n",
    "LSTAT 모집단의 하위계층의 비율(%)   \n",
    "\n",
    "#### 종속변수 (1 개)\n",
    "MEDV 본인 소유의 주택가격(중앙값) (단위: $1,000)  "
   ]
  },
  {
   "cell_type": "code",
   "execution_count": null,
   "id": "06c9f606",
   "metadata": {},
   "outputs": [],
   "source": []
  },
  {
   "cell_type": "code",
   "execution_count": null,
   "id": "d8c36602",
   "metadata": {},
   "outputs": [],
   "source": [
    "# 'boston_house.csv' 파일을 불러오고, 첫 번째 열(index_col=0)을 인덱스로 설정\n",
    "# 'MEDV' 열(주택 가격)을 제외한 나머지 열들을 특성 데이터(boston)로 저장\n",
    "# 'MEDV' 열을 target 변수로 분리하여 저장 (예측 대상)"
   ]
  },
  {
   "cell_type": "code",
   "execution_count": null,
   "id": "a35de084",
   "metadata": {},
   "outputs": [],
   "source": [
    "# boston 데이터프레임을 넘파이 배열로 변환하여 입력 특성 X에 저장\n",
    "# target 시리즈를 넘파이 배열로 변환하여 타깃 변수 y에 저장"
   ]
  },
  {
   "cell_type": "code",
   "execution_count": null,
   "id": "8852c613",
   "metadata": {},
   "outputs": [],
   "source": []
  },
  {
   "cell_type": "code",
   "execution_count": null,
   "id": "b21e1cbf",
   "metadata": {},
   "outputs": [],
   "source": []
  },
  {
   "cell_type": "code",
   "execution_count": null,
   "id": "a156dcc8",
   "metadata": {},
   "outputs": [],
   "source": [
    "# 데이터를 학습용과 테스트용으로 무작위 분할 (기본적으로 75% 학습, 25% 테스트)"
   ]
  },
  {
   "cell_type": "code",
   "execution_count": null,
   "id": "7702f6c2",
   "metadata": {},
   "outputs": [],
   "source": [
    "# MinMaxScaler 객체 생성 (데이터를 0과 1 사이의 범위로 정규화)\n",
    "# 학습 데이터의 최소값과 최대값을 기준으로 정규화 수행\n",
    "# 테스트 데이터는 학습 데이터 기준으로 정규화"
   ]
  },
  {
   "cell_type": "markdown",
   "id": "1e6239c5",
   "metadata": {
    "colab_type": "text",
    "id": "pLf27y9VrTPr"
   },
   "source": [
    "### model build"
   ]
  },
  {
   "cell_type": "code",
   "execution_count": null,
   "id": "a14dbe13",
   "metadata": {},
   "outputs": [],
   "source": []
  },
  {
   "cell_type": "code",
   "execution_count": null,
   "id": "5a9411e3",
   "metadata": {},
   "outputs": [],
   "source": [
    "# 모델 컴파일: 손실 함수, 최적화 알고리즘, 평가 지표 설정"
   ]
  },
  {
   "cell_type": "code",
   "execution_count": null,
   "id": "c4126aaf",
   "metadata": {},
   "outputs": [],
   "source": []
  },
  {
   "cell_type": "markdown",
   "id": "95306d2d",
   "metadata": {
    "colab_type": "text",
    "id": "4nlJzIHwrTPy"
   },
   "source": [
    "- epoch 수와 batchz_size 변경하며 test"
   ]
  },
  {
   "cell_type": "code",
   "execution_count": null,
   "id": "ef88b204",
   "metadata": {},
   "outputs": [],
   "source": [
    "# 모델 학습 시작"
   ]
  },
  {
   "cell_type": "code",
   "execution_count": null,
   "id": "0761925f",
   "metadata": {},
   "outputs": [],
   "source": [
    "# 테스트 데이터셋에 대해 모델 성능 평가\n",
    "# 반환값은 [손실 값, MAE, MSE] (compile에서 지정한 순서대로)"
   ]
  },
  {
   "cell_type": "code",
   "execution_count": null,
   "id": "86d0c3b5",
   "metadata": {},
   "outputs": [],
   "source": []
  },
  {
   "cell_type": "code",
   "execution_count": null,
   "id": "ed9fd9e7",
   "metadata": {},
   "outputs": [],
   "source": [
    "# R2 계산 "
   ]
  },
  {
   "cell_type": "code",
   "execution_count": null,
   "id": "cba041ef",
   "metadata": {},
   "outputs": [],
   "source": [
    "# 실제값을 기준으로 자기 자신을 그려 기준선(정답선)으로 사용\n",
    "# 실제값과 예측값을 비교해서 점으로 시각화\n",
    "# x축, y축 라벨 설정\n",
    "# 범례 표시\n",
    "# 그래프 제목 설정"
   ]
  },
  {
   "cell_type": "code",
   "execution_count": null,
   "id": "da2648f2",
   "metadata": {},
   "outputs": [],
   "source": [
    "# 학습 데이터에 대한 MSE 변화 추이\n",
    "# 검증 데이터에 대한 MSE 변화 추이\n",
    "# y축 범위 설정 (0 ~ 50)\n",
    "# 범례 표시"
   ]
  },
  {
   "cell_type": "markdown",
   "id": "f5442c31",
   "metadata": {
    "colab_type": "text",
    "id": "HHSjTEgsrTQC"
   },
   "source": [
    "## sklearn LinearRegression 비교"
   ]
  },
  {
   "cell_type": "code",
   "execution_count": null,
   "id": "07142cf0",
   "metadata": {},
   "outputs": [],
   "source": [
    "# 데이터를 학습용과 테스트용으로 분할 (기본: 75% 학습 / 25% 테스트)\n",
    "# 입력 데이터를 0~1 사이로 정규화하기 위한 MinMaxScaler 사용\n",
    "# 학습 데이터에 대해 정규화 기준을 학습(fit)하고 변환(transform) 적용\n",
    "# 테스트 데이터는 학습 데이터 기준으로만 정규화(transform만 수행)"
   ]
  },
  {
   "cell_type": "code",
   "execution_count": null,
   "id": "a455d6d1",
   "metadata": {},
   "outputs": [],
   "source": [
    "# 선형 회귀 모델을 학습 데이터에 맞춰 학습시킴"
   ]
  },
  {
   "cell_type": "code",
   "execution_count": null,
   "id": "085cbccf",
   "metadata": {},
   "outputs": [],
   "source": []
  },
  {
   "cell_type": "code",
   "execution_count": null,
   "id": "27afcb96",
   "metadata": {},
   "outputs": [],
   "source": [
    "# The coefficients"
   ]
  },
  {
   "cell_type": "code",
   "execution_count": null,
   "id": "dc669ae9",
   "metadata": {},
   "outputs": [],
   "source": [
    "# MSE(mean squared error) 계산\n",
    "# R2 계산 "
   ]
  },
  {
   "cell_type": "code",
   "execution_count": null,
   "id": "6759b77c",
   "metadata": {},
   "outputs": [],
   "source": [
    "# 실제 주택 가격(y_test)과 예측한 가격(y_pred)의 산점도 그리기\n",
    "# 완벽한 예측일 경우의 기준선 (y = x 직선) 그리기\n",
    "# 실제값과 예측값이 일치할수록 이 선에 가까워짐\n",
    "# 축 라벨 및 제목 설정"
   ]
  },
  {
   "cell_type": "markdown",
   "id": "ae9581b0",
   "metadata": {
    "colab_type": "text",
    "id": "N1dR1BCOrTQV"
   },
   "source": [
    "## 실습\n",
    "\n",
    "### UCI Machine Learning Repository 의 Auto MPG dataset 을 사용하여 자동차 연비 예측 Regression model 작성\n",
    "\n",
    "- auto-mpg.data - data file  \n",
    "\n",
    "\n",
    "- auto-mpg.names - data 설명 file\n",
    "\n",
    "    1. mpg:           continuous  \n",
    "    2. cylinders:     multi-valued discrete  \n",
    "    3. displacement:  continuous (배기량)   \n",
    "    4. horsepower:    continuous  \n",
    "    5. weight:        continuous  \n",
    "    6. acceleration:  continuous  \n",
    "    7. model year:    multi-valued discrete  \n",
    "    8. origin:        multi-valued discrete, 1 - USA, 2 - Europe, 3 - Japan  \n",
    "    9. car name:      string (unique for each instance)  \n",
    "\n",
    "Missing Attribute Values:  horsepower has 6 missing values  ==> \"?\" 로 들어 있으므로 read_csv 시 nan 으로 변환"
   ]
  },
  {
   "cell_type": "code",
   "execution_count": null,
   "id": "615b18c8",
   "metadata": {},
   "outputs": [],
   "source": []
  },
  {
   "cell_type": "markdown",
   "id": "1f0f95e8",
   "metadata": {
    "colab_type": "text",
    "id": "OaJ3QC85rTQY"
   },
   "source": [
    "### Data load 및 Preprocessing"
   ]
  },
  {
   "cell_type": "code",
   "execution_count": null,
   "id": "74983859",
   "metadata": {},
   "outputs": [],
   "source": [
    "# UCI 저장소에서 'auto-mpg' 데이터셋 다운로드 및 경로 저장\n",
    "# 열 이름 정의\n",
    "# 데이터 불러오기\n",
    "# '?'는 결측값으로 처리, '\\t'로 시작하는 줄은 주석으로 간주, 공백으로 구분\n",
    "# 결측값이 포함된 행 제거\n",
    "# 데이터 복사\n",
    "# 'cylinders'와 'origin' 열에 대해 원-핫 인코딩 수행\n",
    "# 타깃(label)으로 'mpg' 열을 분리\n",
    "# 학습용/테스트용 데이터 분할\n",
    "# 입력 데이터를 표준화 (평균 0, 표준편차 1로 스케일링)"
   ]
  },
  {
   "cell_type": "markdown",
   "id": "921990d9",
   "metadata": {
    "colab_type": "text",
    "id": "lSAJqN3DrTQa"
   },
   "source": [
    "### Regression Model Build\n",
    "\n",
    "### train\n",
    "\n",
    "### predict\n",
    "\n",
    "### $r^2$ 계산\n",
    "\n",
    "### 시각화"
   ]
  }
 ],
 "metadata": {
  "accelerator": "GPU",
  "colab": {
   "name": "100.Boston Regression.ipynb",
   "provenance": []
  },
  "kernelspec": {
   "display_name": "Python 3 (ipykernel)",
   "language": "python",
   "name": "python3"
  },
  "language_info": {
   "codemirror_mode": {
    "name": "ipython",
    "version": 3
   },
   "file_extension": ".py",
   "mimetype": "text/x-python",
   "name": "python",
   "nbconvert_exporter": "python",
   "pygments_lexer": "ipython3",
   "version": "3.9.21"
  }
 },
 "nbformat": 4,
 "nbformat_minor": 5
}
