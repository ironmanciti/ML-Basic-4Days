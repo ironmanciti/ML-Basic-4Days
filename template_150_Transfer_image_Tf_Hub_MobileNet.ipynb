{
 "cells": [
  {
   "cell_type": "markdown",
   "id": "6deac45c",
   "metadata": {
    "id": "JnKRe0p9h35K"
   },
   "source": [
    "# TensorFlow Hub 를 이용한 Transfer Learning\n",
    "\n",
    "- Pre-trained Moblenet 사용  \n",
    "- gpu 필요하므로 Colab 에서 작업"
   ]
  },
  {
   "cell_type": "code",
   "execution_count": null,
   "id": "9fe11a2d",
   "metadata": {},
   "outputs": [],
   "source": []
  },
  {
   "cell_type": "markdown",
   "id": "878f30ae",
   "metadata": {
    "id": "fr6pOOh0hHaj"
   },
   "source": [
    "## STEP #1: IMPORT LIBRARIES"
   ]
  },
  {
   "cell_type": "code",
   "execution_count": null,
   "id": "b122b839",
   "metadata": {},
   "outputs": [],
   "source": []
  },
  {
   "cell_type": "markdown",
   "id": "7b9605c4",
   "metadata": {
    "id": "qqOSkGp9R55q"
   },
   "source": [
    "## STEP #2: Tensorflow Hub 에서 PRE-TRAINED MOBILENET 의 WEIGHT 를 가져옴  \n",
    "\n",
    "- Fine Tuning 없이 사용하기 위해 Full Model download"
   ]
  },
  {
   "cell_type": "code",
   "execution_count": null,
   "id": "7a6a2a9f",
   "metadata": {},
   "outputs": [],
   "source": []
  },
  {
   "cell_type": "code",
   "execution_count": null,
   "id": "f4fb673e",
   "metadata": {},
   "outputs": [],
   "source": []
  },
  {
   "cell_type": "code",
   "execution_count": null,
   "id": "785be093",
   "metadata": {},
   "outputs": [],
   "source": []
  },
  {
   "cell_type": "markdown",
   "id": "a499ef5a",
   "metadata": {
    "id": "Bh5YVgd3NJkz"
   },
   "source": [
    "## STEP #3: 특정 domain 의 Batch Image 에 대한 MobileNet 평가 - No Fine Tuning\n",
    "\n",
    "### MobileNet 은 Flower 에 특화된 model 이 아니므로 정확도 낮을 것 예상"
   ]
  },
  {
   "cell_type": "code",
   "execution_count": null,
   "id": "716012b8",
   "metadata": {},
   "outputs": [],
   "source": [
    "# Specify path of the flowers dataset"
   ]
  },
  {
   "cell_type": "code",
   "execution_count": null,
   "id": "dd843f0f",
   "metadata": {},
   "outputs": [],
   "source": []
  },
  {
   "cell_type": "markdown",
   "id": "cb41dc38",
   "metadata": {
    "id": "VfS1K4nopQGL"
   },
   "source": [
    "- flower data 는 5 개의 class 로 구성"
   ]
  },
  {
   "cell_type": "code",
   "execution_count": null,
   "id": "66de920e",
   "metadata": {},
   "outputs": [],
   "source": []
  },
  {
   "cell_type": "code",
   "execution_count": null,
   "id": "665f705d",
   "metadata": {},
   "outputs": [],
   "source": []
  },
  {
   "cell_type": "markdown",
   "id": "2fbfc4a3",
   "metadata": {
    "id": "PGtPtiQLphXC"
   },
   "source": [
    "- 10 개 image 시각화"
   ]
  },
  {
   "cell_type": "code",
   "execution_count": null,
   "id": "ed2f81e8",
   "metadata": {},
   "outputs": [],
   "source": []
  },
  {
   "cell_type": "markdown",
   "id": "9fcb2416",
   "metadata": {
    "id": "VTQ63ZY7pnU9"
   },
   "source": [
    "- 임의의 꽃 image 1 개를 선택하여 prediction 비교"
   ]
  },
  {
   "cell_type": "code",
   "execution_count": null,
   "id": "c6caaf87",
   "metadata": {},
   "outputs": [],
   "source": []
  },
  {
   "cell_type": "code",
   "execution_count": null,
   "id": "03d1e687",
   "metadata": {},
   "outputs": [],
   "source": []
  },
  {
   "cell_type": "markdown",
   "id": "178684c0",
   "metadata": {
    "id": "H38yzWMAn7hu"
   },
   "source": [
    "# STEP #4: 전이학습 MODEL 을 Flower 분류에 적합한 model 로 Retrain\n",
    "\n",
    "### Fine Tuning 을 위해 head 가 제거된 model 을 download  \n",
    "\n",
    "- https://tfhub.dev/s?module-type=image-feature-vector&q=tf2"
   ]
  },
  {
   "cell_type": "code",
   "execution_count": null,
   "id": "1e95c06e",
   "metadata": {},
   "outputs": [],
   "source": []
  },
  {
   "cell_type": "code",
   "execution_count": null,
   "id": "ce9136b4",
   "metadata": {},
   "outputs": [],
   "source": []
  },
  {
   "cell_type": "code",
   "execution_count": null,
   "id": "6971224a",
   "metadata": {},
   "outputs": [],
   "source": []
  },
  {
   "cell_type": "markdown",
   "id": "1ef22e9a",
   "metadata": {
    "id": "SaoQU-KZ_S2X"
   },
   "source": [
    "- MobileNet 의 pre-trained weight 는 update 않음  \n",
    "\n",
    "- Top layer 에 Dense layer 추가"
   ]
  },
  {
   "cell_type": "code",
   "execution_count": null,
   "id": "d080c8ec",
   "metadata": {},
   "outputs": [],
   "source": []
  },
  {
   "cell_type": "code",
   "execution_count": null,
   "id": "eac1c9f7",
   "metadata": {},
   "outputs": [],
   "source": [
    "# Build a model with two pieces:\n",
    "#    (1)  MobileNet Feature Extractor\n",
    "#    (2)  Dense Network (classifier) added at the end"
   ]
  },
  {
   "cell_type": "code",
   "execution_count": null,
   "id": "119cf973",
   "metadata": {},
   "outputs": [],
   "source": []
  },
  {
   "cell_type": "markdown",
   "id": "f7becaf9",
   "metadata": {
    "id": "MxI0-oqa_sEB"
   },
   "source": [
    "- output shape 이 정확한지 training 전에 사전 check"
   ]
  },
  {
   "cell_type": "code",
   "execution_count": null,
   "id": "c66eb0c6",
   "metadata": {},
   "outputs": [],
   "source": []
  },
  {
   "cell_type": "code",
   "execution_count": null,
   "id": "0f8c52ef",
   "metadata": {},
   "outputs": [],
   "source": []
  },
  {
   "cell_type": "code",
   "execution_count": null,
   "id": "547f85f7",
   "metadata": {},
   "outputs": [],
   "source": []
  },
  {
   "cell_type": "code",
   "execution_count": null,
   "id": "746dba1c",
   "metadata": {},
   "outputs": [],
   "source": []
  },
  {
   "cell_type": "markdown",
   "id": "46d7c4d2",
   "metadata": {
    "id": "0wR3uKW8g5po"
   },
   "source": [
    "# STEP #5: Flower 분류 전문으로 Fine Tuning 된 MODEL 평가"
   ]
  },
  {
   "cell_type": "code",
   "execution_count": null,
   "id": "f3965a93",
   "metadata": {},
   "outputs": [],
   "source": []
  },
  {
   "cell_type": "code",
   "execution_count": null,
   "id": "4c64ab92",
   "metadata": {},
   "outputs": [],
   "source": []
  },
  {
   "cell_type": "code",
   "execution_count": null,
   "id": "d756ad43",
   "metadata": {},
   "outputs": [],
   "source": []
  },
  {
   "cell_type": "code",
   "execution_count": null,
   "id": "f5f093ff",
   "metadata": {},
   "outputs": [],
   "source": [
    "# 서브플롯 사이의 공간 조정\n",
    "# 64개의 이미지를 8x8 격자로 표시\n",
    "# 그래프를 화면에 표시"
   ]
  }
 ],
 "metadata": {
  "accelerator": "GPU",
  "colab": {
   "gpuType": "T4",
   "machine_shape": "hm",
   "provenance": []
  },
  "kernelspec": {
   "display_name": "Python 3 (ipykernel)",
   "language": "python",
   "name": "python3"
  },
  "language_info": {
   "codemirror_mode": {
    "name": "ipython",
    "version": 3
   },
   "file_extension": ".py",
   "mimetype": "text/x-python",
   "name": "python",
   "nbconvert_exporter": "python",
   "pygments_lexer": "ipython3",
   "version": "3.8.13"
  }
 },
 "nbformat": 4,
 "nbformat_minor": 5
}
