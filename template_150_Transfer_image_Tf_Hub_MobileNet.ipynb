{
 "cells": [
  {
   "cell_type": "markdown",
   "id": "6a2ea2d1",
   "metadata": {
    "id": "JnKRe0p9h35K"
   },
   "source": [
    "# TensorFlow Hub 를 이용한 Transfer Learning\n",
    "\n",
    "- Pre-trained Moblenet 사용  \n",
    "- gpu 필요하므로 Colab 에서 작업"
   ]
  },
  {
   "cell_type": "markdown",
   "id": "3f0151ea",
   "metadata": {
    "id": "fr6pOOh0hHaj"
   },
   "source": [
    "## STEP #1: IMPORT LIBRARIES"
   ]
  },
  {
   "cell_type": "code",
   "execution_count": null,
   "id": "40941f7f",
   "metadata": {},
   "outputs": [],
   "source": []
  },
  {
   "cell_type": "markdown",
   "id": "9d5aada8",
   "metadata": {
    "id": "qqOSkGp9R55q"
   },
   "source": [
    "## STEP #2: Tensorflow Hub 에서 PRE-TRAINED MOBILENET 의 WEIGHT 를 가져옴  \n",
    "\n",
    "- Fine Tuning 없이 사용하기 위해 Full Model download"
   ]
  },
  {
   "cell_type": "code",
   "execution_count": null,
   "id": "d1cf6b25",
   "metadata": {},
   "outputs": [],
   "source": []
  },
  {
   "cell_type": "code",
   "execution_count": null,
   "id": "8a77ee3e",
   "metadata": {},
   "outputs": [],
   "source": []
  },
  {
   "cell_type": "code",
   "execution_count": null,
   "id": "36e09945",
   "metadata": {},
   "outputs": [],
   "source": []
  },
  {
   "cell_type": "markdown",
   "id": "68fe368a",
   "metadata": {
    "id": "jWb45OshSDsr"
   },
   "source": [
    "# STEP #3: PRE-TRAINED MOBILENET 평가"
   ]
  },
  {
   "cell_type": "markdown",
   "id": "9cf19431",
   "metadata": {
    "id": "0HIZbeIujJva"
   },
   "source": [
    "임의의 사진을 internet에서 가져온다"
   ]
  },
  {
   "cell_type": "code",
   "execution_count": null,
   "id": "2e721970",
   "metadata": {},
   "outputs": [],
   "source": []
  },
  {
   "cell_type": "code",
   "execution_count": null,
   "id": "487c1d32",
   "metadata": {},
   "outputs": [],
   "source": []
  },
  {
   "cell_type": "code",
   "execution_count": null,
   "id": "c8557087",
   "metadata": {},
   "outputs": [],
   "source": []
  },
  {
   "cell_type": "code",
   "execution_count": null,
   "id": "24b98ec2",
   "metadata": {},
   "outputs": [],
   "source": []
  },
  {
   "cell_type": "code",
   "execution_count": null,
   "id": "88185f45",
   "metadata": {},
   "outputs": [],
   "source": []
  },
  {
   "cell_type": "code",
   "execution_count": null,
   "id": "d466214a",
   "metadata": {},
   "outputs": [],
   "source": []
  },
  {
   "cell_type": "code",
   "execution_count": null,
   "id": "5f99ba62",
   "metadata": {},
   "outputs": [],
   "source": []
  },
  {
   "cell_type": "markdown",
   "id": "3bf15734",
   "metadata": {
    "id": "Bh5YVgd3NJkz"
   },
   "source": [
    "## STEP #4: 특정 domain 의 Batch Image 에 대한 MobileNet 평가 - No Fine Tuning\n",
    "\n",
    "### MobileNet 은 Flower 에 특화된 model 이 아니므로 정확도 낮을 것 예상"
   ]
  },
  {
   "cell_type": "code",
   "execution_count": null,
   "id": "67bf3cb8",
   "metadata": {},
   "outputs": [],
   "source": [
    "# Specify path of the flowers dataset"
   ]
  },
  {
   "cell_type": "code",
   "execution_count": null,
   "id": "44a1467c",
   "metadata": {},
   "outputs": [],
   "source": []
  },
  {
   "cell_type": "markdown",
   "id": "f4a85226",
   "metadata": {
    "id": "VfS1K4nopQGL"
   },
   "source": [
    "- flower data 는 5 개의 class 로 구성"
   ]
  },
  {
   "cell_type": "code",
   "execution_count": null,
   "id": "273e9fe5",
   "metadata": {},
   "outputs": [],
   "source": []
  },
  {
   "cell_type": "code",
   "execution_count": null,
   "id": "cd91f7fc",
   "metadata": {},
   "outputs": [],
   "source": []
  },
  {
   "cell_type": "markdown",
   "id": "3ea89bf4",
   "metadata": {
    "id": "PGtPtiQLphXC"
   },
   "source": [
    "- 10 개 image 시각화"
   ]
  },
  {
   "cell_type": "code",
   "execution_count": null,
   "id": "5d326636",
   "metadata": {},
   "outputs": [],
   "source": []
  },
  {
   "cell_type": "markdown",
   "id": "f401a58b",
   "metadata": {
    "id": "VTQ63ZY7pnU9"
   },
   "source": [
    "- 임의의 꽃 image 1 개를 선택하여 prediction 비교"
   ]
  },
  {
   "cell_type": "code",
   "execution_count": null,
   "id": "06451b08",
   "metadata": {},
   "outputs": [],
   "source": []
  },
  {
   "cell_type": "code",
   "execution_count": null,
   "id": "0ea132ca",
   "metadata": {},
   "outputs": [],
   "source": []
  },
  {
   "cell_type": "markdown",
   "id": "d6eeddb4",
   "metadata": {
    "id": "H38yzWMAn7hu"
   },
   "source": [
    "# STEP #5: 전이학습 MODEL 을 Flower 분류에 적합한 model 로 Retrain\n",
    "\n",
    "### Fine Tuning 을 위해 head 가 제거된 model 을 download  \n",
    "\n",
    "- https://tfhub.dev/s?module-type=image-feature-vector&q=tf2"
   ]
  },
  {
   "cell_type": "code",
   "execution_count": null,
   "id": "623514fe",
   "metadata": {},
   "outputs": [],
   "source": []
  },
  {
   "cell_type": "code",
   "execution_count": null,
   "id": "089014b7",
   "metadata": {},
   "outputs": [],
   "source": []
  },
  {
   "cell_type": "code",
   "execution_count": null,
   "id": "14c7a2fe",
   "metadata": {},
   "outputs": [],
   "source": []
  },
  {
   "cell_type": "markdown",
   "id": "2f318e72",
   "metadata": {
    "id": "SaoQU-KZ_S2X"
   },
   "source": [
    "- MobileNet 의 pre-trained weight 는 update 않음  \n",
    "\n",
    "- Top layer 에 Dense layer 추가"
   ]
  },
  {
   "cell_type": "code",
   "execution_count": null,
   "id": "34ee1eaf",
   "metadata": {},
   "outputs": [],
   "source": []
  },
  {
   "cell_type": "code",
   "execution_count": null,
   "id": "5a67ff76",
   "metadata": {},
   "outputs": [],
   "source": [
    "# Build a model with two pieces:\n",
    "#    (1)  MobileNet Feature Extractor\n",
    "#    (2)  Dense Network (classifier) added at the end"
   ]
  },
  {
   "cell_type": "code",
   "execution_count": null,
   "id": "052f7f17",
   "metadata": {},
   "outputs": [],
   "source": []
  },
  {
   "cell_type": "markdown",
   "id": "d7a11984",
   "metadata": {
    "id": "MxI0-oqa_sEB"
   },
   "source": [
    "- output shape 이 정확한지 training 전에 사전 check"
   ]
  },
  {
   "cell_type": "code",
   "execution_count": null,
   "id": "e9c88766",
   "metadata": {},
   "outputs": [],
   "source": []
  },
  {
   "cell_type": "code",
   "execution_count": null,
   "id": "de5df548",
   "metadata": {},
   "outputs": [],
   "source": []
  },
  {
   "cell_type": "code",
   "execution_count": null,
   "id": "6d66cae0",
   "metadata": {},
   "outputs": [],
   "source": []
  },
  {
   "cell_type": "code",
   "execution_count": null,
   "id": "70f9c7ed",
   "metadata": {},
   "outputs": [],
   "source": []
  },
  {
   "cell_type": "markdown",
   "id": "86759275",
   "metadata": {
    "id": "0wR3uKW8g5po"
   },
   "source": [
    "# STEP #6: Flower 분류 전문으로 Fine Tuning 된 MODEL 평가"
   ]
  },
  {
   "cell_type": "code",
   "execution_count": null,
   "id": "dd821212",
   "metadata": {},
   "outputs": [],
   "source": []
  },
  {
   "cell_type": "code",
   "execution_count": null,
   "id": "fb01ee4e",
   "metadata": {},
   "outputs": [],
   "source": []
  },
  {
   "cell_type": "code",
   "execution_count": null,
   "id": "71259d54",
   "metadata": {},
   "outputs": [],
   "source": []
  },
  {
   "cell_type": "code",
   "execution_count": null,
   "id": "4bd7ae61",
   "metadata": {},
   "outputs": [],
   "source": [
    "# 서브플롯 사이의 공간 조정\n",
    "# 64개의 이미지를 8x8 격자로 표시\n",
    "# 그래프를 화면에 표시"
   ]
  }
 ],
 "metadata": {
  "accelerator": "GPU",
  "colab": {
   "gpuType": "T4",
   "machine_shape": "hm",
   "provenance": []
  },
  "kernelspec": {
   "display_name": "Python 3 (ipykernel)",
   "language": "python",
   "name": "python3"
  },
  "language_info": {
   "codemirror_mode": {
    "name": "ipython",
    "version": 3
   },
   "file_extension": ".py",
   "mimetype": "text/x-python",
   "name": "python",
   "nbconvert_exporter": "python",
   "pygments_lexer": "ipython3",
   "version": "3.9.7"
  }
 },
 "nbformat": 4,
 "nbformat_minor": 5
}
