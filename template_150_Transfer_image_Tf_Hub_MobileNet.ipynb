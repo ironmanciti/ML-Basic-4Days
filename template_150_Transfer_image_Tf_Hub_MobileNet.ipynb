{
 "cells": [
  {
   "cell_type": "markdown",
   "id": "d16fd7e3",
   "metadata": {
    "id": "JnKRe0p9h35K"
   },
   "source": [
    "# TensorFlow Hub 를 이용한 Transfer Learning\n",
    "\n",
    "- Pre-trained Moblenet 사용"
   ]
  },
  {
   "cell_type": "code",
   "execution_count": null,
   "id": "61cd3c80",
   "metadata": {},
   "outputs": [],
   "source": []
  },
  {
   "cell_type": "markdown",
   "id": "92f8af9e",
   "metadata": {
    "id": "fr6pOOh0hHaj"
   },
   "source": [
    "## STEP #1: IMPORT LIBRARIES"
   ]
  },
  {
   "cell_type": "code",
   "execution_count": null,
   "id": "6ac3b739",
   "metadata": {},
   "outputs": [],
   "source": []
  },
  {
   "cell_type": "code",
   "execution_count": null,
   "id": "965a1cef",
   "metadata": {},
   "outputs": [],
   "source": []
  },
  {
   "cell_type": "markdown",
   "id": "c87187df",
   "metadata": {
    "id": "qqOSkGp9R55q"
   },
   "source": [
    "## STEP #2: Tensorflow Hub 에서 PRE-TRAINED MOBILENET 의 WEIGHT 를 가져옴  \n",
    "\n",
    "- Fine Tuning 없이 사용하기 위해 Full Model download"
   ]
  },
  {
   "cell_type": "code",
   "execution_count": null,
   "id": "d06010c8",
   "metadata": {},
   "outputs": [],
   "source": []
  },
  {
   "cell_type": "code",
   "execution_count": null,
   "id": "6a62089c",
   "metadata": {},
   "outputs": [],
   "source": []
  },
  {
   "cell_type": "code",
   "execution_count": null,
   "id": "8ecb4542",
   "metadata": {},
   "outputs": [],
   "source": []
  },
  {
   "cell_type": "markdown",
   "id": "819c7558",
   "metadata": {
    "id": "jWb45OshSDsr"
   },
   "source": [
    "# STEP #3: PRE-TRAINED MOBILENET 평가"
   ]
  },
  {
   "cell_type": "markdown",
   "id": "aeacadc5",
   "metadata": {
    "id": "0HIZbeIujJva"
   },
   "source": [
    "임의의 사진을 internet에서 가져온다"
   ]
  },
  {
   "cell_type": "code",
   "execution_count": null,
   "id": "6eb6cee9",
   "metadata": {},
   "outputs": [],
   "source": []
  },
  {
   "cell_type": "code",
   "execution_count": null,
   "id": "02079d1e",
   "metadata": {},
   "outputs": [],
   "source": []
  },
  {
   "cell_type": "code",
   "execution_count": null,
   "id": "88bb0721",
   "metadata": {},
   "outputs": [],
   "source": []
  },
  {
   "cell_type": "code",
   "execution_count": null,
   "id": "49455820",
   "metadata": {},
   "outputs": [],
   "source": []
  },
  {
   "cell_type": "code",
   "execution_count": null,
   "id": "16948a6d",
   "metadata": {},
   "outputs": [],
   "source": []
  },
  {
   "cell_type": "code",
   "execution_count": null,
   "id": "e2554f46",
   "metadata": {},
   "outputs": [],
   "source": []
  },
  {
   "cell_type": "code",
   "execution_count": null,
   "id": "9564d077",
   "metadata": {},
   "outputs": [],
   "source": []
  },
  {
   "cell_type": "markdown",
   "id": "d425314c",
   "metadata": {
    "id": "Bh5YVgd3NJkz"
   },
   "source": [
    "## STEP #4: 특정 domain 의 Batch Image 에 대한 MobileNet 평가 - No Fine Tuning\n",
    "\n",
    "### MobileNet 은 Flower 에 특화된 model 이 아니므로 정확도 낮을 것 예상"
   ]
  },
  {
   "cell_type": "code",
   "execution_count": null,
   "id": "7d822013",
   "metadata": {},
   "outputs": [],
   "source": [
    "# Specify path of the flowers dataset"
   ]
  },
  {
   "cell_type": "code",
   "execution_count": null,
   "id": "37ee5295",
   "metadata": {},
   "outputs": [],
   "source": []
  },
  {
   "cell_type": "markdown",
   "id": "2ec5c538",
   "metadata": {
    "id": "VfS1K4nopQGL"
   },
   "source": [
    "- flower data 는 5 개의 class 로 구성"
   ]
  },
  {
   "cell_type": "code",
   "execution_count": null,
   "id": "c6c14376",
   "metadata": {},
   "outputs": [],
   "source": []
  },
  {
   "cell_type": "code",
   "execution_count": null,
   "id": "5aaea7a0",
   "metadata": {},
   "outputs": [],
   "source": []
  },
  {
   "cell_type": "markdown",
   "id": "79012334",
   "metadata": {
    "id": "PGtPtiQLphXC"
   },
   "source": [
    "- 10 개 image 시각화"
   ]
  },
  {
   "cell_type": "code",
   "execution_count": null,
   "id": "09b5f9f2",
   "metadata": {},
   "outputs": [],
   "source": []
  },
  {
   "cell_type": "markdown",
   "id": "7fb01480",
   "metadata": {
    "id": "VTQ63ZY7pnU9"
   },
   "source": [
    "- 임의의 꽃 image 1 개를 선택하여 prediction 비교"
   ]
  },
  {
   "cell_type": "code",
   "execution_count": null,
   "id": "d06ddb02",
   "metadata": {},
   "outputs": [],
   "source": []
  },
  {
   "cell_type": "code",
   "execution_count": null,
   "id": "8ae3b95a",
   "metadata": {},
   "outputs": [],
   "source": []
  },
  {
   "cell_type": "markdown",
   "id": "6ddfc0da",
   "metadata": {
    "id": "H38yzWMAn7hu"
   },
   "source": [
    "# STEP #5: 전이학습 MODEL 을 Flower 분류에 적합한 model 로 Retrain\n",
    "\n",
    "### Fine Tuning 을 위해 head 가 제거된 model 을 download  \n",
    "\n",
    "- https://tfhub.dev/s?module-type=image-feature-vector&q=tf2"
   ]
  },
  {
   "cell_type": "code",
   "execution_count": null,
   "id": "54355289",
   "metadata": {},
   "outputs": [],
   "source": []
  },
  {
   "cell_type": "code",
   "execution_count": null,
   "id": "eb9faea6",
   "metadata": {},
   "outputs": [],
   "source": []
  },
  {
   "cell_type": "code",
   "execution_count": null,
   "id": "2e57a237",
   "metadata": {},
   "outputs": [],
   "source": []
  },
  {
   "cell_type": "markdown",
   "id": "29253483",
   "metadata": {
    "id": "SaoQU-KZ_S2X"
   },
   "source": [
    "- MobileNet 의 pre-trained weight 는 update 않음  \n",
    "\n",
    "- Top layer 에 Dense layer 추가"
   ]
  },
  {
   "cell_type": "code",
   "execution_count": null,
   "id": "0e2f2c10",
   "metadata": {},
   "outputs": [],
   "source": []
  },
  {
   "cell_type": "code",
   "execution_count": null,
   "id": "702a405e",
   "metadata": {},
   "outputs": [],
   "source": [
    "# Build a model with two pieces:\n",
    "#    (1)  MobileNet Feature Extractor\n",
    "#    (2)  Dense Network (classifier) added at the end"
   ]
  },
  {
   "cell_type": "code",
   "execution_count": null,
   "id": "ca74b2d7",
   "metadata": {},
   "outputs": [],
   "source": []
  },
  {
   "cell_type": "markdown",
   "id": "d6043b7f",
   "metadata": {
    "id": "MxI0-oqa_sEB"
   },
   "source": [
    "- output shape 이 정확한지 training 전에 사전 check"
   ]
  },
  {
   "cell_type": "code",
   "execution_count": null,
   "id": "fc081297",
   "metadata": {},
   "outputs": [],
   "source": []
  },
  {
   "cell_type": "code",
   "execution_count": null,
   "id": "d148ec41",
   "metadata": {},
   "outputs": [],
   "source": []
  },
  {
   "cell_type": "code",
   "execution_count": null,
   "id": "6f0190c5",
   "metadata": {},
   "outputs": [],
   "source": []
  },
  {
   "cell_type": "code",
   "execution_count": null,
   "id": "58b80c26",
   "metadata": {},
   "outputs": [],
   "source": []
  },
  {
   "cell_type": "markdown",
   "id": "a8555553",
   "metadata": {
    "id": "0wR3uKW8g5po"
   },
   "source": [
    "# STEP #6: Flower 분류 전문으로 Fine Tuning 된 MODEL 평가"
   ]
  },
  {
   "cell_type": "code",
   "execution_count": null,
   "id": "c41eac0b",
   "metadata": {},
   "outputs": [],
   "source": []
  },
  {
   "cell_type": "code",
   "execution_count": null,
   "id": "f0e815c2",
   "metadata": {},
   "outputs": [],
   "source": []
  },
  {
   "cell_type": "code",
   "execution_count": null,
   "id": "76894d62",
   "metadata": {},
   "outputs": [],
   "source": []
  },
  {
   "cell_type": "code",
   "execution_count": null,
   "id": "506477fa",
   "metadata": {},
   "outputs": [],
   "source": []
  }
 ],
 "metadata": {
  "accelerator": "GPU",
  "colab": {
   "gpuType": "A100",
   "machine_shape": "hm",
   "provenance": []
  },
  "gpuClass": "standard",
  "kernelspec": {
   "display_name": "Python 3 (ipykernel)",
   "language": "python",
   "name": "python3"
  },
  "language_info": {
   "codemirror_mode": {
    "name": "ipython",
    "version": 3
   },
   "file_extension": ".py",
   "mimetype": "text/x-python",
   "name": "python",
   "nbconvert_exporter": "python",
   "pygments_lexer": "ipython3",
   "version": "3.9.21"
  }
 },
 "nbformat": 4,
 "nbformat_minor": 5
}
