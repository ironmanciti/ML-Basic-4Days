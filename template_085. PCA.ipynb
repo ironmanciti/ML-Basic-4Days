{
 "cells": [
  {
   "cell_type": "markdown",
   "id": "6fcda005",
   "metadata": {},
   "source": [
    "# 085.PCA (Principal Component Analysis)\n",
    "\n",
    "- PCA는 Karl Pearson이 1901 년에 발명한 통계 기법으로 직교 변환을 사용하여 변수 집합을 주성분이라고 하는 선형적으로 상관되지 않은 변수 집합으로 매핑.\n",
    "\n",
    "- PCA는 원래 데이터세트의 공분산 행렬의 SVD(Singular Value Decomposition)를 기반으로 한다. 이러한 분해(decomposition)의 고유 벡터는 회전변환 행렬(rotation matrix)로 사용된다. 고유 벡터는 설명된 분산에 따라 내림차순으로 회전변환 행렬에 배열.\n",
    "\n",
    "- PCA는 단순한 공간 변환, 차원 감소 및 스펙트럼 정보로부터의 혼합물 분리에 이르기까지 다양한 응용 분야에서 강력한 기술로 사용\n",
    "\n",
    "\n",
    "- \"ChurnData.csv\"의 각 행은 고객을 나타내고 각 열은 고객의 속성 표시\n",
    "\n",
    "- 데이터 세트에는 지난달에 탈회한 고객에 대한 정보가 포함 (Churn 1.0 - 탈회, 0.0 - 유지)"
   ]
  },
  {
   "cell_type": "code",
   "execution_count": null,
   "id": "334d9f51",
   "metadata": {},
   "outputs": [],
   "source": []
  },
  {
   "cell_type": "code",
   "execution_count": null,
   "id": "c41801a1",
   "metadata": {},
   "outputs": [],
   "source": []
  },
  {
   "cell_type": "code",
   "execution_count": null,
   "id": "d7ac529d",
   "metadata": {},
   "outputs": [],
   "source": []
  },
  {
   "cell_type": "code",
   "execution_count": null,
   "id": "54d81e6a",
   "metadata": {},
   "outputs": [],
   "source": []
  },
  {
   "cell_type": "code",
   "execution_count": null,
   "id": "7cb6aa41",
   "metadata": {},
   "outputs": [],
   "source": []
  },
  {
   "cell_type": "code",
   "execution_count": null,
   "id": "47a42427",
   "metadata": {},
   "outputs": [],
   "source": []
  },
  {
   "cell_type": "code",
   "execution_count": null,
   "id": "295cf656",
   "metadata": {},
   "outputs": [],
   "source": [
    "# train / test dataset split"
   ]
  },
  {
   "cell_type": "code",
   "execution_count": null,
   "id": "6e0516cf",
   "metadata": {},
   "outputs": [],
   "source": []
  },
  {
   "cell_type": "code",
   "execution_count": null,
   "id": "76171313",
   "metadata": {},
   "outputs": [],
   "source": []
  },
  {
   "cell_type": "markdown",
   "id": "fdcbec91",
   "metadata": {},
   "source": [
    "### PCA 적용 전 Logistic Regression\n",
    "\n",
    "- PCA 적용 후의 결과와 비교 목적"
   ]
  },
  {
   "cell_type": "code",
   "execution_count": null,
   "id": "0e60953d",
   "metadata": {},
   "outputs": [],
   "source": [
    "# Fitting Logistic Regression"
   ]
  },
  {
   "cell_type": "code",
   "execution_count": null,
   "id": "cd488e05",
   "metadata": {},
   "outputs": [],
   "source": [
    "# predict test set\n",
    "# Confusion matrix"
   ]
  },
  {
   "cell_type": "markdown",
   "id": "530223db",
   "metadata": {},
   "source": [
    "### PCA 적용\n",
    "\n",
    "- 27 개의 feature 를 2 개로 차원 축소  \n",
    "\n",
    "\n",
    "- components_\n",
    "    - array, shape (n_components, n_features)\n",
    "    - n_feature dimension 공간에서의 주성분 축  \n",
    "    - data 의 분산을 최대로 보존하는 방향\n",
    "    - explained_variance_ 에 순서대로 정렬되어 있음\n",
    "    \n",
    "- explained_variance_  \n",
    "    - shape (n_components,)  \n",
    "    - 선택한 각 구성 요소에서 설명하는 분산의 양  \n",
    "    \n",
    "- explained_variance_ratio_   \n",
    "    - shape (n_components,)\n",
    "    - 선택한 각 구성 요소가 설명하는 분산의 백분율입니다."
   ]
  },
  {
   "cell_type": "code",
   "execution_count": null,
   "id": "3e2c5804",
   "metadata": {},
   "outputs": [],
   "source": [
    "# Apply kernel PCA"
   ]
  },
  {
   "cell_type": "code",
   "execution_count": null,
   "id": "a17a4a37",
   "metadata": {},
   "outputs": [],
   "source": []
  },
  {
   "cell_type": "code",
   "execution_count": null,
   "id": "c3a9c279",
   "metadata": {},
   "outputs": [],
   "source": []
  },
  {
   "cell_type": "code",
   "execution_count": null,
   "id": "ab17f783",
   "metadata": {},
   "outputs": [],
   "source": [
    "# Fitting Logistic Regression"
   ]
  },
  {
   "cell_type": "code",
   "execution_count": null,
   "id": "73a485ff",
   "metadata": {},
   "outputs": [],
   "source": [
    "# predict test set"
   ]
  },
  {
   "cell_type": "code",
   "execution_count": null,
   "id": "795ff0f7",
   "metadata": {},
   "outputs": [],
   "source": [
    "# Confusion matrix"
   ]
  },
  {
   "cell_type": "markdown",
   "id": "1f4f0cf7",
   "metadata": {},
   "source": [
    "## 차원 축소된 churn data 시각화\n",
    "- 27 개의 feature 가 2 개의 PCA 로 차원 축소 되었으므로 평면상의 시각화 가능"
   ]
  },
  {
   "cell_type": "code",
   "execution_count": null,
   "id": "766036dc",
   "metadata": {},
   "outputs": [],
   "source": []
  },
  {
   "cell_type": "markdown",
   "id": "fb55b458",
   "metadata": {},
   "source": [
    "- 차원축소된 X_train_pca 를 X1, X2 축으로 시각화  \n",
    "\n",
    "- y_train = 0, 1 을 color 로 구분"
   ]
  },
  {
   "cell_type": "code",
   "execution_count": null,
   "id": "6902fa44",
   "metadata": {},
   "outputs": [],
   "source": []
  },
  {
   "cell_type": "code",
   "execution_count": null,
   "id": "6ded0be9",
   "metadata": {},
   "outputs": [],
   "source": [
    "# 클래스 0에 대한 데이터를 분리하여 산점도로 표시\n",
    "# 클래스 1에 대한 데이터를 분리하여 산점도로 표시\n",
    "# X축 라벨을 설정\n",
    "# Y축 라벨을 설정\n",
    "# 범례를 표시"
   ]
  },
  {
   "cell_type": "code",
   "execution_count": null,
   "id": "f491826e",
   "metadata": {},
   "outputs": [],
   "source": []
  }
 ],
 "metadata": {
  "kernelspec": {
   "display_name": "Python 3 (ipykernel)",
   "language": "python",
   "name": "python3"
  },
  "language_info": {
   "codemirror_mode": {
    "name": "ipython",
    "version": 3
   },
   "file_extension": ".py",
   "mimetype": "text/x-python",
   "name": "python",
   "nbconvert_exporter": "python",
   "pygments_lexer": "ipython3",
   "version": "3.9.7"
  }
 },
 "nbformat": 4,
 "nbformat_minor": 5
}
