{
 "cells": [
  {
   "cell_type": "markdown",
   "id": "571da8bf",
   "metadata": {},
   "source": [
    "# 085.PCA (Principal Component Analysis)\n",
    "\n",
    "- PCA는 Karl Pearson이 1901 년에 발명한 통계 기법으로 직교 변환을 사용하여 변수 집합을 주성분이라고 하는 선형적으로 상관되지 않은 변수 집합으로 매핑.\n",
    "\n",
    "- PCA는 원래 데이터세트의 공분산 행렬의 SVD(Singular Value Decomposition)를 기반으로 한다. 이러한 분해(decomposition)의 고유 벡터는 회전변환 행렬(rotation matrix)로 사용된다. 고유 벡터는 설명된 분산에 따라 내림차순으로 회전변환 행렬에 배열.\n",
    "\n",
    "- PCA는 단순한 공간 변환, 차원 감소 및 스펙트럼 정보로부터의 혼합물 분리에 이르기까지 다양한 응용 분야에서 강력한 기술로 사용\n",
    "\n",
    "\n",
    "- \"ChurnData.csv\"의 각 행은 고객을 나타내고 각 열은 고객의 속성 표시\n",
    "\n",
    "- 데이터 세트에는 지난달에 탈회한 고객에 대한 정보가 포함 (Churn 1.0 - 탈회, 0.0 - 유지)"
   ]
  },
  {
   "cell_type": "code",
   "execution_count": null,
   "id": "bd117c88",
   "metadata": {},
   "outputs": [],
   "source": []
  },
  {
   "cell_type": "code",
   "execution_count": null,
   "id": "a83b21e5",
   "metadata": {},
   "outputs": [],
   "source": []
  },
  {
   "cell_type": "code",
   "execution_count": null,
   "id": "0c3740a6",
   "metadata": {},
   "outputs": [],
   "source": []
  },
  {
   "cell_type": "code",
   "execution_count": null,
   "id": "e963f5f6",
   "metadata": {},
   "outputs": [],
   "source": [
    "# churn_df의 값을 numpy 배열로 변환"
   ]
  },
  {
   "cell_type": "code",
   "execution_count": null,
   "id": "366041c8",
   "metadata": {},
   "outputs": [],
   "source": [
    "# 마지막 열을 제외한 churn_df의 컬럼 이름들을 선택"
   ]
  },
  {
   "cell_type": "code",
   "execution_count": null,
   "id": "64db0a53",
   "metadata": {},
   "outputs": [],
   "source": [
    "# 'columns'에 해당하는 모든 열을 선택하여 특성 데이터 X에 저장\n",
    "# 'churn' 열을 정답 레이블 y에 저장"
   ]
  },
  {
   "cell_type": "code",
   "execution_count": null,
   "id": "e8b9b1a7",
   "metadata": {},
   "outputs": [],
   "source": [
    "# 데이터를 학습용과 테스트용으로 분리 (테스트 데이터는 전체의 20%)\n",
    "# random_state=0으로 설정하여 실행 시마다 동일한 결과가 나오도록 고정"
   ]
  },
  {
   "cell_type": "code",
   "execution_count": null,
   "id": "be36283f",
   "metadata": {},
   "outputs": [],
   "source": [
    "# StandardScaler 객체 생성 (데이터 정규화를 위한 전처리 도구)\n",
    "# 학습 데이터에 대해 평균과 표준편차를 계산하여 정규화 수행\n",
    "# 테스트 데이터는 학습 데이터의 기준(평균, 표준편차)을 사용해 정규화"
   ]
  },
  {
   "cell_type": "code",
   "execution_count": null,
   "id": "4747c3c3",
   "metadata": {},
   "outputs": [],
   "source": []
  },
  {
   "cell_type": "markdown",
   "id": "f8bd91e8",
   "metadata": {},
   "source": [
    "### PCA 적용 전 Logistic Regression\n",
    "\n",
    "- PCA 적용 후의 결과와 비교 목적"
   ]
  },
  {
   "cell_type": "code",
   "execution_count": null,
   "id": "6caaaaf3",
   "metadata": {},
   "outputs": [],
   "source": [
    "# 로지스틱 회귀 모델 생성\n",
    "# solver='lbfgs': 최적화 알고리즘 설정 (작은 데이터셋에 적합)\n",
    "# random_state=0: 결과 재현을 위해 랜덤 시드 고정\n",
    "# 학습 데이터를 사용하여 로지스틱 회귀 모델 훈련"
   ]
  },
  {
   "cell_type": "code",
   "execution_count": null,
   "id": "258d1039",
   "metadata": {},
   "outputs": [],
   "source": [
    "# 테스트 데이터셋에 대해 예측 수행\n",
    "# 예측 결과에 대한 정확도(accuracy) 계산\n",
    "# accuracy = (정답 맞춘 개수) / (전체 샘플 수)"
   ]
  },
  {
   "cell_type": "markdown",
   "id": "b880b4d6",
   "metadata": {},
   "source": [
    "### PCA 적용\n",
    "\n",
    "- 27 개의 feature 를 2 개로 차원 축소  \n",
    "\n",
    "\n",
    "- components_\n",
    "    - array, shape (n_components, n_features)\n",
    "    - n_feature dimension 공간에서의 주성분 축  \n",
    "    - data 의 분산을 최대로 보존하는 방향\n",
    "    - explained_variance_ 에 순서대로 정렬되어 있음\n",
    "    \n",
    "- explained_variance_  \n",
    "    - shape (n_components,)  \n",
    "    - 선택한 각 구성 요소에서 설명하는 분산의 양  \n",
    "    \n",
    "- explained_variance_ratio_   \n",
    "    - shape (n_components,)\n",
    "    - 선택한 각 구성 요소가 설명하는 분산의 백분율입니다."
   ]
  },
  {
   "cell_type": "code",
   "execution_count": null,
   "id": "c142f67f",
   "metadata": {},
   "outputs": [],
   "source": [
    "# PCA(주성분 분석)를 사용하여 차원 축소 수행\n",
    "# 주성분 개수를 2개로 설정 (2차원으로 축소하여 시각화 등에 활용 가능)\n",
    "# 학습 데이터에 대해 PCA를 학습하고 변환\n",
    "# 테스트 데이터는 학습된 PCA 기준으로 변환만 수행"
   ]
  },
  {
   "cell_type": "code",
   "execution_count": null,
   "id": "6cf7261f",
   "metadata": {},
   "outputs": [],
   "source": []
  },
  {
   "cell_type": "code",
   "execution_count": null,
   "id": "2eea8707",
   "metadata": {},
   "outputs": [],
   "source": [
    "# 주성분의 구성 행렬(고유 벡터)의 shape 출력 → (주성분 개수, 원래 특성 개수)\n",
    "# 첫 번째 주성분 벡터 출력 (원래 특성 공간에서의 방향)\n",
    "# 두 번째 주성분 벡터 출력\n",
    "# 각 주성분이 설명하는 분산의 비율(= 고유값 비율) 출력\n",
    "# 두 성분의 합이 전체 분산 중 얼마를 설명하는지 확인"
   ]
  },
  {
   "cell_type": "code",
   "execution_count": null,
   "id": "f18f8adc",
   "metadata": {},
   "outputs": [],
   "source": [
    "# PCA로 차원 축소된 데이터를 사용하여 로지스틱 회귀 모델 생성\n",
    "# solver='lbfgs'는 최적화 알고리즘 설정, random_state=0은 결과 재현을 위한 시드 고정\n",
    "# 차원 축소된 학습 데이터를 사용해 모델 학습"
   ]
  },
  {
   "cell_type": "code",
   "execution_count": null,
   "id": "1588ebd0",
   "metadata": {},
   "outputs": [],
   "source": [
    "# 차원 축소된 테스트 데이터를 사용하여 예측 수행"
   ]
  },
  {
   "cell_type": "code",
   "execution_count": null,
   "id": "339e1107",
   "metadata": {},
   "outputs": [],
   "source": [
    "# 테스트 데이터에 대한 예측 결과와 실제 정답을 비교하여 정확도 계산"
   ]
  },
  {
   "cell_type": "markdown",
   "id": "f3a7b071",
   "metadata": {},
   "source": [
    "## 차원 축소된 churn data 시각화\n",
    "- 27 개의 feature 가 2 개의 PCA 로 차원 축소 되었으므로 평면상의 시각화 가능"
   ]
  },
  {
   "cell_type": "code",
   "execution_count": null,
   "id": "9064a895",
   "metadata": {},
   "outputs": [],
   "source": []
  },
  {
   "cell_type": "markdown",
   "id": "59dfac56",
   "metadata": {},
   "source": [
    "- 차원축소된 X_train_pca 를 X1, X2 축으로 시각화  \n",
    "\n",
    "- y_train = 0, 1 을 color 로 구분"
   ]
  },
  {
   "cell_type": "code",
   "execution_count": null,
   "id": "070ca5f6",
   "metadata": {},
   "outputs": [],
   "source": [
    "# y_train 값이 0인 샘플(즉, 비이탈 고객)에 해당하는 데이터만 선택\n",
    "# 그 중 앞에서 5개 행만 출력"
   ]
  },
  {
   "cell_type": "code",
   "execution_count": null,
   "id": "12fd6aee",
   "metadata": {},
   "outputs": [],
   "source": [
    "# 클래스 0에 대한 데이터를 분리하여 산점도로 표시\n",
    "# 클래스 1에 대한 데이터를 분리하여 산점도로 표시\n",
    "# X축 라벨을 설정\n",
    "# Y축 라벨을 설정\n",
    "# 범례를 표시"
   ]
  },
  {
   "cell_type": "code",
   "execution_count": null,
   "id": "d8a068f0",
   "metadata": {},
   "outputs": [],
   "source": []
  }
 ],
 "metadata": {
  "kernelspec": {
   "display_name": "Python 3 (ipykernel)",
   "language": "python",
   "name": "python3"
  },
  "language_info": {
   "codemirror_mode": {
    "name": "ipython",
    "version": 3
   },
   "file_extension": ".py",
   "mimetype": "text/x-python",
   "name": "python",
   "nbconvert_exporter": "python",
   "pygments_lexer": "ipython3",
   "version": "3.9.21"
  }
 },
 "nbformat": 4,
 "nbformat_minor": 5
}
