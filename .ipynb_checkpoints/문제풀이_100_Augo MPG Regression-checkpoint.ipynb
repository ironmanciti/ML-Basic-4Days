{
 "cells": [
  {
   "cell_type": "markdown",
   "metadata": {},
   "source": [
    "## 실습\n",
    "\n",
    "### UCI Machine Learning Repository 의 Auto MPG dataset 을 사용하여 Regression 예측 model 작성\n",
    "\n",
    "auto-mpg.data - data file  \n",
    "auto-mpg.names - data 설명 file\n",
    "\n",
    "1. mpg:           continuous  \n",
    "2. cylinders:     multi-valued discrete  \n",
    "3. displacement:  continuous (배기량)   \n",
    "4. horsepower:    continuous  \n",
    "5. weight:        continuous  \n",
    "6. acceleration:  continuous  \n",
    "7. model year:    multi-valued discrete  \n",
    "8. origin:        multi-valued discrete, 1 - USA, 2 - Europe, 3 - Japan  \n",
    "9. car name:      string (unique for each instance)  \n",
    "\n",
    "Missing Attribute Values:  horsepower has 6 missing values  ==> \"?\" 로 들어 있으므로 read_csv 시 nan 으로 변환"
   ]
  },
  {
   "cell_type": "code",
   "execution_count": 1,
   "metadata": {},
   "outputs": [],
   "source": [
    "import pandas as pd\n",
    "import numpy as np\n",
    "import tensorflow as tf\n",
    "from tensorflow.keras.models import Sequential\n",
    "from tensorflow.keras.layers import Dense, Activation, Dropout\n",
    "from sklearn.model_selection import train_test_split\n",
    "from sklearn.preprocessing import StandardScaler"
   ]
  },
  {
   "cell_type": "markdown",
   "metadata": {},
   "source": [
    "### Data load 및 Preprocessing"
   ]
  },
  {
   "cell_type": "code",
   "execution_count": 2,
   "metadata": {},
   "outputs": [
    {
     "data": {
      "text/html": [
       "<div>\n",
       "<style scoped>\n",
       "    .dataframe tbody tr th:only-of-type {\n",
       "        vertical-align: middle;\n",
       "    }\n",
       "\n",
       "    .dataframe tbody tr th {\n",
       "        vertical-align: top;\n",
       "    }\n",
       "\n",
       "    .dataframe thead th {\n",
       "        text-align: right;\n",
       "    }\n",
       "</style>\n",
       "<table border=\"1\" class=\"dataframe\">\n",
       "  <thead>\n",
       "    <tr style=\"text-align: right;\">\n",
       "      <th></th>\n",
       "      <th>displacement</th>\n",
       "      <th>horsepower</th>\n",
       "      <th>weight</th>\n",
       "      <th>acceleration</th>\n",
       "      <th>model year</th>\n",
       "      <th>cylinders_3</th>\n",
       "      <th>cylinders_4</th>\n",
       "      <th>cylinders_5</th>\n",
       "      <th>cylinders_6</th>\n",
       "      <th>cylinders_8</th>\n",
       "      <th>origin_1</th>\n",
       "      <th>origin_2</th>\n",
       "      <th>origin_3</th>\n",
       "    </tr>\n",
       "  </thead>\n",
       "  <tbody>\n",
       "    <tr>\n",
       "      <th>0</th>\n",
       "      <td>307.0</td>\n",
       "      <td>130.0</td>\n",
       "      <td>3504.0</td>\n",
       "      <td>12.0</td>\n",
       "      <td>70</td>\n",
       "      <td>0</td>\n",
       "      <td>0</td>\n",
       "      <td>0</td>\n",
       "      <td>0</td>\n",
       "      <td>1</td>\n",
       "      <td>1</td>\n",
       "      <td>0</td>\n",
       "      <td>0</td>\n",
       "    </tr>\n",
       "    <tr>\n",
       "      <th>1</th>\n",
       "      <td>350.0</td>\n",
       "      <td>165.0</td>\n",
       "      <td>3693.0</td>\n",
       "      <td>11.5</td>\n",
       "      <td>70</td>\n",
       "      <td>0</td>\n",
       "      <td>0</td>\n",
       "      <td>0</td>\n",
       "      <td>0</td>\n",
       "      <td>1</td>\n",
       "      <td>1</td>\n",
       "      <td>0</td>\n",
       "      <td>0</td>\n",
       "    </tr>\n",
       "    <tr>\n",
       "      <th>2</th>\n",
       "      <td>318.0</td>\n",
       "      <td>150.0</td>\n",
       "      <td>3436.0</td>\n",
       "      <td>11.0</td>\n",
       "      <td>70</td>\n",
       "      <td>0</td>\n",
       "      <td>0</td>\n",
       "      <td>0</td>\n",
       "      <td>0</td>\n",
       "      <td>1</td>\n",
       "      <td>1</td>\n",
       "      <td>0</td>\n",
       "      <td>0</td>\n",
       "    </tr>\n",
       "    <tr>\n",
       "      <th>3</th>\n",
       "      <td>304.0</td>\n",
       "      <td>150.0</td>\n",
       "      <td>3433.0</td>\n",
       "      <td>12.0</td>\n",
       "      <td>70</td>\n",
       "      <td>0</td>\n",
       "      <td>0</td>\n",
       "      <td>0</td>\n",
       "      <td>0</td>\n",
       "      <td>1</td>\n",
       "      <td>1</td>\n",
       "      <td>0</td>\n",
       "      <td>0</td>\n",
       "    </tr>\n",
       "    <tr>\n",
       "      <th>4</th>\n",
       "      <td>302.0</td>\n",
       "      <td>140.0</td>\n",
       "      <td>3449.0</td>\n",
       "      <td>10.5</td>\n",
       "      <td>70</td>\n",
       "      <td>0</td>\n",
       "      <td>0</td>\n",
       "      <td>0</td>\n",
       "      <td>0</td>\n",
       "      <td>1</td>\n",
       "      <td>1</td>\n",
       "      <td>0</td>\n",
       "      <td>0</td>\n",
       "    </tr>\n",
       "  </tbody>\n",
       "</table>\n",
       "</div>"
      ],
      "text/plain": [
       "   displacement  horsepower  weight  acceleration  model year  cylinders_3  \\\n",
       "0         307.0       130.0  3504.0          12.0          70            0   \n",
       "1         350.0       165.0  3693.0          11.5          70            0   \n",
       "2         318.0       150.0  3436.0          11.0          70            0   \n",
       "3         304.0       150.0  3433.0          12.0          70            0   \n",
       "4         302.0       140.0  3449.0          10.5          70            0   \n",
       "\n",
       "   cylinders_4  cylinders_5  cylinders_6  cylinders_8  origin_1  origin_2  \\\n",
       "0            0            0            0            1         1         0   \n",
       "1            0            0            0            1         1         0   \n",
       "2            0            0            0            1         1         0   \n",
       "3            0            0            0            1         1         0   \n",
       "4            0            0            0            1         1         0   \n",
       "\n",
       "   origin_3  \n",
       "0         0  \n",
       "1         0  \n",
       "2         0  \n",
       "3         0  \n",
       "4         0  "
      ]
     },
     "execution_count": 2,
     "metadata": {},
     "output_type": "execute_result"
    }
   ],
   "source": [
    "data_path = tf.keras.utils.get_file(\"auto-mpg.data\", \n",
    "                                 \"https://archive.ics.uci.edu/ml/machine-learning-databases/auto-mpg/auto-mpg.data\")\n",
    "\n",
    "column_names = ['mpg', 'cylinders', 'displacement', 'horsepower', 'weight', 'acceleration', 'model year', 'origin']\n",
    "\n",
    "rawdata = pd.read_csv(data_path, names=column_names, na_values=\"?\", comment=\"\\t\", sep=\" \", skipinitialspace=True)\n",
    "\n",
    "rawdata.dropna(inplace=True)\n",
    "\n",
    "data = rawdata.copy()\n",
    "\n",
    "data = pd.get_dummies(data, columns=['cylinders', 'origin'])\n",
    "\n",
    "label = data.pop('mpg')\n",
    "\n",
    "data.head()"
   ]
  },
  {
   "cell_type": "code",
   "execution_count": 3,
   "metadata": {},
   "outputs": [],
   "source": [
    "X_train, X_test, y_train, y_test = train_test_split(data.values, label.values)\n",
    "\n",
    "sc = StandardScaler()\n",
    "X_train = sc.fit_transform(X_train)\n",
    "X_test = sc.transform(X_test)"
   ]
  },
  {
   "cell_type": "code",
   "execution_count": 4,
   "metadata": {},
   "outputs": [
    {
     "data": {
      "text/plain": [
       "(298, 13)"
      ]
     },
     "execution_count": 4,
     "metadata": {},
     "output_type": "execute_result"
    }
   ],
   "source": [
    "X_train.shape"
   ]
  },
  {
   "cell_type": "markdown",
   "metadata": {},
   "source": [
    "### Regression Model Build\n",
    "\n",
    "### train\n",
    "\n",
    "### predict\n",
    "\n",
    "### $r^2$ 계산"
   ]
  },
  {
   "cell_type": "code",
   "execution_count": 5,
   "metadata": {},
   "outputs": [],
   "source": [
    "model = Sequential()\n",
    "\n",
    "model.add(Dense(64, input_shape=(13,)))\n",
    "model.add(Activation('relu'))\n",
    "model.add(Dense(32))\n",
    "model.add(Activation('relu'))\n",
    "model.add(Dense(1))"
   ]
  },
  {
   "cell_type": "code",
   "execution_count": 6,
   "metadata": {},
   "outputs": [],
   "source": [
    "model.compile(loss='mean_squared_error', optimizer='adam', metrics=['mse'])"
   ]
  },
  {
   "cell_type": "code",
   "execution_count": 7,
   "metadata": {
    "scrolled": true
   },
   "outputs": [
    {
     "name": "stdout",
     "output_type": "stream",
     "text": [
      "Epoch 1/50\n",
      "3/3 [==============================] - 0s 41ms/step - loss: 622.2720 - mse: 622.2720 - val_loss: 623.7467 - val_mse: 623.7467\n",
      "Epoch 2/50\n",
      "3/3 [==============================] - 0s 8ms/step - loss: 610.3484 - mse: 610.3484 - val_loss: 612.6356 - val_mse: 612.6356\n",
      "Epoch 3/50\n",
      "3/3 [==============================] - 0s 8ms/step - loss: 598.9536 - mse: 598.9536 - val_loss: 601.6053 - val_mse: 601.6053\n",
      "Epoch 4/50\n",
      "3/3 [==============================] - 0s 8ms/step - loss: 587.3656 - mse: 587.3656 - val_loss: 590.7464 - val_mse: 590.7464\n",
      "Epoch 5/50\n",
      "3/3 [==============================] - 0s 8ms/step - loss: 576.0059 - mse: 576.0059 - val_loss: 579.7230 - val_mse: 579.7230\n",
      "Epoch 6/50\n",
      "3/3 [==============================] - 0s 8ms/step - loss: 564.6626 - mse: 564.6626 - val_loss: 568.4961 - val_mse: 568.4961\n",
      "Epoch 7/50\n",
      "3/3 [==============================] - 0s 8ms/step - loss: 552.8432 - mse: 552.8432 - val_loss: 556.9731 - val_mse: 556.9731\n",
      "Epoch 8/50\n",
      "3/3 [==============================] - 0s 8ms/step - loss: 540.7422 - mse: 540.7422 - val_loss: 544.9517 - val_mse: 544.9517\n",
      "Epoch 9/50\n",
      "3/3 [==============================] - 0s 8ms/step - loss: 528.2053 - mse: 528.2053 - val_loss: 532.3493 - val_mse: 532.3493\n",
      "Epoch 10/50\n",
      "3/3 [==============================] - 0s 8ms/step - loss: 515.0977 - mse: 515.0977 - val_loss: 519.0864 - val_mse: 519.0864\n",
      "Epoch 11/50\n",
      "3/3 [==============================] - 0s 10ms/step - loss: 501.3455 - mse: 501.3455 - val_loss: 505.1081 - val_mse: 505.1081\n",
      "Epoch 12/50\n",
      "3/3 [==============================] - 0s 8ms/step - loss: 486.9815 - mse: 486.9815 - val_loss: 490.3629 - val_mse: 490.3629\n",
      "Epoch 13/50\n",
      "3/3 [==============================] - 0s 8ms/step - loss: 471.4394 - mse: 471.4394 - val_loss: 474.7505 - val_mse: 474.7505\n",
      "Epoch 14/50\n",
      "3/3 [==============================] - 0s 8ms/step - loss: 455.0916 - mse: 455.0916 - val_loss: 458.1411 - val_mse: 458.1411\n",
      "Epoch 15/50\n",
      "3/3 [==============================] - 0s 8ms/step - loss: 438.0219 - mse: 438.0219 - val_loss: 440.5022 - val_mse: 440.5022\n",
      "Epoch 16/50\n",
      "3/3 [==============================] - 0s 8ms/step - loss: 419.8778 - mse: 419.8778 - val_loss: 421.8641 - val_mse: 421.8641\n",
      "Epoch 17/50\n",
      "3/3 [==============================] - 0s 8ms/step - loss: 400.6105 - mse: 400.6105 - val_loss: 402.2733 - val_mse: 402.2733\n",
      "Epoch 18/50\n",
      "3/3 [==============================] - 0s 8ms/step - loss: 380.5284 - mse: 380.5284 - val_loss: 381.7654 - val_mse: 381.7654\n",
      "Epoch 19/50\n",
      "3/3 [==============================] - 0s 8ms/step - loss: 359.1974 - mse: 359.1974 - val_loss: 360.4699 - val_mse: 360.4699\n",
      "Epoch 20/50\n",
      "3/3 [==============================] - 0s 8ms/step - loss: 337.5939 - mse: 337.5939 - val_loss: 338.3200 - val_mse: 338.3200\n",
      "Epoch 21/50\n",
      "3/3 [==============================] - 0s 10ms/step - loss: 314.8690 - mse: 314.8690 - val_loss: 315.5451 - val_mse: 315.5451\n",
      "Epoch 22/50\n",
      "3/3 [==============================] - 0s 8ms/step - loss: 291.5569 - mse: 291.5569 - val_loss: 292.1317 - val_mse: 292.1317\n",
      "Epoch 23/50\n",
      "3/3 [==============================] - 0s 8ms/step - loss: 268.2026 - mse: 268.2026 - val_loss: 268.2835 - val_mse: 268.2835\n",
      "Epoch 24/50\n",
      "3/3 [==============================] - 0s 8ms/step - loss: 244.2719 - mse: 244.2719 - val_loss: 244.1682 - val_mse: 244.1682\n",
      "Epoch 25/50\n",
      "3/3 [==============================] - 0s 8ms/step - loss: 220.7055 - mse: 220.7055 - val_loss: 219.9615 - val_mse: 219.9615\n",
      "Epoch 26/50\n",
      "3/3 [==============================] - 0s 8ms/step - loss: 196.9344 - mse: 196.9344 - val_loss: 195.8807 - val_mse: 195.8807\n",
      "Epoch 27/50\n",
      "3/3 [==============================] - 0s 8ms/step - loss: 173.1738 - mse: 173.1738 - val_loss: 172.2840 - val_mse: 172.2840\n",
      "Epoch 28/50\n",
      "3/3 [==============================] - 0s 8ms/step - loss: 151.3951 - mse: 151.3951 - val_loss: 149.3358 - val_mse: 149.3358\n",
      "Epoch 29/50\n",
      "3/3 [==============================] - 0s 8ms/step - loss: 129.9004 - mse: 129.9004 - val_loss: 127.7947 - val_mse: 127.7947\n",
      "Epoch 30/50\n",
      "3/3 [==============================] - 0s 10ms/step - loss: 109.4380 - mse: 109.4380 - val_loss: 108.0425 - val_mse: 108.0425\n",
      "Epoch 31/50\n",
      "3/3 [==============================] - 0s 8ms/step - loss: 91.7234 - mse: 91.7234 - val_loss: 89.8706 - val_mse: 89.8706\n",
      "Epoch 32/50\n",
      "3/3 [==============================] - 0s 8ms/step - loss: 75.8951 - mse: 75.8951 - val_loss: 73.7734 - val_mse: 73.7734\n",
      "Epoch 33/50\n",
      "3/3 [==============================] - 0s 8ms/step - loss: 61.6284 - mse: 61.6284 - val_loss: 60.0988 - val_mse: 60.0988\n",
      "Epoch 34/50\n",
      "3/3 [==============================] - 0s 8ms/step - loss: 49.8246 - mse: 49.8246 - val_loss: 48.6713 - val_mse: 48.6713\n",
      "Epoch 35/50\n",
      "3/3 [==============================] - 0s 8ms/step - loss: 40.4415 - mse: 40.4415 - val_loss: 39.4065 - val_mse: 39.4065\n",
      "Epoch 36/50\n",
      "3/3 [==============================] - 0s 8ms/step - loss: 32.9447 - mse: 32.9447 - val_loss: 32.1404 - val_mse: 32.1404\n",
      "Epoch 37/50\n",
      "3/3 [==============================] - 0s 8ms/step - loss: 27.7184 - mse: 27.7184 - val_loss: 26.6222 - val_mse: 26.6222\n",
      "Epoch 38/50\n",
      "3/3 [==============================] - 0s 8ms/step - loss: 23.5452 - mse: 23.5452 - val_loss: 22.6577 - val_mse: 22.6577\n",
      "Epoch 39/50\n",
      "3/3 [==============================] - 0s 8ms/step - loss: 20.8803 - mse: 20.8803 - val_loss: 19.8659 - val_mse: 19.8659\n",
      "Epoch 40/50\n",
      "3/3 [==============================] - 0s 10ms/step - loss: 19.0920 - mse: 19.0920 - val_loss: 17.9782 - val_mse: 17.9782\n",
      "Epoch 41/50\n",
      "3/3 [==============================] - 0s 8ms/step - loss: 17.8590 - mse: 17.8590 - val_loss: 16.6830 - val_mse: 16.6830\n",
      "Epoch 42/50\n",
      "3/3 [==============================] - 0s 8ms/step - loss: 16.8743 - mse: 16.8743 - val_loss: 15.7733 - val_mse: 15.7733\n",
      "Epoch 43/50\n",
      "3/3 [==============================] - 0s 8ms/step - loss: 16.1573 - mse: 16.1573 - val_loss: 15.0460 - val_mse: 15.0460\n",
      "Epoch 44/50\n",
      "3/3 [==============================] - 0s 8ms/step - loss: 15.4324 - mse: 15.4324 - val_loss: 14.4092 - val_mse: 14.4092\n",
      "Epoch 45/50\n",
      "3/3 [==============================] - 0s 8ms/step - loss: 14.7837 - mse: 14.7837 - val_loss: 13.8468 - val_mse: 13.8468\n",
      "Epoch 46/50\n",
      "3/3 [==============================] - 0s 8ms/step - loss: 14.0931 - mse: 14.0931 - val_loss: 13.3387 - val_mse: 13.3387\n",
      "Epoch 47/50\n",
      "3/3 [==============================] - 0s 8ms/step - loss: 13.4297 - mse: 13.4297 - val_loss: 12.9118 - val_mse: 12.9118\n",
      "Epoch 48/50\n",
      "3/3 [==============================] - 0s 8ms/step - loss: 12.8332 - mse: 12.8332 - val_loss: 12.5570 - val_mse: 12.5570\n",
      "Epoch 49/50\n",
      "3/3 [==============================] - 0s 10ms/step - loss: 12.3274 - mse: 12.3274 - val_loss: 12.2627 - val_mse: 12.2627\n",
      "Epoch 50/50\n",
      "3/3 [==============================] - 0s 8ms/step - loss: 11.9190 - mse: 11.9190 - val_loss: 12.0079 - val_mse: 12.0079\n"
     ]
    }
   ],
   "source": [
    "history = model.fit(X_train, y_train, batch_size=128, epochs=500, validation_data=(X_test, y_test),\n",
    "                   verbose=1)"
   ]
  },
  {
   "cell_type": "code",
   "execution_count": 8,
   "metadata": {},
   "outputs": [
    {
     "data": {
      "text/plain": [
       "[12.007923126220703, 12.007923126220703]"
      ]
     },
     "execution_count": 8,
     "metadata": {},
     "output_type": "execute_result"
    }
   ],
   "source": [
    "model.evaluate(X_test, y_test, verbose=0)"
   ]
  },
  {
   "cell_type": "code",
   "execution_count": 9,
   "metadata": {},
   "outputs": [],
   "source": [
    "y_predict = model.predict(X_test)"
   ]
  },
  {
   "cell_type": "code",
   "execution_count": 10,
   "metadata": {},
   "outputs": [
    {
     "data": {
      "text/plain": [
       "0.7951215675951018"
      ]
     },
     "execution_count": 10,
     "metadata": {},
     "output_type": "execute_result"
    }
   ],
   "source": [
    "from sklearn.metrics import r2_score\n",
    "\n",
    "r2_score(y_test, y_predict)"
   ]
  },
  {
   "cell_type": "code",
   "execution_count": 11,
   "metadata": {},
   "outputs": [
    {
     "data": {
      "text/plain": [
       "<matplotlib.legend.Legend at 0x7f88542a1450>"
      ]
     },
     "execution_count": 11,
     "metadata": {},
     "output_type": "execute_result"
    },
    {
     "data": {
      "image/png": "[encoded data removed]",
      "text/plain": [
       "<Figure size 432x288 with 1 Axes>"
      ]
     },
     "metadata": {
      "needs_background": "light"
     },
     "output_type": "display_data"
    }
   ],
   "source": [
    "import matplotlib.pyplot as plt\n",
    "%matplotlib inline\n",
    "\n",
    "plt.scatter(X_test[:, 0], y_test, c='b', label=\"true\")\n",
    "plt.scatter(X_test[:, 0], y_predict, c='r', label=\"prediction\")\n",
    "plt.legend()"
   ]
  }
 ],
 "metadata": {
  "kernelspec": {
   "display_name": "Python 3",
   "language": "python",
   "name": "python3"
  },
  "language_info": {
   "codemirror_mode": {
    "name": "ipython",
    "version": 3
   },
   "file_extension": ".py",
   "mimetype": "text/x-python",
   "name": "python",
   "nbconvert_exporter": "python",
   "pygments_lexer": "ipython3",
   "version": "3.7.5"
  }
 },
 "nbformat": 4,
 "nbformat_minor": 2
}
