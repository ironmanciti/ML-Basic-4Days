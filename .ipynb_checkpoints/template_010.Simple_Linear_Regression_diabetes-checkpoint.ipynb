{
 "cells": [
  {
   "cell_type": "markdown",
   "id": "b583e472",
   "metadata": {
    "slideshow": {
     "slide_type": "slide"
    }
   },
   "source": [
    "# 010.Simple Linear Regression\n",
    "\n",
    "## Univariate Linear Regression (단변수 선형회귀)"
   ]
  },
  {
   "cell_type": "code",
   "execution_count": null,
   "id": "2557a4de",
   "metadata": {},
   "outputs": [],
   "source": []
  },
  {
   "cell_type": "code",
   "execution_count": null,
   "id": "07154c35",
   "metadata": {},
   "outputs": [],
   "source": [
    "# Load the diabetes dataset\n",
    "# 나이, 성별, 체질량지수, 혈압, 6가지 혈청 수치  --> already scaled"
   ]
  },
  {
   "cell_type": "code",
   "execution_count": null,
   "id": "e95c8091",
   "metadata": {},
   "outputs": [],
   "source": []
  },
  {
   "cell_type": "code",
   "execution_count": null,
   "id": "ab844a9e",
   "metadata": {},
   "outputs": [],
   "source": []
  },
  {
   "cell_type": "code",
   "execution_count": null,
   "id": "dee70425",
   "metadata": {},
   "outputs": [],
   "source": [
    "#1년 뒤 측정한 당뇨병의 진행률 - target(label)"
   ]
  },
  {
   "cell_type": "code",
   "execution_count": null,
   "id": "5a2f970c",
   "metadata": {},
   "outputs": [],
   "source": []
  },
  {
   "cell_type": "code",
   "execution_count": null,
   "id": "3e89ba5e",
   "metadata": {},
   "outputs": [],
   "source": []
  },
  {
   "cell_type": "markdown",
   "id": "355a8567",
   "metadata": {},
   "source": [
    "## univariate linear regression data 생성"
   ]
  },
  {
   "cell_type": "code",
   "execution_count": null,
   "id": "285cd73b",
   "metadata": {},
   "outputs": [],
   "source": [
    "# Use only one feature (단변수 선형회귀)"
   ]
  },
  {
   "cell_type": "code",
   "execution_count": null,
   "id": "1eb48ae0",
   "metadata": {},
   "outputs": [],
   "source": [
    "# training/testing data set 분할"
   ]
  },
  {
   "cell_type": "code",
   "execution_count": null,
   "id": "29fc8dce",
   "metadata": {},
   "outputs": [],
   "source": [
    "# targets data 를 training/testing set 으로 분리"
   ]
  },
  {
   "cell_type": "markdown",
   "id": "a42e415a",
   "metadata": {},
   "source": [
    "## sklearn model 이용"
   ]
  },
  {
   "cell_type": "code",
   "execution_count": null,
   "id": "40134cb5",
   "metadata": {},
   "outputs": [],
   "source": [
    "# regression object 생성"
   ]
  },
  {
   "cell_type": "code",
   "execution_count": null,
   "id": "cc9ab32e",
   "metadata": {},
   "outputs": [],
   "source": []
  },
  {
   "cell_type": "code",
   "execution_count": null,
   "id": "84f171c6",
   "metadata": {},
   "outputs": [],
   "source": [
    "# training set 을 이용하여 model 훈련"
   ]
  },
  {
   "cell_type": "code",
   "execution_count": null,
   "id": "ee31564d",
   "metadata": {},
   "outputs": [],
   "source": [
    "# The coefficients"
   ]
  },
  {
   "cell_type": "code",
   "execution_count": null,
   "id": "791d4007",
   "metadata": {},
   "outputs": [],
   "source": []
  },
  {
   "cell_type": "code",
   "execution_count": null,
   "id": "7826e3f3",
   "metadata": {},
   "outputs": [],
   "source": []
  },
  {
   "cell_type": "code",
   "execution_count": null,
   "id": "f9bdc17b",
   "metadata": {},
   "outputs": [],
   "source": [
    "# 당뇨병 테스트 데이터의 산점도를 그림\n",
    "# 당뇨병 테스트 데이터에 대한 예측 값을 선 그래프로 그림\n",
    "# x축 라벨을 'bmi'로 설정\n",
    "# y축 라벨을 'progress'로 설정"
   ]
  },
  {
   "cell_type": "markdown",
   "id": "2e89a43e",
   "metadata": {},
   "source": [
    "## R2 계산"
   ]
  },
  {
   "cell_type": "code",
   "execution_count": null,
   "id": "6257598d",
   "metadata": {},
   "outputs": [],
   "source": []
  },
  {
   "cell_type": "markdown",
   "id": "da73dd40",
   "metadata": {
    "slideshow": {
     "slide_type": "slide"
    }
   },
   "source": [
    "## Multivariate Linear Regression (다변수 선형회귀)\n",
    "\n",
    "bmi, bp 두가지 변수를 이용한 Linear Regression"
   ]
  },
  {
   "cell_type": "code",
   "execution_count": null,
   "id": "fa0b33a6",
   "metadata": {},
   "outputs": [],
   "source": []
  },
  {
   "cell_type": "code",
   "execution_count": null,
   "id": "2ee84627",
   "metadata": {},
   "outputs": [],
   "source": [
    "# 2 개의 feature 를 사용"
   ]
  },
  {
   "cell_type": "code",
   "execution_count": null,
   "id": "4dd5699f",
   "metadata": {},
   "outputs": [],
   "source": []
  },
  {
   "cell_type": "code",
   "execution_count": null,
   "id": "749694a1",
   "metadata": {},
   "outputs": [],
   "source": [
    "# Split the data into training/testing sets"
   ]
  },
  {
   "cell_type": "code",
   "execution_count": null,
   "id": "18c728da",
   "metadata": {},
   "outputs": [],
   "source": [
    "# Split the targets into training/testing sets"
   ]
  },
  {
   "cell_type": "code",
   "execution_count": null,
   "id": "4abcd927",
   "metadata": {},
   "outputs": [],
   "source": [
    "# Create linear regression object"
   ]
  },
  {
   "cell_type": "code",
   "execution_count": null,
   "id": "8cc04095",
   "metadata": {},
   "outputs": [],
   "source": [
    "# Train the model using the training sets"
   ]
  },
  {
   "cell_type": "code",
   "execution_count": null,
   "id": "1a0384d9",
   "metadata": {},
   "outputs": [],
   "source": [
    "# Make predictions using the testing set"
   ]
  },
  {
   "cell_type": "code",
   "execution_count": null,
   "id": "aa0f2a99",
   "metadata": {},
   "outputs": [],
   "source": [
    "# R2 계산 "
   ]
  },
  {
   "cell_type": "code",
   "execution_count": null,
   "id": "d1dbb2f3",
   "metadata": {},
   "outputs": [],
   "source": []
  }
 ],
 "metadata": {
  "kernelspec": {
   "display_name": "Python 3 (ipykernel)",
   "language": "python",
   "name": "python3"
  },
  "language_info": {
   "codemirror_mode": {
    "name": "ipython",
    "version": 3
   },
   "file_extension": ".py",
   "mimetype": "text/x-python",
   "name": "python",
   "nbconvert_exporter": "python",
   "pygments_lexer": "ipython3",
   "version": "3.9.21"
  }
 },
 "nbformat": 4,
 "nbformat_minor": 5
}
