{
 "cells": [
  {
   "cell_type": "markdown",
   "metadata": {
    "id": "6_BMH4BDOWz7"
   },
   "source": [
    "# Convolutional Autoencoder with MNIST\n",
    "\n",
    "- fashion_mnist dataset 을 이용한 deep autoencoder 생성"
   ]
  },
  {
   "cell_type": "code",
   "execution_count": 1,
   "metadata": {
    "id": "nn-H_HxeOWz_"
   },
   "outputs": [],
   "source": [
    "import numpy as np\n",
    "import tensorflow as tf\n",
    "from tensorflow.keras.datasets import fashion_mnist\n",
    "from tensorflow.keras.models import Sequential, Model\n",
    "from tensorflow.keras.layers import Input, Dense, Conv2D, UpSampling2D, MaxPooling2D\n",
    "import matplotlib.pyplot as plt"
   ]
  },
  {
   "cell_type": "code",
   "execution_count": 2,
   "metadata": {
    "colab": {
     "base_uri": "https://localhost:8080/"
    },
    "id": "vAER1XkVOW0E",
    "outputId": "5f702fd2-49af-450d-85f1-422e98f1fc5a"
   },
   "outputs": [
    {
     "name": "stdout",
     "output_type": "stream",
     "text": [
      "Downloading data from https://storage.googleapis.com/tensorflow/tf-keras-datasets/train-labels-idx1-ubyte.gz\n",
      "29515/29515 [==============================] - 0s 0us/step\n",
      "Downloading data from https://storage.googleapis.com/tensorflow/tf-keras-datasets/train-images-idx3-ubyte.gz\n",
      "26421880/26421880 [==============================] - 1s 0us/step\n",
      "Downloading data from https://storage.googleapis.com/tensorflow/tf-keras-datasets/t10k-labels-idx1-ubyte.gz\n",
      "5148/5148 [==============================] - 0s 0us/step\n",
      "Downloading data from https://storage.googleapis.com/tensorflow/tf-keras-datasets/t10k-images-idx3-ubyte.gz\n",
      "4422102/4422102 [==============================] - 1s 0us/step\n"
     ]
    },
    {
     "data": {
      "text/plain": [
       "(60000, 28, 28)"
      ]
     },
     "execution_count": 2,
     "metadata": {},
     "output_type": "execute_result"
    }
   ],
   "source": [
    "(X_train, _), (X_test, _) = fashion_mnist.load_data()\n",
    "X_train.shape"
   ]
  },
  {
   "cell_type": "code",
   "execution_count": 3,
   "metadata": {
    "colab": {
     "base_uri": "https://localhost:8080/"
    },
    "id": "kPGN6pW_OW0M",
    "outputId": "712e6adf-2317-4220-ce3c-5e9593876fe5"
   },
   "outputs": [
    {
     "data": {
      "text/plain": [
       "((60000, 28, 28), (10000, 28, 28))"
      ]
     },
     "execution_count": 3,
     "metadata": {},
     "output_type": "execute_result"
    }
   ],
   "source": [
    "X_train = X_train / 255.\n",
    "X_test = X_test / 255.\n",
    "\n",
    "X_train.shape, X_test.shape"
   ]
  },
  {
   "cell_type": "markdown",
   "metadata": {
    "id": "S7lrANLDd1xH"
   },
   "source": [
    "# Convolutional autoencoder\n",
    "\n",
    "<img src=\"https://i.imgur.com/DfVioS3.png\" width=\"75%\" height=\"75%\"/>"
   ]
  },
  {
   "cell_type": "code",
   "execution_count": 4,
   "metadata": {
    "id": "iyRtoZ9IiHpw"
   },
   "outputs": [],
   "source": [
    "# 입력층 정의 (28x28 크기의 흑백 이미지)\n",
    "input = Input(shape=(28, 28, 1))\n",
    "\n",
    "# 인코더 부분\n",
    "conv_1 = Conv2D(filters=64, kernel_size=(3,3),\n",
    "                activation='relu', padding='same')(input)           # 첫 번째 컨볼루션 레이어, 64개의 필터 사용\n",
    "maxpool_1 = MaxPooling2D(pool_size=(2,2))(conv_1)     # maxpooling을 사용하여 크기를 절반으로 줄임\n",
    "\n",
    "conv_2 = Conv2D(filters=128, kernel_size=(3,3),\n",
    "                activation='relu', padding='same')(maxpool_1)     # 두 번째 컨볼루션 레이어, 128개의 필터 사용\n",
    "maxpool_2 = MaxPooling2D(pool_size=(2,2))(conv_2)        # maxpooling을 사용하여 크기를 다시 절반으로 줄임\n",
    "\n",
    "bottle_neck = Conv2D(filters=256, kernel_size=(3,3),\n",
    "                     activation='relu', padding='same')(maxpool_2)   # bottleneck 레이어, 256개의 필터 사용\n",
    "\n",
    "# 디코더 부분\n",
    "conv_3 = Conv2D(filters=128, kernel_size=(3,3),\n",
    "                activation='relu', padding='same')(bottle_neck)       # 디코더의 첫 번째 컨볼루션 레이어, 128개의 필터 사용\n",
    "upsample_3 = UpSampling2D(size=(2,2))(conv_3)                # 업샘플링을 사용하여 크기를 2배로 증가\n",
    "\n",
    "conv_4 = Conv2D(filters=64, kernel_size=(3,3),\n",
    "                activation='relu', padding='same')(upsample_3)      # 디코더의 두 번째 컨볼루션 레이어, 64개의 필터 사용\n",
    "upsample_4 = UpSampling2D(size=(2,2))(conv_4)                 # 업샘플링을 사용하여 크기를 다시 2배로 증가\n",
    "\n",
    "conv_5 = Conv2D(filters=1, kernel_size=(3,3),\n",
    "                activation='sigmoid', padding='same')(upsample_4)    # 최종 레이어, 1개의 필터 사용하여 원본과 같은 크기의 흑백 이미지 출력"
   ]
  },
  {
   "cell_type": "code",
   "execution_count": 5,
   "metadata": {
    "colab": {
     "base_uri": "https://localhost:8080/"
    },
    "id": "TBlAFVVp8lGL",
    "outputId": "ed1d66e6-4aeb-4c1e-a98d-609a6b9732da"
   },
   "outputs": [
    {
     "name": "stdout",
     "output_type": "stream",
     "text": [
      "Model: \"model\"\n",
      "_________________________________________________________________\n",
      " Layer (type)                Output Shape              Param #   \n",
      "=================================================================\n",
      " input_1 (InputLayer)        [(None, 28, 28, 1)]       0         \n",
      "                                                                 \n",
      " conv2d (Conv2D)             (None, 28, 28, 64)        640       \n",
      "                                                                 \n",
      " max_pooling2d (MaxPooling2  (None, 14, 14, 64)        0         \n",
      " D)                                                              \n",
      "                                                                 \n",
      " conv2d_1 (Conv2D)           (None, 14, 14, 128)       73856     \n",
      "                                                                 \n",
      " max_pooling2d_1 (MaxPoolin  (None, 7, 7, 128)         0         \n",
      " g2D)                                                            \n",
      "                                                                 \n",
      " conv2d_2 (Conv2D)           (None, 7, 7, 256)         295168    \n",
      "                                                                 \n",
      " conv2d_3 (Conv2D)           (None, 7, 7, 128)         295040    \n",
      "                                                                 \n",
      " up_sampling2d (UpSampling2  (None, 14, 14, 128)       0         \n",
      " D)                                                              \n",
      "                                                                 \n",
      " conv2d_4 (Conv2D)           (None, 14, 14, 64)        73792     \n",
      "                                                                 \n",
      " up_sampling2d_1 (UpSamplin  (None, 28, 28, 64)        0         \n",
      " g2D)                                                            \n",
      "                                                                 \n",
      " conv2d_5 (Conv2D)           (None, 28, 28, 1)         577       \n",
      "                                                                 \n",
      "=================================================================\n",
      "Total params: 739073 (2.82 MB)\n",
      "Trainable params: 739073 (2.82 MB)\n",
      "Non-trainable params: 0 (0.00 Byte)\n",
      "_________________________________________________________________\n"
     ]
    }
   ],
   "source": [
    "# autoencoder model\n",
    "autoencoder = Model(inputs=input, outputs=conv_5)\n",
    "autoencoder.summary()"
   ]
  },
  {
   "cell_type": "code",
   "execution_count": 6,
   "metadata": {
    "id": "Fe_AeeP68lGM"
   },
   "outputs": [],
   "source": [
    "autoencoder.compile(loss='binary_crossentropy', optimizer='adam')"
   ]
  },
  {
   "cell_type": "code",
   "execution_count": 7,
   "metadata": {
    "id": "DZM0MS0i8lGM"
   },
   "outputs": [],
   "source": [
    "# latent 표현 시각화를 위한 encoder model\n",
    "encoder_viz = Conv2D(filters=1, kernel_size=(3,3), activation='relu', padding='same')(bottle_neck)\n",
    "encoder_model = Model(inputs=input, outputs=encoder_viz)"
   ]
  },
  {
   "cell_type": "code",
   "execution_count": 8,
   "metadata": {
    "colab": {
     "base_uri": "https://localhost:8080/"
    },
    "id": "fnLEq7-9eUDI",
    "outputId": "307ce49d-6fd2-4793-f255-0859e793e06a"
   },
   "outputs": [
    {
     "name": "stdout",
     "output_type": "stream",
     "text": [
      "Model: \"model_1\"\n",
      "_________________________________________________________________\n",
      " Layer (type)                Output Shape              Param #   \n",
      "=================================================================\n",
      " input_1 (InputLayer)        [(None, 28, 28, 1)]       0         \n",
      "                                                                 \n",
      " conv2d (Conv2D)             (None, 28, 28, 64)        640       \n",
      "                                                                 \n",
      " max_pooling2d (MaxPooling2  (None, 14, 14, 64)        0         \n",
      " D)                                                              \n",
      "                                                                 \n",
      " conv2d_1 (Conv2D)           (None, 14, 14, 128)       73856     \n",
      "                                                                 \n",
      " max_pooling2d_1 (MaxPoolin  (None, 7, 7, 128)         0         \n",
      " g2D)                                                            \n",
      "                                                                 \n",
      " conv2d_2 (Conv2D)           (None, 7, 7, 256)         295168    \n",
      "                                                                 \n",
      " conv2d_6 (Conv2D)           (None, 7, 7, 1)           2305      \n",
      "                                                                 \n",
      "=================================================================\n",
      "Total params: 371969 (1.42 MB)\n",
      "Trainable params: 371969 (1.42 MB)\n",
      "Non-trainable params: 0 (0.00 Byte)\n",
      "_________________________________________________________________\n"
     ]
    }
   ],
   "source": [
    "encoder_model.summary()"
   ]
  },
  {
   "cell_type": "code",
   "execution_count": 9,
   "metadata": {
    "colab": {
     "base_uri": "https://localhost:8080/"
    },
    "id": "0J6IYCE2d1xI",
    "outputId": "66289963-cfb9-4efb-b176-eadc5d91a810",
    "scrolled": true
   },
   "outputs": [
    {
     "name": "stdout",
     "output_type": "stream",
     "text": [
      "Epoch 1/50\n",
      "235/235 [==============================] - 20s 30ms/step - loss: 0.3045 - val_loss: 0.2743\n",
      "Epoch 2/50\n",
      "235/235 [==============================] - 6s 26ms/step - loss: 0.2679 - val_loss: 0.2659\n",
      "Epoch 3/50\n",
      "235/235 [==============================] - 6s 26ms/step - loss: 0.2622 - val_loss: 0.2658\n",
      "Epoch 4/50\n",
      "235/235 [==============================] - 6s 26ms/step - loss: 0.2587 - val_loss: 0.2592\n",
      "Epoch 5/50\n",
      "235/235 [==============================] - 6s 26ms/step - loss: 0.2561 - val_loss: 0.2574\n",
      "Epoch 6/50\n",
      "235/235 [==============================] - 6s 27ms/step - loss: 0.2544 - val_loss: 0.2563\n",
      "Epoch 7/50\n",
      "235/235 [==============================] - 6s 27ms/step - loss: 0.2532 - val_loss: 0.2544\n",
      "Epoch 8/50\n",
      "235/235 [==============================] - 6s 27ms/step - loss: 0.2522 - val_loss: 0.2541\n",
      "Epoch 9/50\n",
      "235/235 [==============================] - 6s 27ms/step - loss: 0.2515 - val_loss: 0.2532\n",
      "Epoch 10/50\n",
      "235/235 [==============================] - 6s 27ms/step - loss: 0.2508 - val_loss: 0.2523\n",
      "Epoch 11/50\n",
      "235/235 [==============================] - 6s 27ms/step - loss: 0.2503 - val_loss: 0.2519\n",
      "Epoch 12/50\n",
      "235/235 [==============================] - 6s 27ms/step - loss: 0.2498 - val_loss: 0.2516\n",
      "Epoch 13/50\n",
      "235/235 [==============================] - 6s 27ms/step - loss: 0.2495 - val_loss: 0.2512\n",
      "Epoch 14/50\n",
      "235/235 [==============================] - 7s 28ms/step - loss: 0.2492 - val_loss: 0.2509\n",
      "Epoch 15/50\n",
      "235/235 [==============================] - 7s 28ms/step - loss: 0.2488 - val_loss: 0.2507\n",
      "Epoch 16/50\n",
      "235/235 [==============================] - 7s 28ms/step - loss: 0.2485 - val_loss: 0.2503\n",
      "Epoch 17/50\n",
      "235/235 [==============================] - 7s 28ms/step - loss: 0.2483 - val_loss: 0.2504\n",
      "Epoch 18/50\n",
      "235/235 [==============================] - 7s 28ms/step - loss: 0.2482 - val_loss: 0.2500\n",
      "Epoch 19/50\n",
      "235/235 [==============================] - 7s 28ms/step - loss: 0.2479 - val_loss: 0.2505\n",
      "Epoch 20/50\n",
      "235/235 [==============================] - 7s 28ms/step - loss: 0.2478 - val_loss: 0.2495\n",
      "Epoch 21/50\n",
      "235/235 [==============================] - 7s 28ms/step - loss: 0.2476 - val_loss: 0.2495\n",
      "Epoch 22/50\n",
      "235/235 [==============================] - 7s 28ms/step - loss: 0.2473 - val_loss: 0.2494\n",
      "Epoch 23/50\n",
      "235/235 [==============================] - 7s 28ms/step - loss: 0.2472 - val_loss: 0.2492\n",
      "Epoch 24/50\n",
      "235/235 [==============================] - 7s 28ms/step - loss: 0.2471 - val_loss: 0.2489\n",
      "Epoch 25/50\n",
      "235/235 [==============================] - 7s 28ms/step - loss: 0.2469 - val_loss: 0.2489\n",
      "Epoch 26/50\n",
      "235/235 [==============================] - 7s 28ms/step - loss: 0.2468 - val_loss: 0.2488\n",
      "Epoch 27/50\n",
      "235/235 [==============================] - 7s 28ms/step - loss: 0.2467 - val_loss: 0.2487\n",
      "Epoch 28/50\n",
      "235/235 [==============================] - 7s 28ms/step - loss: 0.2466 - val_loss: 0.2485\n",
      "Epoch 29/50\n",
      "235/235 [==============================] - 7s 28ms/step - loss: 0.2464 - val_loss: 0.2484\n",
      "Epoch 30/50\n",
      "235/235 [==============================] - 7s 28ms/step - loss: 0.2464 - val_loss: 0.2487\n",
      "Epoch 31/50\n",
      "235/235 [==============================] - 7s 28ms/step - loss: 0.2463 - val_loss: 0.2487\n",
      "Epoch 32/50\n",
      "235/235 [==============================] - 7s 28ms/step - loss: 0.2461 - val_loss: 0.2481\n",
      "Epoch 33/50\n",
      "235/235 [==============================] - 7s 28ms/step - loss: 0.2461 - val_loss: 0.2481\n",
      "Epoch 34/50\n",
      "235/235 [==============================] - 7s 28ms/step - loss: 0.2460 - val_loss: 0.2479\n",
      "Epoch 35/50\n",
      "235/235 [==============================] - 7s 28ms/step - loss: 0.2459 - val_loss: 0.2481\n",
      "Epoch 36/50\n",
      "235/235 [==============================] - 7s 28ms/step - loss: 0.2458 - val_loss: 0.2478\n",
      "Epoch 37/50\n",
      "235/235 [==============================] - 7s 28ms/step - loss: 0.2457 - val_loss: 0.2478\n",
      "Epoch 38/50\n",
      "235/235 [==============================] - 7s 28ms/step - loss: 0.2456 - val_loss: 0.2484\n",
      "Epoch 39/50\n",
      "235/235 [==============================] - 7s 28ms/step - loss: 0.2456 - val_loss: 0.2476\n",
      "Epoch 40/50\n",
      "235/235 [==============================] - 7s 28ms/step - loss: 0.2455 - val_loss: 0.2475\n",
      "Epoch 41/50\n",
      "235/235 [==============================] - 7s 28ms/step - loss: 0.2455 - val_loss: 0.2477\n",
      "Epoch 42/50\n",
      "235/235 [==============================] - 7s 28ms/step - loss: 0.2454 - val_loss: 0.2474\n",
      "Epoch 43/50\n",
      "235/235 [==============================] - 7s 28ms/step - loss: 0.2453 - val_loss: 0.2475\n",
      "Epoch 44/50\n",
      "235/235 [==============================] - 7s 28ms/step - loss: 0.2453 - val_loss: 0.2473\n",
      "Epoch 45/50\n",
      "235/235 [==============================] - 7s 28ms/step - loss: 0.2452 - val_loss: 0.2473\n",
      "Epoch 46/50\n",
      "235/235 [==============================] - 7s 28ms/step - loss: 0.2452 - val_loss: 0.2472\n",
      "Epoch 47/50\n",
      "235/235 [==============================] - 7s 28ms/step - loss: 0.2451 - val_loss: 0.2471\n",
      "Epoch 48/50\n",
      "235/235 [==============================] - 7s 28ms/step - loss: 0.2450 - val_loss: 0.2472\n",
      "Epoch 49/50\n",
      "235/235 [==============================] - 7s 28ms/step - loss: 0.2450 - val_loss: 0.2471\n",
      "Epoch 50/50\n",
      "235/235 [==============================] - 7s 28ms/step - loss: 0.2450 - val_loss: 0.2470\n"
     ]
    }
   ],
   "source": [
    "history = autoencoder.fit(X_train, X_train, epochs=50, shuffle=True,\n",
    "                          batch_size=256, validation_data=(X_test, X_test))"
   ]
  },
  {
   "cell_type": "code",
   "execution_count": 10,
   "metadata": {
    "colab": {
     "base_uri": "https://localhost:8080/",
     "height": 448
    },
    "id": "l4W2hJGyXQ2B",
    "outputId": "38bb2ef8-ddd3-44fd-add1-6c745e5a4d87"
   },
   "outputs": [
    {
     "data": {
      "text/plain": [
       "<matplotlib.legend.Legend at 0x7a7acb7fa500>"
      ]
     },
     "execution_count": 10,
     "metadata": {},
     "output_type": "execute_result"
    },
    {
     "data": {
      "image/png": "[encoded data removed]",
      "text/plain": [
       "<Figure size 640x480 with 1 Axes>"
      ]
     },
     "metadata": {},
     "output_type": "display_data"
    }
   ],
   "source": [
    "plt.plot(history.history['loss'], label='train loss')\n",
    "plt.plot(history.history['val_loss'], label='validation_loss')\n",
    "plt.legend()"
   ]
  },
  {
   "cell_type": "code",
   "execution_count": 14,
   "metadata": {
    "colab": {
     "base_uri": "https://localhost:8080/",
     "height": 285
    },
    "id": "gHyjkAg6jxDO",
    "outputId": "99b31eb7-9110-4e36-d4af-c074eef5ff69"
   },
   "outputs": [
    {
     "data": {
      "image/png": "[encoded data removed]",
      "text/plain": [
       "<Figure size 2000x400 with 30 Axes>"
      ]
     },
     "metadata": {},
     "output_type": "display_data"
    }
   ],
   "source": [
    "fig, ax = plt.subplots(3, 10, figsize=(20, 4))\n",
    "\n",
    "# 10개의 이미지에 대해서 원본, 인코딩된 이미지, 복원된 이미지를 순서대로 그리기\n",
    "for i in range(10):\n",
    "    # 원본 이미지 그리기\n",
    "    ax[0, i].imshow(X_test[i], cmap='gray')  # 첫 번째 행에는 원본 이미지 표시\n",
    "    ax[0, i].axis('off')     # 축 제거\n",
    "    ax[0, i].set_title('Original Image')    # 타이틀 설정\n",
    "\n",
    "    # 인코딩된 이미지 그리기\n",
    "    img = np.expand_dims(X_test[i], axis=0)  # 모델의 입력에 맞게 차원 확장\n",
    "    latent = encoder_model.predict(img, verbose=0)\n",
    "    ax[1, i].imshow(latent.reshape(7, 7), cmap='gray')  # 두 번째 행에는 인코딩된 이미지 표시\n",
    "    ax[1, i].axis('off')  # 축 제거\n",
    "    ax[1, i].set_title('Encoded Image')  # 타이틀 설정\n",
    "\n",
    "    # 복원된 이미지 그리기\n",
    "    reconstructed = autoencoder.predict(img, verbose=0)\n",
    "    ax[2, i].imshow(reconstructed.reshape(28, 28), cmap='gray')  # 세 번째 행에는 복원된 이미지 표시\n",
    "    ax[2, i].axis('off')  # 축 제거\n",
    "    ax[2, i].set_title('Recovered Image')  # 타이틀 설정\n",
    "\n",
    "plt.tight_layout()\n",
    "plt.show()"
   ]
  },
  {
   "cell_type": "code",
   "execution_count": null,
   "metadata": {
    "id": "6XAKwKo_YwZb"
   },
   "outputs": [],
   "source": []
  }
 ],
 "metadata": {
  "accelerator": "GPU",
  "colab": {
   "gpuType": "T4",
   "machine_shape": "hm",
   "provenance": []
  },
  "kernelspec": {
   "display_name": "Python 3 (ipykernel)",
   "language": "python",
   "name": "python3"
  },
  "language_info": {
   "codemirror_mode": {
    "name": "ipython",
    "version": 3
   },
   "file_extension": ".py",
   "mimetype": "text/x-python",
   "name": "python",
   "nbconvert_exporter": "python",
   "pygments_lexer": "ipython3",
   "version": "3.9.7"
  }
 },
 "nbformat": 4,
 "nbformat_minor": 1
}
