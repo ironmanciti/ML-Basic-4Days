{
 "cells": [
  {
   "cell_type": "markdown",
   "metadata": {},
   "source": [
    "# 4. Feature Scaling\n",
    "\n",
    "- 특정 feature 의 value 가 다른 feature 들 보다 훨씬 크면, 그 값이 목적함수를 지배하게 되므로 정확한 학습이 되지 않음\n",
    "\n",
    "- sklearn 의 preprocessing module 은 scale, minmax_scale 함수와 이에 대응하는 StandardScaler, MinMaxScaler class 및 fit(), transform() method 를 제공하여 쉽게 scaling 을 할 수 있도록 지원\n",
    "\n",
    "## 1) Simple Feature Scaling\n",
    "\n",
    "$$ X_{new} = \\frac{X_{old}}{X_{max}}$$\n",
    "\n",
    "## 2) Min-Max Scaling\n",
    "\n",
    "- 최대/최소값이 1, 0 이 되도록 scaling  \n",
    "- x=min 이면 y=0, x=max 이면 y=1.\n",
    "\n",
    "\n",
    "$$ X_{new} = \\frac{X_{old} - X_{min}}{X_{max} - X_{min}}$$\n",
    "\n",
    "\n",
    "## 3) Standard Scaling (Z-score)\n",
    "\n",
    "- 평균과 표준편차를 이용하여 scaling  \n",
    "- $\\mu : 평균, \\sigma : 표준편차 $\n",
    "\n",
    "$$ X_{new} = \\frac{X_{old} - \\mu}{\\sigma}$$\n"
   ]
  },
  {
   "cell_type": "code",
   "execution_count": 1,
   "metadata": {
    "slideshow": {
     "slide_type": "fragment"
    }
   },
   "outputs": [],
   "source": [
    "import numpy as np\n",
    "import pandas as pd\n",
    "import matplotlib.pyplot as plt\n",
    "from sklearn.preprocessing import MinMaxScaler\n",
    "from sklearn.preprocessing import StandardScaler"
   ]
  },
  {
   "cell_type": "code",
   "execution_count": 2,
   "metadata": {},
   "outputs": [],
   "source": [
    "X = np.arange(-3, 6).astype('float32').reshape(-1, 1)\n",
    "X = np.vstack([X, [20]])               # outlier 추가"
   ]
  },
  {
   "cell_type": "code",
   "execution_count": 3,
   "metadata": {},
   "outputs": [
    {
     "data": {
      "text/plain": [
       "array([[-0.15],\n",
       "       [-0.1 ],\n",
       "       [-0.05],\n",
       "       [ 0.  ],\n",
       "       [ 0.05],\n",
       "       [ 0.1 ],\n",
       "       [ 0.15],\n",
       "       [ 0.2 ],\n",
       "       [ 0.25],\n",
       "       [ 1.  ]])"
      ]
     },
     "execution_count": 3,
     "metadata": {},
     "output_type": "execute_result"
    }
   ],
   "source": [
    "X_simple = X/X.max()\n",
    "X_simple"
   ]
  },
  {
   "cell_type": "code",
   "execution_count": 4,
   "metadata": {},
   "outputs": [
    {
     "data": {
      "text/plain": [
       "array([[0.        ],\n",
       "       [0.04347826],\n",
       "       [0.08695652],\n",
       "       [0.13043478],\n",
       "       [0.17391304],\n",
       "       [0.2173913 ],\n",
       "       [0.26086957],\n",
       "       [0.30434783],\n",
       "       [0.34782609],\n",
       "       [1.        ]])"
      ]
     },
     "execution_count": 4,
     "metadata": {},
     "output_type": "execute_result"
    }
   ],
   "source": [
    "#MinMaxScale\n",
    "scaler = MinMaxScaler()\n",
    "X_minmax = scaler.fit_transform(X)\n",
    "X_minmax"
   ]
  },
  {
   "cell_type": "code",
   "execution_count": 5,
   "metadata": {
    "slideshow": {
     "slide_type": "subslide"
    }
   },
   "outputs": [
    {
     "data": {
      "text/plain": [
       "array([[-0.95099461],\n",
       "       [-0.78980908],\n",
       "       [-0.62862356],\n",
       "       [-0.46743803],\n",
       "       [-0.3062525 ],\n",
       "       [-0.14506697],\n",
       "       [ 0.01611855],\n",
       "       [ 0.17730408],\n",
       "       [ 0.33848961],\n",
       "       [ 2.75627252]])"
      ]
     },
     "execution_count": 5,
     "metadata": {},
     "output_type": "execute_result"
    }
   ],
   "source": [
    "#Standard Scaler\n",
    "scaler = StandardScaler()\n",
    "X_standard = scaler.fit_transform(X)\n",
    "X_standard"
   ]
  },
  {
   "cell_type": "code",
   "execution_count": 6,
   "metadata": {
    "slideshow": {
     "slide_type": "subslide"
    }
   },
   "outputs": [
    {
     "data": {
      "image/png": "[encoded data removed]",
      "text/plain": [
       "<Figure size 1400x400 with 4 Axes>"
      ]
     },
     "metadata": {},
     "output_type": "display_data"
    }
   ],
   "source": [
    "plt.figure(figsize=(14,4))\n",
    "plt.subplot(1,4,1)\n",
    "plt.hist(X, bins=50);\n",
    "plt.title('original data')\n",
    "\n",
    "plt.subplot(1,4,2)\n",
    "plt.hist(X_simple, bins=50);\n",
    "plt.title('simple scaling')\n",
    "\n",
    "plt.subplot(1,4,3)\n",
    "plt.hist(X_standard, bins=50);\n",
    "plt.title('standard scaling')\n",
    "\n",
    "plt.subplot(1,4,4)\n",
    "plt.hist(X_minmax, bins=50);\n",
    "plt.title('min-max scaling');"
   ]
  },
  {
   "cell_type": "code",
   "execution_count": null,
   "metadata": {},
   "outputs": [],
   "source": []
  }
 ],
 "metadata": {
  "kernelspec": {
   "display_name": "Python 3 (ipykernel)",
   "language": "python",
   "name": "python3"
  },
  "language_info": {
   "codemirror_mode": {
    "name": "ipython",
    "version": 3
   },
   "file_extension": ".py",
   "mimetype": "text/x-python",
   "name": "python",
   "nbconvert_exporter": "python",
   "pygments_lexer": "ipython3",
   "version": "3.9.21"
  }
 },
 "nbformat": 4,
 "nbformat_minor": 4
}
