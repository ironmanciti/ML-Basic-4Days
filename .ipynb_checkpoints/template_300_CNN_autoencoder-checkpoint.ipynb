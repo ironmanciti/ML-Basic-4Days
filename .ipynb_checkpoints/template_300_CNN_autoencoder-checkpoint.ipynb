{
 "cells": [
  {
   "cell_type": "markdown",
   "id": "cecc0085",
   "metadata": {
    "id": "6_BMH4BDOWz7"
   },
   "source": [
    "# Convolutional Autoencoder with MNIST\n",
    "\n",
    "- fashion_mnist dataset 을 이용한 deep autoencoder 생성"
   ]
  },
  {
   "cell_type": "code",
   "execution_count": null,
   "id": "65850c29",
   "metadata": {},
   "outputs": [],
   "source": []
  },
  {
   "cell_type": "code",
   "execution_count": null,
   "id": "6e6dd120",
   "metadata": {},
   "outputs": [],
   "source": []
  },
  {
   "cell_type": "code",
   "execution_count": null,
   "id": "0b38273a",
   "metadata": {},
   "outputs": [],
   "source": []
  },
  {
   "cell_type": "markdown",
   "id": "f1b24604",
   "metadata": {
    "id": "S7lrANLDd1xH"
   },
   "source": [
    "# Convolutional autoencoder\n",
    "\n",
    "<img src=\"https://i.imgur.com/DfVioS3.png\" width=\"75%\" height=\"75%\"/>"
   ]
  },
  {
   "cell_type": "code",
   "execution_count": null,
   "id": "a8e54eb6",
   "metadata": {},
   "outputs": [],
   "source": [
    "# 입력층 정의 (28x28 크기의 흑백 이미지)\n",
    "# 인코더 부분\n",
    "# 디코더 부분"
   ]
  },
  {
   "cell_type": "code",
   "execution_count": null,
   "id": "7d930767",
   "metadata": {},
   "outputs": [],
   "source": [
    "# autoencoder model"
   ]
  },
  {
   "cell_type": "code",
   "execution_count": null,
   "id": "eba3c748",
   "metadata": {},
   "outputs": [],
   "source": []
  },
  {
   "cell_type": "code",
   "execution_count": null,
   "id": "5140b219",
   "metadata": {},
   "outputs": [],
   "source": [
    "# latent 표현 시각화를 위한 encoder model"
   ]
  },
  {
   "cell_type": "code",
   "execution_count": null,
   "id": "8028a9cb",
   "metadata": {},
   "outputs": [],
   "source": []
  },
  {
   "cell_type": "code",
   "execution_count": null,
   "id": "5dcb00cc",
   "metadata": {},
   "outputs": [],
   "source": []
  },
  {
   "cell_type": "code",
   "execution_count": null,
   "id": "6c98da81",
   "metadata": {},
   "outputs": [],
   "source": []
  },
  {
   "cell_type": "code",
   "execution_count": null,
   "id": "bf3ee588",
   "metadata": {},
   "outputs": [],
   "source": [
    "# 10개의 이미지에 대해서 원본, 인코딩된 이미지, 복원된 이미지를 순서대로 그리기\n",
    "    # 원본 이미지 그리기\n",
    "    # 인코딩된 이미지 그리기\n",
    "    # 복원된 이미지 그리기"
   ]
  },
  {
   "cell_type": "code",
   "execution_count": null,
   "id": "e54564ad",
   "metadata": {},
   "outputs": [],
   "source": []
  }
 ],
 "metadata": {
  "accelerator": "GPU",
  "colab": {
   "gpuType": "T4",
   "machine_shape": "hm",
   "provenance": []
  },
  "kernelspec": {
   "display_name": "Python 3 (ipykernel)",
   "language": "python",
   "name": "python3"
  },
  "language_info": {
   "codemirror_mode": {
    "name": "ipython",
    "version": 3
   },
   "file_extension": ".py",
   "mimetype": "text/x-python",
   "name": "python",
   "nbconvert_exporter": "python",
   "pygments_lexer": "ipython3",
   "version": "3.8.13"
  }
 },
 "nbformat": 4,
 "nbformat_minor": 5
}
