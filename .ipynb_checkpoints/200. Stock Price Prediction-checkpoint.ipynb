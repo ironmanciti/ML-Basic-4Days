{
 "cells": [
  {
   "cell_type": "markdown",
   "id": "whole-religion",
   "metadata": {},
   "source": [
    "# LSTM을 이용한 주가 예측"
   ]
  },
  {
   "cell_type": "code",
   "execution_count": 1,
   "id": "streaming-prefix",
   "metadata": {},
   "outputs": [],
   "source": [
    "import pandas as pd\n",
    "import numpy as np\n",
    "import matplotlib.pyplot as plt\n",
    "from matplotlib.pylab import rcParams\n",
    "from sklearn.preprocessing import MinMaxScaler\n",
    "\n",
    "import yfinance as yf\n",
    "\n",
    "import tensorflow as tf\n",
    "from tensorflow.keras.models import Sequential\n",
    "from tensorflow.keras.layers import LSTM,Dropout,Dense\n",
    "\n",
    "import warnings\n",
    "warnings.filterwarnings('ignore')\n",
    "np.random.seed(42)\n",
    "tf.random.set_seed(42)"
   ]
  },
  {
   "cell_type": "markdown",
   "id": "signed-temperature",
   "metadata": {},
   "source": [
    "- Apple 주식 가격 예측"
   ]
  },
  {
   "cell_type": "code",
   "execution_count": 2,
   "id": "alert-brand",
   "metadata": {},
   "outputs": [
    {
     "data": {
      "text/html": [
       "<div>\n",
       "<style scoped>\n",
       "    .dataframe tbody tr th:only-of-type {\n",
       "        vertical-align: middle;\n",
       "    }\n",
       "\n",
       "    .dataframe tbody tr th {\n",
       "        vertical-align: top;\n",
       "    }\n",
       "\n",
       "    .dataframe thead th {\n",
       "        text-align: right;\n",
       "    }\n",
       "</style>\n",
       "<table border=\"1\" class=\"dataframe\">\n",
       "  <thead>\n",
       "    <tr style=\"text-align: right;\">\n",
       "      <th></th>\n",
       "      <th>Open</th>\n",
       "      <th>High</th>\n",
       "      <th>Low</th>\n",
       "      <th>Close</th>\n",
       "      <th>Adj Close</th>\n",
       "      <th>Volume</th>\n",
       "    </tr>\n",
       "    <tr>\n",
       "      <th>Date</th>\n",
       "      <th></th>\n",
       "      <th></th>\n",
       "      <th></th>\n",
       "      <th></th>\n",
       "      <th></th>\n",
       "      <th></th>\n",
       "    </tr>\n",
       "  </thead>\n",
       "  <tbody>\n",
       "    <tr>\n",
       "      <th>2014-12-31</th>\n",
       "      <td>28.205000</td>\n",
       "      <td>28.282499</td>\n",
       "      <td>27.552500</td>\n",
       "      <td>27.594999</td>\n",
       "      <td>24.983654</td>\n",
       "      <td>165613600</td>\n",
       "    </tr>\n",
       "    <tr>\n",
       "      <th>2015-01-02</th>\n",
       "      <td>27.847500</td>\n",
       "      <td>27.860001</td>\n",
       "      <td>26.837500</td>\n",
       "      <td>27.332500</td>\n",
       "      <td>24.745996</td>\n",
       "      <td>212818400</td>\n",
       "    </tr>\n",
       "    <tr>\n",
       "      <th>2015-01-05</th>\n",
       "      <td>27.072500</td>\n",
       "      <td>27.162500</td>\n",
       "      <td>26.352501</td>\n",
       "      <td>26.562500</td>\n",
       "      <td>24.048857</td>\n",
       "      <td>257142000</td>\n",
       "    </tr>\n",
       "    <tr>\n",
       "      <th>2015-01-06</th>\n",
       "      <td>26.635000</td>\n",
       "      <td>26.857500</td>\n",
       "      <td>26.157499</td>\n",
       "      <td>26.565001</td>\n",
       "      <td>24.051125</td>\n",
       "      <td>263188400</td>\n",
       "    </tr>\n",
       "    <tr>\n",
       "      <th>2015-01-07</th>\n",
       "      <td>26.799999</td>\n",
       "      <td>27.049999</td>\n",
       "      <td>26.674999</td>\n",
       "      <td>26.937500</td>\n",
       "      <td>24.388378</td>\n",
       "      <td>160423600</td>\n",
       "    </tr>\n",
       "  </tbody>\n",
       "</table>\n",
       "</div>"
      ],
      "text/plain": [
       "                 Open       High        Low      Close  Adj Close     Volume\n",
       "Date                                                                        \n",
       "2014-12-31  28.205000  28.282499  27.552500  27.594999  24.983654  165613600\n",
       "2015-01-02  27.847500  27.860001  26.837500  27.332500  24.745996  212818400\n",
       "2015-01-05  27.072500  27.162500  26.352501  26.562500  24.048857  257142000\n",
       "2015-01-06  26.635000  26.857500  26.157499  26.565001  24.051125  263188400\n",
       "2015-01-07  26.799999  27.049999  26.674999  26.937500  24.388378  160423600"
      ]
     },
     "execution_count": 2,
     "metadata": {},
     "output_type": "execute_result"
    }
   ],
   "source": [
    "aapl = yf.download('AAPL', start='2015-01-01', end='2019-12-31', progress=False)\n",
    "aapl.head()"
   ]
  },
  {
   "cell_type": "code",
   "execution_count": 3,
   "id": "german-despite",
   "metadata": {},
   "outputs": [
    {
     "data": {
      "text/plain": [
       "<AxesSubplot:title={'center':'APPLE Stock Prices'}, xlabel='Date', ylabel='Close'>"
      ]
     },
     "execution_count": 3,
     "metadata": {},
     "output_type": "execute_result"
    },
    {
     "data": {
      "image/png": "[encoded data removed]",
      "text/plain": [
       "<Figure size 432x288 with 1 Axes>"
      ]
     },
     "metadata": {},
     "output_type": "display_data"
    }
   ],
   "source": [
    "import seaborn as sns\n",
    "sns.set(style='darkgrid')\n",
    "\n",
    "#Plot \"Close\"\n",
    "plt.title(\"APPLE Stock Prices\", fontsize=15)\n",
    "sns.lineplot(x=aapl.index, y='Close', data=aapl)"
   ]
  },
  {
   "cell_type": "markdown",
   "id": "thorough-collectible",
   "metadata": {},
   "source": [
    "LSTM layer로 하려고 하는 것은 지난 window-size 일(즉, t-window에서 t-1까지)의 역사적 가격을 사용하여 시간 t의 가격을 예측하는 것입니다. 정확한 가격이 아닌 추세를 파악하기 위해 노력할 것임을 명심하십시오."
   ]
  },
  {
   "cell_type": "markdown",
   "id": "european-darkness",
   "metadata": {},
   "source": [
    "- training dataset 생성"
   ]
  },
  {
   "cell_type": "code",
   "execution_count": 4,
   "id": "falling-subcommittee",
   "metadata": {},
   "outputs": [
    {
     "data": {
      "text/plain": [
       "(1258, 6)"
      ]
     },
     "execution_count": 4,
     "metadata": {},
     "output_type": "execute_result"
    }
   ],
   "source": [
    "aapl.shape"
   ]
  },
  {
   "cell_type": "code",
   "execution_count": 5,
   "id": "animated-request",
   "metadata": {},
   "outputs": [
    {
     "name": "stdout",
     "output_type": "stream",
     "text": [
      "72.87999725341797\n",
      "72.87999725341797\n"
     ]
    }
   ],
   "source": [
    "hist = []\n",
    "target = []\n",
    "#window = 60\n",
    "window = 30\n",
    "close = aapl['Close']\n",
    "print(close[-1])\n",
    "\n",
    "for i in range(len(close) - window):\n",
    "    x = close[i:i+window]\n",
    "    y = close[i+window]\n",
    "    hist.append(x)\n",
    "    target.append(y)\n",
    "    \n",
    "print(target[-1])"
   ]
  },
  {
   "cell_type": "markdown",
   "id": "accomplished-phenomenon",
   "metadata": {},
   "source": [
    "확인 방법 \n",
    "\n",
    "- \"hist\"의 각 요소는 window개 timestep의 list입니다. 1씩 증가하기 때문에 \"hist\"의 두 번째 요소의 마지막 항목은 \"target\"의 첫 번째 요소와 같아야 합니다. 또한 마지막 숫자가 같아야 합니다.\n",
    "\n",
    "```\n",
    "print(close[-1])\n",
    "print(i+length)\n",
    "print(target[-1])\n",
    "```"
   ]
  },
  {
   "cell_type": "code",
   "execution_count": 6,
   "id": "cognitive-shuttle",
   "metadata": {},
   "outputs": [
    {
     "data": {
      "text/plain": [
       "True"
      ]
     },
     "execution_count": 6,
     "metadata": {},
     "output_type": "execute_result"
    }
   ],
   "source": [
    "hist[1][-1] == target[0]"
   ]
  },
  {
   "cell_type": "code",
   "execution_count": 7,
   "id": "retained-throw",
   "metadata": {},
   "outputs": [
    {
     "name": "stdout",
     "output_type": "stream",
     "text": [
      "(1228, 30)\n",
      "(1228, 1)\n"
     ]
    }
   ],
   "source": [
    "hist = np.array(hist)\n",
    "target = np.array(target)\n",
    "target = target.reshape(-1, 1)\n",
    "print(hist.shape)\n",
    "print(target.shape)"
   ]
  },
  {
   "cell_type": "code",
   "execution_count": 8,
   "id": "hungarian-champagne",
   "metadata": {},
   "outputs": [
    {
     "data": {
      "text/plain": [
       "1128"
      ]
     },
     "execution_count": 8,
     "metadata": {},
     "output_type": "execute_result"
    }
   ],
   "source": [
    "len(hist) - 100"
   ]
  },
  {
   "cell_type": "markdown",
   "id": "continued-alpha",
   "metadata": {},
   "source": [
    "1098일의 데이터로 모델을 학습시키고 다음 100일의 데이터로 테스트하는 방식으로 데이터를 분할합니다."
   ]
  },
  {
   "cell_type": "code",
   "execution_count": 9,
   "id": "tired-easter",
   "metadata": {},
   "outputs": [],
   "source": [
    "#train/test split\n",
    "split = len(hist) - 100\n",
    "X_train = hist[:split]\n",
    "X_test = hist[split:]\n",
    "y_train = target[:split]\n",
    "y_test = target[split:]"
   ]
  },
  {
   "cell_type": "code",
   "execution_count": 10,
   "id": "nasty-watson",
   "metadata": {},
   "outputs": [
    {
     "data": {
      "text/plain": [
       "((1128, 30), (100, 30), (1128, 1), (100, 1))"
      ]
     },
     "execution_count": 10,
     "metadata": {},
     "output_type": "execute_result"
    }
   ],
   "source": [
    "sc1 = MinMaxScaler()\n",
    "#train set, fit_transform\n",
    "X_train_scaled = sc1.fit_transform(X_train)\n",
    "X_test_scaled = sc1.transform(X_test)\n",
    "\n",
    "sc2 = MinMaxScaler()\n",
    "y_train_scaled = sc2.fit_transform(y_train)\n",
    "y_test_scaled = sc2.transform(y_test)\n",
    "\n",
    "X_train_scaled.shape, X_test_scaled.shape, y_train_scaled.shape, y_test_scaled.shape"
   ]
  },
  {
   "cell_type": "code",
   "execution_count": 11,
   "id": "civic-bonus",
   "metadata": {},
   "outputs": [
    {
     "data": {
      "text/plain": [
       "((1128, 30, 1), (100, 30, 1))"
      ]
     },
     "execution_count": 11,
     "metadata": {},
     "output_type": "execute_result"
    }
   ],
   "source": [
    "X_train_scaled = X_train_scaled.reshape((len(X_train_scaled), window, 1))\n",
    "X_test_scaled = X_test_scaled.reshape((len(X_test_scaled), window, 1))\n",
    "\n",
    "X_train_scaled.shape, X_test_scaled.shape"
   ]
  },
  {
   "cell_type": "markdown",
   "id": "working-diana",
   "metadata": {},
   "source": [
    "- model 생성 및 fitting"
   ]
  },
  {
   "cell_type": "code",
   "execution_count": 12,
   "id": "continent-consistency",
   "metadata": {},
   "outputs": [
    {
     "name": "stdout",
     "output_type": "stream",
     "text": [
      "Model: \"sequential\"\n",
      "_________________________________________________________________\n",
      "Layer (type)                 Output Shape              Param #   \n",
      "=================================================================\n",
      "lstm (LSTM)                  (None, 30, 64)            16896     \n",
      "_________________________________________________________________\n",
      "lstm_1 (LSTM)                (None, 30, 32)            12416     \n",
      "_________________________________________________________________\n",
      "lstm_2 (LSTM)                (None, 16)                3136      \n",
      "_________________________________________________________________\n",
      "dense (Dense)                (None, 1)                 17        \n",
      "=================================================================\n",
      "Total params: 32,465\n",
      "Trainable params: 32,465\n",
      "Non-trainable params: 0\n",
      "_________________________________________________________________\n"
     ]
    }
   ],
   "source": [
    "model = tf.keras.Sequential()\n",
    "model.add(LSTM(units=64, return_sequences=True, input_shape=(window, 1), dropout=0.2))\n",
    "model.add(LSTM(units=32, return_sequences=True, dropout=0.2))\n",
    "model.add(LSTM(units=16, dropout=0.2))\n",
    "model.add(Dense(units=1))\n",
    "\n",
    "model.summary()"
   ]
  },
  {
   "cell_type": "code",
   "execution_count": 13,
   "id": "generic-stress",
   "metadata": {},
   "outputs": [],
   "source": [
    "model.compile(optimizer='adam', loss='mean_squared_error')"
   ]
  },
  {
   "cell_type": "code",
   "execution_count": 14,
   "id": "taken-grave",
   "metadata": {},
   "outputs": [
    {
     "name": "stdout",
     "output_type": "stream",
     "text": [
      "Epoch 1/30\n",
      "71/71 [==============================] - 6s 25ms/step - loss: 0.0167\n",
      "Epoch 2/30\n",
      "71/71 [==============================] - 2s 25ms/step - loss: 0.0051\n",
      "Epoch 3/30\n",
      "71/71 [==============================] - 2s 25ms/step - loss: 0.0050\n",
      "Epoch 4/30\n",
      "71/71 [==============================] - 2s 25ms/step - loss: 0.0056\n",
      "Epoch 5/30\n",
      "71/71 [==============================] - 2s 25ms/step - loss: 0.0054\n",
      "Epoch 6/30\n",
      "71/71 [==============================] - 2s 25ms/step - loss: 0.0055\n",
      "Epoch 7/30\n",
      "71/71 [==============================] - 2s 25ms/step - loss: 0.0054\n",
      "Epoch 8/30\n",
      "71/71 [==============================] - 2s 25ms/step - loss: 0.0048\n",
      "Epoch 9/30\n",
      "71/71 [==============================] - 2s 25ms/step - loss: 0.0048\n",
      "Epoch 10/30\n",
      "71/71 [==============================] - 2s 25ms/step - loss: 0.0049\n",
      "Epoch 11/30\n",
      "71/71 [==============================] - 2s 26ms/step - loss: 0.0046\n",
      "Epoch 12/30\n",
      "71/71 [==============================] - 2s 25ms/step - loss: 0.0048\n",
      "Epoch 13/30\n",
      "71/71 [==============================] - 2s 26ms/step - loss: 0.0044\n",
      "Epoch 14/30\n",
      "71/71 [==============================] - 2s 25ms/step - loss: 0.0045\n",
      "Epoch 15/30\n",
      "71/71 [==============================] - 2s 26ms/step - loss: 0.0045\n",
      "Epoch 16/30\n",
      "71/71 [==============================] - 2s 27ms/step - loss: 0.0038\n",
      "Epoch 17/30\n",
      "71/71 [==============================] - 2s 26ms/step - loss: 0.0033\n",
      "Epoch 18/30\n",
      "71/71 [==============================] - 2s 28ms/step - loss: 0.0034\n",
      "Epoch 19/30\n",
      "71/71 [==============================] - 2s 25ms/step - loss: 0.0033\n",
      "Epoch 20/30\n",
      "71/71 [==============================] - 2s 26ms/step - loss: 0.0033\n",
      "Epoch 21/30\n",
      "71/71 [==============================] - 2s 25ms/step - loss: 0.0030\n",
      "Epoch 22/30\n",
      "71/71 [==============================] - 2s 26ms/step - loss: 0.0027\n",
      "Epoch 23/30\n",
      "71/71 [==============================] - 2s 27ms/step - loss: 0.0026\n",
      "Epoch 24/30\n",
      "71/71 [==============================] - 2s 25ms/step - loss: 0.0025\n",
      "Epoch 25/30\n",
      "71/71 [==============================] - 2s 25ms/step - loss: 0.0023\n",
      "Epoch 26/30\n",
      "71/71 [==============================] - 2s 25ms/step - loss: 0.0024\n",
      "Epoch 27/30\n",
      "71/71 [==============================] - 2s 25ms/step - loss: 0.0023\n",
      "Epoch 28/30\n",
      "71/71 [==============================] - 2s 28ms/step - loss: 0.0020\n",
      "Epoch 29/30\n",
      "71/71 [==============================] - 2s 25ms/step - loss: 0.0023\n",
      "Epoch 30/30\n",
      "71/71 [==============================] - 2s 25ms/step - loss: 0.0023\n"
     ]
    }
   ],
   "source": [
    "history = model.fit(X_train_scaled, y_train_scaled, epochs=30, batch_size=16)"
   ]
  },
  {
   "cell_type": "code",
   "execution_count": 15,
   "id": "closing-specification",
   "metadata": {},
   "outputs": [
    {
     "data": {
      "image/png": "[encoded data removed]",
      "text/plain": [
       "<Figure size 432x288 with 1 Axes>"
      ]
     },
     "metadata": {},
     "output_type": "display_data"
    }
   ],
   "source": [
    "loss = history.history['loss']\n",
    "epoch_count = range(1, len(loss) + 1)\n",
    "plt.plot(epoch_count, loss, 'r--')\n",
    "plt.legend(['Training Loss'])\n",
    "plt.xlabel('Epoch')\n",
    "plt.ylabel('Loss')\n",
    "plt.show();"
   ]
  },
  {
   "cell_type": "markdown",
   "id": "ranging-incentive",
   "metadata": {},
   "source": [
    "앞으로 100일 동안의 주가 추이를 예측해 보도록 하겠습니다. 우리의 목표는 실제 가격이 아니라 추세를 예측하는 것임을 기억하십시오."
   ]
  },
  {
   "cell_type": "code",
   "execution_count": 16,
   "id": "controlling-desperate",
   "metadata": {},
   "outputs": [
    {
     "data": {
      "image/png": "[encoded data removed]",
      "text/plain": [
       "<Figure size 864x432 with 1 Axes>"
      ]
     },
     "metadata": {},
     "output_type": "display_data"
    }
   ],
   "source": [
    "pred = model.predict(X_test_scaled)\n",
    "\n",
    "plt.figure(figsize=(12,6))\n",
    "plt.plot(np.concatenate((y_train_scaled.flatten(), y_test_scaled.flatten())))\n",
    "plt.plot(np.concatenate((y_train_scaled.flatten(), pred.flatten())))\n",
    "plt.title('Apple Stock Price Prediction')\n",
    "plt.show()"
   ]
  },
  {
   "cell_type": "markdown",
   "id": "accompanied-walker",
   "metadata": {},
   "source": [
    "## 다양한 window_size tuning 을 하여 보다 정확한 예측 시도"
   ]
  },
  {
   "cell_type": "code",
   "execution_count": null,
   "id": "knowing-secretary",
   "metadata": {},
   "outputs": [],
   "source": []
  }
 ],
 "metadata": {
  "kernelspec": {
   "display_name": "Python 3",
   "language": "python",
   "name": "python3"
  },
  "language_info": {
   "codemirror_mode": {
    "name": "ipython",
    "version": 3
   },
   "file_extension": ".py",
   "mimetype": "text/x-python",
   "name": "python",
   "nbconvert_exporter": "python",
   "pygments_lexer": "ipython3",
   "version": "3.7.10"
  }
 },
 "nbformat": 4,
 "nbformat_minor": 5
}
