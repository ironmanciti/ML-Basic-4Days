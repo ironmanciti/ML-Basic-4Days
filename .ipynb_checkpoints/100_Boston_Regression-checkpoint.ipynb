{
 "cells": [
  {
   "cell_type": "markdown",
   "metadata": {
    "colab_type": "text",
    "id": "uMzSmlzgrTPV"
   },
   "source": [
    "# 100. Boston House Price Regression\n",
    "\n",
    "- 보스턴 주택가격 예측\n",
    "\n",
    "### 13 개의 종속변수와 1 개의 독립변수 (주택가격 중앙값) 으로 구성\n",
    "\n",
    "#### 종속변수 (13 개)\n",
    "CRIM 자치시(town) 별 1인당 범죄율  \n",
    "ZN 25,000 평방피트를 초과하는 거주지역의 비율  \n",
    "INDUS 비소매상업지역이 점유하고 있는 토지의 비율  \n",
    "CHAS 찰스강에 대한 더미변수(강의 경계에 위치한 경우는 1, 아니면 0)  \n",
    "NOX 10ppm 당 농축 일산화질소  \n",
    "RM 주택 1가구당 평균 방의 개수  \n",
    "AGE 1940년 이전에 건축된 소유주택의 비율  \n",
    "DIS 5개의 보스턴 직업센터까지의 접근성 지수  \n",
    "RAD 방사형 도로까지의 접근성 지수  \n",
    "TAX 10,000 달러 당 재산세율  \n",
    "PTRATIO 자치시(town)별 학생/교사 비율  \n",
    "B 1000(Bk-0.63)^2, 여기서 Bk는 자치시별 흑인의 비율을 말함  \n",
    "LSTAT 모집단의 하위계층의 비율(%)   \n",
    "\n",
    "#### 독립변수 (1 개)\n",
    "MEDV 본인 소유의 주택가격(중앙값) (단위: $1,000)  "
   ]
  },
  {
   "cell_type": "code",
   "execution_count": 1,
   "metadata": {
    "colab": {},
    "colab_type": "code",
    "id": "phPT7edHrTPW"
   },
   "outputs": [],
   "source": [
    "from sklearn.model_selection import train_test_split\n",
    "from sklearn.preprocessing import MinMaxScaler\n",
    "from sklearn.metrics import mean_squared_error, r2_score\n",
    "\n",
    "from tensorflow.keras.models import Sequential\n",
    "from tensorflow.keras.layers import Dense\n",
    "import pandas as pd\n",
    "import matplotlib.pyplot as plt\n",
    "import tensorflow as tf"
   ]
  },
  {
   "cell_type": "code",
   "execution_count": 2,
   "metadata": {
    "colab": {
     "base_uri": "https://localhost:8080/",
     "height": 198
    },
    "colab_type": "code",
    "id": "CLOt7W58rTPa",
    "outputId": "f632edd1-51ff-47d7-8de6-255fbe874e22"
   },
   "outputs": [],
   "source": [
    "df_boston = pd.read_csv(\"boston_house.csv\", index_col=0)\n",
    "boston = df_boston.drop('MEDV', axis=1)\n",
    "target = df_boston.pop('MEDV')"
   ]
  },
  {
   "cell_type": "code",
   "execution_count": 3,
   "metadata": {
    "colab": {},
    "colab_type": "code",
    "id": "dTar7PMprTPd"
   },
   "outputs": [],
   "source": [
    "X = boston.values\n",
    "y = target.values"
   ]
  },
  {
   "cell_type": "code",
   "execution_count": 4,
   "metadata": {
    "colab": {
     "base_uri": "https://localhost:8080/",
     "height": 35
    },
    "colab_type": "code",
    "id": "tjU7kLnRrTPg",
    "outputId": "4dd6c014-c002-4f6f-ec4f-14016fbd5382"
   },
   "outputs": [
    {
     "data": {
      "text/plain": [
       "array([24. , 21.6, 34.7, 33.4, 36.2, 28.7, 22.9, 27.1, 16.5, 18.9])"
      ]
     },
     "execution_count": 4,
     "metadata": {},
     "output_type": "execute_result"
    }
   ],
   "source": [
    "y[:10]"
   ]
  },
  {
   "cell_type": "code",
   "execution_count": 5,
   "metadata": {
    "colab": {
     "base_uri": "https://localhost:8080/",
     "height": 53
    },
    "colab_type": "code",
    "id": "T6CypJZVrTPj",
    "outputId": "1ac5c40e-8039-470b-fdd6-4811ec19d395"
   },
   "outputs": [
    {
     "name": "stdout",
     "output_type": "stream",
     "text": [
      "(506, 13)\n",
      "(506,)\n"
     ]
    }
   ],
   "source": [
    "print(X.shape)\n",
    "print(y.shape)"
   ]
  },
  {
   "cell_type": "code",
   "execution_count": 7,
   "metadata": {
    "colab": {},
    "colab_type": "code",
    "id": "4cgRCJrBrTPl"
   },
   "outputs": [
    {
     "data": {
      "text/plain": [
       "((379, 13), (127, 13), (379,), (127,))"
      ]
     },
     "execution_count": 7,
     "metadata": {},
     "output_type": "execute_result"
    }
   ],
   "source": [
    "X_train, X_test, y_train, y_test = train_test_split(X, y)\n",
    "X_train.shape, X_test.shape, y_train.shape, y_test.shape"
   ]
  },
  {
   "cell_type": "code",
   "execution_count": 8,
   "metadata": {
    "colab": {},
    "colab_type": "code",
    "id": "cMm9Wk5DrTPo"
   },
   "outputs": [],
   "source": [
    "sc = MinMaxScaler()\n",
    "X_train = sc.fit_transform(X_train)\n",
    "X_test  = sc.transform(X_test)"
   ]
  },
  {
   "cell_type": "markdown",
   "metadata": {
    "colab_type": "text",
    "id": "pLf27y9VrTPr"
   },
   "source": [
    "### model build"
   ]
  },
  {
   "cell_type": "code",
   "execution_count": 9,
   "metadata": {
    "colab": {},
    "colab_type": "code",
    "id": "1GPf5hWlrTPs"
   },
   "outputs": [],
   "source": [
    "model = Sequential()\n",
    "\n",
    "model.add(Dense(64, input_shape=(13,), activation='relu'))\n",
    "model.add(Dense(32, activation='relu'))\n",
    "model.add(Dense(1))"
   ]
  },
  {
   "cell_type": "code",
   "execution_count": 10,
   "metadata": {
    "colab": {},
    "colab_type": "code",
    "id": "g5NRN0k1rTPu"
   },
   "outputs": [],
   "source": [
    "model.compile(loss='mean_squared_error', optimizer='adam', \n",
    "              metrics=['mae', 'mse'])"
   ]
  },
  {
   "cell_type": "code",
   "execution_count": 11,
   "metadata": {},
   "outputs": [
    {
     "name": "stdout",
     "output_type": "stream",
     "text": [
      "Model: \"sequential\"\n",
      "_________________________________________________________________\n",
      " Layer (type)                Output Shape              Param #   \n",
      "=================================================================\n",
      " dense (Dense)               (None, 64)                896       \n",
      "                                                                 \n",
      " dense_1 (Dense)             (None, 32)                2080      \n",
      "                                                                 \n",
      " dense_2 (Dense)             (None, 1)                 33        \n",
      "                                                                 \n",
      "=================================================================\n",
      "Total params: 3009 (11.75 KB)\n",
      "Trainable params: 3009 (11.75 KB)\n",
      "Non-trainable params: 0 (0.00 Byte)\n",
      "_________________________________________________________________\n"
     ]
    }
   ],
   "source": [
    "model.summary()"
   ]
  },
  {
   "cell_type": "markdown",
   "metadata": {
    "colab_type": "text",
    "id": "4nlJzIHwrTPy"
   },
   "source": [
    "- epoch 수와 batchz_size 변경하며 test"
   ]
  },
  {
   "cell_type": "code",
   "execution_count": 12,
   "metadata": {
    "colab": {
     "base_uri": "https://localhost:8080/",
     "height": 1000
    },
    "colab_type": "code",
    "id": "GiBonfIdrTPy",
    "outputId": "809d622a-d39f-481b-c12b-dae8d8226c17",
    "scrolled": true
   },
   "outputs": [
    {
     "name": "stdout",
     "output_type": "stream",
     "text": [
      "Epoch 1/500\n",
      "12/12 [==============================] - 1s 14ms/step - loss: 571.0994 - mae: 22.1172 - mse: 571.0994 - val_loss: 557.8432 - val_mae: 21.5103 - val_mse: 557.8432\n",
      "Epoch 2/500\n",
      "12/12 [==============================] - 0s 4ms/step - loss: 545.6174 - mae: 21.5136 - mse: 545.6174 - val_loss: 528.4251 - val_mae: 20.7954 - val_mse: 528.4251\n",
      "Epoch 3/500\n",
      "12/12 [==============================] - 0s 4ms/step - loss: 511.0599 - mae: 20.6613 - mse: 511.0599 - val_loss: 486.3776 - val_mae: 19.7215 - val_mse: 486.3776\n",
      "Epoch 4/500\n",
      "12/12 [==============================] - 0s 4ms/step - loss: 461.5382 - mae: 19.3507 - mse: 461.5382 - val_loss: 425.5090 - val_mae: 18.0494 - val_mse: 425.5090\n",
      "Epoch 5/500\n",
      "12/12 [==============================] - 0s 4ms/step - loss: 391.1913 - mae: 17.3621 - mse: 391.1913 - val_loss: 344.9681 - val_mae: 15.5403 - val_mse: 344.9681\n",
      "Epoch 6/500\n",
      "12/12 [==============================] - 0s 3ms/step - loss: 305.1437 - mae: 14.6904 - mse: 305.1437 - val_loss: 254.9517 - val_mae: 12.5304 - val_mse: 254.9517\n",
      "Epoch 7/500\n",
      "12/12 [==============================] - 0s 3ms/step - loss: 217.4212 - mae: 11.7993 - mse: 217.4212 - val_loss: 177.9067 - val_mae: 9.9496 - val_mse: 177.9067\n",
      "Epoch 8/500\n",
      "12/12 [==============================] - 0s 3ms/step - loss: 153.5684 - mae: 9.6474 - mse: 153.5684 - val_loss: 135.3539 - val_mae: 8.5567 - val_mse: 135.3539\n",
      "Epoch 9/500\n",
      "12/12 [==============================] - 0s 3ms/step - loss: 124.8019 - mae: 8.6635 - mse: 124.8019 - val_loss: 122.7642 - val_mae: 8.1987 - val_mse: 122.7642\n",
      "Epoch 10/500\n",
      "12/12 [==============================] - 0s 3ms/step - loss: 113.5855 - mae: 8.2699 - mse: 113.5855 - val_loss: 114.3677 - val_mae: 7.8364 - val_mse: 114.3677\n",
      "Epoch 11/500\n",
      "12/12 [==============================] - 0s 4ms/step - loss: 103.7093 - mae: 7.8547 - mse: 103.7093 - val_loss: 105.9276 - val_mae: 7.4014 - val_mse: 105.9276\n",
      "Epoch 12/500\n",
      "12/12 [==============================] - 0s 4ms/step - loss: 94.2535 - mae: 7.4076 - mse: 94.2535 - val_loss: 98.7041 - val_mae: 7.0498 - val_mse: 98.7041\n",
      "Epoch 13/500\n",
      "12/12 [==============================] - 0s 3ms/step - loss: 86.1756 - mae: 7.0193 - mse: 86.1756 - val_loss: 92.3325 - val_mae: 6.7199 - val_mse: 92.3325\n",
      "Epoch 14/500\n",
      "12/12 [==============================] - 0s 3ms/step - loss: 78.9056 - mae: 6.6502 - mse: 78.9056 - val_loss: 86.8911 - val_mae: 6.4824 - val_mse: 86.8911\n",
      "Epoch 15/500\n",
      "12/12 [==============================] - 0s 3ms/step - loss: 72.7673 - mae: 6.3558 - mse: 72.7673 - val_loss: 82.0582 - val_mae: 6.2696 - val_mse: 82.0582\n",
      "Epoch 16/500\n",
      "12/12 [==============================] - 0s 3ms/step - loss: 67.4125 - mae: 6.0933 - mse: 67.4125 - val_loss: 77.8034 - val_mae: 6.1077 - val_mse: 77.8034\n",
      "Epoch 17/500\n",
      "12/12 [==============================] - 0s 3ms/step - loss: 62.5921 - mae: 5.8638 - mse: 62.5921 - val_loss: 74.4159 - val_mae: 5.9132 - val_mse: 74.4159\n",
      "Epoch 18/500\n",
      "12/12 [==============================] - 0s 3ms/step - loss: 58.7187 - mae: 5.6133 - mse: 58.7187 - val_loss: 71.6034 - val_mae: 5.6953 - val_mse: 71.6034\n",
      "Epoch 19/500\n",
      "12/12 [==============================] - 0s 3ms/step - loss: 55.6076 - mae: 5.3863 - mse: 55.6076 - val_loss: 69.3394 - val_mae: 5.5880 - val_mse: 69.3394\n",
      "Epoch 20/500\n",
      "12/12 [==============================] - 0s 4ms/step - loss: 53.3141 - mae: 5.3094 - mse: 53.3141 - val_loss: 67.4460 - val_mae: 5.5842 - val_mse: 67.4460\n",
      "Epoch 21/500\n",
      "12/12 [==============================] - 0s 3ms/step - loss: 51.0956 - mae: 5.1519 - mse: 51.0956 - val_loss: 65.9984 - val_mae: 5.3735 - val_mse: 65.9984\n",
      "Epoch 22/500\n",
      "12/12 [==============================] - 0s 3ms/step - loss: 49.5059 - mae: 5.0587 - mse: 49.5059 - val_loss: 64.5510 - val_mae: 5.3497 - val_mse: 64.5510\n",
      "Epoch 23/500\n",
      "12/12 [==============================] - 0s 3ms/step - loss: 48.1482 - mae: 4.9861 - mse: 48.1482 - val_loss: 63.2055 - val_mae: 5.3053 - val_mse: 63.2055\n",
      "Epoch 24/500\n",
      "12/12 [==============================] - 0s 3ms/step - loss: 47.0417 - mae: 4.9459 - mse: 47.0417 - val_loss: 61.8749 - val_mae: 5.2855 - val_mse: 61.8749\n",
      "Epoch 25/500\n",
      "12/12 [==============================] - 0s 3ms/step - loss: 45.9837 - mae: 4.8362 - mse: 45.9837 - val_loss: 60.7634 - val_mae: 5.1160 - val_mse: 60.7634\n",
      "Epoch 26/500\n",
      "12/12 [==============================] - 0s 3ms/step - loss: 44.5936 - mae: 4.7622 - mse: 44.5936 - val_loss: 59.2100 - val_mae: 5.1265 - val_mse: 59.2100\n",
      "Epoch 27/500\n",
      "12/12 [==============================] - 0s 3ms/step - loss: 43.5675 - mae: 4.7260 - mse: 43.5675 - val_loss: 57.8088 - val_mae: 5.0820 - val_mse: 57.8088\n",
      "Epoch 28/500\n",
      "12/12 [==============================] - 0s 3ms/step - loss: 42.6893 - mae: 4.7097 - mse: 42.6893 - val_loss: 56.2888 - val_mae: 5.0453 - val_mse: 56.2888\n",
      "Epoch 29/500\n",
      "12/12 [==============================] - 0s 3ms/step - loss: 41.3484 - mae: 4.5766 - mse: 41.3484 - val_loss: 55.1588 - val_mae: 4.8546 - val_mse: 55.1588\n",
      "Epoch 30/500\n",
      "12/12 [==============================] - 0s 3ms/step - loss: 40.4494 - mae: 4.5624 - mse: 40.4494 - val_loss: 53.2909 - val_mae: 4.9461 - val_mse: 53.2909\n",
      "Epoch 31/500\n",
      "12/12 [==============================] - 0s 3ms/step - loss: 39.1454 - mae: 4.4891 - mse: 39.1454 - val_loss: 52.0330 - val_mae: 4.7690 - val_mse: 52.0330\n",
      "Epoch 32/500\n",
      "12/12 [==============================] - 0s 3ms/step - loss: 38.2497 - mae: 4.3694 - mse: 38.2497 - val_loss: 50.5307 - val_mae: 4.7109 - val_mse: 50.5307\n",
      "Epoch 33/500\n",
      "12/12 [==============================] - 0s 3ms/step - loss: 37.0712 - mae: 4.3286 - mse: 37.0712 - val_loss: 49.3027 - val_mae: 4.5932 - val_mse: 49.3027\n",
      "Epoch 34/500\n",
      "12/12 [==============================] - 0s 3ms/step - loss: 36.0407 - mae: 4.2877 - mse: 36.0407 - val_loss: 47.5156 - val_mae: 4.6262 - val_mse: 47.5156\n",
      "Epoch 35/500\n",
      "12/12 [==============================] - 0s 3ms/step - loss: 35.1683 - mae: 4.2323 - mse: 35.1683 - val_loss: 46.3652 - val_mae: 4.4484 - val_mse: 46.3652\n",
      "Epoch 36/500\n",
      "12/12 [==============================] - 0s 3ms/step - loss: 33.9848 - mae: 4.1388 - mse: 33.9848 - val_loss: 44.8700 - val_mae: 4.4139 - val_mse: 44.8700\n",
      "Epoch 37/500\n",
      "12/12 [==============================] - 0s 3ms/step - loss: 33.0450 - mae: 4.1044 - mse: 33.0450 - val_loss: 43.6109 - val_mae: 4.3759 - val_mse: 43.6109\n",
      "Epoch 38/500\n",
      "12/12 [==============================] - 0s 3ms/step - loss: 32.1854 - mae: 4.0467 - mse: 32.1854 - val_loss: 42.1625 - val_mae: 4.3073 - val_mse: 42.1625\n",
      "Epoch 39/500\n",
      "12/12 [==============================] - 0s 3ms/step - loss: 31.4158 - mae: 3.9747 - mse: 31.4158 - val_loss: 40.9582 - val_mae: 4.2149 - val_mse: 40.9582\n",
      "Epoch 40/500\n",
      "12/12 [==============================] - 0s 3ms/step - loss: 30.4626 - mae: 3.9597 - mse: 30.4626 - val_loss: 39.4892 - val_mae: 4.1946 - val_mse: 39.4892\n",
      "Epoch 41/500\n",
      "12/12 [==============================] - 0s 3ms/step - loss: 29.5716 - mae: 3.8660 - mse: 29.5716 - val_loss: 38.3293 - val_mae: 4.0932 - val_mse: 38.3293\n",
      "Epoch 42/500\n",
      "12/12 [==============================] - 0s 3ms/step - loss: 28.9699 - mae: 3.7392 - mse: 28.9699 - val_loss: 37.6413 - val_mae: 3.9446 - val_mse: 37.6413\n",
      "Epoch 43/500\n",
      "12/12 [==============================] - 0s 3ms/step - loss: 27.9529 - mae: 3.7140 - mse: 27.9529 - val_loss: 36.1142 - val_mae: 4.0735 - val_mse: 36.1142\n",
      "Epoch 44/500\n",
      "12/12 [==============================] - 0s 3ms/step - loss: 27.5284 - mae: 3.7714 - mse: 27.5284 - val_loss: 34.9434 - val_mae: 3.9703 - val_mse: 34.9434\n",
      "Epoch 45/500\n",
      "12/12 [==============================] - 0s 3ms/step - loss: 26.7071 - mae: 3.6168 - mse: 26.7071 - val_loss: 34.1398 - val_mae: 3.8079 - val_mse: 34.1398\n",
      "Epoch 46/500\n",
      "12/12 [==============================] - 0s 3ms/step - loss: 26.1431 - mae: 3.5485 - mse: 26.1431 - val_loss: 33.1430 - val_mae: 3.8059 - val_mse: 33.1430\n",
      "Epoch 47/500\n",
      "12/12 [==============================] - 0s 4ms/step - loss: 25.6113 - mae: 3.5824 - mse: 25.6113 - val_loss: 32.1758 - val_mae: 3.8572 - val_mse: 32.1758\n",
      "Epoch 48/500\n",
      "12/12 [==============================] - 0s 3ms/step - loss: 25.0628 - mae: 3.4961 - mse: 25.0628 - val_loss: 31.9156 - val_mae: 3.6375 - val_mse: 31.9156\n",
      "Epoch 49/500\n"
     ]
    },
    {
     "name": "stdout",
     "output_type": "stream",
     "text": [
      "12/12 [==============================] - 0s 3ms/step - loss: 24.6099 - mae: 3.4636 - mse: 24.6099 - val_loss: 30.6553 - val_mae: 3.7233 - val_mse: 30.6553\n",
      "Epoch 50/500\n",
      "12/12 [==============================] - 0s 4ms/step - loss: 23.9804 - mae: 3.4225 - mse: 23.9804 - val_loss: 30.2694 - val_mae: 3.5952 - val_mse: 30.2694\n",
      "Epoch 51/500\n",
      "12/12 [==============================] - 0s 3ms/step - loss: 23.6366 - mae: 3.3929 - mse: 23.6366 - val_loss: 29.4744 - val_mae: 3.5903 - val_mse: 29.4744\n",
      "Epoch 52/500\n",
      "12/12 [==============================] - 0s 3ms/step - loss: 23.2298 - mae: 3.3743 - mse: 23.2298 - val_loss: 28.8710 - val_mae: 3.5542 - val_mse: 28.8710\n",
      "Epoch 53/500\n",
      "12/12 [==============================] - 0s 4ms/step - loss: 23.0056 - mae: 3.3279 - mse: 23.0056 - val_loss: 28.2770 - val_mae: 3.5044 - val_mse: 28.2770\n",
      "Epoch 54/500\n",
      "12/12 [==============================] - 0s 3ms/step - loss: 22.5773 - mae: 3.3134 - mse: 22.5773 - val_loss: 27.8519 - val_mae: 3.4470 - val_mse: 27.8519\n",
      "Epoch 55/500\n",
      "12/12 [==============================] - 0s 3ms/step - loss: 22.3241 - mae: 3.2635 - mse: 22.3241 - val_loss: 27.3556 - val_mae: 3.4367 - val_mse: 27.3556\n",
      "Epoch 56/500\n",
      "12/12 [==============================] - 0s 3ms/step - loss: 22.0674 - mae: 3.2837 - mse: 22.0674 - val_loss: 26.8511 - val_mae: 3.4228 - val_mse: 26.8511\n",
      "Epoch 57/500\n",
      "12/12 [==============================] - 0s 3ms/step - loss: 21.7900 - mae: 3.2530 - mse: 21.7900 - val_loss: 26.4362 - val_mae: 3.3815 - val_mse: 26.4362\n",
      "Epoch 58/500\n",
      "12/12 [==============================] - 0s 3ms/step - loss: 21.5872 - mae: 3.2368 - mse: 21.5872 - val_loss: 26.0205 - val_mae: 3.3344 - val_mse: 26.0205\n",
      "Epoch 59/500\n",
      "12/12 [==============================] - 0s 3ms/step - loss: 21.4194 - mae: 3.2021 - mse: 21.4194 - val_loss: 25.6322 - val_mae: 3.3451 - val_mse: 25.6322\n",
      "Epoch 60/500\n",
      "12/12 [==============================] - 0s 3ms/step - loss: 21.2689 - mae: 3.1856 - mse: 21.2689 - val_loss: 25.3928 - val_mae: 3.3080 - val_mse: 25.3928\n",
      "Epoch 61/500\n",
      "12/12 [==============================] - 0s 3ms/step - loss: 21.2578 - mae: 3.2389 - mse: 21.2578 - val_loss: 24.9699 - val_mae: 3.2831 - val_mse: 24.9699\n",
      "Epoch 62/500\n",
      "12/12 [==============================] - 0s 3ms/step - loss: 20.8578 - mae: 3.1242 - mse: 20.8578 - val_loss: 25.2899 - val_mae: 3.2052 - val_mse: 25.2899\n",
      "Epoch 63/500\n",
      "12/12 [==============================] - 0s 3ms/step - loss: 20.7372 - mae: 3.1435 - mse: 20.7372 - val_loss: 24.5186 - val_mae: 3.2680 - val_mse: 24.5186\n",
      "Epoch 64/500\n",
      "12/12 [==============================] - 0s 3ms/step - loss: 20.5744 - mae: 3.1561 - mse: 20.5744 - val_loss: 24.3237 - val_mae: 3.2034 - val_mse: 24.3237\n",
      "Epoch 65/500\n",
      "12/12 [==============================] - 0s 3ms/step - loss: 20.4179 - mae: 3.1044 - mse: 20.4179 - val_loss: 24.0913 - val_mae: 3.1796 - val_mse: 24.0913\n",
      "Epoch 66/500\n",
      "12/12 [==============================] - 0s 3ms/step - loss: 20.4610 - mae: 3.1517 - mse: 20.4610 - val_loss: 23.7705 - val_mae: 3.1762 - val_mse: 23.7705\n",
      "Epoch 67/500\n",
      "12/12 [==============================] - 0s 3ms/step - loss: 20.3892 - mae: 3.0737 - mse: 20.3892 - val_loss: 23.9380 - val_mae: 3.1257 - val_mse: 23.9380\n",
      "Epoch 68/500\n",
      "12/12 [==============================] - 0s 3ms/step - loss: 20.3165 - mae: 3.1258 - mse: 20.3165 - val_loss: 23.3295 - val_mae: 3.2101 - val_mse: 23.3295\n",
      "Epoch 69/500\n",
      "12/12 [==============================] - 0s 3ms/step - loss: 19.8798 - mae: 3.0853 - mse: 19.8798 - val_loss: 23.6795 - val_mae: 3.0765 - val_mse: 23.6795\n",
      "Epoch 70/500\n",
      "12/12 [==============================] - 0s 3ms/step - loss: 19.9268 - mae: 3.0547 - mse: 19.9268 - val_loss: 22.9717 - val_mae: 3.1371 - val_mse: 22.9717\n",
      "Epoch 71/500\n",
      "12/12 [==============================] - 0s 3ms/step - loss: 19.9880 - mae: 3.0707 - mse: 19.9880 - val_loss: 22.8978 - val_mae: 3.1104 - val_mse: 22.8978\n",
      "Epoch 72/500\n",
      "12/12 [==============================] - 0s 3ms/step - loss: 19.6402 - mae: 3.0796 - mse: 19.6402 - val_loss: 22.6899 - val_mae: 3.0874 - val_mse: 22.6899\n",
      "Epoch 73/500\n",
      "12/12 [==============================] - 0s 3ms/step - loss: 19.7355 - mae: 3.0334 - mse: 19.7355 - val_loss: 22.7367 - val_mae: 3.0512 - val_mse: 22.7367\n",
      "Epoch 74/500\n",
      "12/12 [==============================] - 0s 3ms/step - loss: 19.5699 - mae: 3.0934 - mse: 19.5699 - val_loss: 22.3835 - val_mae: 3.1192 - val_mse: 22.3835\n",
      "Epoch 75/500\n",
      "12/12 [==============================] - 0s 3ms/step - loss: 19.3572 - mae: 3.0304 - mse: 19.3572 - val_loss: 22.9246 - val_mae: 2.9898 - val_mse: 22.9246\n",
      "Epoch 76/500\n",
      "12/12 [==============================] - 0s 3ms/step - loss: 19.2530 - mae: 2.9935 - mse: 19.2530 - val_loss: 22.1820 - val_mae: 3.0420 - val_mse: 22.1820\n",
      "Epoch 77/500\n",
      "12/12 [==============================] - 0s 3ms/step - loss: 19.3778 - mae: 3.0759 - mse: 19.3778 - val_loss: 22.1197 - val_mae: 2.9999 - val_mse: 22.1197\n",
      "Epoch 78/500\n",
      "12/12 [==============================] - 0s 3ms/step - loss: 19.0638 - mae: 2.9780 - mse: 19.0638 - val_loss: 22.0095 - val_mae: 2.9765 - val_mse: 22.0095\n",
      "Epoch 79/500\n",
      "12/12 [==============================] - 0s 3ms/step - loss: 19.1117 - mae: 3.0034 - mse: 19.1117 - val_loss: 21.5810 - val_mae: 3.0236 - val_mse: 21.5810\n",
      "Epoch 80/500\n",
      "12/12 [==============================] - 0s 3ms/step - loss: 18.9869 - mae: 2.9934 - mse: 18.9869 - val_loss: 21.8910 - val_mae: 2.9499 - val_mse: 21.8910\n",
      "Epoch 81/500\n",
      "12/12 [==============================] - 0s 3ms/step - loss: 18.8867 - mae: 2.9816 - mse: 18.8867 - val_loss: 21.6349 - val_mae: 2.9797 - val_mse: 21.6349\n",
      "Epoch 82/500\n",
      "12/12 [==============================] - 0s 3ms/step - loss: 18.7710 - mae: 2.9689 - mse: 18.7710 - val_loss: 21.4726 - val_mae: 2.9506 - val_mse: 21.4726\n",
      "Epoch 83/500\n",
      "12/12 [==============================] - 0s 3ms/step - loss: 18.7068 - mae: 2.9570 - mse: 18.7068 - val_loss: 21.4092 - val_mae: 2.9426 - val_mse: 21.4092\n",
      "Epoch 84/500\n",
      "12/12 [==============================] - 0s 3ms/step - loss: 18.6476 - mae: 2.9366 - mse: 18.6476 - val_loss: 21.1397 - val_mae: 2.9413 - val_mse: 21.1397\n",
      "Epoch 85/500\n",
      "12/12 [==============================] - 0s 3ms/step - loss: 18.5941 - mae: 2.9729 - mse: 18.5941 - val_loss: 21.0559 - val_mae: 2.9342 - val_mse: 21.0559\n",
      "Epoch 86/500\n",
      "12/12 [==============================] - 0s 3ms/step - loss: 18.5133 - mae: 2.9355 - mse: 18.5133 - val_loss: 20.9973 - val_mae: 2.9216 - val_mse: 20.9973\n",
      "Epoch 87/500\n",
      "12/12 [==============================] - 0s 3ms/step - loss: 18.4308 - mae: 2.9335 - mse: 18.4308 - val_loss: 20.8908 - val_mae: 2.9081 - val_mse: 20.8908\n",
      "Epoch 88/500\n",
      "12/12 [==============================] - 0s 4ms/step - loss: 18.4168 - mae: 2.9520 - mse: 18.4168 - val_loss: 20.7476 - val_mae: 2.9036 - val_mse: 20.7476\n",
      "Epoch 89/500\n",
      "12/12 [==============================] - 0s 4ms/step - loss: 18.3312 - mae: 2.9203 - mse: 18.3312 - val_loss: 20.9923 - val_mae: 2.8755 - val_mse: 20.9923\n",
      "Epoch 90/500\n",
      "12/12 [==============================] - 0s 3ms/step - loss: 18.3397 - mae: 2.9170 - mse: 18.3397 - val_loss: 20.4901 - val_mae: 2.9242 - val_mse: 20.4901\n",
      "Epoch 91/500\n",
      "12/12 [==============================] - 0s 3ms/step - loss: 18.3237 - mae: 2.9223 - mse: 18.3237 - val_loss: 20.8660 - val_mae: 2.8612 - val_mse: 20.8660\n",
      "Epoch 92/500\n",
      "12/12 [==============================] - 0s 4ms/step - loss: 18.2496 - mae: 2.9488 - mse: 18.2496 - val_loss: 20.4103 - val_mae: 2.8931 - val_mse: 20.4103\n",
      "Epoch 93/500\n",
      "12/12 [==============================] - 0s 4ms/step - loss: 18.1508 - mae: 2.8702 - mse: 18.1508 - val_loss: 20.6720 - val_mae: 2.8515 - val_mse: 20.6720\n",
      "Epoch 94/500\n",
      "12/12 [==============================] - 0s 3ms/step - loss: 18.0842 - mae: 2.9192 - mse: 18.0842 - val_loss: 20.1864 - val_mae: 2.9068 - val_mse: 20.1864\n",
      "Epoch 95/500\n",
      "12/12 [==============================] - 0s 3ms/step - loss: 18.0513 - mae: 2.9001 - mse: 18.0513 - val_loss: 20.5269 - val_mae: 2.8380 - val_mse: 20.5269\n",
      "Epoch 96/500\n",
      "12/12 [==============================] - 0s 3ms/step - loss: 17.9087 - mae: 2.8856 - mse: 17.9087 - val_loss: 20.0147 - val_mae: 2.8963 - val_mse: 20.0147\n",
      "Epoch 97/500\n",
      "12/12 [==============================] - 0s 3ms/step - loss: 17.8840 - mae: 2.8860 - mse: 17.8840 - val_loss: 20.1822 - val_mae: 2.8325 - val_mse: 20.1822\n"
     ]
    },
    {
     "name": "stdout",
     "output_type": "stream",
     "text": [
      "Epoch 98/500\n",
      "12/12 [==============================] - 0s 3ms/step - loss: 17.7960 - mae: 2.8656 - mse: 17.7960 - val_loss: 20.0737 - val_mae: 2.8549 - val_mse: 20.0737\n",
      "Epoch 99/500\n",
      "12/12 [==============================] - 0s 3ms/step - loss: 17.7976 - mae: 2.8625 - mse: 17.7976 - val_loss: 20.0496 - val_mae: 2.8210 - val_mse: 20.0496\n",
      "Epoch 100/500\n",
      "12/12 [==============================] - 0s 3ms/step - loss: 17.6609 - mae: 2.8905 - mse: 17.6609 - val_loss: 19.7553 - val_mae: 2.8385 - val_mse: 19.7553\n",
      "Epoch 101/500\n",
      "12/12 [==============================] - 0s 3ms/step - loss: 17.6258 - mae: 2.8389 - mse: 17.6258 - val_loss: 20.1400 - val_mae: 2.7985 - val_mse: 20.1400\n",
      "Epoch 102/500\n",
      "12/12 [==============================] - 0s 3ms/step - loss: 18.2920 - mae: 2.9756 - mse: 18.2920 - val_loss: 19.4408 - val_mae: 2.8344 - val_mse: 19.4408\n",
      "Epoch 103/500\n",
      "12/12 [==============================] - 0s 3ms/step - loss: 17.5375 - mae: 2.7999 - mse: 17.5375 - val_loss: 20.3005 - val_mae: 2.7933 - val_mse: 20.3005\n",
      "Epoch 104/500\n",
      "12/12 [==============================] - 0s 3ms/step - loss: 17.9284 - mae: 2.9047 - mse: 17.9284 - val_loss: 19.4135 - val_mae: 2.8152 - val_mse: 19.4135\n",
      "Epoch 105/500\n",
      "12/12 [==============================] - 0s 3ms/step - loss: 17.3802 - mae: 2.8080 - mse: 17.3802 - val_loss: 19.8561 - val_mae: 2.7777 - val_mse: 19.8561\n",
      "Epoch 106/500\n",
      "12/12 [==============================] - 0s 3ms/step - loss: 17.3708 - mae: 2.8316 - mse: 17.3708 - val_loss: 19.6210 - val_mae: 2.7776 - val_mse: 19.6210\n",
      "Epoch 107/500\n",
      "12/12 [==============================] - 0s 3ms/step - loss: 17.2576 - mae: 2.8438 - mse: 17.2576 - val_loss: 19.1781 - val_mae: 2.8125 - val_mse: 19.1781\n",
      "Epoch 108/500\n",
      "12/12 [==============================] - 0s 3ms/step - loss: 17.1586 - mae: 2.8148 - mse: 17.1586 - val_loss: 19.6764 - val_mae: 2.7578 - val_mse: 19.6764\n",
      "Epoch 109/500\n",
      "12/12 [==============================] - 0s 3ms/step - loss: 17.2034 - mae: 2.8202 - mse: 17.2034 - val_loss: 19.1645 - val_mae: 2.7763 - val_mse: 19.1645\n",
      "Epoch 110/500\n",
      "12/12 [==============================] - 0s 3ms/step - loss: 17.0686 - mae: 2.8048 - mse: 17.0686 - val_loss: 19.1916 - val_mae: 2.7652 - val_mse: 19.1916\n",
      "Epoch 111/500\n",
      "12/12 [==============================] - 0s 3ms/step - loss: 16.9842 - mae: 2.7998 - mse: 16.9842 - val_loss: 19.1064 - val_mae: 2.7419 - val_mse: 19.1064\n",
      "Epoch 112/500\n",
      "12/12 [==============================] - 0s 3ms/step - loss: 17.0748 - mae: 2.8227 - mse: 17.0748 - val_loss: 18.9810 - val_mae: 2.7457 - val_mse: 18.9810\n",
      "Epoch 113/500\n",
      "12/12 [==============================] - 0s 3ms/step - loss: 17.0678 - mae: 2.7752 - mse: 17.0678 - val_loss: 19.0045 - val_mae: 2.7421 - val_mse: 19.0045\n",
      "Epoch 114/500\n",
      "12/12 [==============================] - 0s 3ms/step - loss: 17.1148 - mae: 2.8683 - mse: 17.1148 - val_loss: 18.8067 - val_mae: 2.7583 - val_mse: 18.8067\n",
      "Epoch 115/500\n",
      "12/12 [==============================] - 0s 3ms/step - loss: 16.8438 - mae: 2.7526 - mse: 16.8438 - val_loss: 19.0465 - val_mae: 2.7202 - val_mse: 19.0465\n",
      "Epoch 116/500\n",
      "12/12 [==============================] - 0s 3ms/step - loss: 16.7524 - mae: 2.7539 - mse: 16.7524 - val_loss: 18.5981 - val_mae: 2.7589 - val_mse: 18.5981\n",
      "Epoch 117/500\n",
      "12/12 [==============================] - 0s 3ms/step - loss: 17.0158 - mae: 2.8852 - mse: 17.0158 - val_loss: 19.0044 - val_mae: 2.7069 - val_mse: 19.0044\n",
      "Epoch 118/500\n",
      "12/12 [==============================] - 0s 3ms/step - loss: 17.0326 - mae: 2.7442 - mse: 17.0326 - val_loss: 18.6401 - val_mae: 2.7207 - val_mse: 18.6401\n",
      "Epoch 119/500\n",
      "12/12 [==============================] - 0s 3ms/step - loss: 16.5707 - mae: 2.7991 - mse: 16.5707 - val_loss: 18.4258 - val_mae: 2.7544 - val_mse: 18.4258\n",
      "Epoch 120/500\n",
      "12/12 [==============================] - 0s 3ms/step - loss: 16.5131 - mae: 2.7560 - mse: 16.5131 - val_loss: 18.5547 - val_mae: 2.6981 - val_mse: 18.5547\n",
      "Epoch 121/500\n",
      "12/12 [==============================] - 0s 4ms/step - loss: 16.5337 - mae: 2.7437 - mse: 16.5337 - val_loss: 18.1800 - val_mae: 2.7315 - val_mse: 18.1800\n",
      "Epoch 122/500\n",
      "12/12 [==============================] - 0s 3ms/step - loss: 16.4223 - mae: 2.7760 - mse: 16.4223 - val_loss: 18.2070 - val_mae: 2.6959 - val_mse: 18.2070\n",
      "Epoch 123/500\n",
      "12/12 [==============================] - 0s 3ms/step - loss: 16.4996 - mae: 2.7311 - mse: 16.4996 - val_loss: 18.2668 - val_mae: 2.6916 - val_mse: 18.2668\n",
      "Epoch 124/500\n",
      "12/12 [==============================] - 0s 3ms/step - loss: 16.3449 - mae: 2.7773 - mse: 16.3449 - val_loss: 18.1442 - val_mae: 2.6880 - val_mse: 18.1442\n",
      "Epoch 125/500\n",
      "12/12 [==============================] - 0s 3ms/step - loss: 16.2955 - mae: 2.7123 - mse: 16.2955 - val_loss: 18.1204 - val_mae: 2.6808 - val_mse: 18.1204\n",
      "Epoch 126/500\n",
      "12/12 [==============================] - 0s 3ms/step - loss: 16.6156 - mae: 2.8122 - mse: 16.6156 - val_loss: 18.1863 - val_mae: 2.6689 - val_mse: 18.1863\n",
      "Epoch 127/500\n",
      "12/12 [==============================] - 0s 3ms/step - loss: 16.4408 - mae: 2.6843 - mse: 16.4408 - val_loss: 18.5120 - val_mae: 2.6688 - val_mse: 18.5120\n",
      "Epoch 128/500\n",
      "12/12 [==============================] - 0s 3ms/step - loss: 16.4847 - mae: 2.8145 - mse: 16.4847 - val_loss: 17.7935 - val_mae: 2.6913 - val_mse: 17.7935\n",
      "Epoch 129/500\n",
      "12/12 [==============================] - 0s 3ms/step - loss: 16.3406 - mae: 2.7084 - mse: 16.3406 - val_loss: 17.9160 - val_mae: 2.6663 - val_mse: 17.9160\n",
      "Epoch 130/500\n",
      "12/12 [==============================] - 0s 4ms/step - loss: 16.2764 - mae: 2.8052 - mse: 16.2764 - val_loss: 17.6032 - val_mae: 2.6737 - val_mse: 17.6032\n",
      "Epoch 131/500\n",
      "12/12 [==============================] - 0s 3ms/step - loss: 16.4069 - mae: 2.6793 - mse: 16.4069 - val_loss: 18.0529 - val_mae: 2.6450 - val_mse: 18.0529\n",
      "Epoch 132/500\n",
      "12/12 [==============================] - 0s 3ms/step - loss: 16.3233 - mae: 2.8486 - mse: 16.3233 - val_loss: 17.4879 - val_mae: 2.7049 - val_mse: 17.4879\n",
      "Epoch 133/500\n",
      "12/12 [==============================] - 0s 3ms/step - loss: 15.8597 - mae: 2.6733 - mse: 15.8597 - val_loss: 18.1131 - val_mae: 2.6432 - val_mse: 18.1131\n",
      "Epoch 134/500\n",
      "12/12 [==============================] - 0s 3ms/step - loss: 15.9652 - mae: 2.7064 - mse: 15.9652 - val_loss: 17.2786 - val_mae: 2.6493 - val_mse: 17.2786\n",
      "Epoch 135/500\n",
      "12/12 [==============================] - 0s 3ms/step - loss: 15.9746 - mae: 2.6977 - mse: 15.9746 - val_loss: 17.2922 - val_mae: 2.6646 - val_mse: 17.2922\n",
      "Epoch 136/500\n",
      "12/12 [==============================] - 0s 3ms/step - loss: 15.7632 - mae: 2.7236 - mse: 15.7632 - val_loss: 17.2388 - val_mae: 2.6528 - val_mse: 17.2388\n",
      "Epoch 137/500\n",
      "12/12 [==============================] - 0s 4ms/step - loss: 15.7141 - mae: 2.7091 - mse: 15.7141 - val_loss: 17.3463 - val_mae: 2.6181 - val_mse: 17.3463\n",
      "Epoch 138/500\n",
      "12/12 [==============================] - 0s 3ms/step - loss: 15.6479 - mae: 2.6481 - mse: 15.6479 - val_loss: 17.1921 - val_mae: 2.6244 - val_mse: 17.1921\n",
      "Epoch 139/500\n",
      "12/12 [==============================] - 0s 4ms/step - loss: 15.8230 - mae: 2.7716 - mse: 15.8230 - val_loss: 16.9924 - val_mae: 2.6238 - val_mse: 16.9924\n",
      "Epoch 140/500\n",
      "12/12 [==============================] - 0s 3ms/step - loss: 15.9248 - mae: 2.6503 - mse: 15.9248 - val_loss: 17.0053 - val_mae: 2.6106 - val_mse: 17.0053\n",
      "Epoch 141/500\n",
      "12/12 [==============================] - 0s 3ms/step - loss: 15.4741 - mae: 2.6679 - mse: 15.4741 - val_loss: 17.1131 - val_mae: 2.6127 - val_mse: 17.1131\n",
      "Epoch 142/500\n",
      "12/12 [==============================] - 0s 3ms/step - loss: 15.6875 - mae: 2.7432 - mse: 15.6875 - val_loss: 17.2525 - val_mae: 2.5908 - val_mse: 17.2525\n",
      "Epoch 143/500\n",
      "12/12 [==============================] - 0s 3ms/step - loss: 15.5551 - mae: 2.6246 - mse: 15.5551 - val_loss: 17.1967 - val_mae: 2.5922 - val_mse: 17.1967\n",
      "Epoch 144/500\n",
      "12/12 [==============================] - 0s 3ms/step - loss: 15.3191 - mae: 2.6673 - mse: 15.3191 - val_loss: 16.6266 - val_mae: 2.6295 - val_mse: 16.6266\n",
      "Epoch 145/500\n",
      "12/12 [==============================] - 0s 3ms/step - loss: 15.3918 - mae: 2.6815 - mse: 15.3918 - val_loss: 17.1995 - val_mae: 2.5775 - val_mse: 17.1995\n",
      "Epoch 146/500\n"
     ]
    },
    {
     "name": "stdout",
     "output_type": "stream",
     "text": [
      "12/12 [==============================] - 0s 3ms/step - loss: 15.4665 - mae: 2.6408 - mse: 15.4665 - val_loss: 16.6052 - val_mae: 2.6387 - val_mse: 16.6052\n",
      "Epoch 147/500\n",
      "12/12 [==============================] - 0s 3ms/step - loss: 15.3393 - mae: 2.7146 - mse: 15.3393 - val_loss: 16.7499 - val_mae: 2.5717 - val_mse: 16.7499\n",
      "Epoch 148/500\n",
      "12/12 [==============================] - 0s 3ms/step - loss: 15.7391 - mae: 2.6319 - mse: 15.7391 - val_loss: 16.7246 - val_mae: 2.5887 - val_mse: 16.7246\n",
      "Epoch 149/500\n",
      "12/12 [==============================] - 0s 3ms/step - loss: 15.3235 - mae: 2.7433 - mse: 15.3235 - val_loss: 16.3310 - val_mae: 2.6075 - val_mse: 16.3310\n",
      "Epoch 150/500\n",
      "12/12 [==============================] - 0s 3ms/step - loss: 15.1897 - mae: 2.6168 - mse: 15.1897 - val_loss: 16.5309 - val_mae: 2.5538 - val_mse: 16.5309\n",
      "Epoch 151/500\n",
      "12/12 [==============================] - 0s 3ms/step - loss: 15.2868 - mae: 2.6138 - mse: 15.2868 - val_loss: 16.6468 - val_mae: 2.5574 - val_mse: 16.6468\n",
      "Epoch 152/500\n",
      "12/12 [==============================] - 0s 3ms/step - loss: 15.2307 - mae: 2.7305 - mse: 15.2307 - val_loss: 16.1460 - val_mae: 2.5899 - val_mse: 16.1460\n",
      "Epoch 153/500\n",
      "12/12 [==============================] - 0s 3ms/step - loss: 15.1139 - mae: 2.5961 - mse: 15.1139 - val_loss: 16.5001 - val_mae: 2.5465 - val_mse: 16.5001\n",
      "Epoch 154/500\n",
      "12/12 [==============================] - 0s 3ms/step - loss: 14.9769 - mae: 2.6309 - mse: 14.9769 - val_loss: 16.0305 - val_mae: 2.5923 - val_mse: 16.0305\n",
      "Epoch 155/500\n",
      "12/12 [==============================] - 0s 3ms/step - loss: 14.9766 - mae: 2.6541 - mse: 14.9766 - val_loss: 16.8424 - val_mae: 2.5336 - val_mse: 16.8424\n",
      "Epoch 156/500\n",
      "12/12 [==============================] - 0s 3ms/step - loss: 15.1327 - mae: 2.5811 - mse: 15.1327 - val_loss: 16.1902 - val_mae: 2.5950 - val_mse: 16.1902\n",
      "Epoch 157/500\n",
      "12/12 [==============================] - 0s 3ms/step - loss: 15.1693 - mae: 2.7042 - mse: 15.1693 - val_loss: 16.2868 - val_mae: 2.5402 - val_mse: 16.2868\n",
      "Epoch 158/500\n",
      "12/12 [==============================] - 0s 3ms/step - loss: 15.1040 - mae: 2.6006 - mse: 15.1040 - val_loss: 15.7754 - val_mae: 2.5831 - val_mse: 15.7754\n",
      "Epoch 159/500\n",
      "12/12 [==============================] - 0s 3ms/step - loss: 15.0323 - mae: 2.6848 - mse: 15.0323 - val_loss: 15.9976 - val_mae: 2.5225 - val_mse: 15.9976\n",
      "Epoch 160/500\n",
      "12/12 [==============================] - 0s 3ms/step - loss: 14.6946 - mae: 2.5857 - mse: 14.6946 - val_loss: 15.8408 - val_mae: 2.5429 - val_mse: 15.8408\n",
      "Epoch 161/500\n",
      "12/12 [==============================] - 0s 3ms/step - loss: 14.6708 - mae: 2.6123 - mse: 14.6708 - val_loss: 16.1755 - val_mae: 2.5100 - val_mse: 16.1755\n",
      "Epoch 162/500\n",
      "12/12 [==============================] - 0s 3ms/step - loss: 14.6547 - mae: 2.5847 - mse: 14.6547 - val_loss: 15.7352 - val_mae: 2.5390 - val_mse: 15.7352\n",
      "Epoch 163/500\n",
      "12/12 [==============================] - 0s 3ms/step - loss: 14.5917 - mae: 2.6109 - mse: 14.5917 - val_loss: 15.9296 - val_mae: 2.5055 - val_mse: 15.9296\n",
      "Epoch 164/500\n",
      "12/12 [==============================] - 0s 3ms/step - loss: 14.7244 - mae: 2.5841 - mse: 14.7244 - val_loss: 15.7829 - val_mae: 2.5223 - val_mse: 15.7829\n",
      "Epoch 165/500\n",
      "12/12 [==============================] - 0s 3ms/step - loss: 14.5115 - mae: 2.5547 - mse: 14.5115 - val_loss: 15.7759 - val_mae: 2.5010 - val_mse: 15.7759\n",
      "Epoch 166/500\n",
      "12/12 [==============================] - 0s 4ms/step - loss: 14.5280 - mae: 2.6167 - mse: 14.5280 - val_loss: 15.5111 - val_mae: 2.5116 - val_mse: 15.5111\n",
      "Epoch 167/500\n",
      "12/12 [==============================] - 0s 3ms/step - loss: 14.4695 - mae: 2.5537 - mse: 14.4695 - val_loss: 15.5887 - val_mae: 2.5143 - val_mse: 15.5887\n",
      "Epoch 168/500\n",
      "12/12 [==============================] - 0s 3ms/step - loss: 14.4425 - mae: 2.5608 - mse: 14.4425 - val_loss: 15.4432 - val_mae: 2.4955 - val_mse: 15.4432\n",
      "Epoch 169/500\n",
      "12/12 [==============================] - 0s 4ms/step - loss: 14.4903 - mae: 2.6303 - mse: 14.4903 - val_loss: 15.2773 - val_mae: 2.4926 - val_mse: 15.2773\n",
      "Epoch 170/500\n",
      "12/12 [==============================] - 0s 3ms/step - loss: 15.0563 - mae: 2.5979 - mse: 15.0563 - val_loss: 15.7522 - val_mae: 2.4966 - val_mse: 15.7522\n",
      "Epoch 171/500\n",
      "12/12 [==============================] - 0s 3ms/step - loss: 14.9784 - mae: 2.7014 - mse: 14.9784 - val_loss: 15.3938 - val_mae: 2.4881 - val_mse: 15.3938\n",
      "Epoch 172/500\n",
      "12/12 [==============================] - 0s 3ms/step - loss: 14.6810 - mae: 2.5682 - mse: 14.6810 - val_loss: 15.0758 - val_mae: 2.5195 - val_mse: 15.0758\n",
      "Epoch 173/500\n",
      "12/12 [==============================] - 0s 3ms/step - loss: 14.2538 - mae: 2.5849 - mse: 14.2538 - val_loss: 15.2749 - val_mae: 2.4759 - val_mse: 15.2749\n",
      "Epoch 174/500\n",
      "12/12 [==============================] - 0s 3ms/step - loss: 14.3082 - mae: 2.5294 - mse: 14.3082 - val_loss: 15.2422 - val_mae: 2.4966 - val_mse: 15.2422\n",
      "Epoch 175/500\n",
      "12/12 [==============================] - 0s 3ms/step - loss: 14.2128 - mae: 2.5969 - mse: 14.2128 - val_loss: 15.4729 - val_mae: 2.4652 - val_mse: 15.4729\n",
      "Epoch 176/500\n",
      "12/12 [==============================] - 0s 3ms/step - loss: 14.1396 - mae: 2.5132 - mse: 14.1396 - val_loss: 14.8954 - val_mae: 2.4731 - val_mse: 14.8954\n",
      "Epoch 177/500\n",
      "12/12 [==============================] - 0s 3ms/step - loss: 14.0588 - mae: 2.5463 - mse: 14.0588 - val_loss: 14.9811 - val_mae: 2.4538 - val_mse: 14.9811\n",
      "Epoch 178/500\n",
      "12/12 [==============================] - 0s 3ms/step - loss: 14.0056 - mae: 2.5318 - mse: 14.0056 - val_loss: 15.1791 - val_mae: 2.4474 - val_mse: 15.1791\n",
      "Epoch 179/500\n",
      "12/12 [==============================] - 0s 3ms/step - loss: 14.0233 - mae: 2.5474 - mse: 14.0233 - val_loss: 14.7625 - val_mae: 2.4588 - val_mse: 14.7625\n",
      "Epoch 180/500\n",
      "12/12 [==============================] - 0s 3ms/step - loss: 14.1236 - mae: 2.5014 - mse: 14.1236 - val_loss: 15.0176 - val_mae: 2.4741 - val_mse: 15.0176\n",
      "Epoch 181/500\n",
      "12/12 [==============================] - 0s 3ms/step - loss: 14.0849 - mae: 2.5646 - mse: 14.0849 - val_loss: 14.9903 - val_mae: 2.4432 - val_mse: 14.9903\n",
      "Epoch 182/500\n",
      "12/12 [==============================] - 0s 3ms/step - loss: 14.0466 - mae: 2.5410 - mse: 14.0466 - val_loss: 15.2945 - val_mae: 2.4315 - val_mse: 15.2945\n",
      "Epoch 183/500\n",
      "12/12 [==============================] - 0s 3ms/step - loss: 14.0289 - mae: 2.5641 - mse: 14.0289 - val_loss: 14.5174 - val_mae: 2.4349 - val_mse: 14.5174\n",
      "Epoch 184/500\n",
      "12/12 [==============================] - 0s 3ms/step - loss: 13.8852 - mae: 2.4957 - mse: 13.8852 - val_loss: 14.6809 - val_mae: 2.4226 - val_mse: 14.6809\n",
      "Epoch 185/500\n",
      "12/12 [==============================] - 0s 3ms/step - loss: 13.7882 - mae: 2.5347 - mse: 13.7882 - val_loss: 14.6756 - val_mae: 2.4388 - val_mse: 14.6756\n",
      "Epoch 186/500\n",
      "12/12 [==============================] - 0s 3ms/step - loss: 13.7327 - mae: 2.4972 - mse: 13.7327 - val_loss: 14.5320 - val_mae: 2.4294 - val_mse: 14.5320\n",
      "Epoch 187/500\n",
      "12/12 [==============================] - 0s 3ms/step - loss: 13.8024 - mae: 2.4989 - mse: 13.8024 - val_loss: 14.4540 - val_mae: 2.4535 - val_mse: 14.4540\n",
      "Epoch 188/500\n",
      "12/12 [==============================] - 0s 4ms/step - loss: 13.7693 - mae: 2.5818 - mse: 13.7693 - val_loss: 14.3884 - val_mae: 2.4191 - val_mse: 14.3884\n",
      "Epoch 189/500\n",
      "12/12 [==============================] - 0s 3ms/step - loss: 13.5678 - mae: 2.4786 - mse: 13.5678 - val_loss: 14.5938 - val_mae: 2.4000 - val_mse: 14.5938\n",
      "Epoch 190/500\n",
      "12/12 [==============================] - 0s 3ms/step - loss: 13.5990 - mae: 2.4956 - mse: 13.5990 - val_loss: 14.5076 - val_mae: 2.4046 - val_mse: 14.5076\n",
      "Epoch 191/500\n",
      "12/12 [==============================] - 0s 3ms/step - loss: 13.5518 - mae: 2.4823 - mse: 13.5518 - val_loss: 14.4529 - val_mae: 2.4412 - val_mse: 14.4529\n",
      "Epoch 192/500\n",
      "12/12 [==============================] - 0s 3ms/step - loss: 13.7655 - mae: 2.5620 - mse: 13.7655 - val_loss: 14.5736 - val_mae: 2.4001 - val_mse: 14.5736\n",
      "Epoch 193/500\n",
      "12/12 [==============================] - 0s 3ms/step - loss: 13.6269 - mae: 2.4673 - mse: 13.6269 - val_loss: 14.2316 - val_mae: 2.4057 - val_mse: 14.2316\n",
      "Epoch 194/500\n"
     ]
    },
    {
     "name": "stdout",
     "output_type": "stream",
     "text": [
      "12/12 [==============================] - 0s 3ms/step - loss: 13.4022 - mae: 2.5020 - mse: 13.4022 - val_loss: 14.3128 - val_mae: 2.3934 - val_mse: 14.3128\n",
      "Epoch 195/500\n",
      "12/12 [==============================] - 0s 3ms/step - loss: 13.3463 - mae: 2.4853 - mse: 13.3463 - val_loss: 14.4043 - val_mae: 2.3906 - val_mse: 14.4043\n",
      "Epoch 196/500\n",
      "12/12 [==============================] - 0s 3ms/step - loss: 13.3774 - mae: 2.4558 - mse: 13.3774 - val_loss: 13.8421 - val_mae: 2.4237 - val_mse: 13.8421\n",
      "Epoch 197/500\n",
      "12/12 [==============================] - 0s 3ms/step - loss: 13.5959 - mae: 2.5610 - mse: 13.5959 - val_loss: 14.3831 - val_mae: 2.3804 - val_mse: 14.3831\n",
      "Epoch 198/500\n",
      "12/12 [==============================] - 0s 3ms/step - loss: 13.5961 - mae: 2.4817 - mse: 13.5961 - val_loss: 13.8061 - val_mae: 2.3992 - val_mse: 13.8061\n",
      "Epoch 199/500\n",
      "12/12 [==============================] - 0s 3ms/step - loss: 13.2469 - mae: 2.4892 - mse: 13.2469 - val_loss: 14.2857 - val_mae: 2.3839 - val_mse: 14.2857\n",
      "Epoch 200/500\n",
      "12/12 [==============================] - 0s 3ms/step - loss: 13.2006 - mae: 2.4420 - mse: 13.2006 - val_loss: 13.9913 - val_mae: 2.3752 - val_mse: 13.9913\n",
      "Epoch 201/500\n",
      "12/12 [==============================] - 0s 3ms/step - loss: 13.2701 - mae: 2.4524 - mse: 13.2701 - val_loss: 14.0920 - val_mae: 2.4110 - val_mse: 14.0920\n",
      "Epoch 202/500\n",
      "12/12 [==============================] - 0s 3ms/step - loss: 13.1690 - mae: 2.5037 - mse: 13.1690 - val_loss: 13.8516 - val_mae: 2.3716 - val_mse: 13.8516\n",
      "Epoch 203/500\n",
      "12/12 [==============================] - 0s 3ms/step - loss: 13.2670 - mae: 2.4589 - mse: 13.2670 - val_loss: 13.7301 - val_mae: 2.3911 - val_mse: 13.7301\n",
      "Epoch 204/500\n",
      "12/12 [==============================] - 0s 3ms/step - loss: 13.0680 - mae: 2.4401 - mse: 13.0680 - val_loss: 14.1358 - val_mae: 2.3833 - val_mse: 14.1358\n",
      "Epoch 205/500\n",
      "12/12 [==============================] - 0s 4ms/step - loss: 13.3686 - mae: 2.5394 - mse: 13.3686 - val_loss: 13.8436 - val_mae: 2.3623 - val_mse: 13.8436\n",
      "Epoch 206/500\n",
      "12/12 [==============================] - 0s 3ms/step - loss: 13.3663 - mae: 2.4379 - mse: 13.3663 - val_loss: 13.8546 - val_mae: 2.3975 - val_mse: 13.8546\n",
      "Epoch 207/500\n",
      "12/12 [==============================] - 0s 3ms/step - loss: 13.0211 - mae: 2.4959 - mse: 13.0211 - val_loss: 13.6645 - val_mae: 2.3846 - val_mse: 13.6645\n",
      "Epoch 208/500\n",
      "12/12 [==============================] - 0s 3ms/step - loss: 12.9783 - mae: 2.4490 - mse: 12.9783 - val_loss: 13.6009 - val_mae: 2.3720 - val_mse: 13.6009\n",
      "Epoch 209/500\n",
      "12/12 [==============================] - 0s 3ms/step - loss: 12.8428 - mae: 2.4258 - mse: 12.8428 - val_loss: 13.8543 - val_mae: 2.3575 - val_mse: 13.8543\n",
      "Epoch 210/500\n",
      "12/12 [==============================] - 0s 3ms/step - loss: 12.8859 - mae: 2.4161 - mse: 12.8859 - val_loss: 13.6666 - val_mae: 2.3866 - val_mse: 13.6666\n",
      "Epoch 211/500\n",
      "12/12 [==============================] - 0s 3ms/step - loss: 12.8634 - mae: 2.4878 - mse: 12.8634 - val_loss: 13.6271 - val_mae: 2.3718 - val_mse: 13.6271\n",
      "Epoch 212/500\n",
      "12/12 [==============================] - 0s 3ms/step - loss: 12.7439 - mae: 2.4130 - mse: 12.7439 - val_loss: 13.7887 - val_mae: 2.3488 - val_mse: 13.7887\n",
      "Epoch 213/500\n",
      "12/12 [==============================] - 0s 3ms/step - loss: 13.0430 - mae: 2.4882 - mse: 13.0430 - val_loss: 13.7308 - val_mae: 2.3475 - val_mse: 13.7308\n",
      "Epoch 214/500\n",
      "12/12 [==============================] - 0s 3ms/step - loss: 12.8518 - mae: 2.4163 - mse: 12.8518 - val_loss: 13.3815 - val_mae: 2.3573 - val_mse: 13.3815\n",
      "Epoch 215/500\n",
      "12/12 [==============================] - 0s 3ms/step - loss: 12.6564 - mae: 2.4327 - mse: 12.6564 - val_loss: 13.2602 - val_mae: 2.3327 - val_mse: 13.2602\n",
      "Epoch 216/500\n",
      "12/12 [==============================] - 0s 3ms/step - loss: 12.8351 - mae: 2.4568 - mse: 12.8351 - val_loss: 13.1093 - val_mae: 2.3391 - val_mse: 13.1093\n",
      "Epoch 217/500\n",
      "12/12 [==============================] - 0s 4ms/step - loss: 12.6224 - mae: 2.3996 - mse: 12.6224 - val_loss: 13.5379 - val_mae: 2.3415 - val_mse: 13.5379\n",
      "Epoch 218/500\n",
      "12/12 [==============================] - 0s 4ms/step - loss: 12.6795 - mae: 2.4306 - mse: 12.6795 - val_loss: 13.2171 - val_mae: 2.3435 - val_mse: 13.2171\n",
      "Epoch 219/500\n",
      "12/12 [==============================] - 0s 3ms/step - loss: 12.4144 - mae: 2.3962 - mse: 12.4144 - val_loss: 13.2251 - val_mae: 2.3437 - val_mse: 13.2251\n",
      "Epoch 220/500\n",
      "12/12 [==============================] - 0s 3ms/step - loss: 12.5276 - mae: 2.4511 - mse: 12.5276 - val_loss: 13.3828 - val_mae: 2.3220 - val_mse: 13.3828\n",
      "Epoch 221/500\n",
      "12/12 [==============================] - 0s 3ms/step - loss: 12.5636 - mae: 2.4088 - mse: 12.5636 - val_loss: 13.1362 - val_mae: 2.3257 - val_mse: 13.1362\n",
      "Epoch 222/500\n",
      "12/12 [==============================] - 0s 3ms/step - loss: 12.4654 - mae: 2.3836 - mse: 12.4654 - val_loss: 13.2232 - val_mae: 2.3714 - val_mse: 13.2232\n",
      "Epoch 223/500\n",
      "12/12 [==============================] - 0s 3ms/step - loss: 12.4517 - mae: 2.4766 - mse: 12.4517 - val_loss: 13.2795 - val_mae: 2.3279 - val_mse: 13.2795\n",
      "Epoch 224/500\n",
      "12/12 [==============================] - 0s 3ms/step - loss: 12.5637 - mae: 2.3810 - mse: 12.5637 - val_loss: 13.0161 - val_mae: 2.3539 - val_mse: 13.0161\n",
      "Epoch 225/500\n",
      "12/12 [==============================] - 0s 3ms/step - loss: 12.4641 - mae: 2.4226 - mse: 12.4641 - val_loss: 13.5296 - val_mae: 2.3275 - val_mse: 13.5296\n",
      "Epoch 226/500\n",
      "12/12 [==============================] - 0s 3ms/step - loss: 12.1578 - mae: 2.3685 - mse: 12.1578 - val_loss: 12.9514 - val_mae: 2.3759 - val_mse: 12.9514\n",
      "Epoch 227/500\n",
      "12/12 [==============================] - 0s 3ms/step - loss: 12.2209 - mae: 2.4269 - mse: 12.2209 - val_loss: 13.1414 - val_mae: 2.3304 - val_mse: 13.1414\n",
      "Epoch 228/500\n",
      "12/12 [==============================] - 0s 3ms/step - loss: 12.3826 - mae: 2.3527 - mse: 12.3826 - val_loss: 12.8296 - val_mae: 2.3574 - val_mse: 12.8296\n",
      "Epoch 229/500\n",
      "12/12 [==============================] - 0s 3ms/step - loss: 12.0451 - mae: 2.3969 - mse: 12.0451 - val_loss: 13.1773 - val_mae: 2.3199 - val_mse: 13.1773\n",
      "Epoch 230/500\n",
      "12/12 [==============================] - 0s 3ms/step - loss: 12.0530 - mae: 2.3691 - mse: 12.0530 - val_loss: 12.7594 - val_mae: 2.3448 - val_mse: 12.7594\n",
      "Epoch 231/500\n",
      "12/12 [==============================] - 0s 3ms/step - loss: 11.9916 - mae: 2.3728 - mse: 11.9916 - val_loss: 12.9871 - val_mae: 2.3208 - val_mse: 12.9871\n",
      "Epoch 232/500\n",
      "12/12 [==============================] - 0s 3ms/step - loss: 12.0044 - mae: 2.3661 - mse: 12.0044 - val_loss: 12.9543 - val_mae: 2.3243 - val_mse: 12.9543\n",
      "Epoch 233/500\n",
      "12/12 [==============================] - 0s 3ms/step - loss: 11.9005 - mae: 2.3560 - mse: 11.9005 - val_loss: 12.8542 - val_mae: 2.3139 - val_mse: 12.8542\n",
      "Epoch 234/500\n",
      "12/12 [==============================] - 0s 3ms/step - loss: 12.0550 - mae: 2.3634 - mse: 12.0550 - val_loss: 12.6462 - val_mae: 2.3763 - val_mse: 12.6462\n",
      "Epoch 235/500\n",
      "12/12 [==============================] - 0s 3ms/step - loss: 12.0277 - mae: 2.3915 - mse: 12.0277 - val_loss: 13.2274 - val_mae: 2.3235 - val_mse: 13.2274\n",
      "Epoch 236/500\n",
      "12/12 [==============================] - 0s 3ms/step - loss: 12.1106 - mae: 2.4159 - mse: 12.1106 - val_loss: 12.5237 - val_mae: 2.3146 - val_mse: 12.5237\n",
      "Epoch 237/500\n",
      "12/12 [==============================] - 0s 3ms/step - loss: 11.8760 - mae: 2.3122 - mse: 11.8760 - val_loss: 12.8086 - val_mae: 2.3302 - val_mse: 12.8086\n",
      "Epoch 238/500\n",
      "12/12 [==============================] - 0s 3ms/step - loss: 11.7080 - mae: 2.3509 - mse: 11.7080 - val_loss: 12.9561 - val_mae: 2.3541 - val_mse: 12.9561\n",
      "Epoch 239/500\n",
      "12/12 [==============================] - 0s 3ms/step - loss: 11.8029 - mae: 2.3440 - mse: 11.8029 - val_loss: 12.5497 - val_mae: 2.3368 - val_mse: 12.5497\n",
      "Epoch 240/500\n",
      "12/12 [==============================] - 0s 3ms/step - loss: 11.7377 - mae: 2.3881 - mse: 11.7377 - val_loss: 12.8178 - val_mae: 2.3165 - val_mse: 12.8178\n",
      "Epoch 241/500\n",
      "12/12 [==============================] - 0s 3ms/step - loss: 11.8006 - mae: 2.3367 - mse: 11.8006 - val_loss: 12.5864 - val_mae: 2.3401 - val_mse: 12.5864\n",
      "Epoch 242/500\n"
     ]
    },
    {
     "name": "stdout",
     "output_type": "stream",
     "text": [
      "12/12 [==============================] - 0s 3ms/step - loss: 11.6538 - mae: 2.3711 - mse: 11.6538 - val_loss: 12.6808 - val_mae: 2.3251 - val_mse: 12.6808\n",
      "Epoch 243/500\n",
      "12/12 [==============================] - 0s 3ms/step - loss: 11.5344 - mae: 2.3105 - mse: 11.5344 - val_loss: 12.5151 - val_mae: 2.3270 - val_mse: 12.5151\n",
      "Epoch 244/500\n",
      "12/12 [==============================] - 0s 3ms/step - loss: 11.5411 - mae: 2.3474 - mse: 11.5411 - val_loss: 12.3009 - val_mae: 2.2960 - val_mse: 12.3009\n",
      "Epoch 245/500\n",
      "12/12 [==============================] - 0s 3ms/step - loss: 11.4304 - mae: 2.3286 - mse: 11.4304 - val_loss: 12.7945 - val_mae: 2.3074 - val_mse: 12.7945\n",
      "Epoch 246/500\n",
      "12/12 [==============================] - 0s 3ms/step - loss: 11.3880 - mae: 2.2896 - mse: 11.3880 - val_loss: 12.6263 - val_mae: 2.3179 - val_mse: 12.6263\n",
      "Epoch 247/500\n",
      "12/12 [==============================] - 0s 3ms/step - loss: 11.5626 - mae: 2.4111 - mse: 11.5626 - val_loss: 12.7527 - val_mae: 2.3112 - val_mse: 12.7527\n",
      "Epoch 248/500\n",
      "12/12 [==============================] - 0s 3ms/step - loss: 11.4791 - mae: 2.2996 - mse: 11.4791 - val_loss: 12.3013 - val_mae: 2.3224 - val_mse: 12.3013\n",
      "Epoch 249/500\n",
      "12/12 [==============================] - 0s 3ms/step - loss: 11.4081 - mae: 2.3200 - mse: 11.4081 - val_loss: 12.8703 - val_mae: 2.3088 - val_mse: 12.8703\n",
      "Epoch 250/500\n",
      "12/12 [==============================] - 0s 3ms/step - loss: 11.9612 - mae: 2.4054 - mse: 11.9612 - val_loss: 12.5825 - val_mae: 2.2971 - val_mse: 12.5825\n",
      "Epoch 251/500\n",
      "12/12 [==============================] - 0s 3ms/step - loss: 11.4381 - mae: 2.2610 - mse: 11.4381 - val_loss: 12.3917 - val_mae: 2.3204 - val_mse: 12.3917\n",
      "Epoch 252/500\n",
      "12/12 [==============================] - 0s 3ms/step - loss: 11.5079 - mae: 2.3679 - mse: 11.5079 - val_loss: 12.5371 - val_mae: 2.2932 - val_mse: 12.5371\n",
      "Epoch 253/500\n",
      "12/12 [==============================] - 0s 3ms/step - loss: 11.0677 - mae: 2.2946 - mse: 11.0677 - val_loss: 12.1215 - val_mae: 2.3091 - val_mse: 12.1215\n",
      "Epoch 254/500\n",
      "12/12 [==============================] - 0s 3ms/step - loss: 11.1145 - mae: 2.3313 - mse: 11.1145 - val_loss: 12.2302 - val_mae: 2.2815 - val_mse: 12.2302\n",
      "Epoch 255/500\n",
      "12/12 [==============================] - 0s 3ms/step - loss: 11.1728 - mae: 2.2700 - mse: 11.1728 - val_loss: 12.2917 - val_mae: 2.2829 - val_mse: 12.2917\n",
      "Epoch 256/500\n",
      "12/12 [==============================] - 0s 3ms/step - loss: 11.1152 - mae: 2.3420 - mse: 11.1152 - val_loss: 12.1775 - val_mae: 2.2740 - val_mse: 12.1775\n",
      "Epoch 257/500\n",
      "12/12 [==============================] - 0s 3ms/step - loss: 11.1581 - mae: 2.3264 - mse: 11.1581 - val_loss: 12.3117 - val_mae: 2.2887 - val_mse: 12.3117\n",
      "Epoch 258/500\n",
      "12/12 [==============================] - 0s 3ms/step - loss: 11.1829 - mae: 2.3161 - mse: 11.1829 - val_loss: 12.1679 - val_mae: 2.2830 - val_mse: 12.1679\n",
      "Epoch 259/500\n",
      "12/12 [==============================] - 0s 3ms/step - loss: 11.0290 - mae: 2.2601 - mse: 11.0290 - val_loss: 12.1573 - val_mae: 2.2678 - val_mse: 12.1573\n",
      "Epoch 260/500\n",
      "12/12 [==============================] - 0s 3ms/step - loss: 11.0303 - mae: 2.3509 - mse: 11.0303 - val_loss: 11.9675 - val_mae: 2.2560 - val_mse: 11.9675\n",
      "Epoch 261/500\n",
      "12/12 [==============================] - 0s 3ms/step - loss: 11.0949 - mae: 2.2847 - mse: 11.0949 - val_loss: 11.6467 - val_mae: 2.2588 - val_mse: 11.6467\n",
      "Epoch 262/500\n",
      "12/12 [==============================] - 0s 3ms/step - loss: 10.8081 - mae: 2.2754 - mse: 10.8081 - val_loss: 12.2491 - val_mae: 2.2693 - val_mse: 12.2491\n",
      "Epoch 263/500\n",
      "12/12 [==============================] - 0s 3ms/step - loss: 10.8206 - mae: 2.2536 - mse: 10.8206 - val_loss: 12.1472 - val_mae: 2.2852 - val_mse: 12.1472\n",
      "Epoch 264/500\n",
      "12/12 [==============================] - 0s 3ms/step - loss: 10.8126 - mae: 2.2954 - mse: 10.8126 - val_loss: 12.0198 - val_mae: 2.2573 - val_mse: 12.0198\n",
      "Epoch 265/500\n",
      "12/12 [==============================] - 0s 3ms/step - loss: 10.9380 - mae: 2.3149 - mse: 10.9380 - val_loss: 12.1085 - val_mae: 2.2600 - val_mse: 12.1085\n",
      "Epoch 266/500\n",
      "12/12 [==============================] - 0s 3ms/step - loss: 10.7902 - mae: 2.2406 - mse: 10.7902 - val_loss: 11.8816 - val_mae: 2.2571 - val_mse: 11.8816\n",
      "Epoch 267/500\n",
      "12/12 [==============================] - 0s 3ms/step - loss: 10.7149 - mae: 2.2519 - mse: 10.7149 - val_loss: 12.1002 - val_mae: 2.2637 - val_mse: 12.1002\n",
      "Epoch 268/500\n",
      "12/12 [==============================] - 0s 3ms/step - loss: 10.7243 - mae: 2.2868 - mse: 10.7243 - val_loss: 11.9803 - val_mae: 2.2563 - val_mse: 11.9803\n",
      "Epoch 269/500\n",
      "12/12 [==============================] - 0s 3ms/step - loss: 10.6657 - mae: 2.2596 - mse: 10.6657 - val_loss: 12.0075 - val_mae: 2.2528 - val_mse: 12.0075\n",
      "Epoch 270/500\n",
      "12/12 [==============================] - 0s 3ms/step - loss: 10.6693 - mae: 2.2473 - mse: 10.6693 - val_loss: 11.8698 - val_mae: 2.2596 - val_mse: 11.8698\n",
      "Epoch 271/500\n",
      "12/12 [==============================] - 0s 3ms/step - loss: 10.6431 - mae: 2.2881 - mse: 10.6431 - val_loss: 11.8545 - val_mae: 2.2489 - val_mse: 11.8545\n",
      "Epoch 272/500\n",
      "12/12 [==============================] - 0s 3ms/step - loss: 10.5698 - mae: 2.2642 - mse: 10.5698 - val_loss: 11.9378 - val_mae: 2.2509 - val_mse: 11.9378\n",
      "Epoch 273/500\n",
      "12/12 [==============================] - 0s 3ms/step - loss: 10.4616 - mae: 2.2353 - mse: 10.4616 - val_loss: 11.6671 - val_mae: 2.2424 - val_mse: 11.6671\n",
      "Epoch 274/500\n",
      "12/12 [==============================] - 0s 3ms/step - loss: 10.4423 - mae: 2.2478 - mse: 10.4423 - val_loss: 11.8290 - val_mae: 2.2442 - val_mse: 11.8290\n",
      "Epoch 275/500\n",
      "12/12 [==============================] - 0s 3ms/step - loss: 10.4681 - mae: 2.2426 - mse: 10.4681 - val_loss: 11.5818 - val_mae: 2.2475 - val_mse: 11.5818\n",
      "Epoch 276/500\n",
      "12/12 [==============================] - 0s 3ms/step - loss: 10.5066 - mae: 2.2937 - mse: 10.5066 - val_loss: 11.9985 - val_mae: 2.2799 - val_mse: 11.9985\n",
      "Epoch 277/500\n",
      "12/12 [==============================] - 0s 3ms/step - loss: 10.6151 - mae: 2.2502 - mse: 10.6151 - val_loss: 11.6238 - val_mae: 2.2319 - val_mse: 11.6238\n",
      "Epoch 278/500\n",
      "12/12 [==============================] - 0s 3ms/step - loss: 10.3475 - mae: 2.2380 - mse: 10.3475 - val_loss: 11.9932 - val_mae: 2.2467 - val_mse: 11.9932\n",
      "Epoch 279/500\n",
      "12/12 [==============================] - 0s 3ms/step - loss: 10.3381 - mae: 2.2253 - mse: 10.3381 - val_loss: 11.5547 - val_mae: 2.2537 - val_mse: 11.5547\n",
      "Epoch 280/500\n",
      "12/12 [==============================] - 0s 3ms/step - loss: 10.3236 - mae: 2.2387 - mse: 10.3236 - val_loss: 11.7301 - val_mae: 2.2297 - val_mse: 11.7301\n",
      "Epoch 281/500\n",
      "12/12 [==============================] - 0s 3ms/step - loss: 10.3049 - mae: 2.2390 - mse: 10.3049 - val_loss: 11.3591 - val_mae: 2.2352 - val_mse: 11.3591\n",
      "Epoch 282/500\n",
      "12/12 [==============================] - 0s 3ms/step - loss: 10.2571 - mae: 2.2283 - mse: 10.2571 - val_loss: 11.6451 - val_mae: 2.2261 - val_mse: 11.6451\n",
      "Epoch 283/500\n",
      "12/12 [==============================] - 0s 3ms/step - loss: 10.2206 - mae: 2.2254 - mse: 10.2206 - val_loss: 11.5277 - val_mae: 2.2263 - val_mse: 11.5277\n",
      "Epoch 284/500\n",
      "12/12 [==============================] - 0s 3ms/step - loss: 10.1616 - mae: 2.2434 - mse: 10.1616 - val_loss: 11.5578 - val_mae: 2.2267 - val_mse: 11.5578\n",
      "Epoch 285/500\n",
      "12/12 [==============================] - 0s 3ms/step - loss: 10.2503 - mae: 2.2023 - mse: 10.2503 - val_loss: 11.7356 - val_mae: 2.2239 - val_mse: 11.7356\n",
      "Epoch 286/500\n",
      "12/12 [==============================] - 0s 3ms/step - loss: 10.2239 - mae: 2.2833 - mse: 10.2239 - val_loss: 11.3850 - val_mae: 2.2143 - val_mse: 11.3850\n",
      "Epoch 287/500\n",
      "12/12 [==============================] - 0s 3ms/step - loss: 10.2031 - mae: 2.2011 - mse: 10.2031 - val_loss: 11.2352 - val_mae: 2.2066 - val_mse: 11.2352\n",
      "Epoch 288/500\n",
      "12/12 [==============================] - 0s 3ms/step - loss: 10.2528 - mae: 2.2641 - mse: 10.2528 - val_loss: 11.5392 - val_mae: 2.2160 - val_mse: 11.5392\n",
      "Epoch 289/500\n",
      "12/12 [==============================] - 0s 3ms/step - loss: 10.0529 - mae: 2.2039 - mse: 10.0529 - val_loss: 11.2865 - val_mae: 2.2072 - val_mse: 11.2865\n",
      "Epoch 290/500\n"
     ]
    },
    {
     "name": "stdout",
     "output_type": "stream",
     "text": [
      "12/12 [==============================] - 0s 3ms/step - loss: 10.2274 - mae: 2.2127 - mse: 10.2274 - val_loss: 11.4082 - val_mae: 2.2571 - val_mse: 11.4082\n",
      "Epoch 291/500\n",
      "12/12 [==============================] - 0s 3ms/step - loss: 10.0609 - mae: 2.2451 - mse: 10.0609 - val_loss: 11.7180 - val_mae: 2.2344 - val_mse: 11.7180\n",
      "Epoch 292/500\n",
      "12/12 [==============================] - 0s 3ms/step - loss: 10.0881 - mae: 2.2099 - mse: 10.0881 - val_loss: 11.2388 - val_mae: 2.2068 - val_mse: 11.2388\n",
      "Epoch 293/500\n",
      "12/12 [==============================] - 0s 3ms/step - loss: 10.1874 - mae: 2.1936 - mse: 10.1874 - val_loss: 11.4077 - val_mae: 2.2647 - val_mse: 11.4077\n",
      "Epoch 294/500\n",
      "12/12 [==============================] - 0s 3ms/step - loss: 10.1490 - mae: 2.2453 - mse: 10.1490 - val_loss: 11.6302 - val_mae: 2.2191 - val_mse: 11.6302\n",
      "Epoch 295/500\n",
      "12/12 [==============================] - 0s 3ms/step - loss: 9.9663 - mae: 2.2410 - mse: 9.9663 - val_loss: 11.1279 - val_mae: 2.1963 - val_mse: 11.1279\n",
      "Epoch 296/500\n",
      "12/12 [==============================] - 0s 3ms/step - loss: 9.9529 - mae: 2.1563 - mse: 9.9529 - val_loss: 11.3497 - val_mae: 2.2077 - val_mse: 11.3497\n",
      "Epoch 297/500\n",
      "12/12 [==============================] - 0s 3ms/step - loss: 9.8007 - mae: 2.2253 - mse: 9.8007 - val_loss: 11.3200 - val_mae: 2.2035 - val_mse: 11.3200\n",
      "Epoch 298/500\n",
      "12/12 [==============================] - 0s 3ms/step - loss: 10.0305 - mae: 2.1977 - mse: 10.0305 - val_loss: 11.1690 - val_mae: 2.2689 - val_mse: 11.1690\n",
      "Epoch 299/500\n",
      "12/12 [==============================] - 0s 3ms/step - loss: 9.8010 - mae: 2.2350 - mse: 9.8010 - val_loss: 11.2332 - val_mae: 2.1952 - val_mse: 11.2332\n",
      "Epoch 300/500\n",
      "12/12 [==============================] - 0s 3ms/step - loss: 9.9315 - mae: 2.1661 - mse: 9.9315 - val_loss: 11.2240 - val_mae: 2.2325 - val_mse: 11.2240\n",
      "Epoch 301/500\n",
      "12/12 [==============================] - 0s 4ms/step - loss: 9.9977 - mae: 2.2894 - mse: 9.9977 - val_loss: 11.9419 - val_mae: 2.2639 - val_mse: 11.9419\n",
      "Epoch 302/500\n",
      "12/12 [==============================] - 0s 3ms/step - loss: 10.0402 - mae: 2.2194 - mse: 10.0402 - val_loss: 10.9200 - val_mae: 2.1913 - val_mse: 10.9200\n",
      "Epoch 303/500\n",
      "12/12 [==============================] - 0s 3ms/step - loss: 9.5783 - mae: 2.1703 - mse: 9.5783 - val_loss: 11.4154 - val_mae: 2.1972 - val_mse: 11.4154\n",
      "Epoch 304/500\n",
      "12/12 [==============================] - 0s 3ms/step - loss: 9.6275 - mae: 2.1635 - mse: 9.6275 - val_loss: 11.0105 - val_mae: 2.1831 - val_mse: 11.0105\n",
      "Epoch 305/500\n",
      "12/12 [==============================] - 0s 3ms/step - loss: 9.5616 - mae: 2.2018 - mse: 9.5616 - val_loss: 11.3001 - val_mae: 2.2022 - val_mse: 11.3001\n",
      "Epoch 306/500\n",
      "12/12 [==============================] - 0s 3ms/step - loss: 9.8056 - mae: 2.1757 - mse: 9.8056 - val_loss: 11.1750 - val_mae: 2.2100 - val_mse: 11.1750\n",
      "Epoch 307/500\n",
      "12/12 [==============================] - 0s 3ms/step - loss: 9.5360 - mae: 2.1795 - mse: 9.5360 - val_loss: 11.0391 - val_mae: 2.1669 - val_mse: 11.0391\n",
      "Epoch 308/500\n",
      "12/12 [==============================] - 0s 3ms/step - loss: 9.5123 - mae: 2.1446 - mse: 9.5123 - val_loss: 10.9836 - val_mae: 2.1676 - val_mse: 10.9836\n",
      "Epoch 309/500\n",
      "12/12 [==============================] - 0s 3ms/step - loss: 9.6315 - mae: 2.2283 - mse: 9.6315 - val_loss: 11.3635 - val_mae: 2.1938 - val_mse: 11.3635\n",
      "Epoch 310/500\n",
      "12/12 [==============================] - 0s 3ms/step - loss: 9.7020 - mae: 2.1358 - mse: 9.7020 - val_loss: 11.2459 - val_mae: 2.2518 - val_mse: 11.2459\n",
      "Epoch 311/500\n",
      "12/12 [==============================] - 0s 3ms/step - loss: 9.6620 - mae: 2.2279 - mse: 9.6620 - val_loss: 11.3384 - val_mae: 2.1837 - val_mse: 11.3384\n",
      "Epoch 312/500\n",
      "12/12 [==============================] - 0s 3ms/step - loss: 9.4699 - mae: 2.1277 - mse: 9.4699 - val_loss: 10.9851 - val_mae: 2.2273 - val_mse: 10.9851\n",
      "Epoch 313/500\n",
      "12/12 [==============================] - 0s 3ms/step - loss: 9.5722 - mae: 2.1923 - mse: 9.5722 - val_loss: 10.8227 - val_mae: 2.1502 - val_mse: 10.8227\n",
      "Epoch 314/500\n",
      "12/12 [==============================] - 0s 3ms/step - loss: 9.6510 - mae: 2.1693 - mse: 9.6510 - val_loss: 11.0092 - val_mae: 2.1529 - val_mse: 11.0092\n",
      "Epoch 315/500\n",
      "12/12 [==============================] - 0s 3ms/step - loss: 9.3481 - mae: 2.1887 - mse: 9.3481 - val_loss: 11.0419 - val_mae: 2.1520 - val_mse: 11.0419\n",
      "Epoch 316/500\n",
      "12/12 [==============================] - 0s 4ms/step - loss: 9.3883 - mae: 2.1534 - mse: 9.3883 - val_loss: 10.8282 - val_mae: 2.1546 - val_mse: 10.8282\n",
      "Epoch 317/500\n",
      "12/12 [==============================] - 0s 3ms/step - loss: 9.2620 - mae: 2.1428 - mse: 9.2620 - val_loss: 10.9430 - val_mae: 2.1499 - val_mse: 10.9430\n",
      "Epoch 318/500\n",
      "12/12 [==============================] - 0s 3ms/step - loss: 9.2372 - mae: 2.1172 - mse: 9.2372 - val_loss: 10.7589 - val_mae: 2.1549 - val_mse: 10.7589\n",
      "Epoch 319/500\n",
      "12/12 [==============================] - 0s 3ms/step - loss: 9.5411 - mae: 2.2047 - mse: 9.5411 - val_loss: 11.2246 - val_mae: 2.1990 - val_mse: 11.2246\n",
      "Epoch 320/500\n",
      "12/12 [==============================] - 0s 3ms/step - loss: 9.3038 - mae: 2.1484 - mse: 9.3038 - val_loss: 11.0974 - val_mae: 2.2323 - val_mse: 11.0974\n",
      "Epoch 321/500\n",
      "12/12 [==============================] - 0s 3ms/step - loss: 9.3470 - mae: 2.1483 - mse: 9.3470 - val_loss: 10.6963 - val_mae: 2.1454 - val_mse: 10.6963\n",
      "Epoch 322/500\n",
      "12/12 [==============================] - 0s 3ms/step - loss: 9.1648 - mae: 2.1761 - mse: 9.1648 - val_loss: 10.8791 - val_mae: 2.1485 - val_mse: 10.8791\n",
      "Epoch 323/500\n",
      "12/12 [==============================] - 0s 3ms/step - loss: 9.0780 - mae: 2.0918 - mse: 9.0780 - val_loss: 10.7922 - val_mae: 2.1758 - val_mse: 10.7922\n",
      "Epoch 324/500\n",
      "12/12 [==============================] - 0s 3ms/step - loss: 9.2134 - mae: 2.1449 - mse: 9.2134 - val_loss: 10.7185 - val_mae: 2.1291 - val_mse: 10.7185\n",
      "Epoch 325/500\n",
      "12/12 [==============================] - 0s 3ms/step - loss: 8.9820 - mae: 2.1317 - mse: 8.9820 - val_loss: 10.4699 - val_mae: 2.1206 - val_mse: 10.4699\n",
      "Epoch 326/500\n",
      "12/12 [==============================] - 0s 3ms/step - loss: 8.9377 - mae: 2.0948 - mse: 8.9377 - val_loss: 10.6236 - val_mae: 2.1272 - val_mse: 10.6236\n",
      "Epoch 327/500\n",
      "12/12 [==============================] - 0s 3ms/step - loss: 9.0757 - mae: 2.1405 - mse: 9.0757 - val_loss: 11.0988 - val_mae: 2.1525 - val_mse: 11.0988\n",
      "Epoch 328/500\n",
      "12/12 [==============================] - 0s 3ms/step - loss: 8.8805 - mae: 2.0964 - mse: 8.8805 - val_loss: 10.6294 - val_mae: 2.1464 - val_mse: 10.6294\n",
      "Epoch 329/500\n",
      "12/12 [==============================] - 0s 3ms/step - loss: 8.9369 - mae: 2.1066 - mse: 8.9369 - val_loss: 10.5457 - val_mae: 2.1356 - val_mse: 10.5457\n",
      "Epoch 330/500\n",
      "12/12 [==============================] - 0s 3ms/step - loss: 8.9757 - mae: 2.1285 - mse: 8.9757 - val_loss: 10.3830 - val_mae: 2.1113 - val_mse: 10.3830\n",
      "Epoch 331/500\n",
      "12/12 [==============================] - 0s 3ms/step - loss: 8.9400 - mae: 2.1088 - mse: 8.9400 - val_loss: 10.8475 - val_mae: 2.1489 - val_mse: 10.8475\n",
      "Epoch 332/500\n",
      "12/12 [==============================] - 0s 3ms/step - loss: 8.7982 - mae: 2.0925 - mse: 8.7982 - val_loss: 10.4548 - val_mae: 2.1259 - val_mse: 10.4548\n",
      "Epoch 333/500\n",
      "12/12 [==============================] - 0s 3ms/step - loss: 8.8328 - mae: 2.1145 - mse: 8.8328 - val_loss: 10.5746 - val_mae: 2.1164 - val_mse: 10.5746\n",
      "Epoch 334/500\n",
      "12/12 [==============================] - 0s 3ms/step - loss: 9.0327 - mae: 2.1239 - mse: 9.0327 - val_loss: 10.2897 - val_mae: 2.1256 - val_mse: 10.2897\n",
      "Epoch 335/500\n",
      "12/12 [==============================] - 0s 3ms/step - loss: 9.2734 - mae: 2.1252 - mse: 9.2734 - val_loss: 10.9019 - val_mae: 2.2159 - val_mse: 10.9019\n",
      "Epoch 336/500\n",
      "12/12 [==============================] - 0s 3ms/step - loss: 9.8232 - mae: 2.3150 - mse: 9.8232 - val_loss: 11.1123 - val_mae: 2.1985 - val_mse: 11.1123\n",
      "Epoch 337/500\n",
      "12/12 [==============================] - 0s 3ms/step - loss: 8.7400 - mae: 2.0636 - mse: 8.7400 - val_loss: 10.6052 - val_mae: 2.1815 - val_mse: 10.6052\n",
      "Epoch 338/500\n",
      "12/12 [==============================] - 0s 3ms/step - loss: 8.7350 - mae: 2.1256 - mse: 8.7350 - val_loss: 10.7701 - val_mae: 2.1448 - val_mse: 10.7701\n",
      "Epoch 339/500\n"
     ]
    },
    {
     "name": "stdout",
     "output_type": "stream",
     "text": [
      "12/12 [==============================] - 0s 3ms/step - loss: 8.6850 - mae: 2.0759 - mse: 8.6850 - val_loss: 10.3845 - val_mae: 2.1399 - val_mse: 10.3845\n",
      "Epoch 340/500\n",
      "12/12 [==============================] - 0s 3ms/step - loss: 8.5994 - mae: 2.0840 - mse: 8.5994 - val_loss: 10.6205 - val_mae: 2.1264 - val_mse: 10.6205\n",
      "Epoch 341/500\n",
      "12/12 [==============================] - 0s 3ms/step - loss: 8.5776 - mae: 2.0603 - mse: 8.5776 - val_loss: 10.5662 - val_mae: 2.2117 - val_mse: 10.5662\n",
      "Epoch 342/500\n",
      "12/12 [==============================] - 0s 3ms/step - loss: 8.6933 - mae: 2.1385 - mse: 8.6933 - val_loss: 10.5051 - val_mae: 2.1207 - val_mse: 10.5051\n",
      "Epoch 343/500\n",
      "12/12 [==============================] - 0s 3ms/step - loss: 8.5608 - mae: 2.0531 - mse: 8.5608 - val_loss: 10.5067 - val_mae: 2.1395 - val_mse: 10.5067\n",
      "Epoch 344/500\n",
      "12/12 [==============================] - 0s 3ms/step - loss: 8.5465 - mae: 2.0842 - mse: 8.5465 - val_loss: 10.2867 - val_mae: 2.1137 - val_mse: 10.2867\n",
      "Epoch 345/500\n",
      "12/12 [==============================] - 0s 3ms/step - loss: 8.5269 - mae: 2.0743 - mse: 8.5269 - val_loss: 10.4359 - val_mae: 2.1317 - val_mse: 10.4359\n",
      "Epoch 346/500\n",
      "12/12 [==============================] - 0s 3ms/step - loss: 8.6263 - mae: 2.0802 - mse: 8.6263 - val_loss: 10.1250 - val_mae: 2.1123 - val_mse: 10.1250\n",
      "Epoch 347/500\n",
      "12/12 [==============================] - 0s 3ms/step - loss: 8.3676 - mae: 2.0428 - mse: 8.3676 - val_loss: 10.4440 - val_mae: 2.1130 - val_mse: 10.4440\n",
      "Epoch 348/500\n",
      "12/12 [==============================] - 0s 3ms/step - loss: 8.4630 - mae: 2.0810 - mse: 8.4630 - val_loss: 10.6588 - val_mae: 2.1333 - val_mse: 10.6588\n",
      "Epoch 349/500\n",
      "12/12 [==============================] - 0s 3ms/step - loss: 8.4526 - mae: 2.0453 - mse: 8.4526 - val_loss: 10.4307 - val_mae: 2.1787 - val_mse: 10.4307\n",
      "Epoch 350/500\n",
      "12/12 [==============================] - 0s 3ms/step - loss: 8.5817 - mae: 2.0817 - mse: 8.5817 - val_loss: 10.4185 - val_mae: 2.1150 - val_mse: 10.4185\n",
      "Epoch 351/500\n",
      "12/12 [==============================] - 0s 3ms/step - loss: 8.3681 - mae: 2.0821 - mse: 8.3681 - val_loss: 10.3054 - val_mae: 2.1057 - val_mse: 10.3054\n",
      "Epoch 352/500\n",
      "12/12 [==============================] - 0s 3ms/step - loss: 8.4060 - mae: 2.0343 - mse: 8.4060 - val_loss: 10.4178 - val_mae: 2.1384 - val_mse: 10.4178\n",
      "Epoch 353/500\n",
      "12/12 [==============================] - 0s 3ms/step - loss: 8.5688 - mae: 2.1043 - mse: 8.5688 - val_loss: 10.8931 - val_mae: 2.1958 - val_mse: 10.8931\n",
      "Epoch 354/500\n",
      "12/12 [==============================] - 0s 3ms/step - loss: 8.4028 - mae: 2.0685 - mse: 8.4028 - val_loss: 10.5881 - val_mae: 2.2183 - val_mse: 10.5881\n",
      "Epoch 355/500\n",
      "12/12 [==============================] - 0s 3ms/step - loss: 8.3654 - mae: 2.0710 - mse: 8.3654 - val_loss: 10.4795 - val_mae: 2.1293 - val_mse: 10.4795\n",
      "Epoch 356/500\n",
      "12/12 [==============================] - 0s 3ms/step - loss: 8.4816 - mae: 2.0978 - mse: 8.4816 - val_loss: 10.2803 - val_mae: 2.1043 - val_mse: 10.2803\n",
      "Epoch 357/500\n",
      "12/12 [==============================] - 0s 3ms/step - loss: 8.2779 - mae: 2.0078 - mse: 8.2779 - val_loss: 10.3401 - val_mae: 2.1220 - val_mse: 10.3401\n",
      "Epoch 358/500\n",
      "12/12 [==============================] - 0s 3ms/step - loss: 8.4640 - mae: 2.1001 - mse: 8.4640 - val_loss: 10.8143 - val_mae: 2.1822 - val_mse: 10.8143\n",
      "Epoch 359/500\n",
      "12/12 [==============================] - 0s 3ms/step - loss: 8.6636 - mae: 2.1051 - mse: 8.6636 - val_loss: 10.5046 - val_mae: 2.1945 - val_mse: 10.5046\n",
      "Epoch 360/500\n",
      "12/12 [==============================] - 0s 3ms/step - loss: 8.2790 - mae: 2.0261 - mse: 8.2790 - val_loss: 10.3000 - val_mae: 2.1152 - val_mse: 10.3000\n",
      "Epoch 361/500\n",
      "12/12 [==============================] - 0s 3ms/step - loss: 8.1294 - mae: 2.0528 - mse: 8.1294 - val_loss: 10.1438 - val_mae: 2.1271 - val_mse: 10.1438\n",
      "Epoch 362/500\n",
      "12/12 [==============================] - 0s 3ms/step - loss: 8.4384 - mae: 2.0621 - mse: 8.4384 - val_loss: 10.5875 - val_mae: 2.1648 - val_mse: 10.5875\n",
      "Epoch 363/500\n",
      "12/12 [==============================] - 0s 3ms/step - loss: 8.3912 - mae: 2.1067 - mse: 8.3912 - val_loss: 10.4585 - val_mae: 2.1539 - val_mse: 10.4585\n",
      "Epoch 364/500\n",
      "12/12 [==============================] - 0s 3ms/step - loss: 8.2523 - mae: 2.0479 - mse: 8.2523 - val_loss: 10.4653 - val_mae: 2.1867 - val_mse: 10.4653\n",
      "Epoch 365/500\n",
      "12/12 [==============================] - 0s 3ms/step - loss: 8.1363 - mae: 2.0523 - mse: 8.1363 - val_loss: 10.5845 - val_mae: 2.1630 - val_mse: 10.5845\n",
      "Epoch 366/500\n",
      "12/12 [==============================] - 0s 3ms/step - loss: 8.3116 - mae: 2.0735 - mse: 8.3116 - val_loss: 10.1766 - val_mae: 2.1076 - val_mse: 10.1766\n",
      "Epoch 367/500\n",
      "12/12 [==============================] - 0s 3ms/step - loss: 8.1943 - mae: 2.0311 - mse: 8.1943 - val_loss: 10.0637 - val_mae: 2.1180 - val_mse: 10.0637\n",
      "Epoch 368/500\n",
      "12/12 [==============================] - 0s 3ms/step - loss: 8.2041 - mae: 2.0289 - mse: 8.2041 - val_loss: 10.8752 - val_mae: 2.1901 - val_mse: 10.8752\n",
      "Epoch 369/500\n",
      "12/12 [==============================] - 0s 3ms/step - loss: 8.2220 - mae: 2.0672 - mse: 8.2220 - val_loss: 9.9475 - val_mae: 2.1043 - val_mse: 9.9475\n",
      "Epoch 370/500\n",
      "12/12 [==============================] - 0s 3ms/step - loss: 7.9950 - mae: 1.9985 - mse: 7.9950 - val_loss: 10.2658 - val_mae: 2.1090 - val_mse: 10.2658\n",
      "Epoch 371/500\n",
      "12/12 [==============================] - 0s 3ms/step - loss: 7.9431 - mae: 2.0224 - mse: 7.9431 - val_loss: 10.3261 - val_mae: 2.1311 - val_mse: 10.3261\n",
      "Epoch 372/500\n",
      "12/12 [==============================] - 0s 3ms/step - loss: 8.0116 - mae: 2.0049 - mse: 8.0116 - val_loss: 10.0222 - val_mae: 2.1020 - val_mse: 10.0222\n",
      "Epoch 373/500\n",
      "12/12 [==============================] - 0s 3ms/step - loss: 7.9521 - mae: 2.0314 - mse: 7.9521 - val_loss: 10.2668 - val_mae: 2.1643 - val_mse: 10.2668\n",
      "Epoch 374/500\n",
      "12/12 [==============================] - 0s 3ms/step - loss: 8.0297 - mae: 2.0201 - mse: 8.0297 - val_loss: 9.9753 - val_mae: 2.1088 - val_mse: 9.9753\n",
      "Epoch 375/500\n",
      "12/12 [==============================] - 0s 3ms/step - loss: 7.9326 - mae: 2.0202 - mse: 7.9326 - val_loss: 10.3262 - val_mae: 2.1232 - val_mse: 10.3262\n",
      "Epoch 376/500\n",
      "12/12 [==============================] - 0s 3ms/step - loss: 7.9965 - mae: 2.0280 - mse: 7.9965 - val_loss: 10.1208 - val_mae: 2.1395 - val_mse: 10.1208\n",
      "Epoch 377/500\n",
      "12/12 [==============================] - 0s 3ms/step - loss: 7.9155 - mae: 1.9975 - mse: 7.9155 - val_loss: 10.0888 - val_mae: 2.1139 - val_mse: 10.0888\n",
      "Epoch 378/500\n",
      "12/12 [==============================] - 0s 3ms/step - loss: 8.0511 - mae: 2.0257 - mse: 8.0511 - val_loss: 10.2578 - val_mae: 2.1200 - val_mse: 10.2578\n",
      "Epoch 379/500\n",
      "12/12 [==============================] - 0s 3ms/step - loss: 7.7967 - mae: 1.9984 - mse: 7.7967 - val_loss: 10.0926 - val_mae: 2.1140 - val_mse: 10.0926\n",
      "Epoch 380/500\n",
      "12/12 [==============================] - 0s 4ms/step - loss: 7.8469 - mae: 1.9944 - mse: 7.8469 - val_loss: 10.3978 - val_mae: 2.2047 - val_mse: 10.3978\n",
      "Epoch 381/500\n",
      "12/12 [==============================] - 0s 3ms/step - loss: 8.0405 - mae: 2.0646 - mse: 8.0405 - val_loss: 10.7605 - val_mae: 2.1971 - val_mse: 10.7605\n",
      "Epoch 382/500\n",
      "12/12 [==============================] - 0s 3ms/step - loss: 8.0198 - mae: 2.0090 - mse: 8.0198 - val_loss: 10.0686 - val_mae: 2.1420 - val_mse: 10.0686\n",
      "Epoch 383/500\n",
      "12/12 [==============================] - 0s 3ms/step - loss: 7.7760 - mae: 1.9882 - mse: 7.7760 - val_loss: 10.3453 - val_mae: 2.1515 - val_mse: 10.3453\n",
      "Epoch 384/500\n",
      "12/12 [==============================] - 0s 3ms/step - loss: 7.9725 - mae: 2.0301 - mse: 7.9725 - val_loss: 10.4011 - val_mae: 2.1612 - val_mse: 10.4011\n",
      "Epoch 385/500\n",
      "12/12 [==============================] - 0s 3ms/step - loss: 7.8947 - mae: 1.9920 - mse: 7.8947 - val_loss: 10.1071 - val_mae: 2.1285 - val_mse: 10.1071\n",
      "Epoch 386/500\n",
      "12/12 [==============================] - 0s 3ms/step - loss: 7.8273 - mae: 2.0356 - mse: 7.8273 - val_loss: 10.3150 - val_mae: 2.1356 - val_mse: 10.3150\n",
      "Epoch 387/500\n",
      "12/12 [==============================] - 0s 3ms/step - loss: 7.8417 - mae: 1.9983 - mse: 7.8417 - val_loss: 10.0876 - val_mae: 2.1268 - val_mse: 10.0876\n",
      "Epoch 388/500\n"
     ]
    },
    {
     "name": "stdout",
     "output_type": "stream",
     "text": [
      "12/12 [==============================] - 0s 3ms/step - loss: 7.9340 - mae: 1.9756 - mse: 7.9340 - val_loss: 10.6380 - val_mae: 2.2258 - val_mse: 10.6380\n",
      "Epoch 389/500\n",
      "12/12 [==============================] - 0s 4ms/step - loss: 7.8003 - mae: 2.0436 - mse: 7.8003 - val_loss: 10.9534 - val_mae: 2.2425 - val_mse: 10.9534\n",
      "Epoch 390/500\n",
      "12/12 [==============================] - 0s 3ms/step - loss: 7.8377 - mae: 2.0103 - mse: 7.8377 - val_loss: 10.2886 - val_mae: 2.2069 - val_mse: 10.2886\n",
      "Epoch 391/500\n",
      "12/12 [==============================] - 0s 3ms/step - loss: 7.6972 - mae: 2.0079 - mse: 7.6972 - val_loss: 10.1771 - val_mae: 2.1262 - val_mse: 10.1771\n",
      "Epoch 392/500\n",
      "12/12 [==============================] - 0s 3ms/step - loss: 7.6228 - mae: 1.9841 - mse: 7.6228 - val_loss: 10.1567 - val_mae: 2.1305 - val_mse: 10.1567\n",
      "Epoch 393/500\n",
      "12/12 [==============================] - 0s 3ms/step - loss: 7.6577 - mae: 1.9737 - mse: 7.6577 - val_loss: 9.8756 - val_mae: 2.1163 - val_mse: 9.8756\n",
      "Epoch 394/500\n",
      "12/12 [==============================] - 0s 3ms/step - loss: 7.6507 - mae: 1.9630 - mse: 7.6507 - val_loss: 10.2665 - val_mae: 2.1524 - val_mse: 10.2665\n",
      "Epoch 395/500\n",
      "12/12 [==============================] - 0s 3ms/step - loss: 7.7992 - mae: 2.0294 - mse: 7.7992 - val_loss: 10.6878 - val_mae: 2.2129 - val_mse: 10.6878\n",
      "Epoch 396/500\n",
      "12/12 [==============================] - 0s 3ms/step - loss: 7.6658 - mae: 1.9678 - mse: 7.6658 - val_loss: 10.2015 - val_mae: 2.1966 - val_mse: 10.2015\n",
      "Epoch 397/500\n",
      "12/12 [==============================] - 0s 3ms/step - loss: 7.7563 - mae: 1.9904 - mse: 7.7563 - val_loss: 10.2088 - val_mae: 2.1336 - val_mse: 10.2088\n",
      "Epoch 398/500\n",
      "12/12 [==============================] - 0s 3ms/step - loss: 7.5588 - mae: 1.9820 - mse: 7.5588 - val_loss: 10.1236 - val_mae: 2.1315 - val_mse: 10.1236\n",
      "Epoch 399/500\n",
      "12/12 [==============================] - 0s 3ms/step - loss: 7.5549 - mae: 1.9523 - mse: 7.5549 - val_loss: 10.3391 - val_mae: 2.1422 - val_mse: 10.3391\n",
      "Epoch 400/500\n",
      "12/12 [==============================] - 0s 3ms/step - loss: 7.5245 - mae: 1.9749 - mse: 7.5245 - val_loss: 10.0402 - val_mae: 2.1249 - val_mse: 10.0402\n",
      "Epoch 401/500\n",
      "12/12 [==============================] - 0s 3ms/step - loss: 7.4654 - mae: 1.9678 - mse: 7.4654 - val_loss: 9.8705 - val_mae: 2.1236 - val_mse: 9.8705\n",
      "Epoch 402/500\n",
      "12/12 [==============================] - 0s 3ms/step - loss: 7.4192 - mae: 1.9602 - mse: 7.4192 - val_loss: 10.1285 - val_mae: 2.1277 - val_mse: 10.1285\n",
      "Epoch 403/500\n",
      "12/12 [==============================] - 0s 3ms/step - loss: 7.3506 - mae: 1.9573 - mse: 7.3506 - val_loss: 9.9767 - val_mae: 2.1339 - val_mse: 9.9767\n",
      "Epoch 404/500\n",
      "12/12 [==============================] - 0s 3ms/step - loss: 7.3049 - mae: 1.9599 - mse: 7.3049 - val_loss: 10.3386 - val_mae: 2.1630 - val_mse: 10.3386\n",
      "Epoch 405/500\n",
      "12/12 [==============================] - 0s 3ms/step - loss: 7.5236 - mae: 1.9556 - mse: 7.5236 - val_loss: 9.9163 - val_mae: 2.1358 - val_mse: 9.9163\n",
      "Epoch 406/500\n",
      "12/12 [==============================] - 0s 3ms/step - loss: 7.3932 - mae: 1.9568 - mse: 7.3932 - val_loss: 9.8542 - val_mae: 2.1099 - val_mse: 9.8542\n",
      "Epoch 407/500\n",
      "12/12 [==============================] - 0s 3ms/step - loss: 7.4176 - mae: 1.9578 - mse: 7.4176 - val_loss: 10.3641 - val_mae: 2.1763 - val_mse: 10.3641\n",
      "Epoch 408/500\n",
      "12/12 [==============================] - 0s 3ms/step - loss: 7.3400 - mae: 1.9722 - mse: 7.3400 - val_loss: 9.9971 - val_mae: 2.1170 - val_mse: 9.9971\n",
      "Epoch 409/500\n",
      "12/12 [==============================] - 0s 3ms/step - loss: 7.5253 - mae: 1.9838 - mse: 7.5253 - val_loss: 10.0206 - val_mae: 2.1584 - val_mse: 10.0206\n",
      "Epoch 410/500\n",
      "12/12 [==============================] - 0s 4ms/step - loss: 7.3501 - mae: 1.9521 - mse: 7.3501 - val_loss: 10.0013 - val_mae: 2.1301 - val_mse: 10.0013\n",
      "Epoch 411/500\n",
      "12/12 [==============================] - 0s 4ms/step - loss: 7.4833 - mae: 1.9671 - mse: 7.4833 - val_loss: 10.0617 - val_mae: 2.1219 - val_mse: 10.0617\n",
      "Epoch 412/500\n",
      "12/12 [==============================] - 0s 3ms/step - loss: 7.5714 - mae: 2.0477 - mse: 7.5714 - val_loss: 10.5926 - val_mae: 2.2214 - val_mse: 10.5926\n",
      "Epoch 413/500\n",
      "12/12 [==============================] - 0s 3ms/step - loss: 7.7384 - mae: 2.0057 - mse: 7.7384 - val_loss: 9.9709 - val_mae: 2.1517 - val_mse: 9.9709\n",
      "Epoch 414/500\n",
      "12/12 [==============================] - 0s 3ms/step - loss: 7.3819 - mae: 1.9390 - mse: 7.3819 - val_loss: 10.1559 - val_mae: 2.1307 - val_mse: 10.1559\n",
      "Epoch 415/500\n",
      "12/12 [==============================] - 0s 3ms/step - loss: 7.2735 - mae: 1.9486 - mse: 7.2735 - val_loss: 9.9222 - val_mae: 2.1089 - val_mse: 9.9222\n",
      "Epoch 416/500\n",
      "12/12 [==============================] - 0s 3ms/step - loss: 7.2691 - mae: 1.9702 - mse: 7.2691 - val_loss: 9.7497 - val_mae: 2.1001 - val_mse: 9.7497\n",
      "Epoch 417/500\n",
      "12/12 [==============================] - 0s 3ms/step - loss: 7.2924 - mae: 1.9375 - mse: 7.2924 - val_loss: 10.2280 - val_mae: 2.1620 - val_mse: 10.2280\n",
      "Epoch 418/500\n",
      "12/12 [==============================] - 0s 3ms/step - loss: 7.2735 - mae: 1.9639 - mse: 7.2735 - val_loss: 10.0428 - val_mae: 2.1161 - val_mse: 10.0428\n",
      "Epoch 419/500\n",
      "12/12 [==============================] - 0s 3ms/step - loss: 7.1682 - mae: 1.9248 - mse: 7.1682 - val_loss: 9.9485 - val_mae: 2.1116 - val_mse: 9.9485\n",
      "Epoch 420/500\n",
      "12/12 [==============================] - 0s 3ms/step - loss: 7.1175 - mae: 1.9473 - mse: 7.1175 - val_loss: 10.1625 - val_mae: 2.1421 - val_mse: 10.1625\n",
      "Epoch 421/500\n",
      "12/12 [==============================] - 0s 3ms/step - loss: 7.5401 - mae: 1.9812 - mse: 7.5401 - val_loss: 10.1599 - val_mae: 2.2318 - val_mse: 10.1599\n",
      "Epoch 422/500\n",
      "12/12 [==============================] - 0s 3ms/step - loss: 7.2013 - mae: 1.9357 - mse: 7.2013 - val_loss: 9.9689 - val_mae: 2.1099 - val_mse: 9.9689\n",
      "Epoch 423/500\n",
      "12/12 [==============================] - 0s 3ms/step - loss: 7.0853 - mae: 1.9368 - mse: 7.0853 - val_loss: 10.0603 - val_mae: 2.1134 - val_mse: 10.0603\n",
      "Epoch 424/500\n",
      "12/12 [==============================] - 0s 3ms/step - loss: 7.1263 - mae: 1.9288 - mse: 7.1263 - val_loss: 9.7692 - val_mae: 2.1268 - val_mse: 9.7692\n",
      "Epoch 425/500\n",
      "12/12 [==============================] - 0s 3ms/step - loss: 7.2461 - mae: 1.9430 - mse: 7.2461 - val_loss: 10.1345 - val_mae: 2.1559 - val_mse: 10.1345\n",
      "Epoch 426/500\n",
      "12/12 [==============================] - 0s 3ms/step - loss: 7.1582 - mae: 1.9538 - mse: 7.1582 - val_loss: 10.4839 - val_mae: 2.1788 - val_mse: 10.4839\n",
      "Epoch 427/500\n",
      "12/12 [==============================] - 0s 3ms/step - loss: 6.9514 - mae: 1.8870 - mse: 6.9514 - val_loss: 10.0218 - val_mae: 2.1712 - val_mse: 10.0218\n",
      "Epoch 428/500\n",
      "12/12 [==============================] - 0s 3ms/step - loss: 7.2881 - mae: 1.9402 - mse: 7.2881 - val_loss: 9.8654 - val_mae: 2.1027 - val_mse: 9.8654\n",
      "Epoch 429/500\n",
      "12/12 [==============================] - 0s 3ms/step - loss: 7.1129 - mae: 1.9397 - mse: 7.1129 - val_loss: 10.1807 - val_mae: 2.1350 - val_mse: 10.1807\n",
      "Epoch 430/500\n",
      "12/12 [==============================] - 0s 3ms/step - loss: 6.9474 - mae: 1.9082 - mse: 6.9474 - val_loss: 9.7923 - val_mae: 2.1116 - val_mse: 9.7923\n",
      "Epoch 431/500\n",
      "12/12 [==============================] - 0s 4ms/step - loss: 6.8912 - mae: 1.9024 - mse: 6.8912 - val_loss: 9.9739 - val_mae: 2.1085 - val_mse: 9.9739\n",
      "Epoch 432/500\n",
      "12/12 [==============================] - 0s 3ms/step - loss: 6.9167 - mae: 1.9019 - mse: 6.9167 - val_loss: 10.0269 - val_mae: 2.1352 - val_mse: 10.0269\n",
      "Epoch 433/500\n",
      "12/12 [==============================] - 0s 4ms/step - loss: 7.0094 - mae: 1.9115 - mse: 7.0094 - val_loss: 9.8102 - val_mae: 2.1197 - val_mse: 9.8102\n",
      "Epoch 434/500\n",
      "12/12 [==============================] - 0s 3ms/step - loss: 6.9432 - mae: 1.9330 - mse: 6.9432 - val_loss: 9.9989 - val_mae: 2.1245 - val_mse: 9.9989\n",
      "Epoch 435/500\n",
      "12/12 [==============================] - 0s 3ms/step - loss: 6.8397 - mae: 1.8891 - mse: 6.8397 - val_loss: 10.0760 - val_mae: 2.1340 - val_mse: 10.0760\n",
      "Epoch 436/500\n",
      "12/12 [==============================] - 0s 3ms/step - loss: 6.8106 - mae: 1.8898 - mse: 6.8106 - val_loss: 10.1680 - val_mae: 2.1318 - val_mse: 10.1680\n",
      "Epoch 437/500\n"
     ]
    },
    {
     "name": "stdout",
     "output_type": "stream",
     "text": [
      "12/12 [==============================] - 0s 3ms/step - loss: 6.8513 - mae: 1.8932 - mse: 6.8513 - val_loss: 9.9259 - val_mae: 2.1142 - val_mse: 9.9259\n",
      "Epoch 438/500\n",
      "12/12 [==============================] - 0s 3ms/step - loss: 6.8085 - mae: 1.8981 - mse: 6.8085 - val_loss: 10.0061 - val_mae: 2.1156 - val_mse: 10.0061\n",
      "Epoch 439/500\n",
      "12/12 [==============================] - 0s 3ms/step - loss: 6.8512 - mae: 1.9100 - mse: 6.8512 - val_loss: 9.9797 - val_mae: 2.1184 - val_mse: 9.9797\n",
      "Epoch 440/500\n",
      "12/12 [==============================] - 0s 4ms/step - loss: 6.8645 - mae: 1.8957 - mse: 6.8645 - val_loss: 9.9449 - val_mae: 2.1317 - val_mse: 9.9449\n",
      "Epoch 441/500\n",
      "12/12 [==============================] - 0s 3ms/step - loss: 6.8262 - mae: 1.9020 - mse: 6.8262 - val_loss: 9.8184 - val_mae: 2.1211 - val_mse: 9.8184\n",
      "Epoch 442/500\n",
      "12/12 [==============================] - 0s 3ms/step - loss: 6.9768 - mae: 1.9183 - mse: 6.9768 - val_loss: 10.2628 - val_mae: 2.1447 - val_mse: 10.2628\n",
      "Epoch 443/500\n",
      "12/12 [==============================] - 0s 3ms/step - loss: 6.7611 - mae: 1.8893 - mse: 6.7611 - val_loss: 9.9992 - val_mae: 2.1248 - val_mse: 9.9992\n",
      "Epoch 444/500\n",
      "12/12 [==============================] - 0s 4ms/step - loss: 6.6823 - mae: 1.8816 - mse: 6.6823 - val_loss: 9.6913 - val_mae: 2.0966 - val_mse: 9.6913\n",
      "Epoch 445/500\n",
      "12/12 [==============================] - 0s 3ms/step - loss: 6.6997 - mae: 1.8766 - mse: 6.6997 - val_loss: 9.9913 - val_mae: 2.1347 - val_mse: 9.9913\n",
      "Epoch 446/500\n",
      "12/12 [==============================] - 0s 3ms/step - loss: 6.6972 - mae: 1.8879 - mse: 6.6972 - val_loss: 10.1152 - val_mae: 2.1426 - val_mse: 10.1152\n",
      "Epoch 447/500\n",
      "12/12 [==============================] - 0s 3ms/step - loss: 6.8624 - mae: 1.9126 - mse: 6.8624 - val_loss: 9.8026 - val_mae: 2.1059 - val_mse: 9.8026\n",
      "Epoch 448/500\n",
      "12/12 [==============================] - 0s 3ms/step - loss: 6.7822 - mae: 1.9050 - mse: 6.7822 - val_loss: 9.9229 - val_mae: 2.1091 - val_mse: 9.9229\n",
      "Epoch 449/500\n",
      "12/12 [==============================] - 0s 3ms/step - loss: 6.8043 - mae: 1.8899 - mse: 6.8043 - val_loss: 10.1232 - val_mae: 2.1644 - val_mse: 10.1232\n",
      "Epoch 450/500\n",
      "12/12 [==============================] - 0s 3ms/step - loss: 6.7186 - mae: 1.8942 - mse: 6.7186 - val_loss: 9.9809 - val_mae: 2.1236 - val_mse: 9.9809\n",
      "Epoch 451/500\n",
      "12/12 [==============================] - 0s 3ms/step - loss: 6.6302 - mae: 1.8876 - mse: 6.6302 - val_loss: 10.0036 - val_mae: 2.1208 - val_mse: 10.0036\n",
      "Epoch 452/500\n",
      "12/12 [==============================] - 0s 3ms/step - loss: 6.5691 - mae: 1.8530 - mse: 6.5691 - val_loss: 10.0341 - val_mae: 2.1573 - val_mse: 10.0341\n",
      "Epoch 453/500\n",
      "12/12 [==============================] - 0s 3ms/step - loss: 7.0146 - mae: 1.9177 - mse: 7.0146 - val_loss: 9.9459 - val_mae: 2.1239 - val_mse: 9.9459\n",
      "Epoch 454/500\n",
      "12/12 [==============================] - 0s 3ms/step - loss: 7.0237 - mae: 1.9534 - mse: 7.0237 - val_loss: 10.5705 - val_mae: 2.2237 - val_mse: 10.5705\n",
      "Epoch 455/500\n",
      "12/12 [==============================] - 0s 3ms/step - loss: 7.2406 - mae: 1.9548 - mse: 7.2406 - val_loss: 10.6833 - val_mae: 2.2855 - val_mse: 10.6833\n",
      "Epoch 456/500\n",
      "12/12 [==============================] - 0s 3ms/step - loss: 6.9703 - mae: 1.9540 - mse: 6.9703 - val_loss: 9.7496 - val_mae: 2.0981 - val_mse: 9.7496\n",
      "Epoch 457/500\n",
      "12/12 [==============================] - 0s 3ms/step - loss: 6.6262 - mae: 1.8827 - mse: 6.6262 - val_loss: 10.1323 - val_mae: 2.1396 - val_mse: 10.1323\n",
      "Epoch 458/500\n",
      "12/12 [==============================] - 0s 3ms/step - loss: 6.8530 - mae: 1.9376 - mse: 6.8530 - val_loss: 10.1421 - val_mae: 2.1405 - val_mse: 10.1421\n",
      "Epoch 459/500\n",
      "12/12 [==============================] - 0s 3ms/step - loss: 6.5175 - mae: 1.8685 - mse: 6.5175 - val_loss: 10.0028 - val_mae: 2.1304 - val_mse: 10.0028\n",
      "Epoch 460/500\n",
      "12/12 [==============================] - 0s 3ms/step - loss: 6.6559 - mae: 1.8841 - mse: 6.6559 - val_loss: 9.8334 - val_mae: 2.1636 - val_mse: 9.8334\n",
      "Epoch 461/500\n",
      "12/12 [==============================] - 0s 3ms/step - loss: 6.5796 - mae: 1.8687 - mse: 6.5796 - val_loss: 9.8207 - val_mae: 2.1092 - val_mse: 9.8207\n",
      "Epoch 462/500\n",
      "12/12 [==============================] - 0s 3ms/step - loss: 6.4373 - mae: 1.8667 - mse: 6.4373 - val_loss: 9.8463 - val_mae: 2.1107 - val_mse: 9.8463\n",
      "Epoch 463/500\n",
      "12/12 [==============================] - 0s 3ms/step - loss: 6.4390 - mae: 1.8381 - mse: 6.4390 - val_loss: 9.9163 - val_mae: 2.1206 - val_mse: 9.9163\n",
      "Epoch 464/500\n",
      "12/12 [==============================] - 0s 3ms/step - loss: 6.5066 - mae: 1.8621 - mse: 6.5066 - val_loss: 10.1004 - val_mae: 2.1397 - val_mse: 10.1004\n",
      "Epoch 465/500\n",
      "12/12 [==============================] - 0s 3ms/step - loss: 6.5594 - mae: 1.8645 - mse: 6.5594 - val_loss: 9.8874 - val_mae: 2.1129 - val_mse: 9.8874\n",
      "Epoch 466/500\n",
      "12/12 [==============================] - 0s 3ms/step - loss: 6.3666 - mae: 1.8441 - mse: 6.3666 - val_loss: 9.7870 - val_mae: 2.1247 - val_mse: 9.7870\n",
      "Epoch 467/500\n",
      "12/12 [==============================] - 0s 3ms/step - loss: 6.4886 - mae: 1.8538 - mse: 6.4886 - val_loss: 10.0392 - val_mae: 2.1265 - val_mse: 10.0392\n",
      "Epoch 468/500\n",
      "12/12 [==============================] - 0s 3ms/step - loss: 6.5731 - mae: 1.8979 - mse: 6.5731 - val_loss: 9.9199 - val_mae: 2.1165 - val_mse: 9.9199\n",
      "Epoch 469/500\n",
      "12/12 [==============================] - 0s 3ms/step - loss: 6.4393 - mae: 1.8561 - mse: 6.4393 - val_loss: 9.8804 - val_mae: 2.1239 - val_mse: 9.8804\n",
      "Epoch 470/500\n",
      "12/12 [==============================] - 0s 3ms/step - loss: 6.3679 - mae: 1.8532 - mse: 6.3679 - val_loss: 9.8190 - val_mae: 2.1113 - val_mse: 9.8190\n",
      "Epoch 471/500\n",
      "12/12 [==============================] - 0s 3ms/step - loss: 6.3746 - mae: 1.8455 - mse: 6.3746 - val_loss: 10.0192 - val_mae: 2.1315 - val_mse: 10.0192\n",
      "Epoch 472/500\n",
      "12/12 [==============================] - 0s 4ms/step - loss: 6.3605 - mae: 1.8439 - mse: 6.3605 - val_loss: 9.8583 - val_mae: 2.1181 - val_mse: 9.8583\n",
      "Epoch 473/500\n",
      "12/12 [==============================] - 0s 3ms/step - loss: 6.3403 - mae: 1.8522 - mse: 6.3403 - val_loss: 9.8218 - val_mae: 2.1105 - val_mse: 9.8218\n",
      "Epoch 474/500\n",
      "12/12 [==============================] - 0s 3ms/step - loss: 6.3701 - mae: 1.8384 - mse: 6.3701 - val_loss: 10.0077 - val_mae: 2.1329 - val_mse: 10.0077\n",
      "Epoch 475/500\n",
      "12/12 [==============================] - 0s 3ms/step - loss: 6.3196 - mae: 1.8515 - mse: 6.3196 - val_loss: 10.2273 - val_mae: 2.1973 - val_mse: 10.2273\n",
      "Epoch 476/500\n",
      "12/12 [==============================] - 0s 3ms/step - loss: 6.4470 - mae: 1.8455 - mse: 6.4470 - val_loss: 10.1443 - val_mae: 2.1564 - val_mse: 10.1443\n",
      "Epoch 477/500\n",
      "12/12 [==============================] - 0s 3ms/step - loss: 6.3599 - mae: 1.8581 - mse: 6.3599 - val_loss: 9.8402 - val_mae: 2.1273 - val_mse: 9.8402\n",
      "Epoch 478/500\n",
      "12/12 [==============================] - 0s 3ms/step - loss: 6.2486 - mae: 1.8364 - mse: 6.2486 - val_loss: 10.0228 - val_mae: 2.1413 - val_mse: 10.0228\n",
      "Epoch 479/500\n",
      "12/12 [==============================] - 0s 3ms/step - loss: 6.2595 - mae: 1.8382 - mse: 6.2595 - val_loss: 9.8775 - val_mae: 2.1190 - val_mse: 9.8775\n",
      "Epoch 480/500\n",
      "12/12 [==============================] - 0s 3ms/step - loss: 6.2891 - mae: 1.8488 - mse: 6.2891 - val_loss: 9.9843 - val_mae: 2.1407 - val_mse: 9.9843\n",
      "Epoch 481/500\n",
      "12/12 [==============================] - 0s 4ms/step - loss: 6.2769 - mae: 1.8426 - mse: 6.2769 - val_loss: 9.8973 - val_mae: 2.1165 - val_mse: 9.8973\n",
      "Epoch 482/500\n",
      "12/12 [==============================] - 0s 3ms/step - loss: 6.2343 - mae: 1.8261 - mse: 6.2343 - val_loss: 10.0495 - val_mae: 2.1385 - val_mse: 10.0495\n",
      "Epoch 483/500\n",
      "12/12 [==============================] - 0s 3ms/step - loss: 6.2388 - mae: 1.8377 - mse: 6.2388 - val_loss: 9.9123 - val_mae: 2.1273 - val_mse: 9.9123\n",
      "Epoch 484/500\n",
      "12/12 [==============================] - 0s 3ms/step - loss: 6.2487 - mae: 1.8323 - mse: 6.2487 - val_loss: 9.9096 - val_mae: 2.1276 - val_mse: 9.9096\n",
      "Epoch 485/500\n",
      "12/12 [==============================] - 0s 3ms/step - loss: 6.2029 - mae: 1.8317 - mse: 6.2029 - val_loss: 9.9630 - val_mae: 2.1335 - val_mse: 9.9630\n",
      "Epoch 486/500\n"
     ]
    },
    {
     "name": "stdout",
     "output_type": "stream",
     "text": [
      "12/12 [==============================] - 0s 3ms/step - loss: 6.1768 - mae: 1.8226 - mse: 6.1768 - val_loss: 9.9632 - val_mae: 2.1341 - val_mse: 9.9632\n",
      "Epoch 487/500\n",
      "12/12 [==============================] - 0s 3ms/step - loss: 6.1421 - mae: 1.8364 - mse: 6.1421 - val_loss: 10.1608 - val_mae: 2.1624 - val_mse: 10.1608\n",
      "Epoch 488/500\n",
      "12/12 [==============================] - 0s 3ms/step - loss: 6.2303 - mae: 1.8159 - mse: 6.2303 - val_loss: 9.9216 - val_mae: 2.1253 - val_mse: 9.9216\n",
      "Epoch 489/500\n",
      "12/12 [==============================] - 0s 3ms/step - loss: 6.1550 - mae: 1.8329 - mse: 6.1550 - val_loss: 9.9810 - val_mae: 2.1318 - val_mse: 9.9810\n",
      "Epoch 490/500\n",
      "12/12 [==============================] - 0s 3ms/step - loss: 6.1745 - mae: 1.8216 - mse: 6.1745 - val_loss: 10.0819 - val_mae: 2.1717 - val_mse: 10.0819\n",
      "Epoch 491/500\n",
      "12/12 [==============================] - 0s 3ms/step - loss: 6.5079 - mae: 1.8909 - mse: 6.5079 - val_loss: 10.1214 - val_mae: 2.1571 - val_mse: 10.1214\n",
      "Epoch 492/500\n",
      "12/12 [==============================] - 0s 3ms/step - loss: 6.5559 - mae: 1.8761 - mse: 6.5559 - val_loss: 10.1908 - val_mae: 2.1867 - val_mse: 10.1908\n",
      "Epoch 493/500\n",
      "12/12 [==============================] - 0s 3ms/step - loss: 6.2423 - mae: 1.8273 - mse: 6.2423 - val_loss: 10.2151 - val_mae: 2.1854 - val_mse: 10.2151\n",
      "Epoch 494/500\n",
      "12/12 [==============================] - 0s 3ms/step - loss: 6.2996 - mae: 1.8356 - mse: 6.2996 - val_loss: 9.9301 - val_mae: 2.1255 - val_mse: 9.9301\n",
      "Epoch 495/500\n",
      "12/12 [==============================] - 0s 3ms/step - loss: 6.1787 - mae: 1.8505 - mse: 6.1787 - val_loss: 10.0681 - val_mae: 2.1509 - val_mse: 10.0681\n",
      "Epoch 496/500\n",
      "12/12 [==============================] - 0s 3ms/step - loss: 6.2559 - mae: 1.8438 - mse: 6.2559 - val_loss: 10.5220 - val_mae: 2.2567 - val_mse: 10.5220\n",
      "Epoch 497/500\n",
      "12/12 [==============================] - 0s 3ms/step - loss: 6.1902 - mae: 1.8457 - mse: 6.1902 - val_loss: 9.8476 - val_mae: 2.1280 - val_mse: 9.8476\n",
      "Epoch 498/500\n",
      "12/12 [==============================] - 0s 3ms/step - loss: 6.1307 - mae: 1.8306 - mse: 6.1307 - val_loss: 10.1703 - val_mae: 2.1598 - val_mse: 10.1703\n",
      "Epoch 499/500\n",
      "12/12 [==============================] - 0s 3ms/step - loss: 6.0762 - mae: 1.8029 - mse: 6.0762 - val_loss: 9.9015 - val_mae: 2.1265 - val_mse: 9.9015\n",
      "Epoch 500/500\n",
      "12/12 [==============================] - 0s 3ms/step - loss: 6.0153 - mae: 1.8090 - mse: 6.0153 - val_loss: 9.8109 - val_mae: 2.1123 - val_mse: 9.8109\n"
     ]
    }
   ],
   "source": [
    "history = model.fit(X_train, y_train, batch_size=32, \n",
    "                    epochs=500, validation_data=(X_test, y_test), verbose=1)"
   ]
  },
  {
   "cell_type": "code",
   "execution_count": 13,
   "metadata": {
    "colab": {
     "base_uri": "https://localhost:8080/",
     "height": 35
    },
    "colab_type": "code",
    "id": "1ZFSsBqVrTP1",
    "outputId": "d294314b-4808-4c0f-defc-ed8e4de416a9",
    "scrolled": true
   },
   "outputs": [
    {
     "data": {
      "text/plain": [
       "[9.810880661010742, 2.112252712249756, 9.810880661010742]"
      ]
     },
     "execution_count": 13,
     "metadata": {},
     "output_type": "execute_result"
    }
   ],
   "source": [
    "model.evaluate(X_test, y_test, verbose=0)"
   ]
  },
  {
   "cell_type": "code",
   "execution_count": 14,
   "metadata": {
    "colab": {},
    "colab_type": "code",
    "id": "ToA2qijTrTP4"
   },
   "outputs": [
    {
     "name": "stdout",
     "output_type": "stream",
     "text": [
      "4/4 [==============================] - 0s 2ms/step\n"
     ]
    }
   ],
   "source": [
    "y_pred = model.predict(X_test)"
   ]
  },
  {
   "cell_type": "code",
   "execution_count": 15,
   "metadata": {
    "colab": {
     "base_uri": "https://localhost:8080/",
     "height": 53
    },
    "colab_type": "code",
    "id": "bNIig2qBrTP6",
    "outputId": "39e3a8b5-4772-47c7-a7cb-3d1406ef776a"
   },
   "outputs": [
    {
     "name": "stdout",
     "output_type": "stream",
     "text": [
      "Mean squared error: 9.81\n",
      "R2 score: 0.90\n"
     ]
    }
   ],
   "source": [
    "# MSE(mean squared error) 계산\n",
    "print(\"Mean squared error: {:.2f}\".format(mean_squared_error(y_test, y_pred)))\n",
    "\n",
    "# R2 계산 \n",
    "print(\"R2 score: {:.2f}\".format(r2_score(y_test, y_pred)))"
   ]
  },
  {
   "cell_type": "code",
   "execution_count": 16,
   "metadata": {
    "colab": {
     "base_uri": "https://localhost:8080/",
     "height": 314
    },
    "colab_type": "code",
    "id": "1BsUtTlErTP9",
    "outputId": "7ac930ee-d227-4aa5-9d08-ebc46bb8c237"
   },
   "outputs": [
    {
     "data": {
      "text/plain": [
       "Text(0.5, 1.0, 'Boston House Price Prediction ($1,000)')"
      ]
     },
     "execution_count": 16,
     "metadata": {},
     "output_type": "execute_result"
    },
    {
     "data": {
      "image/png": "[encoded data removed]",
      "text/plain": [
       "<Figure size 640x480 with 1 Axes>"
      ]
     },
     "metadata": {},
     "output_type": "display_data"
    }
   ],
   "source": [
    "plt.scatter(y_test, y_test, label='true')\n",
    "plt.scatter(y_test, y_pred, label='predict')\n",
    "plt.xlabel('y_test')\n",
    "plt.ylabel('y')\n",
    "plt.legend()\n",
    "plt.title('Boston House Price Prediction ($1,000)')"
   ]
  },
  {
   "cell_type": "code",
   "execution_count": 17,
   "metadata": {},
   "outputs": [
    {
     "data": {
      "text/plain": [
       "<matplotlib.legend.Legend at 0x188932b1d90>"
      ]
     },
     "execution_count": 17,
     "metadata": {},
     "output_type": "execute_result"
    },
    {
     "data": {
      "image/png": "[encoded data removed]",
      "text/plain": [
       "<Figure size 640x480 with 1 Axes>"
      ]
     },
     "metadata": {},
     "output_type": "display_data"
    }
   ],
   "source": [
    "plt.plot(history.history['mse'], label='Train error')\n",
    "plt.plot(history.history['val_mse'], label='Test error')\n",
    "plt.ylim([0, 50])\n",
    "plt.legend()"
   ]
  },
  {
   "cell_type": "markdown",
   "metadata": {
    "colab_type": "text",
    "id": "HHSjTEgsrTQC"
   },
   "source": [
    "## sklearn LinearRegression 비교"
   ]
  },
  {
   "cell_type": "code",
   "execution_count": 18,
   "metadata": {
    "colab": {},
    "colab_type": "code",
    "id": "Ys50B2fQrTQD"
   },
   "outputs": [],
   "source": [
    "from sklearn.linear_model import LinearRegression\n",
    "regr = LinearRegression()\n",
    "\n",
    "X_train, X_test, y_train, y_test = train_test_split(X, y)\n",
    "\n",
    "sc = MinMaxScaler()\n",
    "X_train = sc.fit_transform(X_train)\n",
    "X_test  = sc.transform(X_test)"
   ]
  },
  {
   "cell_type": "code",
   "execution_count": 19,
   "metadata": {
    "colab": {
     "base_uri": "https://localhost:8080/",
     "height": 35
    },
    "colab_type": "code",
    "id": "w4jI7c37rTQF",
    "outputId": "f7686808-c371-4f24-fa07-7768b8424c9b"
   },
   "outputs": [
    {
     "data": {
      "text/plain": [
       "LinearRegression()"
      ]
     },
     "execution_count": 19,
     "metadata": {},
     "output_type": "execute_result"
    }
   ],
   "source": [
    "regr.fit(X_train, y_train)"
   ]
  },
  {
   "cell_type": "code",
   "execution_count": 20,
   "metadata": {
    "colab": {},
    "colab_type": "code",
    "id": "PovF4BEVrTQJ"
   },
   "outputs": [],
   "source": [
    "y_pred = regr.predict(X_test)"
   ]
  },
  {
   "cell_type": "code",
   "execution_count": 21,
   "metadata": {
    "colab": {
     "base_uri": "https://localhost:8080/",
     "height": 125
    },
    "colab_type": "code",
    "id": "2NPoXeQRrTQL",
    "outputId": "4429b9f7-7bef-4acf-edb3-b7f77d5ac319"
   },
   "outputs": [
    {
     "name": "stdout",
     "output_type": "stream",
     "text": [
      "Coefficients: \n",
      " [ -9.35517613   4.38940758   0.21001648   3.49570954  -6.56219005\n",
      "  20.62963503   0.71345268 -14.10404399   7.13578379  -5.80129643\n",
      "  -8.51879952   4.46524594 -20.91156704]\n",
      "Intercept: \n",
      " 23.746761346845\n"
     ]
    }
   ],
   "source": [
    "# The coefficients\n",
    "print('Coefficients: \\n', regr.coef_)\n",
    "print('Intercept: \\n', regr.intercept_)"
   ]
  },
  {
   "cell_type": "code",
   "execution_count": 22,
   "metadata": {
    "colab": {
     "base_uri": "https://localhost:8080/",
     "height": 53
    },
    "colab_type": "code",
    "id": "nmcGQEyXrTQP",
    "outputId": "1173b675-0c0a-4071-92ec-2135f0d1ba75"
   },
   "outputs": [
    {
     "name": "stdout",
     "output_type": "stream",
     "text": [
      "Mean squared error: 27.37\n",
      "R2 score: 0.66\n"
     ]
    }
   ],
   "source": [
    "# MSE(mean squared error) 계산\n",
    "print(\"Mean squared error: {:.2f}\".format(mean_squared_error(y_test, y_pred)))\n",
    "\n",
    "# R2 계산 \n",
    "print(\"R2 score: {:.2f}\".format(r2_score(y_test, y_pred)))"
   ]
  },
  {
   "cell_type": "code",
   "execution_count": 23,
   "metadata": {},
   "outputs": [
    {
     "data": {
      "text/plain": [
       "((127,), (127,))"
      ]
     },
     "execution_count": 23,
     "metadata": {},
     "output_type": "execute_result"
    }
   ],
   "source": [
    "y_test.shape, y_pred.shape"
   ]
  },
  {
   "cell_type": "code",
   "execution_count": 24,
   "metadata": {},
   "outputs": [
    {
     "data": {
      "text/plain": [
       "Text(0.5, 1.0, 'Boston House Price Prediction ($1,000)')"
      ]
     },
     "execution_count": 24,
     "metadata": {},
     "output_type": "execute_result"
    },
    {
     "data": {
      "image/png": "[encoded data removed]",
      "text/plain": [
       "<Figure size 640x480 with 1 Axes>"
      ]
     },
     "metadata": {},
     "output_type": "display_data"
    }
   ],
   "source": [
    "plt.scatter(y_test, y_pred)\n",
    "plt.plot([y_test.min(), y_test.max()], [y_test.min(), y_test.max()], '--', c='r')\n",
    "plt.xlabel('y_test')\n",
    "plt.ylabel('y_pred')\n",
    "plt.title('Boston House Price Prediction ($1,000)')"
   ]
  },
  {
   "cell_type": "markdown",
   "metadata": {
    "colab_type": "text",
    "id": "N1dR1BCOrTQV"
   },
   "source": [
    "## 실습\n",
    "\n",
    "### UCI Machine Learning Repository 의 Auto MPG dataset 을 사용하여 자동차 연비 예측 Regression model 작성\n",
    "\n",
    "- auto-mpg.data - data file  \n",
    "\n",
    "\n",
    "- auto-mpg.names - data 설명 file\n",
    "\n",
    "    1. mpg:           continuous  \n",
    "    2. cylinders:     multi-valued discrete  \n",
    "    3. displacement:  continuous (배기량)   \n",
    "    4. horsepower:    continuous  \n",
    "    5. weight:        continuous  \n",
    "    6. acceleration:  continuous  \n",
    "    7. model year:    multi-valued discrete  \n",
    "    8. origin:        multi-valued discrete, 1 - USA, 2 - Europe, 3 - Japan  \n",
    "    9. car name:      string (unique for each instance)  \n",
    "\n",
    "Missing Attribute Values:  horsepower has 6 missing values  ==> \"?\" 로 들어 있으므로 read_csv 시 nan 으로 변환"
   ]
  },
  {
   "cell_type": "code",
   "execution_count": 25,
   "metadata": {
    "colab": {},
    "colab_type": "code",
    "id": "tBbjUToQrTQV"
   },
   "outputs": [],
   "source": [
    "import pandas as pd\n",
    "import numpy as np\n",
    "import tensorflow as tf\n",
    "from tensorflow.keras import layers\n",
    "from sklearn.model_selection import train_test_split\n",
    "from sklearn.preprocessing import StandardScaler"
   ]
  },
  {
   "cell_type": "markdown",
   "metadata": {
    "colab_type": "text",
    "id": "OaJ3QC85rTQY"
   },
   "source": [
    "### Data load 및 Preprocessing"
   ]
  },
  {
   "cell_type": "code",
   "execution_count": 26,
   "metadata": {
    "colab": {
     "base_uri": "https://localhost:8080/",
     "height": 53
    },
    "colab_type": "code",
    "id": "zwc5ou1PrTQY",
    "outputId": "472698f8-440b-43fd-fc7d-4eac7e14ca27"
   },
   "outputs": [],
   "source": [
    "data_path = tf.keras.utils.get_file(\"auto-mpg.data\", \n",
    "        \"https://archive.ics.uci.edu/ml/machine-learning-databases/auto-mpg/auto-mpg.data\")\n",
    "\n",
    "column_names = ['mpg', 'cylinders', 'displacement', 'horsepower', 'weight', 'acceleration', 'model year', 'origin']\n",
    "\n",
    "rawdata = pd.read_csv(data_path, names=column_names, na_values=\"?\", comment=\"\\t\", sep=\" \", skipinitialspace=True)\n",
    "\n",
    "rawdata.dropna(inplace=True)\n",
    "\n",
    "data = rawdata.copy()\n",
    "\n",
    "data = pd.get_dummies(data, columns=['cylinders', 'origin'])\n",
    "\n",
    "label = data.pop('mpg')\n",
    "\n",
    "X_train, X_test, y_train, y_test = train_test_split(data.values, label.values)\n",
    "\n",
    "sc = StandardScaler()\n",
    "X_train = sc.fit_transform(X_train)\n",
    "X_test = sc.transform(X_test)"
   ]
  },
  {
   "cell_type": "markdown",
   "metadata": {
    "colab_type": "text",
    "id": "lSAJqN3DrTQa"
   },
   "source": [
    "### Regression Model Build\n",
    "\n",
    "### train\n",
    "\n",
    "### predict\n",
    "\n",
    "### $r^2$ 계산\n",
    "\n",
    "### 시각화"
   ]
  }
 ],
 "metadata": {
  "accelerator": "GPU",
  "colab": {
   "name": "100.Boston Regression.ipynb",
   "provenance": []
  },
  "kernelspec": {
   "display_name": "Python 3 (ipykernel)",
   "language": "python",
   "name": "python3"
  },
  "language_info": {
   "codemirror_mode": {
    "name": "ipython",
    "version": 3
   },
   "file_extension": ".py",
   "mimetype": "text/x-python",
   "name": "python",
   "nbconvert_exporter": "python",
   "pygments_lexer": "ipython3",
   "version": "3.9.16"
  }
 },
 "nbformat": 4,
 "nbformat_minor": 4
}
