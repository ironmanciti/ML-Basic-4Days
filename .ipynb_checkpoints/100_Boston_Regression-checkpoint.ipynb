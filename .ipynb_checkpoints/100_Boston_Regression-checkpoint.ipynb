{
 "cells": [
  {
   "cell_type": "markdown",
   "metadata": {
    "colab_type": "text",
    "id": "uMzSmlzgrTPV"
   },
   "source": [
    "# 100. Boston House Price Regression\n",
    "\n",
    "- 보스턴 주택가격 예측\n",
    "\n",
    "### 13 개의 종속변수와 1 개의 독립변수 (주택가격 중앙값) 으로 구성\n",
    "\n",
    "#### 종속변수 (13 개)\n",
    "CRIM 자치시(town) 별 1인당 범죄율  \n",
    "ZN 25,000 평방피트를 초과하는 거주지역의 비율  \n",
    "INDUS 비소매상업지역이 점유하고 있는 토지의 비율  \n",
    "CHAS 찰스강에 대한 더미변수(강의 경계에 위치한 경우는 1, 아니면 0)  \n",
    "NOX 10ppm 당 농축 일산화질소  \n",
    "RM 주택 1가구당 평균 방의 개수  \n",
    "AGE 1940년 이전에 건축된 소유주택의 비율  \n",
    "DIS 5개의 보스턴 직업센터까지의 접근성 지수  \n",
    "RAD 방사형 도로까지의 접근성 지수  \n",
    "TAX 10,000 달러 당 재산세율  \n",
    "PTRATIO 자치시(town)별 학생/교사 비율  \n",
    "B 1000(Bk-0.63)^2, 여기서 Bk는 자치시별 흑인의 비율을 말함  \n",
    "LSTAT 모집단의 하위계층의 비율(%)   \n",
    "\n",
    "#### 독립변수 (1 개)\n",
    "MEDV 본인 소유의 주택가격(중앙값) (단위: $1,000)  "
   ]
  },
  {
   "cell_type": "code",
   "execution_count": 1,
   "metadata": {
    "colab": {},
    "colab_type": "code",
    "id": "phPT7edHrTPW"
   },
   "outputs": [],
   "source": [
    "from sklearn.model_selection import train_test_split\n",
    "from sklearn.preprocessing import MinMaxScaler\n",
    "from sklearn.metrics import mean_squared_error, r2_score\n",
    "\n",
    "from tensorflow.keras.models import Sequential\n",
    "from tensorflow.keras.layers import Dense\n",
    "import pandas as pd\n",
    "import matplotlib.pyplot as plt\n",
    "import tensorflow as tf"
   ]
  },
  {
   "cell_type": "code",
   "execution_count": 2,
   "metadata": {
    "colab": {
     "base_uri": "https://localhost:8080/",
     "height": 198
    },
    "colab_type": "code",
    "id": "CLOt7W58rTPa",
    "outputId": "f632edd1-51ff-47d7-8de6-255fbe874e22"
   },
   "outputs": [],
   "source": [
    "df_boston = pd.read_csv(\"boston_house.csv\", index_col=0)\n",
    "boston = df_boston.drop('MEDV', axis=1)\n",
    "target = df_boston.pop('MEDV')"
   ]
  },
  {
   "cell_type": "code",
   "execution_count": 3,
   "metadata": {
    "colab": {},
    "colab_type": "code",
    "id": "dTar7PMprTPd"
   },
   "outputs": [],
   "source": [
    "X = boston.values\n",
    "y = target.values"
   ]
  },
  {
   "cell_type": "code",
   "execution_count": 4,
   "metadata": {
    "colab": {
     "base_uri": "https://localhost:8080/",
     "height": 35
    },
    "colab_type": "code",
    "id": "tjU7kLnRrTPg",
    "outputId": "4dd6c014-c002-4f6f-ec4f-14016fbd5382"
   },
   "outputs": [
    {
     "data": {
      "text/plain": [
       "array([24. , 21.6, 34.7, 33.4, 36.2, 28.7, 22.9, 27.1, 16.5, 18.9])"
      ]
     },
     "execution_count": 4,
     "metadata": {},
     "output_type": "execute_result"
    }
   ],
   "source": [
    "y[:10]"
   ]
  },
  {
   "cell_type": "code",
   "execution_count": 5,
   "metadata": {
    "colab": {
     "base_uri": "https://localhost:8080/",
     "height": 53
    },
    "colab_type": "code",
    "id": "T6CypJZVrTPj",
    "outputId": "1ac5c40e-8039-470b-fdd6-4811ec19d395"
   },
   "outputs": [
    {
     "name": "stdout",
     "output_type": "stream",
     "text": [
      "(506, 13)\n",
      "(506,)\n"
     ]
    }
   ],
   "source": [
    "print(X.shape)\n",
    "print(y.shape)"
   ]
  },
  {
   "cell_type": "code",
   "execution_count": 6,
   "metadata": {
    "colab": {},
    "colab_type": "code",
    "id": "4cgRCJrBrTPl"
   },
   "outputs": [],
   "source": [
    "X_train, X_test, y_train, y_test = train_test_split(X, y)"
   ]
  },
  {
   "cell_type": "code",
   "execution_count": 7,
   "metadata": {
    "colab": {},
    "colab_type": "code",
    "id": "cMm9Wk5DrTPo"
   },
   "outputs": [],
   "source": [
    "sc = MinMaxScaler()\n",
    "X_train = sc.fit_transform(X_train)\n",
    "X_test  = sc.transform(X_test)"
   ]
  },
  {
   "cell_type": "markdown",
   "metadata": {
    "colab_type": "text",
    "id": "pLf27y9VrTPr"
   },
   "source": [
    "### model build"
   ]
  },
  {
   "cell_type": "code",
   "execution_count": 8,
   "metadata": {
    "colab": {},
    "colab_type": "code",
    "id": "1GPf5hWlrTPs"
   },
   "outputs": [],
   "source": [
    "model = Sequential()\n",
    "\n",
    "model.add(Dense(64, input_shape=(13,), activation='relu'))\n",
    "model.add(Dense(32, activation='relu'))\n",
    "model.add(Dense(1))"
   ]
  },
  {
   "cell_type": "code",
   "execution_count": 9,
   "metadata": {
    "colab": {},
    "colab_type": "code",
    "id": "g5NRN0k1rTPu"
   },
   "outputs": [],
   "source": [
    "model.compile(loss='mean_squared_error', optimizer='adam', metrics=['mae', 'mse'])"
   ]
  },
  {
   "cell_type": "code",
   "execution_count": 10,
   "metadata": {},
   "outputs": [
    {
     "name": "stdout",
     "output_type": "stream",
     "text": [
      "Model: \"sequential\"\n",
      "_________________________________________________________________\n",
      " Layer (type)                Output Shape              Param #   \n",
      "=================================================================\n",
      " dense (Dense)               (None, 64)                896       \n",
      "                                                                 \n",
      " dense_1 (Dense)             (None, 32)                2080      \n",
      "                                                                 \n",
      " dense_2 (Dense)             (None, 1)                 33        \n",
      "                                                                 \n",
      "=================================================================\n",
      "Total params: 3,009\n",
      "Trainable params: 3,009\n",
      "Non-trainable params: 0\n",
      "_________________________________________________________________\n"
     ]
    }
   ],
   "source": [
    "model.summary()"
   ]
  },
  {
   "cell_type": "markdown",
   "metadata": {
    "colab_type": "text",
    "id": "4nlJzIHwrTPy"
   },
   "source": [
    "- epoch 수와 batchz_size 변경하며 test"
   ]
  },
  {
   "cell_type": "code",
   "execution_count": 11,
   "metadata": {
    "colab": {
     "base_uri": "https://localhost:8080/",
     "height": 1000
    },
    "colab_type": "code",
    "id": "GiBonfIdrTPy",
    "outputId": "809d622a-d39f-481b-c12b-dae8d8226c17",
    "scrolled": true
   },
   "outputs": [
    {
     "name": "stdout",
     "output_type": "stream",
     "text": [
      "Epoch 1/500\n",
      "12/12 [==============================] - 1s 12ms/step - loss: 564.6672 - mae: 21.9843 - mse: 564.6672 - val_loss: 565.3780 - val_mae: 21.5266 - val_mse: 565.3780\n",
      "Epoch 2/500\n",
      "12/12 [==============================] - 0s 3ms/step - loss: 530.5060 - mae: 21.1581 - mse: 530.5060 - val_loss: 527.2258 - val_mae: 20.5810 - val_mse: 527.2258\n",
      "Epoch 3/500\n",
      "12/12 [==============================] - 0s 3ms/step - loss: 487.5713 - mae: 20.0699 - mse: 487.5713 - val_loss: 476.5065 - val_mae: 19.2351 - val_mse: 476.5065\n",
      "Epoch 4/500\n",
      "12/12 [==============================] - 0s 3ms/step - loss: 430.5456 - mae: 18.5090 - mse: 430.5456 - val_loss: 409.5055 - val_mae: 17.3576 - val_mse: 409.5055\n",
      "Epoch 5/500\n",
      "12/12 [==============================] - 0s 3ms/step - loss: 356.6461 - mae: 16.3029 - mse: 356.6461 - val_loss: 327.1280 - val_mae: 14.8840 - val_mse: 327.1280\n",
      "Epoch 6/500\n",
      "12/12 [==============================] - 0s 3ms/step - loss: 273.2730 - mae: 13.6666 - mse: 273.2730 - val_loss: 242.4070 - val_mae: 12.1606 - val_mse: 242.4070\n",
      "Epoch 7/500\n",
      "12/12 [==============================] - 0s 3ms/step - loss: 194.6094 - mae: 11.1557 - mse: 194.6094 - val_loss: 179.5352 - val_mae: 10.2001 - val_mse: 179.5352\n",
      "Epoch 8/500\n",
      "12/12 [==============================] - 0s 3ms/step - loss: 142.9719 - mae: 9.4649 - mse: 142.9719 - val_loss: 150.8653 - val_mae: 9.3221 - val_mse: 150.8653\n",
      "Epoch 9/500\n",
      "12/12 [==============================] - 0s 3ms/step - loss: 123.7647 - mae: 8.7037 - mse: 123.7647 - val_loss: 140.3709 - val_mae: 9.0548 - val_mse: 140.3709\n",
      "Epoch 10/500\n",
      "12/12 [==============================] - 0s 3ms/step - loss: 113.0420 - mae: 8.2640 - mse: 113.0420 - val_loss: 129.0580 - val_mae: 8.6362 - val_mse: 129.0580\n",
      "Epoch 11/500\n",
      "12/12 [==============================] - 0s 3ms/step - loss: 102.6548 - mae: 7.7689 - mse: 102.6548 - val_loss: 118.0287 - val_mae: 8.1409 - val_mse: 118.0287\n",
      "Epoch 12/500\n",
      "12/12 [==============================] - 0s 3ms/step - loss: 93.3048 - mae: 7.2951 - mse: 93.3048 - val_loss: 108.6015 - val_mae: 7.7192 - val_mse: 108.6015\n",
      "Epoch 13/500\n",
      "12/12 [==============================] - 0s 3ms/step - loss: 84.8789 - mae: 6.8790 - mse: 84.8789 - val_loss: 100.2083 - val_mae: 7.3815 - val_mse: 100.2083\n",
      "Epoch 14/500\n",
      "12/12 [==============================] - 0s 3ms/step - loss: 77.5529 - mae: 6.4840 - mse: 77.5529 - val_loss: 92.3285 - val_mae: 7.0409 - val_mse: 92.3285\n",
      "Epoch 15/500\n",
      "12/12 [==============================] - 0s 3ms/step - loss: 70.4859 - mae: 6.1306 - mse: 70.4859 - val_loss: 85.1753 - val_mae: 6.7352 - val_mse: 85.1753\n",
      "Epoch 16/500\n",
      "12/12 [==============================] - 0s 3ms/step - loss: 64.3537 - mae: 5.8146 - mse: 64.3537 - val_loss: 78.7117 - val_mae: 6.4466 - val_mse: 78.7117\n",
      "Epoch 17/500\n",
      "12/12 [==============================] - 0s 3ms/step - loss: 59.3621 - mae: 5.5330 - mse: 59.3621 - val_loss: 73.1741 - val_mae: 6.1289 - val_mse: 73.1741\n",
      "Epoch 18/500\n",
      "12/12 [==============================] - 0s 3ms/step - loss: 55.0982 - mae: 5.2529 - mse: 55.0982 - val_loss: 69.0225 - val_mae: 5.8848 - val_mse: 69.0225\n",
      "Epoch 19/500\n",
      "12/12 [==============================] - 0s 3ms/step - loss: 52.0025 - mae: 5.0776 - mse: 52.0025 - val_loss: 65.3356 - val_mae: 5.7300 - val_mse: 65.3356\n",
      "Epoch 20/500\n",
      "12/12 [==============================] - 0s 3ms/step - loss: 49.5050 - mae: 4.9743 - mse: 49.5050 - val_loss: 62.6357 - val_mae: 5.6247 - val_mse: 62.6357\n",
      "Epoch 21/500\n",
      "12/12 [==============================] - 0s 3ms/step - loss: 47.5991 - mae: 4.8296 - mse: 47.5991 - val_loss: 60.6078 - val_mae: 5.5110 - val_mse: 60.6078\n",
      "Epoch 22/500\n",
      "12/12 [==============================] - 0s 3ms/step - loss: 46.2215 - mae: 4.7172 - mse: 46.2215 - val_loss: 58.6652 - val_mae: 5.4467 - val_mse: 58.6652\n",
      "Epoch 23/500\n",
      "12/12 [==============================] - 0s 3ms/step - loss: 44.8071 - mae: 4.6592 - mse: 44.8071 - val_loss: 57.1229 - val_mae: 5.3730 - val_mse: 57.1229\n",
      "Epoch 24/500\n",
      "12/12 [==============================] - 0s 3ms/step - loss: 43.7138 - mae: 4.5871 - mse: 43.7138 - val_loss: 55.6360 - val_mae: 5.3030 - val_mse: 55.6360\n",
      "Epoch 25/500\n",
      "12/12 [==============================] - 0s 3ms/step - loss: 42.6694 - mae: 4.4957 - mse: 42.6694 - val_loss: 54.5183 - val_mae: 5.2349 - val_mse: 54.5183\n",
      "Epoch 26/500\n",
      "12/12 [==============================] - 0s 3ms/step - loss: 41.6429 - mae: 4.4667 - mse: 41.6429 - val_loss: 52.6736 - val_mae: 5.2131 - val_mse: 52.6736\n",
      "Epoch 27/500\n",
      "12/12 [==============================] - 0s 3ms/step - loss: 40.7571 - mae: 4.4514 - mse: 40.7571 - val_loss: 51.6716 - val_mae: 5.1299 - val_mse: 51.6716\n",
      "Epoch 28/500\n",
      "12/12 [==============================] - 0s 3ms/step - loss: 39.9142 - mae: 4.3612 - mse: 39.9142 - val_loss: 50.2907 - val_mae: 5.0813 - val_mse: 50.2907\n",
      "Epoch 29/500\n",
      "12/12 [==============================] - 0s 3ms/step - loss: 38.9446 - mae: 4.2888 - mse: 38.9446 - val_loss: 49.3465 - val_mae: 5.0056 - val_mse: 49.3465\n",
      "Epoch 30/500\n",
      "12/12 [==============================] - 0s 3ms/step - loss: 38.0720 - mae: 4.2873 - mse: 38.0720 - val_loss: 47.8019 - val_mae: 4.9766 - val_mse: 47.8019\n",
      "Epoch 31/500\n",
      "12/12 [==============================] - 0s 3ms/step - loss: 37.0596 - mae: 4.2110 - mse: 37.0596 - val_loss: 46.9821 - val_mae: 4.8946 - val_mse: 46.9821\n",
      "Epoch 32/500\n",
      "12/12 [==============================] - 0s 3ms/step - loss: 36.2722 - mae: 4.1501 - mse: 36.2722 - val_loss: 45.8908 - val_mae: 4.8332 - val_mse: 45.8908\n",
      "Epoch 33/500\n",
      "12/12 [==============================] - 0s 3ms/step - loss: 35.5252 - mae: 4.0839 - mse: 35.5252 - val_loss: 44.7178 - val_mae: 4.7781 - val_mse: 44.7178\n",
      "Epoch 34/500\n",
      "12/12 [==============================] - 0s 3ms/step - loss: 34.6705 - mae: 4.0607 - mse: 34.6705 - val_loss: 43.5702 - val_mae: 4.7283 - val_mse: 43.5702\n",
      "Epoch 35/500\n",
      "12/12 [==============================] - 0s 3ms/step - loss: 33.9197 - mae: 3.9944 - mse: 33.9197 - val_loss: 42.5992 - val_mae: 4.6674 - val_mse: 42.5992\n",
      "Epoch 36/500\n",
      "12/12 [==============================] - 0s 3ms/step - loss: 33.1222 - mae: 3.9634 - mse: 33.1222 - val_loss: 41.2414 - val_mae: 4.6183 - val_mse: 41.2414\n",
      "Epoch 37/500\n",
      "12/12 [==============================] - 0s 3ms/step - loss: 32.5777 - mae: 3.8951 - mse: 32.5777 - val_loss: 40.5511 - val_mae: 4.5524 - val_mse: 40.5511\n",
      "Epoch 38/500\n",
      "12/12 [==============================] - 0s 3ms/step - loss: 31.6566 - mae: 3.8898 - mse: 31.6566 - val_loss: 39.3499 - val_mae: 4.5017 - val_mse: 39.3499\n",
      "Epoch 39/500\n",
      "12/12 [==============================] - 0s 3ms/step - loss: 31.0734 - mae: 3.7922 - mse: 31.0734 - val_loss: 38.6476 - val_mae: 4.4358 - val_mse: 38.6476\n",
      "Epoch 40/500\n",
      "12/12 [==============================] - 0s 3ms/step - loss: 30.3076 - mae: 3.7958 - mse: 30.3076 - val_loss: 37.2195 - val_mae: 4.3953 - val_mse: 37.2195\n",
      "Epoch 41/500\n",
      "12/12 [==============================] - 0s 3ms/step - loss: 29.5723 - mae: 3.7183 - mse: 29.5723 - val_loss: 36.7976 - val_mae: 4.3272 - val_mse: 36.7976\n",
      "Epoch 42/500\n",
      "12/12 [==============================] - 0s 3ms/step - loss: 29.0181 - mae: 3.6821 - mse: 29.0181 - val_loss: 35.4858 - val_mae: 4.2883 - val_mse: 35.4858\n",
      "Epoch 43/500\n",
      "12/12 [==============================] - 0s 3ms/step - loss: 28.3520 - mae: 3.6236 - mse: 28.3520 - val_loss: 35.0648 - val_mae: 4.2251 - val_mse: 35.0648\n",
      "Epoch 44/500\n",
      "12/12 [==============================] - 0s 3ms/step - loss: 27.8425 - mae: 3.5579 - mse: 27.8425 - val_loss: 33.8644 - val_mae: 4.1936 - val_mse: 33.8644\n",
      "Epoch 45/500\n",
      "12/12 [==============================] - 0s 3ms/step - loss: 27.2242 - mae: 3.5767 - mse: 27.2242 - val_loss: 33.1031 - val_mae: 4.1491 - val_mse: 33.1031\n",
      "Epoch 46/500\n",
      "12/12 [==============================] - 0s 3ms/step - loss: 26.7456 - mae: 3.4910 - mse: 26.7456 - val_loss: 32.7485 - val_mae: 4.0922 - val_mse: 32.7485\n",
      "Epoch 47/500\n",
      "12/12 [==============================] - 0s 4ms/step - loss: 26.1754 - mae: 3.4527 - mse: 26.1754 - val_loss: 31.7365 - val_mae: 4.0677 - val_mse: 31.7365\n",
      "Epoch 48/500\n",
      "12/12 [==============================] - 0s 3ms/step - loss: 25.7856 - mae: 3.4413 - mse: 25.7856 - val_loss: 31.0389 - val_mae: 4.0268 - val_mse: 31.0389\n",
      "Epoch 49/500\n"
     ]
    },
    {
     "name": "stdout",
     "output_type": "stream",
     "text": [
      "12/12 [==============================] - 0s 3ms/step - loss: 25.3598 - mae: 3.3693 - mse: 25.3598 - val_loss: 30.7614 - val_mae: 3.9749 - val_mse: 30.7614\n",
      "Epoch 50/500\n",
      "12/12 [==============================] - 0s 3ms/step - loss: 24.9071 - mae: 3.3380 - mse: 24.9071 - val_loss: 29.8185 - val_mae: 3.9663 - val_mse: 29.8185\n",
      "Epoch 51/500\n",
      "12/12 [==============================] - 0s 3ms/step - loss: 24.5187 - mae: 3.3529 - mse: 24.5187 - val_loss: 29.3097 - val_mae: 3.9275 - val_mse: 29.3097\n",
      "Epoch 52/500\n",
      "12/12 [==============================] - 0s 3ms/step - loss: 24.1546 - mae: 3.2960 - mse: 24.1546 - val_loss: 29.0907 - val_mae: 3.8753 - val_mse: 29.0907\n",
      "Epoch 53/500\n",
      "12/12 [==============================] - 0s 3ms/step - loss: 23.9088 - mae: 3.2909 - mse: 23.9088 - val_loss: 28.3589 - val_mae: 3.8551 - val_mse: 28.3589\n",
      "Epoch 54/500\n",
      "12/12 [==============================] - 0s 3ms/step - loss: 23.9136 - mae: 3.2195 - mse: 23.9136 - val_loss: 28.1801 - val_mae: 3.8134 - val_mse: 28.1801\n",
      "Epoch 55/500\n",
      "12/12 [==============================] - 0s 3ms/step - loss: 23.4131 - mae: 3.2759 - mse: 23.4131 - val_loss: 27.3070 - val_mae: 3.8241 - val_mse: 27.3070\n",
      "Epoch 56/500\n",
      "12/12 [==============================] - 0s 3ms/step - loss: 22.9314 - mae: 3.2135 - mse: 22.9314 - val_loss: 27.2267 - val_mae: 3.7593 - val_mse: 27.2267\n",
      "Epoch 57/500\n",
      "12/12 [==============================] - 0s 3ms/step - loss: 22.8303 - mae: 3.1376 - mse: 22.8303 - val_loss: 27.0766 - val_mae: 3.7315 - val_mse: 27.0766\n",
      "Epoch 58/500\n",
      "12/12 [==============================] - 0s 3ms/step - loss: 22.7152 - mae: 3.1810 - mse: 22.7152 - val_loss: 26.1301 - val_mae: 3.7404 - val_mse: 26.1301\n",
      "Epoch 59/500\n",
      "12/12 [==============================] - 0s 3ms/step - loss: 22.1435 - mae: 3.1402 - mse: 22.1435 - val_loss: 26.3758 - val_mae: 3.6844 - val_mse: 26.3758\n",
      "Epoch 60/500\n",
      "12/12 [==============================] - 0s 3ms/step - loss: 22.2285 - mae: 3.1150 - mse: 22.2285 - val_loss: 25.6199 - val_mae: 3.6694 - val_mse: 25.6199\n",
      "Epoch 61/500\n",
      "12/12 [==============================] - 0s 3ms/step - loss: 21.7202 - mae: 3.0948 - mse: 21.7202 - val_loss: 25.5577 - val_mae: 3.6411 - val_mse: 25.5577\n",
      "Epoch 62/500\n",
      "12/12 [==============================] - 0s 3ms/step - loss: 21.6947 - mae: 3.0555 - mse: 21.6947 - val_loss: 25.2137 - val_mae: 3.6230 - val_mse: 25.2137\n",
      "Epoch 63/500\n",
      "12/12 [==============================] - 0s 3ms/step - loss: 21.4205 - mae: 3.0627 - mse: 21.4205 - val_loss: 24.9730 - val_mae: 3.6057 - val_mse: 24.9730\n",
      "Epoch 64/500\n",
      "12/12 [==============================] - 0s 3ms/step - loss: 21.3687 - mae: 3.0400 - mse: 21.3687 - val_loss: 24.7982 - val_mae: 3.5898 - val_mse: 24.7982\n",
      "Epoch 65/500\n",
      "12/12 [==============================] - 0s 3ms/step - loss: 21.1863 - mae: 3.0559 - mse: 21.1863 - val_loss: 24.2654 - val_mae: 3.5807 - val_mse: 24.2654\n",
      "Epoch 66/500\n",
      "12/12 [==============================] - 0s 3ms/step - loss: 20.9173 - mae: 3.0047 - mse: 20.9173 - val_loss: 24.4784 - val_mae: 3.5628 - val_mse: 24.4784\n",
      "Epoch 67/500\n",
      "12/12 [==============================] - 0s 3ms/step - loss: 20.9824 - mae: 3.0210 - mse: 20.9824 - val_loss: 23.9697 - val_mae: 3.5482 - val_mse: 23.9697\n",
      "Epoch 68/500\n",
      "12/12 [==============================] - 0s 3ms/step - loss: 20.8181 - mae: 2.9768 - mse: 20.8181 - val_loss: 23.9224 - val_mae: 3.5355 - val_mse: 23.9224\n",
      "Epoch 69/500\n",
      "12/12 [==============================] - 0s 3ms/step - loss: 20.6045 - mae: 2.9933 - mse: 20.6045 - val_loss: 23.7210 - val_mae: 3.5236 - val_mse: 23.7210\n",
      "Epoch 70/500\n",
      "12/12 [==============================] - 0s 3ms/step - loss: 20.4691 - mae: 2.9805 - mse: 20.4691 - val_loss: 23.4932 - val_mae: 3.5113 - val_mse: 23.4932\n",
      "Epoch 71/500\n",
      "12/12 [==============================] - 0s 3ms/step - loss: 20.4189 - mae: 2.9486 - mse: 20.4189 - val_loss: 23.6283 - val_mae: 3.5129 - val_mse: 23.6283\n",
      "Epoch 72/500\n",
      "12/12 [==============================] - 0s 3ms/step - loss: 20.3248 - mae: 2.9732 - mse: 20.3248 - val_loss: 23.0232 - val_mae: 3.5061 - val_mse: 23.0232\n",
      "Epoch 73/500\n",
      "12/12 [==============================] - 0s 4ms/step - loss: 20.0508 - mae: 2.9505 - mse: 20.0508 - val_loss: 23.3904 - val_mae: 3.4936 - val_mse: 23.3904\n",
      "Epoch 74/500\n",
      "12/12 [==============================] - 0s 3ms/step - loss: 20.0861 - mae: 2.9190 - mse: 20.0861 - val_loss: 23.0565 - val_mae: 3.4768 - val_mse: 23.0565\n",
      "Epoch 75/500\n",
      "12/12 [==============================] - 0s 3ms/step - loss: 19.8564 - mae: 2.9234 - mse: 19.8564 - val_loss: 22.8222 - val_mae: 3.4686 - val_mse: 22.8222\n",
      "Epoch 76/500\n",
      "12/12 [==============================] - 0s 3ms/step - loss: 19.7785 - mae: 2.9375 - mse: 19.7785 - val_loss: 22.7180 - val_mae: 3.4587 - val_mse: 22.7180\n",
      "Epoch 77/500\n",
      "12/12 [==============================] - 0s 4ms/step - loss: 19.6780 - mae: 2.8898 - mse: 19.6780 - val_loss: 22.9189 - val_mae: 3.4611 - val_mse: 22.9189\n",
      "Epoch 78/500\n",
      "12/12 [==============================] - 0s 4ms/step - loss: 19.5689 - mae: 2.8719 - mse: 19.5689 - val_loss: 22.4067 - val_mae: 3.4377 - val_mse: 22.4067\n",
      "Epoch 79/500\n",
      "12/12 [==============================] - 0s 3ms/step - loss: 19.5930 - mae: 2.9364 - mse: 19.5930 - val_loss: 22.3395 - val_mae: 3.4309 - val_mse: 22.3395\n",
      "Epoch 80/500\n",
      "12/12 [==============================] - 0s 3ms/step - loss: 19.3669 - mae: 2.8696 - mse: 19.3669 - val_loss: 22.4056 - val_mae: 3.4273 - val_mse: 22.4056\n",
      "Epoch 81/500\n",
      "12/12 [==============================] - 0s 4ms/step - loss: 19.4078 - mae: 2.8579 - mse: 19.4078 - val_loss: 22.1623 - val_mae: 3.4178 - val_mse: 22.1623\n",
      "Epoch 82/500\n",
      "12/12 [==============================] - 0s 3ms/step - loss: 19.3059 - mae: 2.8827 - mse: 19.3059 - val_loss: 22.0605 - val_mae: 3.4092 - val_mse: 22.0605\n",
      "Epoch 83/500\n",
      "12/12 [==============================] - 0s 3ms/step - loss: 19.2134 - mae: 2.8556 - mse: 19.2134 - val_loss: 21.9792 - val_mae: 3.3995 - val_mse: 21.9792\n",
      "Epoch 84/500\n",
      "12/12 [==============================] - 0s 3ms/step - loss: 19.1347 - mae: 2.8717 - mse: 19.1347 - val_loss: 21.9209 - val_mae: 3.3930 - val_mse: 21.9209\n",
      "Epoch 85/500\n",
      "12/12 [==============================] - 0s 3ms/step - loss: 19.0716 - mae: 2.8409 - mse: 19.0716 - val_loss: 21.8030 - val_mae: 3.3850 - val_mse: 21.8030\n",
      "Epoch 86/500\n",
      "12/12 [==============================] - 0s 3ms/step - loss: 18.9385 - mae: 2.8430 - mse: 18.9385 - val_loss: 21.6670 - val_mae: 3.3805 - val_mse: 21.6670\n",
      "Epoch 87/500\n",
      "12/12 [==============================] - 0s 3ms/step - loss: 18.8748 - mae: 2.8493 - mse: 18.8748 - val_loss: 21.6385 - val_mae: 3.3712 - val_mse: 21.6385\n",
      "Epoch 88/500\n",
      "12/12 [==============================] - 0s 3ms/step - loss: 18.8289 - mae: 2.8387 - mse: 18.8289 - val_loss: 21.5392 - val_mae: 3.3644 - val_mse: 21.5392\n",
      "Epoch 89/500\n",
      "12/12 [==============================] - 0s 3ms/step - loss: 18.7921 - mae: 2.8109 - mse: 18.7921 - val_loss: 21.4907 - val_mae: 3.3583 - val_mse: 21.4907\n",
      "Epoch 90/500\n",
      "12/12 [==============================] - 0s 3ms/step - loss: 18.7108 - mae: 2.8354 - mse: 18.7108 - val_loss: 21.3055 - val_mae: 3.3524 - val_mse: 21.3055\n",
      "Epoch 91/500\n",
      "12/12 [==============================] - 0s 3ms/step - loss: 18.7830 - mae: 2.8144 - mse: 18.7830 - val_loss: 21.4509 - val_mae: 3.3442 - val_mse: 21.4509\n",
      "Epoch 92/500\n",
      "12/12 [==============================] - 0s 3ms/step - loss: 18.5100 - mae: 2.8067 - mse: 18.5100 - val_loss: 21.0871 - val_mae: 3.3345 - val_mse: 21.0871\n",
      "Epoch 93/500\n",
      "12/12 [==============================] - 0s 3ms/step - loss: 18.5767 - mae: 2.8243 - mse: 18.5767 - val_loss: 21.2619 - val_mae: 3.3265 - val_mse: 21.2619\n",
      "Epoch 94/500\n",
      "12/12 [==============================] - 0s 3ms/step - loss: 18.4958 - mae: 2.8118 - mse: 18.4958 - val_loss: 20.9549 - val_mae: 3.3212 - val_mse: 20.9549\n",
      "Epoch 95/500\n",
      "12/12 [==============================] - 0s 3ms/step - loss: 18.4219 - mae: 2.8013 - mse: 18.4219 - val_loss: 20.9241 - val_mae: 3.3096 - val_mse: 20.9241\n",
      "Epoch 96/500\n",
      "12/12 [==============================] - 0s 3ms/step - loss: 18.4945 - mae: 2.7996 - mse: 18.4945 - val_loss: 20.8824 - val_mae: 3.3041 - val_mse: 20.8824\n",
      "Epoch 97/500\n",
      "12/12 [==============================] - 0s 3ms/step - loss: 18.2847 - mae: 2.8068 - mse: 18.2847 - val_loss: 20.7915 - val_mae: 3.3004 - val_mse: 20.7915\n"
     ]
    },
    {
     "name": "stdout",
     "output_type": "stream",
     "text": [
      "Epoch 98/500\n",
      "12/12 [==============================] - 0s 4ms/step - loss: 18.1712 - mae: 2.7749 - mse: 18.1712 - val_loss: 20.6869 - val_mae: 3.2910 - val_mse: 20.6869\n",
      "Epoch 99/500\n",
      "12/12 [==============================] - 0s 4ms/step - loss: 18.0961 - mae: 2.7685 - mse: 18.0961 - val_loss: 20.6575 - val_mae: 3.2820 - val_mse: 20.6575\n",
      "Epoch 100/500\n",
      "12/12 [==============================] - 0s 3ms/step - loss: 18.2414 - mae: 2.8336 - mse: 18.2414 - val_loss: 20.5060 - val_mae: 3.2809 - val_mse: 20.5060\n",
      "Epoch 101/500\n",
      "12/12 [==============================] - 0s 3ms/step - loss: 18.1154 - mae: 2.7605 - mse: 18.1154 - val_loss: 20.8111 - val_mae: 3.2851 - val_mse: 20.8111\n",
      "Epoch 102/500\n",
      "12/12 [==============================] - 0s 4ms/step - loss: 18.0200 - mae: 2.7590 - mse: 18.0200 - val_loss: 20.3578 - val_mae: 3.2783 - val_mse: 20.3578\n",
      "Epoch 103/500\n",
      "12/12 [==============================] - 0s 3ms/step - loss: 18.0221 - mae: 2.8095 - mse: 18.0221 - val_loss: 20.6736 - val_mae: 3.2723 - val_mse: 20.6736\n",
      "Epoch 104/500\n",
      "12/12 [==============================] - 0s 3ms/step - loss: 17.8421 - mae: 2.7295 - mse: 17.8421 - val_loss: 20.3743 - val_mae: 3.2482 - val_mse: 20.3743\n",
      "Epoch 105/500\n",
      "12/12 [==============================] - 0s 3ms/step - loss: 17.8092 - mae: 2.7314 - mse: 17.8092 - val_loss: 20.3626 - val_mae: 3.2468 - val_mse: 20.3626\n",
      "Epoch 106/500\n",
      "12/12 [==============================] - 0s 3ms/step - loss: 17.7320 - mae: 2.7644 - mse: 17.7320 - val_loss: 20.0691 - val_mae: 3.2465 - val_mse: 20.0691\n",
      "Epoch 107/500\n",
      "12/12 [==============================] - 0s 4ms/step - loss: 17.7446 - mae: 2.7283 - mse: 17.7446 - val_loss: 20.2450 - val_mae: 3.2344 - val_mse: 20.2450\n",
      "Epoch 108/500\n",
      "12/12 [==============================] - 0s 3ms/step - loss: 17.6964 - mae: 2.7840 - mse: 17.6964 - val_loss: 19.9341 - val_mae: 3.2243 - val_mse: 19.9341\n",
      "Epoch 109/500\n",
      "12/12 [==============================] - 0s 3ms/step - loss: 17.8311 - mae: 2.7072 - mse: 17.8311 - val_loss: 20.2694 - val_mae: 3.2325 - val_mse: 20.2694\n",
      "Epoch 110/500\n",
      "12/12 [==============================] - 0s 3ms/step - loss: 17.8438 - mae: 2.7925 - mse: 17.8438 - val_loss: 19.8505 - val_mae: 3.2101 - val_mse: 19.8505\n",
      "Epoch 111/500\n",
      "12/12 [==============================] - 0s 3ms/step - loss: 17.3835 - mae: 2.7199 - mse: 17.3835 - val_loss: 19.9666 - val_mae: 3.2096 - val_mse: 19.9666\n",
      "Epoch 112/500\n",
      "12/12 [==============================] - 0s 4ms/step - loss: 17.4510 - mae: 2.6937 - mse: 17.4510 - val_loss: 19.7296 - val_mae: 3.1997 - val_mse: 19.7296\n",
      "Epoch 113/500\n",
      "12/12 [==============================] - 0s 3ms/step - loss: 17.4132 - mae: 2.7624 - mse: 17.4132 - val_loss: 19.6645 - val_mae: 3.1880 - val_mse: 19.6645\n",
      "Epoch 114/500\n",
      "12/12 [==============================] - 0s 3ms/step - loss: 17.2812 - mae: 2.6694 - mse: 17.2812 - val_loss: 19.8638 - val_mae: 3.1972 - val_mse: 19.8638\n",
      "Epoch 115/500\n",
      "12/12 [==============================] - 0s 3ms/step - loss: 17.4730 - mae: 2.7455 - mse: 17.4730 - val_loss: 19.5388 - val_mae: 3.1773 - val_mse: 19.5388\n",
      "Epoch 116/500\n",
      "12/12 [==============================] - 0s 3ms/step - loss: 17.1009 - mae: 2.6775 - mse: 17.1009 - val_loss: 19.6269 - val_mae: 3.1744 - val_mse: 19.6269\n",
      "Epoch 117/500\n",
      "12/12 [==============================] - 0s 3ms/step - loss: 17.2632 - mae: 2.7381 - mse: 17.2632 - val_loss: 19.4857 - val_mae: 3.1680 - val_mse: 19.4857\n",
      "Epoch 118/500\n",
      "12/12 [==============================] - 0s 3ms/step - loss: 17.0196 - mae: 2.6504 - mse: 17.0196 - val_loss: 19.7755 - val_mae: 3.1889 - val_mse: 19.7755\n",
      "Epoch 119/500\n",
      "12/12 [==============================] - 0s 3ms/step - loss: 16.8932 - mae: 2.6606 - mse: 16.8932 - val_loss: 19.2440 - val_mae: 3.1648 - val_mse: 19.2440\n",
      "Epoch 120/500\n",
      "12/12 [==============================] - 0s 3ms/step - loss: 17.0885 - mae: 2.7325 - mse: 17.0885 - val_loss: 19.6110 - val_mae: 3.1731 - val_mse: 19.6110\n",
      "Epoch 121/500\n",
      "12/12 [==============================] - 0s 3ms/step - loss: 16.8778 - mae: 2.6545 - mse: 16.8778 - val_loss: 19.1357 - val_mae: 3.1461 - val_mse: 19.1357\n",
      "Epoch 122/500\n",
      "12/12 [==============================] - 0s 3ms/step - loss: 16.7988 - mae: 2.7064 - mse: 16.7988 - val_loss: 19.1731 - val_mae: 3.1370 - val_mse: 19.1731\n",
      "Epoch 123/500\n",
      "12/12 [==============================] - 0s 3ms/step - loss: 16.9099 - mae: 2.6358 - mse: 16.9099 - val_loss: 19.1838 - val_mae: 3.1373 - val_mse: 19.1838\n",
      "Epoch 124/500\n",
      "12/12 [==============================] - 0s 3ms/step - loss: 16.6885 - mae: 2.7155 - mse: 16.6885 - val_loss: 18.9465 - val_mae: 3.1303 - val_mse: 18.9465\n",
      "Epoch 125/500\n",
      "12/12 [==============================] - 0s 4ms/step - loss: 16.7113 - mae: 2.6335 - mse: 16.7113 - val_loss: 19.0537 - val_mae: 3.1229 - val_mse: 19.0537\n",
      "Epoch 126/500\n",
      "12/12 [==============================] - 0s 3ms/step - loss: 16.5694 - mae: 2.6630 - mse: 16.5694 - val_loss: 18.8370 - val_mae: 3.1196 - val_mse: 18.8370\n",
      "Epoch 127/500\n",
      "12/12 [==============================] - 0s 3ms/step - loss: 16.4753 - mae: 2.6342 - mse: 16.4753 - val_loss: 18.9565 - val_mae: 3.1126 - val_mse: 18.9565\n",
      "Epoch 128/500\n",
      "12/12 [==============================] - 0s 3ms/step - loss: 16.3379 - mae: 2.6330 - mse: 16.3379 - val_loss: 18.7346 - val_mae: 3.1136 - val_mse: 18.7346\n",
      "Epoch 129/500\n",
      "12/12 [==============================] - 0s 4ms/step - loss: 16.4064 - mae: 2.6994 - mse: 16.4064 - val_loss: 18.7419 - val_mae: 3.0956 - val_mse: 18.7419\n",
      "Epoch 130/500\n",
      "12/12 [==============================] - 0s 4ms/step - loss: 16.4488 - mae: 2.6132 - mse: 16.4488 - val_loss: 18.8352 - val_mae: 3.0998 - val_mse: 18.8352\n",
      "Epoch 131/500\n",
      "12/12 [==============================] - 0s 3ms/step - loss: 16.3339 - mae: 2.6308 - mse: 16.3339 - val_loss: 18.6268 - val_mae: 3.0894 - val_mse: 18.6268\n",
      "Epoch 132/500\n",
      "12/12 [==============================] - 0s 3ms/step - loss: 16.2219 - mae: 2.6562 - mse: 16.2219 - val_loss: 18.6569 - val_mae: 3.0854 - val_mse: 18.6569\n",
      "Epoch 133/500\n",
      "12/12 [==============================] - 0s 3ms/step - loss: 16.2740 - mae: 2.6420 - mse: 16.2740 - val_loss: 18.8291 - val_mae: 3.1018 - val_mse: 18.8291\n",
      "Epoch 134/500\n",
      "12/12 [==============================] - 0s 3ms/step - loss: 16.2394 - mae: 2.6402 - mse: 16.2394 - val_loss: 18.4254 - val_mae: 3.0738 - val_mse: 18.4254\n",
      "Epoch 135/500\n",
      "12/12 [==============================] - 0s 3ms/step - loss: 16.1269 - mae: 2.6077 - mse: 16.1269 - val_loss: 18.4468 - val_mae: 3.0659 - val_mse: 18.4468\n",
      "Epoch 136/500\n",
      "12/12 [==============================] - 0s 4ms/step - loss: 15.9330 - mae: 2.6300 - mse: 15.9330 - val_loss: 18.3574 - val_mae: 3.0580 - val_mse: 18.3574\n",
      "Epoch 137/500\n",
      "12/12 [==============================] - 0s 3ms/step - loss: 15.8241 - mae: 2.5967 - mse: 15.8241 - val_loss: 18.3169 - val_mae: 3.0535 - val_mse: 18.3169\n",
      "Epoch 138/500\n",
      "12/12 [==============================] - 0s 3ms/step - loss: 15.8053 - mae: 2.6115 - mse: 15.8053 - val_loss: 18.2801 - val_mae: 3.0521 - val_mse: 18.2801\n",
      "Epoch 139/500\n",
      "12/12 [==============================] - 0s 3ms/step - loss: 15.7288 - mae: 2.5757 - mse: 15.7288 - val_loss: 18.2465 - val_mae: 3.0509 - val_mse: 18.2465\n",
      "Epoch 140/500\n",
      "12/12 [==============================] - 0s 3ms/step - loss: 15.7672 - mae: 2.6216 - mse: 15.7672 - val_loss: 18.0645 - val_mae: 3.0498 - val_mse: 18.0645\n",
      "Epoch 141/500\n",
      "12/12 [==============================] - 0s 3ms/step - loss: 15.6056 - mae: 2.5814 - mse: 15.6056 - val_loss: 18.1918 - val_mae: 3.0437 - val_mse: 18.1918\n",
      "Epoch 142/500\n",
      "12/12 [==============================] - 0s 3ms/step - loss: 15.5548 - mae: 2.5765 - mse: 15.5548 - val_loss: 18.0412 - val_mae: 3.0306 - val_mse: 18.0412\n",
      "Epoch 143/500\n",
      "12/12 [==============================] - 0s 3ms/step - loss: 15.5438 - mae: 2.5882 - mse: 15.5438 - val_loss: 17.9565 - val_mae: 3.0258 - val_mse: 17.9565\n",
      "Epoch 144/500\n",
      "12/12 [==============================] - 0s 3ms/step - loss: 15.4660 - mae: 2.5406 - mse: 15.4660 - val_loss: 17.9861 - val_mae: 3.0309 - val_mse: 17.9861\n",
      "Epoch 145/500\n",
      "12/12 [==============================] - 0s 3ms/step - loss: 15.5416 - mae: 2.5730 - mse: 15.5416 - val_loss: 17.8405 - val_mae: 3.0137 - val_mse: 17.8405\n",
      "Epoch 146/500\n"
     ]
    },
    {
     "name": "stdout",
     "output_type": "stream",
     "text": [
      "12/12 [==============================] - 0s 3ms/step - loss: 15.5780 - mae: 2.6326 - mse: 15.5780 - val_loss: 17.8538 - val_mae: 3.0177 - val_mse: 17.8538\n",
      "Epoch 147/500\n",
      "12/12 [==============================] - 0s 3ms/step - loss: 15.4880 - mae: 2.5393 - mse: 15.4880 - val_loss: 17.7163 - val_mae: 3.0104 - val_mse: 17.7163\n",
      "Epoch 148/500\n",
      "12/12 [==============================] - 0s 3ms/step - loss: 15.5251 - mae: 2.6540 - mse: 15.5251 - val_loss: 17.7136 - val_mae: 3.0054 - val_mse: 17.7136\n",
      "Epoch 149/500\n",
      "12/12 [==============================] - 0s 3ms/step - loss: 15.2473 - mae: 2.5385 - mse: 15.2473 - val_loss: 17.8117 - val_mae: 3.0154 - val_mse: 17.8117\n",
      "Epoch 150/500\n",
      "12/12 [==============================] - 0s 3ms/step - loss: 15.2753 - mae: 2.5784 - mse: 15.2753 - val_loss: 17.6226 - val_mae: 2.9992 - val_mse: 17.6226\n",
      "Epoch 151/500\n",
      "12/12 [==============================] - 0s 3ms/step - loss: 15.1908 - mae: 2.5442 - mse: 15.1908 - val_loss: 17.4359 - val_mae: 3.0042 - val_mse: 17.4359\n",
      "Epoch 152/500\n",
      "12/12 [==============================] - 0s 3ms/step - loss: 15.1376 - mae: 2.5827 - mse: 15.1376 - val_loss: 17.4330 - val_mae: 2.9869 - val_mse: 17.4330\n",
      "Epoch 153/500\n",
      "12/12 [==============================] - 0s 3ms/step - loss: 14.9853 - mae: 2.5100 - mse: 14.9853 - val_loss: 17.4760 - val_mae: 2.9883 - val_mse: 17.4760\n",
      "Epoch 154/500\n",
      "12/12 [==============================] - 0s 3ms/step - loss: 15.0174 - mae: 2.5676 - mse: 15.0174 - val_loss: 17.2738 - val_mae: 2.9716 - val_mse: 17.2738\n",
      "Epoch 155/500\n",
      "12/12 [==============================] - 0s 3ms/step - loss: 15.1602 - mae: 2.5298 - mse: 15.1602 - val_loss: 17.3170 - val_mae: 2.9751 - val_mse: 17.3170\n",
      "Epoch 156/500\n",
      "12/12 [==============================] - 0s 3ms/step - loss: 14.8773 - mae: 2.5781 - mse: 14.8773 - val_loss: 17.1851 - val_mae: 2.9740 - val_mse: 17.1851\n",
      "Epoch 157/500\n",
      "12/12 [==============================] - 0s 4ms/step - loss: 14.9014 - mae: 2.5008 - mse: 14.9014 - val_loss: 17.1556 - val_mae: 2.9644 - val_mse: 17.1556\n",
      "Epoch 158/500\n",
      "12/12 [==============================] - 0s 4ms/step - loss: 14.9849 - mae: 2.5893 - mse: 14.9849 - val_loss: 17.3289 - val_mae: 2.9773 - val_mse: 17.3289\n",
      "Epoch 159/500\n",
      "12/12 [==============================] - 0s 3ms/step - loss: 14.8600 - mae: 2.4913 - mse: 14.8600 - val_loss: 17.0577 - val_mae: 2.9625 - val_mse: 17.0577\n",
      "Epoch 160/500\n",
      "12/12 [==============================] - 0s 3ms/step - loss: 14.7470 - mae: 2.5716 - mse: 14.7470 - val_loss: 17.1615 - val_mae: 2.9621 - val_mse: 17.1615\n",
      "Epoch 161/500\n",
      "12/12 [==============================] - 0s 3ms/step - loss: 14.5163 - mae: 2.4730 - mse: 14.5163 - val_loss: 17.1240 - val_mae: 2.9584 - val_mse: 17.1240\n",
      "Epoch 162/500\n",
      "12/12 [==============================] - 0s 3ms/step - loss: 14.6576 - mae: 2.5153 - mse: 14.6576 - val_loss: 17.0389 - val_mae: 2.9515 - val_mse: 17.0389\n",
      "Epoch 163/500\n",
      "12/12 [==============================] - 0s 3ms/step - loss: 14.5074 - mae: 2.4934 - mse: 14.5074 - val_loss: 16.8683 - val_mae: 2.9452 - val_mse: 16.8683\n",
      "Epoch 164/500\n",
      "12/12 [==============================] - 0s 3ms/step - loss: 14.3934 - mae: 2.4824 - mse: 14.3934 - val_loss: 16.7865 - val_mae: 2.9380 - val_mse: 16.7865\n",
      "Epoch 165/500\n",
      "12/12 [==============================] - 0s 3ms/step - loss: 14.3905 - mae: 2.5049 - mse: 14.3905 - val_loss: 17.0013 - val_mae: 2.9530 - val_mse: 17.0013\n",
      "Epoch 166/500\n",
      "12/12 [==============================] - 0s 3ms/step - loss: 14.4528 - mae: 2.4955 - mse: 14.4528 - val_loss: 16.7172 - val_mae: 2.9308 - val_mse: 16.7172\n",
      "Epoch 167/500\n",
      "12/12 [==============================] - 0s 3ms/step - loss: 14.1879 - mae: 2.4664 - mse: 14.1879 - val_loss: 16.7092 - val_mae: 2.9286 - val_mse: 16.7092\n",
      "Epoch 168/500\n",
      "12/12 [==============================] - 0s 3ms/step - loss: 14.2856 - mae: 2.4423 - mse: 14.2856 - val_loss: 16.6560 - val_mae: 2.9351 - val_mse: 16.6560\n",
      "Epoch 169/500\n",
      "12/12 [==============================] - 0s 3ms/step - loss: 14.1553 - mae: 2.5224 - mse: 14.1553 - val_loss: 16.5454 - val_mae: 2.9320 - val_mse: 16.5454\n",
      "Epoch 170/500\n",
      "12/12 [==============================] - 0s 3ms/step - loss: 14.1689 - mae: 2.4491 - mse: 14.1689 - val_loss: 16.5313 - val_mae: 2.9227 - val_mse: 16.5313\n",
      "Epoch 171/500\n",
      "12/12 [==============================] - 0s 3ms/step - loss: 13.9990 - mae: 2.4704 - mse: 13.9990 - val_loss: 16.5545 - val_mae: 2.9216 - val_mse: 16.5545\n",
      "Epoch 172/500\n",
      "12/12 [==============================] - 0s 3ms/step - loss: 13.9363 - mae: 2.4659 - mse: 13.9363 - val_loss: 16.4475 - val_mae: 2.9189 - val_mse: 16.4475\n",
      "Epoch 173/500\n",
      "12/12 [==============================] - 0s 3ms/step - loss: 13.8274 - mae: 2.4535 - mse: 13.8274 - val_loss: 16.4487 - val_mae: 2.9195 - val_mse: 16.4487\n",
      "Epoch 174/500\n",
      "12/12 [==============================] - 0s 3ms/step - loss: 13.7735 - mae: 2.4389 - mse: 13.7735 - val_loss: 16.4032 - val_mae: 2.9197 - val_mse: 16.4032\n",
      "Epoch 175/500\n",
      "12/12 [==============================] - 0s 3ms/step - loss: 13.7217 - mae: 2.4704 - mse: 13.7217 - val_loss: 16.4369 - val_mae: 2.9210 - val_mse: 16.4369\n",
      "Epoch 176/500\n",
      "12/12 [==============================] - 0s 3ms/step - loss: 13.7172 - mae: 2.4434 - mse: 13.7172 - val_loss: 16.4128 - val_mae: 2.9199 - val_mse: 16.4128\n",
      "Epoch 177/500\n",
      "12/12 [==============================] - 0s 3ms/step - loss: 13.7009 - mae: 2.4259 - mse: 13.7009 - val_loss: 16.3012 - val_mae: 2.9071 - val_mse: 16.3012\n",
      "Epoch 178/500\n",
      "12/12 [==============================] - 0s 3ms/step - loss: 13.5946 - mae: 2.4496 - mse: 13.5946 - val_loss: 16.2672 - val_mae: 2.9139 - val_mse: 16.2672\n",
      "Epoch 179/500\n",
      "12/12 [==============================] - 0s 3ms/step - loss: 13.7179 - mae: 2.5021 - mse: 13.7179 - val_loss: 16.3474 - val_mae: 2.9197 - val_mse: 16.3474\n",
      "Epoch 180/500\n",
      "12/12 [==============================] - 0s 4ms/step - loss: 13.4284 - mae: 2.4172 - mse: 13.4284 - val_loss: 16.2315 - val_mae: 2.9100 - val_mse: 16.2315\n",
      "Epoch 181/500\n",
      "12/12 [==============================] - 0s 3ms/step - loss: 13.4026 - mae: 2.3976 - mse: 13.4026 - val_loss: 16.1468 - val_mae: 2.9031 - val_mse: 16.1468\n",
      "Epoch 182/500\n",
      "12/12 [==============================] - 0s 3ms/step - loss: 13.3138 - mae: 2.4523 - mse: 13.3138 - val_loss: 16.0996 - val_mae: 2.9017 - val_mse: 16.0996\n",
      "Epoch 183/500\n",
      "12/12 [==============================] - 0s 3ms/step - loss: 13.2828 - mae: 2.4122 - mse: 13.2828 - val_loss: 16.2340 - val_mae: 2.9086 - val_mse: 16.2340\n",
      "Epoch 184/500\n",
      "12/12 [==============================] - 0s 3ms/step - loss: 13.3091 - mae: 2.4425 - mse: 13.3091 - val_loss: 16.0098 - val_mae: 2.8957 - val_mse: 16.0098\n",
      "Epoch 185/500\n",
      "12/12 [==============================] - 0s 3ms/step - loss: 13.1706 - mae: 2.4214 - mse: 13.1706 - val_loss: 16.2613 - val_mae: 2.9155 - val_mse: 16.2613\n",
      "Epoch 186/500\n",
      "12/12 [==============================] - 0s 3ms/step - loss: 13.1614 - mae: 2.3743 - mse: 13.1614 - val_loss: 15.9449 - val_mae: 2.8975 - val_mse: 15.9449\n",
      "Epoch 187/500\n",
      "12/12 [==============================] - 0s 3ms/step - loss: 13.1827 - mae: 2.4348 - mse: 13.1827 - val_loss: 15.9656 - val_mae: 2.8933 - val_mse: 15.9656\n",
      "Epoch 188/500\n",
      "12/12 [==============================] - 0s 3ms/step - loss: 13.1267 - mae: 2.4521 - mse: 13.1267 - val_loss: 15.9256 - val_mae: 2.8948 - val_mse: 15.9256\n",
      "Epoch 189/500\n",
      "12/12 [==============================] - 0s 3ms/step - loss: 13.1923 - mae: 2.3819 - mse: 13.1923 - val_loss: 16.1200 - val_mae: 2.9115 - val_mse: 16.1200\n",
      "Epoch 190/500\n",
      "12/12 [==============================] - 0s 3ms/step - loss: 13.3721 - mae: 2.5077 - mse: 13.3721 - val_loss: 15.8051 - val_mae: 2.8892 - val_mse: 15.8051\n",
      "Epoch 191/500\n",
      "12/12 [==============================] - 0s 3ms/step - loss: 12.9814 - mae: 2.3712 - mse: 12.9814 - val_loss: 15.8975 - val_mae: 2.8946 - val_mse: 15.8975\n",
      "Epoch 192/500\n",
      "12/12 [==============================] - 0s 3ms/step - loss: 12.7844 - mae: 2.3812 - mse: 12.7844 - val_loss: 15.7555 - val_mae: 2.8910 - val_mse: 15.7555\n",
      "Epoch 193/500\n",
      "12/12 [==============================] - 0s 3ms/step - loss: 12.8778 - mae: 2.4236 - mse: 12.8778 - val_loss: 15.8837 - val_mae: 2.8953 - val_mse: 15.8837\n",
      "Epoch 194/500\n"
     ]
    },
    {
     "name": "stdout",
     "output_type": "stream",
     "text": [
      "12/12 [==============================] - 0s 3ms/step - loss: 12.7793 - mae: 2.4020 - mse: 12.7793 - val_loss: 15.6912 - val_mae: 2.8843 - val_mse: 15.6912\n",
      "Epoch 195/500\n",
      "12/12 [==============================] - 0s 3ms/step - loss: 12.7506 - mae: 2.3711 - mse: 12.7506 - val_loss: 15.6442 - val_mae: 2.8789 - val_mse: 15.6442\n",
      "Epoch 196/500\n",
      "12/12 [==============================] - 0s 3ms/step - loss: 12.7649 - mae: 2.3608 - mse: 12.7649 - val_loss: 15.6877 - val_mae: 2.8793 - val_mse: 15.6877\n",
      "Epoch 197/500\n",
      "12/12 [==============================] - 0s 3ms/step - loss: 12.6449 - mae: 2.4060 - mse: 12.6449 - val_loss: 15.5852 - val_mae: 2.8768 - val_mse: 15.5852\n",
      "Epoch 198/500\n",
      "12/12 [==============================] - 0s 3ms/step - loss: 12.5006 - mae: 2.3593 - mse: 12.5006 - val_loss: 15.6014 - val_mae: 2.8834 - val_mse: 15.6014\n",
      "Epoch 199/500\n",
      "12/12 [==============================] - 0s 3ms/step - loss: 12.4684 - mae: 2.3482 - mse: 12.4684 - val_loss: 15.6247 - val_mae: 2.8838 - val_mse: 15.6247\n",
      "Epoch 200/500\n",
      "12/12 [==============================] - 0s 3ms/step - loss: 12.7474 - mae: 2.4365 - mse: 12.7474 - val_loss: 15.5078 - val_mae: 2.8770 - val_mse: 15.5078\n",
      "Epoch 201/500\n",
      "12/12 [==============================] - 0s 3ms/step - loss: 13.0157 - mae: 2.3380 - mse: 13.0157 - val_loss: 15.4808 - val_mae: 2.8752 - val_mse: 15.4808\n",
      "Epoch 202/500\n",
      "12/12 [==============================] - 0s 4ms/step - loss: 12.7305 - mae: 2.4683 - mse: 12.7305 - val_loss: 15.7956 - val_mae: 2.8998 - val_mse: 15.7956\n",
      "Epoch 203/500\n",
      "12/12 [==============================] - 0s 3ms/step - loss: 12.4570 - mae: 2.3231 - mse: 12.4570 - val_loss: 15.4902 - val_mae: 2.8765 - val_mse: 15.4902\n",
      "Epoch 204/500\n",
      "12/12 [==============================] - 0s 3ms/step - loss: 12.2247 - mae: 2.3515 - mse: 12.2247 - val_loss: 15.3304 - val_mae: 2.8647 - val_mse: 15.3304\n",
      "Epoch 205/500\n",
      "12/12 [==============================] - 0s 4ms/step - loss: 12.2862 - mae: 2.3765 - mse: 12.2862 - val_loss: 15.4435 - val_mae: 2.8716 - val_mse: 15.4435\n",
      "Epoch 206/500\n",
      "12/12 [==============================] - 0s 3ms/step - loss: 12.2141 - mae: 2.3220 - mse: 12.2141 - val_loss: 15.4044 - val_mae: 2.8673 - val_mse: 15.4044\n",
      "Epoch 207/500\n",
      "12/12 [==============================] - 0s 3ms/step - loss: 12.1667 - mae: 2.3659 - mse: 12.1667 - val_loss: 15.2739 - val_mae: 2.8652 - val_mse: 15.2739\n",
      "Epoch 208/500\n",
      "12/12 [==============================] - 0s 3ms/step - loss: 12.1496 - mae: 2.3260 - mse: 12.1496 - val_loss: 15.3828 - val_mae: 2.8740 - val_mse: 15.3828\n",
      "Epoch 209/500\n",
      "12/12 [==============================] - 0s 3ms/step - loss: 12.0981 - mae: 2.3449 - mse: 12.0981 - val_loss: 15.3176 - val_mae: 2.8647 - val_mse: 15.3176\n",
      "Epoch 210/500\n",
      "12/12 [==============================] - 0s 3ms/step - loss: 12.0058 - mae: 2.3392 - mse: 12.0058 - val_loss: 15.1735 - val_mae: 2.8590 - val_mse: 15.1735\n",
      "Epoch 211/500\n",
      "12/12 [==============================] - 0s 3ms/step - loss: 12.1198 - mae: 2.3181 - mse: 12.1198 - val_loss: 15.1550 - val_mae: 2.8565 - val_mse: 15.1550\n",
      "Epoch 212/500\n",
      "12/12 [==============================] - 0s 3ms/step - loss: 12.0051 - mae: 2.3679 - mse: 12.0051 - val_loss: 15.2423 - val_mae: 2.8678 - val_mse: 15.2423\n",
      "Epoch 213/500\n",
      "12/12 [==============================] - 0s 4ms/step - loss: 11.9655 - mae: 2.3003 - mse: 11.9655 - val_loss: 15.1341 - val_mae: 2.8562 - val_mse: 15.1341\n",
      "Epoch 214/500\n",
      "12/12 [==============================] - 0s 3ms/step - loss: 11.9414 - mae: 2.3443 - mse: 11.9414 - val_loss: 15.1054 - val_mae: 2.8562 - val_mse: 15.1054\n",
      "Epoch 215/500\n",
      "12/12 [==============================] - 0s 3ms/step - loss: 11.8315 - mae: 2.3299 - mse: 11.8315 - val_loss: 15.0136 - val_mae: 2.8493 - val_mse: 15.0136\n",
      "Epoch 216/500\n",
      "12/12 [==============================] - 0s 3ms/step - loss: 11.7866 - mae: 2.2970 - mse: 11.7866 - val_loss: 15.0545 - val_mae: 2.8497 - val_mse: 15.0545\n",
      "Epoch 217/500\n",
      "12/12 [==============================] - 0s 3ms/step - loss: 11.9323 - mae: 2.3573 - mse: 11.9323 - val_loss: 15.1053 - val_mae: 2.8623 - val_mse: 15.1053\n",
      "Epoch 218/500\n",
      "12/12 [==============================] - 0s 3ms/step - loss: 11.8124 - mae: 2.3009 - mse: 11.8124 - val_loss: 14.9358 - val_mae: 2.8521 - val_mse: 14.9358\n",
      "Epoch 219/500\n",
      "12/12 [==============================] - 0s 3ms/step - loss: 11.7092 - mae: 2.2947 - mse: 11.7092 - val_loss: 14.9093 - val_mae: 2.8471 - val_mse: 14.9093\n",
      "Epoch 220/500\n",
      "12/12 [==============================] - 0s 3ms/step - loss: 11.5806 - mae: 2.3133 - mse: 11.5806 - val_loss: 14.9339 - val_mae: 2.8438 - val_mse: 14.9339\n",
      "Epoch 221/500\n",
      "12/12 [==============================] - 0s 3ms/step - loss: 11.7118 - mae: 2.2889 - mse: 11.7118 - val_loss: 15.1106 - val_mae: 2.8571 - val_mse: 15.1106\n",
      "Epoch 222/500\n",
      "12/12 [==============================] - 0s 3ms/step - loss: 11.4806 - mae: 2.2785 - mse: 11.4806 - val_loss: 14.7764 - val_mae: 2.8433 - val_mse: 14.7764\n",
      "Epoch 223/500\n",
      "12/12 [==============================] - 0s 3ms/step - loss: 11.5195 - mae: 2.3297 - mse: 11.5195 - val_loss: 15.0059 - val_mae: 2.8627 - val_mse: 15.0059\n",
      "Epoch 224/500\n",
      "12/12 [==============================] - 0s 3ms/step - loss: 11.5605 - mae: 2.2925 - mse: 11.5605 - val_loss: 14.7675 - val_mae: 2.8443 - val_mse: 14.7675\n",
      "Epoch 225/500\n",
      "12/12 [==============================] - 0s 4ms/step - loss: 11.4411 - mae: 2.2577 - mse: 11.4411 - val_loss: 14.7490 - val_mae: 2.8369 - val_mse: 14.7490\n",
      "Epoch 226/500\n",
      "12/12 [==============================] - 0s 3ms/step - loss: 11.4487 - mae: 2.3299 - mse: 11.4487 - val_loss: 14.7714 - val_mae: 2.8397 - val_mse: 14.7714\n",
      "Epoch 227/500\n",
      "12/12 [==============================] - 0s 3ms/step - loss: 11.4444 - mae: 2.2843 - mse: 11.4444 - val_loss: 14.6892 - val_mae: 2.8337 - val_mse: 14.6892\n",
      "Epoch 228/500\n",
      "12/12 [==============================] - 0s 3ms/step - loss: 11.2943 - mae: 2.2597 - mse: 11.2943 - val_loss: 14.6668 - val_mae: 2.8325 - val_mse: 14.6668\n",
      "Epoch 229/500\n",
      "12/12 [==============================] - 0s 4ms/step - loss: 11.2512 - mae: 2.2317 - mse: 11.2512 - val_loss: 14.5634 - val_mae: 2.8329 - val_mse: 14.5634\n",
      "Epoch 230/500\n",
      "12/12 [==============================] - 0s 3ms/step - loss: 11.4114 - mae: 2.2849 - mse: 11.4114 - val_loss: 14.7149 - val_mae: 2.8415 - val_mse: 14.7149\n",
      "Epoch 231/500\n",
      "12/12 [==============================] - 0s 4ms/step - loss: 11.2510 - mae: 2.2998 - mse: 11.2510 - val_loss: 14.5377 - val_mae: 2.8396 - val_mse: 14.5377\n",
      "Epoch 232/500\n",
      "12/12 [==============================] - 0s 3ms/step - loss: 11.0562 - mae: 2.2421 - mse: 11.0562 - val_loss: 14.7412 - val_mae: 2.8553 - val_mse: 14.7412\n",
      "Epoch 233/500\n",
      "12/12 [==============================] - 0s 4ms/step - loss: 11.0835 - mae: 2.2589 - mse: 11.0835 - val_loss: 14.4352 - val_mae: 2.8276 - val_mse: 14.4352\n",
      "Epoch 234/500\n",
      "12/12 [==============================] - 0s 3ms/step - loss: 11.0310 - mae: 2.2277 - mse: 11.0310 - val_loss: 14.5120 - val_mae: 2.8339 - val_mse: 14.5120\n",
      "Epoch 235/500\n",
      "12/12 [==============================] - 0s 3ms/step - loss: 10.9219 - mae: 2.2147 - mse: 10.9219 - val_loss: 14.4846 - val_mae: 2.8356 - val_mse: 14.4846\n",
      "Epoch 236/500\n",
      "12/12 [==============================] - 0s 3ms/step - loss: 11.0259 - mae: 2.2679 - mse: 11.0259 - val_loss: 14.3704 - val_mae: 2.8238 - val_mse: 14.3704\n",
      "Epoch 237/500\n",
      "12/12 [==============================] - 0s 3ms/step - loss: 10.8378 - mae: 2.2301 - mse: 10.8378 - val_loss: 14.6369 - val_mae: 2.8450 - val_mse: 14.6369\n",
      "Epoch 238/500\n",
      "12/12 [==============================] - 0s 3ms/step - loss: 10.8236 - mae: 2.2270 - mse: 10.8236 - val_loss: 14.3123 - val_mae: 2.8233 - val_mse: 14.3123\n",
      "Epoch 239/500\n",
      "12/12 [==============================] - 0s 3ms/step - loss: 10.8574 - mae: 2.2223 - mse: 10.8574 - val_loss: 14.5120 - val_mae: 2.8377 - val_mse: 14.5120\n",
      "Epoch 240/500\n",
      "12/12 [==============================] - 0s 3ms/step - loss: 10.8654 - mae: 2.2461 - mse: 10.8654 - val_loss: 14.4048 - val_mae: 2.8376 - val_mse: 14.4048\n",
      "Epoch 241/500\n",
      "12/12 [==============================] - 0s 3ms/step - loss: 10.7364 - mae: 2.2261 - mse: 10.7364 - val_loss: 14.2891 - val_mae: 2.8266 - val_mse: 14.2891\n",
      "Epoch 242/500\n"
     ]
    },
    {
     "name": "stdout",
     "output_type": "stream",
     "text": [
      "12/12 [==============================] - 0s 3ms/step - loss: 10.6784 - mae: 2.1981 - mse: 10.6784 - val_loss: 14.3198 - val_mae: 2.8261 - val_mse: 14.3198\n",
      "Epoch 243/500\n",
      "12/12 [==============================] - 0s 3ms/step - loss: 10.6121 - mae: 2.2204 - mse: 10.6121 - val_loss: 14.2373 - val_mae: 2.8180 - val_mse: 14.2373\n",
      "Epoch 244/500\n",
      "12/12 [==============================] - 0s 3ms/step - loss: 10.7688 - mae: 2.2120 - mse: 10.7688 - val_loss: 14.6022 - val_mae: 2.8518 - val_mse: 14.6022\n",
      "Epoch 245/500\n",
      "12/12 [==============================] - 0s 3ms/step - loss: 10.5103 - mae: 2.2241 - mse: 10.5103 - val_loss: 14.1721 - val_mae: 2.8196 - val_mse: 14.1721\n",
      "Epoch 246/500\n",
      "12/12 [==============================] - 0s 4ms/step - loss: 10.5175 - mae: 2.1904 - mse: 10.5175 - val_loss: 14.1263 - val_mae: 2.8132 - val_mse: 14.1263\n",
      "Epoch 247/500\n",
      "12/12 [==============================] - 0s 3ms/step - loss: 10.4153 - mae: 2.1934 - mse: 10.4153 - val_loss: 14.2236 - val_mae: 2.8197 - val_mse: 14.2236\n",
      "Epoch 248/500\n",
      "12/12 [==============================] - 0s 3ms/step - loss: 10.4731 - mae: 2.1669 - mse: 10.4731 - val_loss: 14.0785 - val_mae: 2.8074 - val_mse: 14.0785\n",
      "Epoch 249/500\n",
      "12/12 [==============================] - 0s 3ms/step - loss: 10.4834 - mae: 2.2309 - mse: 10.4834 - val_loss: 14.2429 - val_mae: 2.8271 - val_mse: 14.2429\n",
      "Epoch 250/500\n",
      "12/12 [==============================] - 0s 3ms/step - loss: 10.2254 - mae: 2.1587 - mse: 10.2254 - val_loss: 14.1215 - val_mae: 2.8237 - val_mse: 14.1215\n",
      "Epoch 251/500\n",
      "12/12 [==============================] - 0s 3ms/step - loss: 10.2964 - mae: 2.1955 - mse: 10.2964 - val_loss: 14.2995 - val_mae: 2.8363 - val_mse: 14.2995\n",
      "Epoch 252/500\n",
      "12/12 [==============================] - 0s 3ms/step - loss: 10.3625 - mae: 2.1936 - mse: 10.3625 - val_loss: 14.0262 - val_mae: 2.8007 - val_mse: 14.0262\n",
      "Epoch 253/500\n",
      "12/12 [==============================] - 0s 3ms/step - loss: 10.1503 - mae: 2.1306 - mse: 10.1503 - val_loss: 13.9338 - val_mae: 2.7962 - val_mse: 13.9338\n",
      "Epoch 254/500\n",
      "12/12 [==============================] - 0s 3ms/step - loss: 10.2325 - mae: 2.1876 - mse: 10.2325 - val_loss: 14.0337 - val_mae: 2.8128 - val_mse: 14.0337\n",
      "Epoch 255/500\n",
      "12/12 [==============================] - 0s 3ms/step - loss: 10.0389 - mae: 2.1589 - mse: 10.0389 - val_loss: 14.0319 - val_mae: 2.8114 - val_mse: 14.0319\n",
      "Epoch 256/500\n",
      "12/12 [==============================] - 0s 3ms/step - loss: 10.0650 - mae: 2.1529 - mse: 10.0650 - val_loss: 14.0111 - val_mae: 2.8073 - val_mse: 14.0111\n",
      "Epoch 257/500\n",
      "12/12 [==============================] - 0s 3ms/step - loss: 10.1033 - mae: 2.1423 - mse: 10.1033 - val_loss: 13.8839 - val_mae: 2.8010 - val_mse: 13.8839\n",
      "Epoch 258/500\n",
      "12/12 [==============================] - 0s 3ms/step - loss: 9.9274 - mae: 2.1645 - mse: 9.9274 - val_loss: 14.2775 - val_mae: 2.8370 - val_mse: 14.2775\n",
      "Epoch 259/500\n",
      "12/12 [==============================] - 0s 3ms/step - loss: 10.1974 - mae: 2.1386 - mse: 10.1974 - val_loss: 13.7888 - val_mae: 2.7911 - val_mse: 13.7888\n",
      "Epoch 260/500\n",
      "12/12 [==============================] - 0s 3ms/step - loss: 10.0225 - mae: 2.1747 - mse: 10.0225 - val_loss: 13.9457 - val_mae: 2.8096 - val_mse: 13.9457\n",
      "Epoch 261/500\n",
      "12/12 [==============================] - 0s 3ms/step - loss: 9.8454 - mae: 2.1071 - mse: 9.8454 - val_loss: 13.8027 - val_mae: 2.7964 - val_mse: 13.8027\n",
      "Epoch 262/500\n",
      "12/12 [==============================] - 0s 3ms/step - loss: 10.1558 - mae: 2.1630 - mse: 10.1558 - val_loss: 14.3655 - val_mae: 2.8528 - val_mse: 14.3655\n",
      "Epoch 263/500\n",
      "12/12 [==============================] - 0s 3ms/step - loss: 9.8442 - mae: 2.1053 - mse: 9.8442 - val_loss: 13.8144 - val_mae: 2.8033 - val_mse: 13.8144\n",
      "Epoch 264/500\n",
      "12/12 [==============================] - 0s 3ms/step - loss: 9.9938 - mae: 2.1365 - mse: 9.9938 - val_loss: 13.8180 - val_mae: 2.8052 - val_mse: 13.8180\n",
      "Epoch 265/500\n",
      "12/12 [==============================] - 0s 3ms/step - loss: 9.7251 - mae: 2.1527 - mse: 9.7251 - val_loss: 13.8909 - val_mae: 2.8059 - val_mse: 13.8909\n",
      "Epoch 266/500\n",
      "12/12 [==============================] - 0s 3ms/step - loss: 9.8485 - mae: 2.1249 - mse: 9.8485 - val_loss: 13.7874 - val_mae: 2.8002 - val_mse: 13.7874\n",
      "Epoch 267/500\n",
      "12/12 [==============================] - 0s 4ms/step - loss: 9.6864 - mae: 2.1355 - mse: 9.6864 - val_loss: 13.8857 - val_mae: 2.8131 - val_mse: 13.8857\n",
      "Epoch 268/500\n",
      "12/12 [==============================] - 0s 3ms/step - loss: 9.5494 - mae: 2.0959 - mse: 9.5494 - val_loss: 13.6556 - val_mae: 2.7889 - val_mse: 13.6556\n",
      "Epoch 269/500\n",
      "12/12 [==============================] - 0s 3ms/step - loss: 9.5284 - mae: 2.1292 - mse: 9.5284 - val_loss: 13.9822 - val_mae: 2.8138 - val_mse: 13.9822\n",
      "Epoch 270/500\n",
      "12/12 [==============================] - 0s 3ms/step - loss: 9.8096 - mae: 2.1486 - mse: 9.8096 - val_loss: 13.6461 - val_mae: 2.7789 - val_mse: 13.6461\n",
      "Epoch 271/500\n",
      "12/12 [==============================] - 0s 3ms/step - loss: 9.6432 - mae: 2.0879 - mse: 9.6432 - val_loss: 13.6223 - val_mae: 2.7786 - val_mse: 13.6223\n",
      "Epoch 272/500\n",
      "12/12 [==============================] - 0s 4ms/step - loss: 9.4804 - mae: 2.1295 - mse: 9.4804 - val_loss: 13.6728 - val_mae: 2.7890 - val_mse: 13.6728\n",
      "Epoch 273/500\n",
      "12/12 [==============================] - 0s 3ms/step - loss: 9.5658 - mae: 2.0713 - mse: 9.5658 - val_loss: 13.6645 - val_mae: 2.7887 - val_mse: 13.6645\n",
      "Epoch 274/500\n",
      "12/12 [==============================] - 0s 3ms/step - loss: 9.3473 - mae: 2.0964 - mse: 9.3473 - val_loss: 13.7087 - val_mae: 2.7901 - val_mse: 13.7087\n",
      "Epoch 275/500\n",
      "12/12 [==============================] - 0s 3ms/step - loss: 9.2980 - mae: 2.0703 - mse: 9.2980 - val_loss: 13.6179 - val_mae: 2.7814 - val_mse: 13.6179\n",
      "Epoch 276/500\n",
      "12/12 [==============================] - 0s 3ms/step - loss: 9.3027 - mae: 2.0776 - mse: 9.3027 - val_loss: 13.6625 - val_mae: 2.7851 - val_mse: 13.6625\n",
      "Epoch 277/500\n",
      "12/12 [==============================] - 0s 4ms/step - loss: 9.3108 - mae: 2.0653 - mse: 9.3108 - val_loss: 13.6636 - val_mae: 2.7870 - val_mse: 13.6636\n",
      "Epoch 278/500\n",
      "12/12 [==============================] - 0s 3ms/step - loss: 9.2525 - mae: 2.0767 - mse: 9.2525 - val_loss: 13.6105 - val_mae: 2.7825 - val_mse: 13.6105\n",
      "Epoch 279/500\n",
      "12/12 [==============================] - 0s 3ms/step - loss: 9.1984 - mae: 2.0661 - mse: 9.1984 - val_loss: 13.5929 - val_mae: 2.7839 - val_mse: 13.5929\n",
      "Epoch 280/500\n",
      "12/12 [==============================] - 0s 3ms/step - loss: 9.1310 - mae: 2.0595 - mse: 9.1310 - val_loss: 13.8598 - val_mae: 2.8084 - val_mse: 13.8598\n",
      "Epoch 281/500\n",
      "12/12 [==============================] - 0s 3ms/step - loss: 9.2806 - mae: 2.0671 - mse: 9.2806 - val_loss: 13.5182 - val_mae: 2.7784 - val_mse: 13.5182\n",
      "Epoch 282/500\n",
      "12/12 [==============================] - 0s 3ms/step - loss: 9.5269 - mae: 2.1694 - mse: 9.5269 - val_loss: 14.4999 - val_mae: 2.8802 - val_mse: 14.4999\n",
      "Epoch 283/500\n",
      "12/12 [==============================] - 0s 3ms/step - loss: 9.2030 - mae: 2.0426 - mse: 9.2030 - val_loss: 13.6292 - val_mae: 2.7870 - val_mse: 13.6292\n",
      "Epoch 284/500\n",
      "12/12 [==============================] - 0s 3ms/step - loss: 9.2115 - mae: 2.0998 - mse: 9.2115 - val_loss: 13.8696 - val_mae: 2.8122 - val_mse: 13.8696\n",
      "Epoch 285/500\n",
      "12/12 [==============================] - 0s 3ms/step - loss: 9.1178 - mae: 2.0694 - mse: 9.1178 - val_loss: 13.4891 - val_mae: 2.7812 - val_mse: 13.4891\n",
      "Epoch 286/500\n",
      "12/12 [==============================] - 0s 3ms/step - loss: 8.9378 - mae: 2.0370 - mse: 8.9378 - val_loss: 13.4949 - val_mae: 2.7727 - val_mse: 13.4949\n",
      "Epoch 287/500\n",
      "12/12 [==============================] - 0s 3ms/step - loss: 9.0145 - mae: 2.0576 - mse: 9.0145 - val_loss: 13.6053 - val_mae: 2.7866 - val_mse: 13.6053\n",
      "Epoch 288/500\n",
      "12/12 [==============================] - 0s 3ms/step - loss: 8.9154 - mae: 2.0415 - mse: 8.9154 - val_loss: 13.5809 - val_mae: 2.7885 - val_mse: 13.5809\n",
      "Epoch 289/500\n",
      "12/12 [==============================] - 0s 3ms/step - loss: 9.0704 - mae: 2.0591 - mse: 9.0704 - val_loss: 13.8773 - val_mae: 2.8123 - val_mse: 13.8773\n",
      "Epoch 290/500\n",
      "12/12 [==============================] - 0s 3ms/step - loss: 8.8591 - mae: 2.0425 - mse: 8.8591 - val_loss: 13.4425 - val_mae: 2.7690 - val_mse: 13.4425\n"
     ]
    },
    {
     "name": "stdout",
     "output_type": "stream",
     "text": [
      "Epoch 291/500\n",
      "12/12 [==============================] - 0s 4ms/step - loss: 8.9012 - mae: 2.0519 - mse: 8.9012 - val_loss: 13.5222 - val_mae: 2.7821 - val_mse: 13.5222\n",
      "Epoch 292/500\n",
      "12/12 [==============================] - 0s 4ms/step - loss: 8.7440 - mae: 2.0268 - mse: 8.7440 - val_loss: 13.5300 - val_mae: 2.7809 - val_mse: 13.5300\n",
      "Epoch 293/500\n",
      "12/12 [==============================] - 0s 3ms/step - loss: 8.7945 - mae: 2.0243 - mse: 8.7945 - val_loss: 13.4558 - val_mae: 2.7645 - val_mse: 13.4558\n",
      "Epoch 294/500\n",
      "12/12 [==============================] - 0s 3ms/step - loss: 8.8827 - mae: 2.0328 - mse: 8.8827 - val_loss: 13.6309 - val_mae: 2.7870 - val_mse: 13.6309\n",
      "Epoch 295/500\n",
      "12/12 [==============================] - 0s 3ms/step - loss: 8.9511 - mae: 2.0701 - mse: 8.9511 - val_loss: 13.6673 - val_mae: 2.7927 - val_mse: 13.6673\n",
      "Epoch 296/500\n",
      "12/12 [==============================] - 0s 3ms/step - loss: 8.7575 - mae: 2.0102 - mse: 8.7575 - val_loss: 13.3633 - val_mae: 2.7638 - val_mse: 13.3633\n",
      "Epoch 297/500\n",
      "12/12 [==============================] - 0s 3ms/step - loss: 8.6130 - mae: 2.0222 - mse: 8.6130 - val_loss: 13.4530 - val_mae: 2.7723 - val_mse: 13.4530\n",
      "Epoch 298/500\n",
      "12/12 [==============================] - 0s 3ms/step - loss: 8.6409 - mae: 1.9994 - mse: 8.6409 - val_loss: 13.3738 - val_mae: 2.7574 - val_mse: 13.3738\n",
      "Epoch 299/500\n",
      "12/12 [==============================] - 0s 3ms/step - loss: 8.7363 - mae: 2.0567 - mse: 8.7363 - val_loss: 13.7722 - val_mae: 2.8015 - val_mse: 13.7722\n",
      "Epoch 300/500\n",
      "12/12 [==============================] - 0s 3ms/step - loss: 8.5725 - mae: 1.9971 - mse: 8.5725 - val_loss: 13.3996 - val_mae: 2.7607 - val_mse: 13.3996\n",
      "Epoch 301/500\n",
      "12/12 [==============================] - 0s 3ms/step - loss: 8.5525 - mae: 2.0224 - mse: 8.5525 - val_loss: 13.5475 - val_mae: 2.7781 - val_mse: 13.5475\n",
      "Epoch 302/500\n",
      "12/12 [==============================] - 0s 3ms/step - loss: 8.5053 - mae: 2.0081 - mse: 8.5053 - val_loss: 13.2989 - val_mae: 2.7542 - val_mse: 13.2989\n",
      "Epoch 303/500\n",
      "12/12 [==============================] - 0s 3ms/step - loss: 8.5946 - mae: 2.0122 - mse: 8.5946 - val_loss: 13.4462 - val_mae: 2.7750 - val_mse: 13.4462\n",
      "Epoch 304/500\n",
      "12/12 [==============================] - 0s 3ms/step - loss: 8.5682 - mae: 2.0408 - mse: 8.5682 - val_loss: 13.5319 - val_mae: 2.7780 - val_mse: 13.5319\n",
      "Epoch 305/500\n",
      "12/12 [==============================] - 0s 4ms/step - loss: 8.4555 - mae: 1.9959 - mse: 8.4555 - val_loss: 13.3976 - val_mae: 2.7609 - val_mse: 13.3976\n",
      "Epoch 306/500\n",
      "12/12 [==============================] - 0s 4ms/step - loss: 8.4162 - mae: 2.0341 - mse: 8.4162 - val_loss: 13.8150 - val_mae: 2.8080 - val_mse: 13.8150\n",
      "Epoch 307/500\n",
      "12/12 [==============================] - 0s 3ms/step - loss: 8.6876 - mae: 2.0253 - mse: 8.6876 - val_loss: 13.4150 - val_mae: 2.7701 - val_mse: 13.4150\n",
      "Epoch 308/500\n",
      "12/12 [==============================] - 0s 3ms/step - loss: 8.6968 - mae: 2.0658 - mse: 8.6968 - val_loss: 13.8942 - val_mae: 2.8129 - val_mse: 13.8942\n",
      "Epoch 309/500\n",
      "12/12 [==============================] - 0s 3ms/step - loss: 8.9430 - mae: 2.0586 - mse: 8.9430 - val_loss: 13.7389 - val_mae: 2.8007 - val_mse: 13.7389\n",
      "Epoch 310/500\n",
      "12/12 [==============================] - 0s 3ms/step - loss: 8.5069 - mae: 2.0036 - mse: 8.5069 - val_loss: 13.1445 - val_mae: 2.7356 - val_mse: 13.1445\n",
      "Epoch 311/500\n",
      "12/12 [==============================] - 0s 3ms/step - loss: 8.2856 - mae: 1.9945 - mse: 8.2856 - val_loss: 13.4313 - val_mae: 2.7674 - val_mse: 13.4313\n",
      "Epoch 312/500\n",
      "12/12 [==============================] - 0s 3ms/step - loss: 8.2670 - mae: 2.0043 - mse: 8.2670 - val_loss: 13.5046 - val_mae: 2.7725 - val_mse: 13.5046\n",
      "Epoch 313/500\n",
      "12/12 [==============================] - 0s 3ms/step - loss: 8.2267 - mae: 1.9755 - mse: 8.2267 - val_loss: 13.2226 - val_mae: 2.7478 - val_mse: 13.2226\n",
      "Epoch 314/500\n",
      "12/12 [==============================] - 0s 3ms/step - loss: 8.2008 - mae: 1.9912 - mse: 8.2008 - val_loss: 13.3664 - val_mae: 2.7599 - val_mse: 13.3664\n",
      "Epoch 315/500\n",
      "12/12 [==============================] - 0s 4ms/step - loss: 8.0949 - mae: 1.9822 - mse: 8.0949 - val_loss: 13.2996 - val_mae: 2.7536 - val_mse: 13.2996\n",
      "Epoch 316/500\n",
      "12/12 [==============================] - 0s 3ms/step - loss: 8.1467 - mae: 1.9898 - mse: 8.1467 - val_loss: 13.6212 - val_mae: 2.7887 - val_mse: 13.6212\n",
      "Epoch 317/500\n",
      "12/12 [==============================] - 0s 3ms/step - loss: 8.4237 - mae: 2.0227 - mse: 8.4237 - val_loss: 13.2265 - val_mae: 2.7444 - val_mse: 13.2265\n",
      "Epoch 318/500\n",
      "12/12 [==============================] - 0s 4ms/step - loss: 8.3355 - mae: 1.9898 - mse: 8.3355 - val_loss: 13.1855 - val_mae: 2.7455 - val_mse: 13.1855\n",
      "Epoch 319/500\n",
      "12/12 [==============================] - 0s 4ms/step - loss: 8.0511 - mae: 1.9837 - mse: 8.0511 - val_loss: 13.7163 - val_mae: 2.7980 - val_mse: 13.7163\n",
      "Epoch 320/500\n",
      "12/12 [==============================] - 0s 3ms/step - loss: 8.1517 - mae: 1.9589 - mse: 8.1517 - val_loss: 13.3052 - val_mae: 2.7578 - val_mse: 13.3052\n",
      "Epoch 321/500\n",
      "12/12 [==============================] - 0s 3ms/step - loss: 8.0912 - mae: 1.9928 - mse: 8.0912 - val_loss: 13.6482 - val_mae: 2.7913 - val_mse: 13.6482\n",
      "Epoch 322/500\n",
      "12/12 [==============================] - 0s 3ms/step - loss: 8.0852 - mae: 1.9800 - mse: 8.0852 - val_loss: 13.3844 - val_mae: 2.7624 - val_mse: 13.3844\n",
      "Epoch 323/500\n",
      "12/12 [==============================] - 0s 3ms/step - loss: 7.9547 - mae: 1.9539 - mse: 7.9547 - val_loss: 13.1847 - val_mae: 2.7452 - val_mse: 13.1847\n",
      "Epoch 324/500\n",
      "12/12 [==============================] - 0s 3ms/step - loss: 7.9575 - mae: 1.9780 - mse: 7.9575 - val_loss: 13.4403 - val_mae: 2.7648 - val_mse: 13.4403\n",
      "Epoch 325/500\n",
      "12/12 [==============================] - 0s 3ms/step - loss: 7.9589 - mae: 1.9668 - mse: 7.9589 - val_loss: 13.4156 - val_mae: 2.7627 - val_mse: 13.4156\n",
      "Epoch 326/500\n",
      "12/12 [==============================] - 0s 3ms/step - loss: 7.9393 - mae: 1.9523 - mse: 7.9393 - val_loss: 13.2665 - val_mae: 2.7466 - val_mse: 13.2665\n",
      "Epoch 327/500\n",
      "12/12 [==============================] - 0s 3ms/step - loss: 7.9474 - mae: 1.9800 - mse: 7.9474 - val_loss: 13.4355 - val_mae: 2.7647 - val_mse: 13.4355\n",
      "Epoch 328/500\n",
      "12/12 [==============================] - 0s 3ms/step - loss: 7.8831 - mae: 1.9527 - mse: 7.8831 - val_loss: 13.3016 - val_mae: 2.7597 - val_mse: 13.3016\n",
      "Epoch 329/500\n",
      "12/12 [==============================] - 0s 3ms/step - loss: 7.7919 - mae: 1.9497 - mse: 7.7919 - val_loss: 13.3900 - val_mae: 2.7620 - val_mse: 13.3900\n",
      "Epoch 330/500\n",
      "12/12 [==============================] - 0s 3ms/step - loss: 7.8723 - mae: 1.9468 - mse: 7.8723 - val_loss: 13.3008 - val_mae: 2.7546 - val_mse: 13.3008\n",
      "Epoch 331/500\n",
      "12/12 [==============================] - 0s 3ms/step - loss: 7.8623 - mae: 1.9576 - mse: 7.8623 - val_loss: 13.2222 - val_mae: 2.7518 - val_mse: 13.2222\n",
      "Epoch 332/500\n",
      "12/12 [==============================] - 0s 3ms/step - loss: 7.8449 - mae: 1.9666 - mse: 7.8449 - val_loss: 13.4050 - val_mae: 2.7648 - val_mse: 13.4050\n",
      "Epoch 333/500\n",
      "12/12 [==============================] - 0s 3ms/step - loss: 7.7433 - mae: 1.9586 - mse: 7.7433 - val_loss: 13.3738 - val_mae: 2.7634 - val_mse: 13.3738\n",
      "Epoch 334/500\n",
      "12/12 [==============================] - 0s 3ms/step - loss: 7.7982 - mae: 1.9548 - mse: 7.7982 - val_loss: 13.2117 - val_mae: 2.7508 - val_mse: 13.2117\n",
      "Epoch 335/500\n",
      "12/12 [==============================] - 0s 3ms/step - loss: 7.7443 - mae: 1.9516 - mse: 7.7443 - val_loss: 13.5534 - val_mae: 2.7798 - val_mse: 13.5534\n",
      "Epoch 336/500\n",
      "12/12 [==============================] - 0s 3ms/step - loss: 7.9844 - mae: 1.9975 - mse: 7.9844 - val_loss: 13.2491 - val_mae: 2.7594 - val_mse: 13.2491\n",
      "Epoch 337/500\n",
      "12/12 [==============================] - 0s 4ms/step - loss: 8.0400 - mae: 1.9637 - mse: 8.0400 - val_loss: 13.2417 - val_mae: 2.7565 - val_mse: 13.2417\n",
      "Epoch 338/500\n",
      "12/12 [==============================] - 0s 3ms/step - loss: 7.7315 - mae: 1.9700 - mse: 7.7315 - val_loss: 13.6597 - val_mae: 2.7920 - val_mse: 13.6597\n",
      "Epoch 339/500\n",
      "12/12 [==============================] - 0s 3ms/step - loss: 7.8747 - mae: 1.9578 - mse: 7.8747 - val_loss: 13.3032 - val_mae: 2.7707 - val_mse: 13.3032\n",
      "Epoch 340/500\n"
     ]
    },
    {
     "name": "stdout",
     "output_type": "stream",
     "text": [
      "12/12 [==============================] - 0s 3ms/step - loss: 8.7760 - mae: 2.1706 - mse: 8.7760 - val_loss: 15.4543 - val_mae: 2.9805 - val_mse: 15.4543\n",
      "Epoch 341/500\n",
      "12/12 [==============================] - 0s 3ms/step - loss: 7.8333 - mae: 1.9805 - mse: 7.8333 - val_loss: 13.3704 - val_mae: 2.7911 - val_mse: 13.3704\n",
      "Epoch 342/500\n",
      "12/12 [==============================] - 0s 4ms/step - loss: 7.7823 - mae: 1.9962 - mse: 7.7823 - val_loss: 14.1833 - val_mae: 2.8464 - val_mse: 14.1833\n",
      "Epoch 343/500\n",
      "12/12 [==============================] - 0s 4ms/step - loss: 7.7404 - mae: 1.9457 - mse: 7.7404 - val_loss: 13.3392 - val_mae: 2.7679 - val_mse: 13.3392\n",
      "Epoch 344/500\n",
      "12/12 [==============================] - 0s 4ms/step - loss: 7.6187 - mae: 1.9509 - mse: 7.6187 - val_loss: 13.5584 - val_mae: 2.7826 - val_mse: 13.5584\n",
      "Epoch 345/500\n",
      "12/12 [==============================] - 0s 3ms/step - loss: 7.5554 - mae: 1.9245 - mse: 7.5554 - val_loss: 13.1909 - val_mae: 2.7544 - val_mse: 13.1909\n",
      "Epoch 346/500\n",
      "12/12 [==============================] - 0s 4ms/step - loss: 7.6190 - mae: 1.9509 - mse: 7.6190 - val_loss: 13.3800 - val_mae: 2.7687 - val_mse: 13.3800\n",
      "Epoch 347/500\n",
      "12/12 [==============================] - 0s 3ms/step - loss: 7.5275 - mae: 1.9483 - mse: 7.5275 - val_loss: 13.4550 - val_mae: 2.7774 - val_mse: 13.4550\n",
      "Epoch 348/500\n",
      "12/12 [==============================] - 0s 3ms/step - loss: 7.5169 - mae: 1.9146 - mse: 7.5169 - val_loss: 13.3331 - val_mae: 2.7665 - val_mse: 13.3331\n",
      "Epoch 349/500\n",
      "12/12 [==============================] - 0s 3ms/step - loss: 7.4727 - mae: 1.9396 - mse: 7.4727 - val_loss: 13.5164 - val_mae: 2.7840 - val_mse: 13.5164\n",
      "Epoch 350/500\n",
      "12/12 [==============================] - 0s 3ms/step - loss: 7.4742 - mae: 1.9352 - mse: 7.4742 - val_loss: 13.3177 - val_mae: 2.7721 - val_mse: 13.3177\n",
      "Epoch 351/500\n",
      "12/12 [==============================] - 0s 3ms/step - loss: 7.4056 - mae: 1.9205 - mse: 7.4056 - val_loss: 13.4366 - val_mae: 2.7749 - val_mse: 13.4366\n",
      "Epoch 352/500\n",
      "12/12 [==============================] - 0s 4ms/step - loss: 7.3821 - mae: 1.9225 - mse: 7.3821 - val_loss: 13.3458 - val_mae: 2.7683 - val_mse: 13.3458\n",
      "Epoch 353/500\n",
      "12/12 [==============================] - 0s 3ms/step - loss: 7.3965 - mae: 1.9163 - mse: 7.3965 - val_loss: 13.3230 - val_mae: 2.7737 - val_mse: 13.3230\n",
      "Epoch 354/500\n",
      "12/12 [==============================] - 0s 4ms/step - loss: 7.4491 - mae: 1.9465 - mse: 7.4491 - val_loss: 13.3959 - val_mae: 2.7839 - val_mse: 13.3959\n",
      "Epoch 355/500\n",
      "12/12 [==============================] - 0s 3ms/step - loss: 7.5199 - mae: 1.9361 - mse: 7.5199 - val_loss: 13.2588 - val_mae: 2.7602 - val_mse: 13.2588\n",
      "Epoch 356/500\n",
      "12/12 [==============================] - 0s 3ms/step - loss: 7.5793 - mae: 1.9278 - mse: 7.5793 - val_loss: 13.3209 - val_mae: 2.7670 - val_mse: 13.3209\n",
      "Epoch 357/500\n",
      "12/12 [==============================] - 0s 3ms/step - loss: 7.6580 - mae: 1.9895 - mse: 7.6580 - val_loss: 14.4164 - val_mae: 2.8799 - val_mse: 14.4164\n",
      "Epoch 358/500\n",
      "12/12 [==============================] - 0s 4ms/step - loss: 7.4370 - mae: 1.9367 - mse: 7.4370 - val_loss: 13.2325 - val_mae: 2.7607 - val_mse: 13.2325\n",
      "Epoch 359/500\n",
      "12/12 [==============================] - 0s 3ms/step - loss: 7.4076 - mae: 1.9254 - mse: 7.4076 - val_loss: 13.3716 - val_mae: 2.7788 - val_mse: 13.3716\n",
      "Epoch 360/500\n",
      "12/12 [==============================] - 0s 3ms/step - loss: 7.4231 - mae: 1.9441 - mse: 7.4231 - val_loss: 13.7234 - val_mae: 2.8110 - val_mse: 13.7234\n",
      "Epoch 361/500\n",
      "12/12 [==============================] - 0s 3ms/step - loss: 7.3368 - mae: 1.9146 - mse: 7.3368 - val_loss: 13.2732 - val_mae: 2.7717 - val_mse: 13.2732\n",
      "Epoch 362/500\n",
      "12/12 [==============================] - 0s 3ms/step - loss: 7.2678 - mae: 1.9255 - mse: 7.2678 - val_loss: 13.6028 - val_mae: 2.7980 - val_mse: 13.6028\n",
      "Epoch 363/500\n",
      "12/12 [==============================] - 0s 4ms/step - loss: 7.3951 - mae: 1.9437 - mse: 7.3951 - val_loss: 13.3968 - val_mae: 2.7770 - val_mse: 13.3968\n",
      "Epoch 364/500\n",
      "12/12 [==============================] - 0s 3ms/step - loss: 7.3629 - mae: 1.9189 - mse: 7.3629 - val_loss: 13.9303 - val_mae: 2.8327 - val_mse: 13.9303\n",
      "Epoch 365/500\n",
      "12/12 [==============================] - 0s 3ms/step - loss: 7.4945 - mae: 1.9575 - mse: 7.4945 - val_loss: 13.3395 - val_mae: 2.7794 - val_mse: 13.3395\n",
      "Epoch 366/500\n",
      "12/12 [==============================] - 0s 3ms/step - loss: 7.2966 - mae: 1.9135 - mse: 7.2966 - val_loss: 13.4314 - val_mae: 2.7771 - val_mse: 13.4314\n",
      "Epoch 367/500\n",
      "12/12 [==============================] - 0s 3ms/step - loss: 7.1987 - mae: 1.9137 - mse: 7.1987 - val_loss: 13.5804 - val_mae: 2.7949 - val_mse: 13.5804\n",
      "Epoch 368/500\n",
      "12/12 [==============================] - 0s 3ms/step - loss: 7.1826 - mae: 1.9119 - mse: 7.1826 - val_loss: 13.1992 - val_mae: 2.7655 - val_mse: 13.1992\n",
      "Epoch 369/500\n",
      "12/12 [==============================] - 0s 3ms/step - loss: 7.1553 - mae: 1.9082 - mse: 7.1553 - val_loss: 13.6711 - val_mae: 2.8080 - val_mse: 13.6711\n",
      "Epoch 370/500\n",
      "12/12 [==============================] - 0s 3ms/step - loss: 7.1216 - mae: 1.8833 - mse: 7.1216 - val_loss: 13.2222 - val_mae: 2.7667 - val_mse: 13.2222\n",
      "Epoch 371/500\n",
      "12/12 [==============================] - 0s 3ms/step - loss: 7.1860 - mae: 1.9174 - mse: 7.1860 - val_loss: 13.5205 - val_mae: 2.7990 - val_mse: 13.5205\n",
      "Epoch 372/500\n",
      "12/12 [==============================] - 0s 3ms/step - loss: 7.1328 - mae: 1.9031 - mse: 7.1328 - val_loss: 13.3531 - val_mae: 2.7783 - val_mse: 13.3531\n",
      "Epoch 373/500\n",
      "12/12 [==============================] - 0s 3ms/step - loss: 7.4126 - mae: 1.9143 - mse: 7.4126 - val_loss: 13.2735 - val_mae: 2.7719 - val_mse: 13.2735\n",
      "Epoch 374/500\n",
      "12/12 [==============================] - 0s 3ms/step - loss: 7.3069 - mae: 1.9379 - mse: 7.3069 - val_loss: 13.8595 - val_mae: 2.8268 - val_mse: 13.8595\n",
      "Epoch 375/500\n",
      "12/12 [==============================] - 0s 3ms/step - loss: 7.2632 - mae: 1.9258 - mse: 7.2632 - val_loss: 13.5917 - val_mae: 2.8081 - val_mse: 13.5917\n",
      "Epoch 376/500\n",
      "12/12 [==============================] - 0s 3ms/step - loss: 7.0903 - mae: 1.8907 - mse: 7.0903 - val_loss: 13.2421 - val_mae: 2.7751 - val_mse: 13.2421\n",
      "Epoch 377/500\n",
      "12/12 [==============================] - 0s 3ms/step - loss: 7.2318 - mae: 1.9389 - mse: 7.2318 - val_loss: 13.8606 - val_mae: 2.8271 - val_mse: 13.8606\n",
      "Epoch 378/500\n",
      "12/12 [==============================] - 0s 3ms/step - loss: 7.0739 - mae: 1.9184 - mse: 7.0739 - val_loss: 13.3991 - val_mae: 2.7848 - val_mse: 13.3991\n",
      "Epoch 379/500\n",
      "12/12 [==============================] - 0s 4ms/step - loss: 7.1187 - mae: 1.8955 - mse: 7.1187 - val_loss: 13.5296 - val_mae: 2.7917 - val_mse: 13.5296\n",
      "Epoch 380/500\n",
      "12/12 [==============================] - 0s 3ms/step - loss: 7.0677 - mae: 1.8848 - mse: 7.0677 - val_loss: 13.3320 - val_mae: 2.7799 - val_mse: 13.3320\n",
      "Epoch 381/500\n",
      "12/12 [==============================] - 0s 3ms/step - loss: 7.0338 - mae: 1.9027 - mse: 7.0338 - val_loss: 13.3371 - val_mae: 2.7747 - val_mse: 13.3371\n",
      "Epoch 382/500\n",
      "12/12 [==============================] - 0s 3ms/step - loss: 7.0149 - mae: 1.9155 - mse: 7.0149 - val_loss: 13.8222 - val_mae: 2.8300 - val_mse: 13.8222\n",
      "Epoch 383/500\n",
      "12/12 [==============================] - 0s 3ms/step - loss: 7.1560 - mae: 1.9122 - mse: 7.1560 - val_loss: 13.3856 - val_mae: 2.7885 - val_mse: 13.3856\n",
      "Epoch 384/500\n",
      "12/12 [==============================] - 0s 3ms/step - loss: 6.9321 - mae: 1.8901 - mse: 6.9321 - val_loss: 13.5787 - val_mae: 2.7987 - val_mse: 13.5787\n",
      "Epoch 385/500\n",
      "12/12 [==============================] - 0s 3ms/step - loss: 7.1708 - mae: 1.9118 - mse: 7.1708 - val_loss: 13.3809 - val_mae: 2.7798 - val_mse: 13.3809\n",
      "Epoch 386/500\n",
      "12/12 [==============================] - 0s 3ms/step - loss: 6.9886 - mae: 1.8747 - mse: 6.9886 - val_loss: 13.4785 - val_mae: 2.7953 - val_mse: 13.4785\n",
      "Epoch 387/500\n",
      "12/12 [==============================] - 0s 3ms/step - loss: 6.9505 - mae: 1.8886 - mse: 6.9505 - val_loss: 13.4619 - val_mae: 2.7888 - val_mse: 13.4619\n",
      "Epoch 388/500\n",
      "12/12 [==============================] - 0s 3ms/step - loss: 7.1366 - mae: 1.9275 - mse: 7.1366 - val_loss: 13.8541 - val_mae: 2.8264 - val_mse: 13.8541\n",
      "Epoch 389/500\n"
     ]
    },
    {
     "name": "stdout",
     "output_type": "stream",
     "text": [
      "12/12 [==============================] - 0s 4ms/step - loss: 7.0175 - mae: 1.8952 - mse: 7.0175 - val_loss: 13.4952 - val_mae: 2.7897 - val_mse: 13.4952\n",
      "Epoch 390/500\n",
      "12/12 [==============================] - 0s 3ms/step - loss: 6.9178 - mae: 1.8861 - mse: 6.9178 - val_loss: 13.4001 - val_mae: 2.7770 - val_mse: 13.4001\n",
      "Epoch 391/500\n",
      "12/12 [==============================] - 0s 3ms/step - loss: 6.9124 - mae: 1.8928 - mse: 6.9124 - val_loss: 13.6154 - val_mae: 2.7992 - val_mse: 13.6154\n",
      "Epoch 392/500\n",
      "12/12 [==============================] - 0s 3ms/step - loss: 7.1053 - mae: 1.9120 - mse: 7.1053 - val_loss: 13.3910 - val_mae: 2.7813 - val_mse: 13.3910\n",
      "Epoch 393/500\n",
      "12/12 [==============================] - 0s 3ms/step - loss: 6.8564 - mae: 1.8913 - mse: 6.8564 - val_loss: 13.5464 - val_mae: 2.7931 - val_mse: 13.5464\n",
      "Epoch 394/500\n",
      "12/12 [==============================] - 0s 3ms/step - loss: 7.2251 - mae: 1.9519 - mse: 7.2251 - val_loss: 13.9838 - val_mae: 2.8387 - val_mse: 13.9838\n",
      "Epoch 395/500\n",
      "12/12 [==============================] - 0s 3ms/step - loss: 7.3204 - mae: 1.9397 - mse: 7.3204 - val_loss: 13.3441 - val_mae: 2.7848 - val_mse: 13.3441\n",
      "Epoch 396/500\n",
      "12/12 [==============================] - 0s 4ms/step - loss: 6.9529 - mae: 1.9070 - mse: 6.9529 - val_loss: 13.9738 - val_mae: 2.8431 - val_mse: 13.9738\n",
      "Epoch 397/500\n",
      "12/12 [==============================] - 0s 3ms/step - loss: 7.2057 - mae: 1.9077 - mse: 7.2057 - val_loss: 13.4231 - val_mae: 2.7809 - val_mse: 13.4231\n",
      "Epoch 398/500\n",
      "12/12 [==============================] - 0s 3ms/step - loss: 6.8828 - mae: 1.8874 - mse: 6.8828 - val_loss: 13.5042 - val_mae: 2.7897 - val_mse: 13.5042\n",
      "Epoch 399/500\n",
      "12/12 [==============================] - 0s 3ms/step - loss: 6.7811 - mae: 1.8773 - mse: 6.7811 - val_loss: 13.5592 - val_mae: 2.7949 - val_mse: 13.5592\n",
      "Epoch 400/500\n",
      "12/12 [==============================] - 0s 3ms/step - loss: 6.8644 - mae: 1.8878 - mse: 6.8644 - val_loss: 13.8824 - val_mae: 2.8276 - val_mse: 13.8824\n",
      "Epoch 401/500\n",
      "12/12 [==============================] - 0s 3ms/step - loss: 6.8278 - mae: 1.8895 - mse: 6.8278 - val_loss: 13.2547 - val_mae: 2.7705 - val_mse: 13.2547\n",
      "Epoch 402/500\n",
      "12/12 [==============================] - 0s 3ms/step - loss: 6.8103 - mae: 1.8862 - mse: 6.8103 - val_loss: 13.4856 - val_mae: 2.7889 - val_mse: 13.4856\n",
      "Epoch 403/500\n",
      "12/12 [==============================] - 0s 4ms/step - loss: 6.7749 - mae: 1.8790 - mse: 6.7749 - val_loss: 13.4035 - val_mae: 2.7778 - val_mse: 13.4035\n",
      "Epoch 404/500\n",
      "12/12 [==============================] - 0s 3ms/step - loss: 6.8417 - mae: 1.8909 - mse: 6.8417 - val_loss: 13.6169 - val_mae: 2.7997 - val_mse: 13.6169\n",
      "Epoch 405/500\n",
      "12/12 [==============================] - 0s 4ms/step - loss: 6.8396 - mae: 1.8784 - mse: 6.8396 - val_loss: 13.3231 - val_mae: 2.7750 - val_mse: 13.3231\n",
      "Epoch 406/500\n",
      "12/12 [==============================] - 0s 3ms/step - loss: 6.7281 - mae: 1.8730 - mse: 6.7281 - val_loss: 13.8030 - val_mae: 2.8223 - val_mse: 13.8030\n",
      "Epoch 407/500\n",
      "12/12 [==============================] - 0s 3ms/step - loss: 6.7292 - mae: 1.8707 - mse: 6.7292 - val_loss: 13.5269 - val_mae: 2.7908 - val_mse: 13.5269\n",
      "Epoch 408/500\n",
      "12/12 [==============================] - 0s 3ms/step - loss: 6.8789 - mae: 1.8900 - mse: 6.8789 - val_loss: 13.3166 - val_mae: 2.7699 - val_mse: 13.3166\n",
      "Epoch 409/500\n",
      "12/12 [==============================] - 0s 3ms/step - loss: 6.6830 - mae: 1.8573 - mse: 6.6830 - val_loss: 14.1427 - val_mae: 2.8562 - val_mse: 14.1427\n",
      "Epoch 410/500\n",
      "12/12 [==============================] - 0s 3ms/step - loss: 6.6785 - mae: 1.8652 - mse: 6.6785 - val_loss: 13.2837 - val_mae: 2.7706 - val_mse: 13.2837\n",
      "Epoch 411/500\n",
      "12/12 [==============================] - 0s 3ms/step - loss: 6.8485 - mae: 1.8863 - mse: 6.8485 - val_loss: 13.4490 - val_mae: 2.7837 - val_mse: 13.4490\n",
      "Epoch 412/500\n",
      "12/12 [==============================] - 0s 3ms/step - loss: 6.6998 - mae: 1.8724 - mse: 6.6998 - val_loss: 13.7180 - val_mae: 2.8081 - val_mse: 13.7180\n",
      "Epoch 413/500\n",
      "12/12 [==============================] - 0s 3ms/step - loss: 6.8841 - mae: 1.8965 - mse: 6.8841 - val_loss: 13.4155 - val_mae: 2.7788 - val_mse: 13.4155\n",
      "Epoch 414/500\n",
      "12/12 [==============================] - 0s 3ms/step - loss: 6.6770 - mae: 1.8702 - mse: 6.6770 - val_loss: 13.3889 - val_mae: 2.7786 - val_mse: 13.3889\n",
      "Epoch 415/500\n",
      "12/12 [==============================] - 0s 3ms/step - loss: 6.7912 - mae: 1.9016 - mse: 6.7912 - val_loss: 13.3119 - val_mae: 2.7726 - val_mse: 13.3119\n",
      "Epoch 416/500\n",
      "12/12 [==============================] - 0s 4ms/step - loss: 6.7058 - mae: 1.8837 - mse: 6.7058 - val_loss: 13.8219 - val_mae: 2.8165 - val_mse: 13.8219\n",
      "Epoch 417/500\n",
      "12/12 [==============================] - 0s 3ms/step - loss: 6.6418 - mae: 1.8595 - mse: 6.6418 - val_loss: 13.8198 - val_mae: 2.8184 - val_mse: 13.8198\n",
      "Epoch 418/500\n",
      "12/12 [==============================] - 0s 3ms/step - loss: 6.6545 - mae: 1.8816 - mse: 6.6545 - val_loss: 13.2705 - val_mae: 2.7695 - val_mse: 13.2705\n",
      "Epoch 419/500\n",
      "12/12 [==============================] - 0s 3ms/step - loss: 6.8758 - mae: 1.8865 - mse: 6.8758 - val_loss: 13.5192 - val_mae: 2.7886 - val_mse: 13.5192\n",
      "Epoch 420/500\n",
      "12/12 [==============================] - 0s 3ms/step - loss: 6.9794 - mae: 1.8949 - mse: 6.9794 - val_loss: 13.5269 - val_mae: 2.7879 - val_mse: 13.5269\n",
      "Epoch 421/500\n",
      "12/12 [==============================] - 0s 4ms/step - loss: 6.7393 - mae: 1.9154 - mse: 6.7393 - val_loss: 14.2726 - val_mae: 2.8718 - val_mse: 14.2726\n",
      "Epoch 422/500\n",
      "12/12 [==============================] - 0s 3ms/step - loss: 6.8490 - mae: 1.9125 - mse: 6.8490 - val_loss: 13.5289 - val_mae: 2.7912 - val_mse: 13.5289\n",
      "Epoch 423/500\n",
      "12/12 [==============================] - 0s 4ms/step - loss: 6.6821 - mae: 1.8752 - mse: 6.6821 - val_loss: 13.3098 - val_mae: 2.7663 - val_mse: 13.3098\n",
      "Epoch 424/500\n",
      "12/12 [==============================] - 0s 4ms/step - loss: 6.6900 - mae: 1.8840 - mse: 6.6900 - val_loss: 13.6230 - val_mae: 2.7951 - val_mse: 13.6230\n",
      "Epoch 425/500\n",
      "12/12 [==============================] - 0s 3ms/step - loss: 6.6585 - mae: 1.8656 - mse: 6.6585 - val_loss: 14.1121 - val_mae: 2.8498 - val_mse: 14.1121\n",
      "Epoch 426/500\n",
      "12/12 [==============================] - 0s 4ms/step - loss: 6.8233 - mae: 1.9074 - mse: 6.8233 - val_loss: 14.0413 - val_mae: 2.8392 - val_mse: 14.0413\n",
      "Epoch 427/500\n",
      "12/12 [==============================] - 0s 3ms/step - loss: 6.7689 - mae: 1.8903 - mse: 6.7689 - val_loss: 13.6256 - val_mae: 2.7956 - val_mse: 13.6256\n",
      "Epoch 428/500\n",
      "12/12 [==============================] - 0s 3ms/step - loss: 6.5409 - mae: 1.8492 - mse: 6.5409 - val_loss: 13.6016 - val_mae: 2.7926 - val_mse: 13.6016\n",
      "Epoch 429/500\n",
      "12/12 [==============================] - 0s 3ms/step - loss: 6.5597 - mae: 1.8553 - mse: 6.5597 - val_loss: 13.1903 - val_mae: 2.7512 - val_mse: 13.1903\n",
      "Epoch 430/500\n",
      "12/12 [==============================] - 0s 3ms/step - loss: 6.7449 - mae: 1.8718 - mse: 6.7449 - val_loss: 13.4437 - val_mae: 2.7770 - val_mse: 13.4437\n",
      "Epoch 431/500\n",
      "12/12 [==============================] - 0s 4ms/step - loss: 6.6965 - mae: 1.8689 - mse: 6.6965 - val_loss: 13.6300 - val_mae: 2.7955 - val_mse: 13.6300\n",
      "Epoch 432/500\n",
      "12/12 [==============================] - 0s 3ms/step - loss: 6.4567 - mae: 1.8556 - mse: 6.4567 - val_loss: 13.5933 - val_mae: 2.7921 - val_mse: 13.5933\n",
      "Epoch 433/500\n",
      "12/12 [==============================] - 0s 3ms/step - loss: 6.4801 - mae: 1.8412 - mse: 6.4801 - val_loss: 13.5215 - val_mae: 2.7824 - val_mse: 13.5215\n",
      "Epoch 434/500\n",
      "12/12 [==============================] - 0s 4ms/step - loss: 6.5029 - mae: 1.8727 - mse: 6.5029 - val_loss: 14.0438 - val_mae: 2.8371 - val_mse: 14.0438\n",
      "Epoch 435/500\n",
      "12/12 [==============================] - 0s 3ms/step - loss: 6.5042 - mae: 1.8733 - mse: 6.5042 - val_loss: 13.3932 - val_mae: 2.7722 - val_mse: 13.3932\n",
      "Epoch 436/500\n",
      "12/12 [==============================] - 0s 3ms/step - loss: 6.4373 - mae: 1.8467 - mse: 6.4373 - val_loss: 13.4247 - val_mae: 2.7737 - val_mse: 13.4247\n",
      "Epoch 437/500\n",
      "12/12 [==============================] - 0s 3ms/step - loss: 6.5354 - mae: 1.8683 - mse: 6.5354 - val_loss: 13.7167 - val_mae: 2.8001 - val_mse: 13.7167\n",
      "Epoch 438/500\n"
     ]
    },
    {
     "name": "stdout",
     "output_type": "stream",
     "text": [
      "12/12 [==============================] - 0s 3ms/step - loss: 6.6411 - mae: 1.8822 - mse: 6.6411 - val_loss: 14.0933 - val_mae: 2.8415 - val_mse: 14.0933\n",
      "Epoch 439/500\n",
      "12/12 [==============================] - 0s 3ms/step - loss: 6.4040 - mae: 1.8337 - mse: 6.4040 - val_loss: 13.3078 - val_mae: 2.7598 - val_mse: 13.3078\n",
      "Epoch 440/500\n",
      "12/12 [==============================] - 0s 4ms/step - loss: 6.3974 - mae: 1.8331 - mse: 6.3974 - val_loss: 14.3752 - val_mae: 2.8717 - val_mse: 14.3752\n",
      "Epoch 441/500\n",
      "12/12 [==============================] - 0s 3ms/step - loss: 6.5859 - mae: 1.8638 - mse: 6.5859 - val_loss: 13.6264 - val_mae: 2.7880 - val_mse: 13.6264\n",
      "Epoch 442/500\n",
      "12/12 [==============================] - 0s 3ms/step - loss: 6.3963 - mae: 1.8314 - mse: 6.3963 - val_loss: 13.3481 - val_mae: 2.7627 - val_mse: 13.3481\n",
      "Epoch 443/500\n",
      "12/12 [==============================] - 0s 3ms/step - loss: 6.4068 - mae: 1.8424 - mse: 6.4068 - val_loss: 13.4405 - val_mae: 2.7682 - val_mse: 13.4405\n",
      "Epoch 444/500\n",
      "12/12 [==============================] - 0s 3ms/step - loss: 6.3244 - mae: 1.8355 - mse: 6.3244 - val_loss: 13.6162 - val_mae: 2.7863 - val_mse: 13.6162\n",
      "Epoch 445/500\n",
      "12/12 [==============================] - 0s 3ms/step - loss: 6.5629 - mae: 1.8732 - mse: 6.5629 - val_loss: 13.2299 - val_mae: 2.7492 - val_mse: 13.2299\n",
      "Epoch 446/500\n",
      "12/12 [==============================] - 0s 3ms/step - loss: 6.5491 - mae: 1.8635 - mse: 6.5491 - val_loss: 13.7928 - val_mae: 2.8075 - val_mse: 13.7928\n",
      "Epoch 447/500\n",
      "12/12 [==============================] - 0s 3ms/step - loss: 6.3733 - mae: 1.8443 - mse: 6.3733 - val_loss: 14.0629 - val_mae: 2.8380 - val_mse: 14.0629\n",
      "Epoch 448/500\n",
      "12/12 [==============================] - 0s 3ms/step - loss: 6.3953 - mae: 1.8273 - mse: 6.3953 - val_loss: 13.3382 - val_mae: 2.7601 - val_mse: 13.3382\n",
      "Epoch 449/500\n",
      "12/12 [==============================] - 0s 4ms/step - loss: 6.3157 - mae: 1.8291 - mse: 6.3157 - val_loss: 13.7843 - val_mae: 2.7993 - val_mse: 13.7843\n",
      "Epoch 450/500\n",
      "12/12 [==============================] - 0s 3ms/step - loss: 6.2833 - mae: 1.8415 - mse: 6.2833 - val_loss: 13.2088 - val_mae: 2.7448 - val_mse: 13.2088\n",
      "Epoch 451/500\n",
      "12/12 [==============================] - 0s 3ms/step - loss: 6.3278 - mae: 1.8296 - mse: 6.3278 - val_loss: 13.4392 - val_mae: 2.7660 - val_mse: 13.4392\n",
      "Epoch 452/500\n",
      "12/12 [==============================] - 0s 3ms/step - loss: 6.3717 - mae: 1.8354 - mse: 6.3717 - val_loss: 13.3988 - val_mae: 2.7556 - val_mse: 13.3988\n",
      "Epoch 453/500\n",
      "12/12 [==============================] - 0s 3ms/step - loss: 6.3609 - mae: 1.8305 - mse: 6.3609 - val_loss: 14.4073 - val_mae: 2.8700 - val_mse: 14.4073\n",
      "Epoch 454/500\n",
      "12/12 [==============================] - 0s 3ms/step - loss: 6.2738 - mae: 1.8222 - mse: 6.2738 - val_loss: 13.4590 - val_mae: 2.7623 - val_mse: 13.4590\n",
      "Epoch 455/500\n",
      "12/12 [==============================] - 0s 3ms/step - loss: 6.5105 - mae: 1.8416 - mse: 6.5105 - val_loss: 13.2543 - val_mae: 2.7442 - val_mse: 13.2543\n",
      "Epoch 456/500\n",
      "12/12 [==============================] - 0s 3ms/step - loss: 6.4200 - mae: 1.8711 - mse: 6.4200 - val_loss: 14.1468 - val_mae: 2.8452 - val_mse: 14.1468\n",
      "Epoch 457/500\n",
      "12/12 [==============================] - 0s 3ms/step - loss: 6.1879 - mae: 1.8213 - mse: 6.1879 - val_loss: 13.3447 - val_mae: 2.7550 - val_mse: 13.3447\n",
      "Epoch 458/500\n",
      "12/12 [==============================] - 0s 3ms/step - loss: 6.2039 - mae: 1.8223 - mse: 6.2039 - val_loss: 13.7312 - val_mae: 2.7875 - val_mse: 13.7312\n",
      "Epoch 459/500\n",
      "12/12 [==============================] - 0s 3ms/step - loss: 6.1828 - mae: 1.8214 - mse: 6.1828 - val_loss: 13.3239 - val_mae: 2.7491 - val_mse: 13.3239\n",
      "Epoch 460/500\n",
      "12/12 [==============================] - 0s 3ms/step - loss: 6.1875 - mae: 1.8172 - mse: 6.1875 - val_loss: 13.3785 - val_mae: 2.7535 - val_mse: 13.3785\n",
      "Epoch 461/500\n",
      "12/12 [==============================] - 0s 3ms/step - loss: 6.1475 - mae: 1.8202 - mse: 6.1475 - val_loss: 13.7885 - val_mae: 2.7903 - val_mse: 13.7885\n",
      "Epoch 462/500\n",
      "12/12 [==============================] - 0s 3ms/step - loss: 6.1743 - mae: 1.8047 - mse: 6.1743 - val_loss: 13.3250 - val_mae: 2.7425 - val_mse: 13.3250\n",
      "Epoch 463/500\n",
      "12/12 [==============================] - 0s 3ms/step - loss: 6.0868 - mae: 1.8040 - mse: 6.0868 - val_loss: 13.7397 - val_mae: 2.7845 - val_mse: 13.7397\n",
      "Epoch 464/500\n",
      "12/12 [==============================] - 0s 3ms/step - loss: 6.2003 - mae: 1.8223 - mse: 6.2003 - val_loss: 13.8311 - val_mae: 2.7917 - val_mse: 13.8311\n",
      "Epoch 465/500\n",
      "12/12 [==============================] - 0s 3ms/step - loss: 6.3872 - mae: 1.8576 - mse: 6.3872 - val_loss: 13.3333 - val_mae: 2.7387 - val_mse: 13.3333\n",
      "Epoch 466/500\n",
      "12/12 [==============================] - 0s 4ms/step - loss: 6.5466 - mae: 1.8872 - mse: 6.5466 - val_loss: 13.4006 - val_mae: 2.7511 - val_mse: 13.4006\n",
      "Epoch 467/500\n",
      "12/12 [==============================] - 0s 3ms/step - loss: 6.5064 - mae: 1.8613 - mse: 6.5064 - val_loss: 14.4202 - val_mae: 2.8451 - val_mse: 14.4202\n",
      "Epoch 468/500\n",
      "12/12 [==============================] - 0s 4ms/step - loss: 6.0706 - mae: 1.7910 - mse: 6.0706 - val_loss: 13.2436 - val_mae: 2.7278 - val_mse: 13.2436\n",
      "Epoch 469/500\n",
      "12/12 [==============================] - 0s 3ms/step - loss: 6.0673 - mae: 1.7929 - mse: 6.0673 - val_loss: 13.6274 - val_mae: 2.7622 - val_mse: 13.6274\n",
      "Epoch 470/500\n",
      "12/12 [==============================] - 0s 3ms/step - loss: 6.0828 - mae: 1.7936 - mse: 6.0828 - val_loss: 13.2609 - val_mae: 2.7287 - val_mse: 13.2609\n",
      "Epoch 471/500\n",
      "12/12 [==============================] - 0s 3ms/step - loss: 6.0265 - mae: 1.7994 - mse: 6.0265 - val_loss: 13.4597 - val_mae: 2.7451 - val_mse: 13.4597\n",
      "Epoch 472/500\n",
      "12/12 [==============================] - 0s 3ms/step - loss: 6.0395 - mae: 1.7989 - mse: 6.0395 - val_loss: 13.5431 - val_mae: 2.7548 - val_mse: 13.5431\n",
      "Epoch 473/500\n",
      "12/12 [==============================] - 0s 3ms/step - loss: 6.0592 - mae: 1.7991 - mse: 6.0592 - val_loss: 13.3664 - val_mae: 2.7377 - val_mse: 13.3664\n",
      "Epoch 474/500\n",
      "12/12 [==============================] - 0s 4ms/step - loss: 6.0855 - mae: 1.8105 - mse: 6.0855 - val_loss: 13.4822 - val_mae: 2.7460 - val_mse: 13.4822\n",
      "Epoch 475/500\n",
      "12/12 [==============================] - 0s 3ms/step - loss: 6.0782 - mae: 1.8184 - mse: 6.0782 - val_loss: 13.9214 - val_mae: 2.7921 - val_mse: 13.9214\n",
      "Epoch 476/500\n",
      "12/12 [==============================] - 0s 3ms/step - loss: 6.0745 - mae: 1.8129 - mse: 6.0745 - val_loss: 13.4791 - val_mae: 2.7346 - val_mse: 13.4791\n",
      "Epoch 477/500\n",
      "12/12 [==============================] - 0s 3ms/step - loss: 5.9585 - mae: 1.7928 - mse: 5.9585 - val_loss: 14.0353 - val_mae: 2.8087 - val_mse: 14.0353\n",
      "Epoch 478/500\n",
      "12/12 [==============================] - 0s 4ms/step - loss: 6.0954 - mae: 1.8077 - mse: 6.0954 - val_loss: 13.1086 - val_mae: 2.7019 - val_mse: 13.1086\n",
      "Epoch 479/500\n",
      "12/12 [==============================] - 0s 3ms/step - loss: 6.2423 - mae: 1.8222 - mse: 6.2423 - val_loss: 13.2762 - val_mae: 2.7168 - val_mse: 13.2762\n",
      "Epoch 480/500\n",
      "12/12 [==============================] - 0s 3ms/step - loss: 6.0144 - mae: 1.7911 - mse: 6.0144 - val_loss: 13.7132 - val_mae: 2.7601 - val_mse: 13.7132\n",
      "Epoch 481/500\n",
      "12/12 [==============================] - 0s 3ms/step - loss: 5.9842 - mae: 1.7937 - mse: 5.9842 - val_loss: 13.5302 - val_mae: 2.7450 - val_mse: 13.5302\n",
      "Epoch 482/500\n",
      "12/12 [==============================] - 0s 3ms/step - loss: 5.9245 - mae: 1.7816 - mse: 5.9245 - val_loss: 13.3022 - val_mae: 2.7271 - val_mse: 13.3022\n",
      "Epoch 483/500\n",
      "12/12 [==============================] - 0s 3ms/step - loss: 5.8894 - mae: 1.7787 - mse: 5.8894 - val_loss: 13.4269 - val_mae: 2.7366 - val_mse: 13.4269\n",
      "Epoch 484/500\n",
      "12/12 [==============================] - 0s 3ms/step - loss: 5.9134 - mae: 1.7776 - mse: 5.9134 - val_loss: 13.6039 - val_mae: 2.7485 - val_mse: 13.6039\n",
      "Epoch 485/500\n",
      "12/12 [==============================] - 0s 3ms/step - loss: 6.0325 - mae: 1.8095 - mse: 6.0325 - val_loss: 13.2228 - val_mae: 2.7088 - val_mse: 13.2228\n",
      "Epoch 486/500\n",
      "12/12 [==============================] - 0s 3ms/step - loss: 6.0236 - mae: 1.7966 - mse: 6.0236 - val_loss: 13.4557 - val_mae: 2.7320 - val_mse: 13.4557\n",
      "Epoch 487/500\n"
     ]
    },
    {
     "name": "stdout",
     "output_type": "stream",
     "text": [
      "12/12 [==============================] - 0s 3ms/step - loss: 6.1475 - mae: 1.8283 - mse: 6.1475 - val_loss: 13.4084 - val_mae: 2.7306 - val_mse: 13.4084\n",
      "Epoch 488/500\n",
      "12/12 [==============================] - 0s 3ms/step - loss: 6.2317 - mae: 1.8413 - mse: 6.2317 - val_loss: 14.5578 - val_mae: 2.8483 - val_mse: 14.5578\n",
      "Epoch 489/500\n",
      "12/12 [==============================] - 0s 3ms/step - loss: 5.9798 - mae: 1.7853 - mse: 5.9798 - val_loss: 13.1292 - val_mae: 2.6941 - val_mse: 13.1292\n",
      "Epoch 490/500\n",
      "12/12 [==============================] - 0s 3ms/step - loss: 5.8517 - mae: 1.7721 - mse: 5.8517 - val_loss: 13.7153 - val_mae: 2.7555 - val_mse: 13.7153\n",
      "Epoch 491/500\n",
      "12/12 [==============================] - 0s 3ms/step - loss: 5.8645 - mae: 1.7724 - mse: 5.8645 - val_loss: 13.3316 - val_mae: 2.7169 - val_mse: 13.3316\n",
      "Epoch 492/500\n",
      "12/12 [==============================] - 0s 3ms/step - loss: 5.9049 - mae: 1.7906 - mse: 5.9049 - val_loss: 13.3914 - val_mae: 2.7261 - val_mse: 13.3914\n",
      "Epoch 493/500\n",
      "12/12 [==============================] - 0s 3ms/step - loss: 6.0605 - mae: 1.7948 - mse: 6.0605 - val_loss: 13.3745 - val_mae: 2.7160 - val_mse: 13.3745\n",
      "Epoch 494/500\n",
      "12/12 [==============================] - 0s 4ms/step - loss: 5.8925 - mae: 1.7884 - mse: 5.8925 - val_loss: 13.4634 - val_mae: 2.7326 - val_mse: 13.4634\n",
      "Epoch 495/500\n",
      "12/12 [==============================] - 0s 3ms/step - loss: 6.0235 - mae: 1.8024 - mse: 6.0235 - val_loss: 13.5722 - val_mae: 2.7405 - val_mse: 13.5722\n",
      "Epoch 496/500\n",
      "12/12 [==============================] - 0s 3ms/step - loss: 5.8355 - mae: 1.7887 - mse: 5.8355 - val_loss: 13.3092 - val_mae: 2.7063 - val_mse: 13.3092\n",
      "Epoch 497/500\n",
      "12/12 [==============================] - 0s 4ms/step - loss: 5.9704 - mae: 1.7903 - mse: 5.9704 - val_loss: 13.1955 - val_mae: 2.7080 - val_mse: 13.1955\n",
      "Epoch 498/500\n",
      "12/12 [==============================] - 0s 3ms/step - loss: 5.9802 - mae: 1.8061 - mse: 5.9802 - val_loss: 14.0556 - val_mae: 2.7954 - val_mse: 14.0556\n",
      "Epoch 499/500\n",
      "12/12 [==============================] - 0s 3ms/step - loss: 5.9665 - mae: 1.7930 - mse: 5.9665 - val_loss: 13.6398 - val_mae: 2.7471 - val_mse: 13.6398\n",
      "Epoch 500/500\n",
      "12/12 [==============================] - 0s 3ms/step - loss: 5.8177 - mae: 1.7715 - mse: 5.8177 - val_loss: 13.2585 - val_mae: 2.7073 - val_mse: 13.2585\n"
     ]
    }
   ],
   "source": [
    "history = model.fit(X_train, y_train, batch_size=32, \n",
    "                    epochs=500, validation_data=(X_test, y_test), verbose=1)"
   ]
  },
  {
   "cell_type": "code",
   "execution_count": 12,
   "metadata": {
    "colab": {
     "base_uri": "https://localhost:8080/",
     "height": 35
    },
    "colab_type": "code",
    "id": "1ZFSsBqVrTP1",
    "outputId": "d294314b-4808-4c0f-defc-ed8e4de416a9",
    "scrolled": true
   },
   "outputs": [
    {
     "data": {
      "text/plain": [
       "[13.258513450622559, 2.707341194152832, 13.258513450622559]"
      ]
     },
     "execution_count": 12,
     "metadata": {},
     "output_type": "execute_result"
    }
   ],
   "source": [
    "model.evaluate(X_test, y_test, verbose=0)"
   ]
  },
  {
   "cell_type": "code",
   "execution_count": 13,
   "metadata": {
    "colab": {},
    "colab_type": "code",
    "id": "ToA2qijTrTP4"
   },
   "outputs": [
    {
     "name": "stdout",
     "output_type": "stream",
     "text": [
      "4/4 [==============================] - 0s 819us/step\n"
     ]
    }
   ],
   "source": [
    "y_pred = model.predict(X_test)"
   ]
  },
  {
   "cell_type": "code",
   "execution_count": 14,
   "metadata": {
    "colab": {
     "base_uri": "https://localhost:8080/",
     "height": 53
    },
    "colab_type": "code",
    "id": "bNIig2qBrTP6",
    "outputId": "39e3a8b5-4772-47c7-a7cb-3d1406ef776a"
   },
   "outputs": [
    {
     "name": "stdout",
     "output_type": "stream",
     "text": [
      "Mean squared error: 13.26\n",
      "R2 score: 0.87\n"
     ]
    }
   ],
   "source": [
    "# MSE(mean squared error) 계산\n",
    "print(\"Mean squared error: {:.2f}\".format(mean_squared_error(y_test, y_pred)))\n",
    "\n",
    "# R2 계산 \n",
    "print(\"R2 score: {:.2f}\".format(r2_score(y_test, y_pred)))"
   ]
  },
  {
   "cell_type": "code",
   "execution_count": 15,
   "metadata": {
    "colab": {
     "base_uri": "https://localhost:8080/",
     "height": 314
    },
    "colab_type": "code",
    "id": "1BsUtTlErTP9",
    "outputId": "7ac930ee-d227-4aa5-9d08-ebc46bb8c237"
   },
   "outputs": [
    {
     "data": {
      "text/plain": [
       "Text(0.5, 1.0, 'Boston House Price Prediction ($1,000)')"
      ]
     },
     "execution_count": 15,
     "metadata": {},
     "output_type": "execute_result"
    },
    {
     "data": {
      "image/png": "[encoded data removed]",
      "text/plain": [
       "<Figure size 640x480 with 1 Axes>"
      ]
     },
     "metadata": {},
     "output_type": "display_data"
    }
   ],
   "source": [
    "plt.scatter(y_test, y_test, label='true')\n",
    "plt.scatter(y_test, y_pred, label='predict')\n",
    "plt.xlabel('y_test')\n",
    "plt.ylabel('y')\n",
    "plt.legend()\n",
    "plt.title('Boston House Price Prediction ($1,000)')"
   ]
  },
  {
   "cell_type": "code",
   "execution_count": 16,
   "metadata": {},
   "outputs": [
    {
     "data": {
      "text/plain": [
       "<matplotlib.legend.Legend at 0x235dc15dd30>"
      ]
     },
     "execution_count": 16,
     "metadata": {},
     "output_type": "execute_result"
    },
    {
     "data": {
      "image/png": "[encoded data removed]",
      "text/plain": [
       "<Figure size 640x480 with 1 Axes>"
      ]
     },
     "metadata": {},
     "output_type": "display_data"
    }
   ],
   "source": [
    "plt.plot(history.history['mse'], label='Train error')\n",
    "plt.plot(history.history['val_mse'], label='Test error')\n",
    "plt.ylim([0, 50])\n",
    "plt.legend()"
   ]
  },
  {
   "cell_type": "markdown",
   "metadata": {
    "colab_type": "text",
    "id": "HHSjTEgsrTQC"
   },
   "source": [
    "## sklearn LinearRegression 비교"
   ]
  },
  {
   "cell_type": "code",
   "execution_count": 17,
   "metadata": {
    "colab": {},
    "colab_type": "code",
    "id": "Ys50B2fQrTQD"
   },
   "outputs": [],
   "source": [
    "from sklearn.linear_model import LinearRegression\n",
    "regr = LinearRegression()\n",
    "\n",
    "X_train, X_test, y_train, y_test = train_test_split(X, y)\n",
    "\n",
    "sc = MinMaxScaler()\n",
    "X_train = sc.fit_transform(X_train)\n",
    "X_test  = sc.transform(X_test)"
   ]
  },
  {
   "cell_type": "code",
   "execution_count": 18,
   "metadata": {
    "colab": {
     "base_uri": "https://localhost:8080/",
     "height": 35
    },
    "colab_type": "code",
    "id": "w4jI7c37rTQF",
    "outputId": "f7686808-c371-4f24-fa07-7768b8424c9b"
   },
   "outputs": [
    {
     "data": {
      "text/plain": [
       "LinearRegression()"
      ]
     },
     "execution_count": 18,
     "metadata": {},
     "output_type": "execute_result"
    }
   ],
   "source": [
    "regr.fit(X_train, y_train)"
   ]
  },
  {
   "cell_type": "code",
   "execution_count": 19,
   "metadata": {
    "colab": {},
    "colab_type": "code",
    "id": "PovF4BEVrTQJ"
   },
   "outputs": [],
   "source": [
    "y_pred = regr.predict(X_test)"
   ]
  },
  {
   "cell_type": "code",
   "execution_count": 20,
   "metadata": {
    "colab": {
     "base_uri": "https://localhost:8080/",
     "height": 125
    },
    "colab_type": "code",
    "id": "2NPoXeQRrTQL",
    "outputId": "4429b9f7-7bef-4acf-edb3-b7f77d5ac319"
   },
   "outputs": [
    {
     "name": "stdout",
     "output_type": "stream",
     "text": [
      "Coefficients: \n",
      " [-10.89821098   4.39103351   1.00114292   2.85740303  -8.17513561\n",
      "  20.25159401   0.57863378 -14.71941427   6.9861043   -5.94198831\n",
      "  -9.7375224    3.5453104  -18.90146647]\n",
      "Intercept: \n",
      " 26.351240968276628\n"
     ]
    }
   ],
   "source": [
    "# The coefficients\n",
    "print('Coefficients: \\n', regr.coef_)\n",
    "print('Intercept: \\n', regr.intercept_)"
   ]
  },
  {
   "cell_type": "code",
   "execution_count": 21,
   "metadata": {
    "colab": {
     "base_uri": "https://localhost:8080/",
     "height": 53
    },
    "colab_type": "code",
    "id": "nmcGQEyXrTQP",
    "outputId": "1173b675-0c0a-4071-92ec-2135f0d1ba75"
   },
   "outputs": [
    {
     "name": "stdout",
     "output_type": "stream",
     "text": [
      "Mean squared error: 20.77\n",
      "R2 score: 0.71\n"
     ]
    }
   ],
   "source": [
    "# MSE(mean squared error) 계산\n",
    "print(\"Mean squared error: {:.2f}\".format(mean_squared_error(y_test, y_pred)))\n",
    "\n",
    "# R2 계산 \n",
    "print(\"R2 score: {:.2f}\".format(r2_score(y_test, y_pred)))"
   ]
  },
  {
   "cell_type": "code",
   "execution_count": 22,
   "metadata": {},
   "outputs": [
    {
     "data": {
      "text/plain": [
       "((127,), (127,))"
      ]
     },
     "execution_count": 22,
     "metadata": {},
     "output_type": "execute_result"
    }
   ],
   "source": [
    "y_test.shape, y_pred.shape"
   ]
  },
  {
   "cell_type": "code",
   "execution_count": 23,
   "metadata": {},
   "outputs": [
    {
     "data": {
      "text/plain": [
       "Text(0.5, 1.0, 'Boston House Price Prediction ($1,000)')"
      ]
     },
     "execution_count": 23,
     "metadata": {},
     "output_type": "execute_result"
    },
    {
     "data": {
      "image/png": "[encoded data removed]",
      "text/plain": [
       "<Figure size 640x480 with 1 Axes>"
      ]
     },
     "metadata": {},
     "output_type": "display_data"
    }
   ],
   "source": [
    "plt.scatter(y_test, y_pred)\n",
    "plt.plot([y_test.min(), y_test.max()], [y_test.min(), y_test.max()], '--', c='r')\n",
    "plt.xlabel('y_test')\n",
    "plt.ylabel('y_pred')\n",
    "plt.title('Boston House Price Prediction ($1,000)')"
   ]
  },
  {
   "cell_type": "markdown",
   "metadata": {
    "colab_type": "text",
    "id": "N1dR1BCOrTQV"
   },
   "source": [
    "## 실습\n",
    "\n",
    "### UCI Machine Learning Repository 의 Auto MPG dataset 을 사용하여 자동차 연비 예측 Regression model 작성\n",
    "\n",
    "- auto-mpg.data - data file  \n",
    "\n",
    "\n",
    "- auto-mpg.names - data 설명 file\n",
    "\n",
    "    1. mpg:           continuous  \n",
    "    2. cylinders:     multi-valued discrete  \n",
    "    3. displacement:  continuous (배기량)   \n",
    "    4. horsepower:    continuous  \n",
    "    5. weight:        continuous  \n",
    "    6. acceleration:  continuous  \n",
    "    7. model year:    multi-valued discrete  \n",
    "    8. origin:        multi-valued discrete, 1 - USA, 2 - Europe, 3 - Japan  \n",
    "    9. car name:      string (unique for each instance)  \n",
    "\n",
    "Missing Attribute Values:  horsepower has 6 missing values  ==> \"?\" 로 들어 있으므로 read_csv 시 nan 으로 변환"
   ]
  },
  {
   "cell_type": "code",
   "execution_count": 24,
   "metadata": {
    "colab": {},
    "colab_type": "code",
    "id": "tBbjUToQrTQV"
   },
   "outputs": [],
   "source": [
    "import pandas as pd\n",
    "import numpy as np\n",
    "import tensorflow as tf\n",
    "from tensorflow.keras import layers\n",
    "from sklearn.model_selection import train_test_split\n",
    "from sklearn.preprocessing import StandardScaler"
   ]
  },
  {
   "cell_type": "markdown",
   "metadata": {
    "colab_type": "text",
    "id": "OaJ3QC85rTQY"
   },
   "source": [
    "### Data load 및 Preprocessing"
   ]
  },
  {
   "cell_type": "code",
   "execution_count": 25,
   "metadata": {
    "colab": {
     "base_uri": "https://localhost:8080/",
     "height": 53
    },
    "colab_type": "code",
    "id": "zwc5ou1PrTQY",
    "outputId": "472698f8-440b-43fd-fc7d-4eac7e14ca27"
   },
   "outputs": [],
   "source": [
    "data_path = tf.keras.utils.get_file(\"auto-mpg.data\", \n",
    "        \"https://archive.ics.uci.edu/ml/machine-learning-databases/auto-mpg/auto-mpg.data\")\n",
    "\n",
    "column_names = ['mpg', 'cylinders', 'displacement', 'horsepower', 'weight', 'acceleration', 'model year', 'origin']\n",
    "\n",
    "rawdata = pd.read_csv(data_path, names=column_names, na_values=\"?\", comment=\"\\t\", sep=\" \", skipinitialspace=True)\n",
    "\n",
    "rawdata.dropna(inplace=True)\n",
    "\n",
    "data = rawdata.copy()\n",
    "\n",
    "data = pd.get_dummies(data, columns=['cylinders', 'origin'])\n",
    "\n",
    "label = data.pop('mpg')\n",
    "\n",
    "X_train, X_test, y_train, y_test = train_test_split(data.values, label.values)\n",
    "\n",
    "sc = StandardScaler()\n",
    "X_train = sc.fit_transform(X_train)\n",
    "X_test = sc.transform(X_test)"
   ]
  },
  {
   "cell_type": "markdown",
   "metadata": {
    "colab_type": "text",
    "id": "lSAJqN3DrTQa"
   },
   "source": [
    "### Regression Model Build\n",
    "\n",
    "### train\n",
    "\n",
    "### predict\n",
    "\n",
    "### $r^2$ 계산\n",
    "\n",
    "### 시각화"
   ]
  }
 ],
 "metadata": {
  "accelerator": "GPU",
  "colab": {
   "name": "100.Boston Regression.ipynb",
   "provenance": []
  },
  "kernelspec": {
   "display_name": "Python 3 (ipykernel)",
   "language": "python",
   "name": "python3"
  },
  "language_info": {
   "codemirror_mode": {
    "name": "ipython",
    "version": 3
   },
   "file_extension": ".py",
   "mimetype": "text/x-python",
   "name": "python",
   "nbconvert_exporter": "python",
   "pygments_lexer": "ipython3",
   "version": "3.9.16"
  }
 },
 "nbformat": 4,
 "nbformat_minor": 4
}
