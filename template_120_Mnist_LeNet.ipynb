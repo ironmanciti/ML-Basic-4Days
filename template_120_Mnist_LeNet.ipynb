{
 "cells": [
  {
   "cell_type": "markdown",
   "id": "de90044a",
   "metadata": {
    "colab_type": "text",
    "id": "l5FbT6SKYfZU"
   },
   "source": [
    "# LeNet-5 (1998, Yan LeCunn)"
   ]
  },
  {
   "cell_type": "code",
   "execution_count": null,
   "id": "c5a49483",
   "metadata": {},
   "outputs": [],
   "source": []
  },
  {
   "cell_type": "markdown",
   "id": "d94f55d6",
   "metadata": {
    "colab_type": "text",
    "id": "qop11kd_Yv7k"
   },
   "source": [
    "### train, test split"
   ]
  },
  {
   "cell_type": "code",
   "execution_count": null,
   "id": "4c13f80e",
   "metadata": {},
   "outputs": [],
   "source": []
  },
  {
   "cell_type": "code",
   "execution_count": null,
   "id": "8d28432f",
   "metadata": {},
   "outputs": [],
   "source": []
  },
  {
   "cell_type": "markdown",
   "id": "0296ac8f",
   "metadata": {
    "colab_type": "text",
    "id": "Fe3CcX3wY00Q"
   },
   "source": [
    "### scaling \n",
    "- 0 `~` 1 사이로 pixel 값을 scale"
   ]
  },
  {
   "cell_type": "code",
   "execution_count": null,
   "id": "3370ae1a",
   "metadata": {},
   "outputs": [],
   "source": []
  },
  {
   "cell_type": "markdown",
   "id": "673d1b51",
   "metadata": {
    "colab_type": "text",
    "id": "FVOg-qtFZCOB"
   },
   "source": [
    "### Conv2D layer 의  입력 사양에 맞추어 3 dimension 으로 차원 증가"
   ]
  },
  {
   "cell_type": "code",
   "execution_count": null,
   "id": "bd51974d",
   "metadata": {},
   "outputs": [],
   "source": []
  },
  {
   "cell_type": "code",
   "execution_count": null,
   "id": "cf8a3dc0",
   "metadata": {},
   "outputs": [],
   "source": []
  },
  {
   "cell_type": "markdown",
   "id": "fb076159",
   "metadata": {
    "colab_type": "text",
    "id": "tkiTO0FpZV3u"
   },
   "source": [
    "### label 을 one-hot-encoding"
   ]
  },
  {
   "cell_type": "code",
   "execution_count": null,
   "id": "95e81de0",
   "metadata": {},
   "outputs": [],
   "source": []
  },
  {
   "cell_type": "markdown",
   "id": "36a505e4",
   "metadata": {
    "colab_type": "text",
    "id": "Nea8kCD6YfZi"
   },
   "source": [
    "## tf.data 를 이용한 shuffling and batch 구성"
   ]
  },
  {
   "cell_type": "code",
   "execution_count": null,
   "id": "6a3e05fd",
   "metadata": {},
   "outputs": [],
   "source": []
  },
  {
   "cell_type": "markdown",
   "id": "ac9d8c72",
   "metadata": {
    "colab_type": "text",
    "id": "AP1ClTjeYfZl"
   },
   "source": [
    "## LeNet 구성\n",
    "\n",
    "<img src=\"https://d2l.ai/_images/lenet.svg\" width=\"800\" />"
   ]
  },
  {
   "cell_type": "code",
   "execution_count": null,
   "id": "b149455e",
   "metadata": {},
   "outputs": [],
   "source": []
  },
  {
   "cell_type": "code",
   "execution_count": null,
   "id": "251ddc7c",
   "metadata": {},
   "outputs": [],
   "source": []
  },
  {
   "cell_type": "code",
   "execution_count": null,
   "id": "5017e88b",
   "metadata": {},
   "outputs": [],
   "source": []
  },
  {
   "cell_type": "code",
   "execution_count": null,
   "id": "7fa08118",
   "metadata": {},
   "outputs": [],
   "source": []
  },
  {
   "cell_type": "code",
   "execution_count": null,
   "id": "421a372a",
   "metadata": {},
   "outputs": [],
   "source": []
  },
  {
   "cell_type": "code",
   "execution_count": null,
   "id": "00d54c05",
   "metadata": {},
   "outputs": [],
   "source": []
  },
  {
   "cell_type": "code",
   "execution_count": null,
   "id": "b17d0458",
   "metadata": {},
   "outputs": [],
   "source": []
  },
  {
   "cell_type": "code",
   "execution_count": null,
   "id": "d71684f5",
   "metadata": {},
   "outputs": [],
   "source": []
  },
  {
   "cell_type": "code",
   "execution_count": null,
   "id": "848b93d4",
   "metadata": {},
   "outputs": [],
   "source": []
  },
  {
   "cell_type": "code",
   "execution_count": null,
   "id": "143589f7",
   "metadata": {},
   "outputs": [],
   "source": []
  },
  {
   "cell_type": "markdown",
   "id": "6397a4b7",
   "metadata": {},
   "source": [
    "# 실습 : fashion MNIST 를 이용하여 위와 동일한 작업\n",
    "\n",
    "Label\tClass  \n",
    "0\tT-shirt/top  \n",
    "1\tTrouser  \n",
    "2\tPullover  \n",
    "3\tDress  \n",
    "4\tCoat  \n",
    "5\tSandal  \n",
    "6\tShirt  \n",
    "7\tSneaker  \n",
    "8\tBag  \n",
    "9\tAnkle boot"
   ]
  },
  {
   "cell_type": "code",
   "execution_count": null,
   "id": "86c78596",
   "metadata": {},
   "outputs": [],
   "source": []
  },
  {
   "cell_type": "code",
   "execution_count": null,
   "id": "4720763e",
   "metadata": {},
   "outputs": [],
   "source": []
  },
  {
   "cell_type": "code",
   "execution_count": null,
   "id": "f6ce756c",
   "metadata": {},
   "outputs": [],
   "source": []
  },
  {
   "cell_type": "code",
   "execution_count": null,
   "id": "ae691795",
   "metadata": {},
   "outputs": [],
   "source": []
  },
  {
   "cell_type": "code",
   "execution_count": null,
   "id": "7b896de7",
   "metadata": {},
   "outputs": [],
   "source": []
  },
  {
   "cell_type": "code",
   "execution_count": null,
   "id": "b66fb3b1",
   "metadata": {},
   "outputs": [],
   "source": [
    "# Conv2D layer 의  입력 사양에 맞추어 3 dimension 으로 차원 증가"
   ]
  },
  {
   "cell_type": "code",
   "execution_count": null,
   "id": "714f8fd4",
   "metadata": {},
   "outputs": [],
   "source": [
    "# label 을 one-hot-encoding"
   ]
  },
  {
   "cell_type": "code",
   "execution_count": null,
   "id": "d30f658d",
   "metadata": {},
   "outputs": [],
   "source": [
    "# tf.data 를 이용한 shuffling and batch 구성"
   ]
  },
  {
   "cell_type": "code",
   "execution_count": null,
   "id": "d09f8b9e",
   "metadata": {},
   "outputs": [],
   "source": [
    "# LeNet model 구성"
   ]
  },
  {
   "cell_type": "code",
   "execution_count": null,
   "id": "74e0d3f7",
   "metadata": {},
   "outputs": [],
   "source": [
    "# model compile and predict"
   ]
  },
  {
   "cell_type": "code",
   "execution_count": null,
   "id": "ca01a524",
   "metadata": {},
   "outputs": [],
   "source": [
    "# train history 시각화"
   ]
  },
  {
   "cell_type": "code",
   "execution_count": null,
   "id": "c0f0e1ad",
   "metadata": {},
   "outputs": [],
   "source": [
    "# confusion matrix 시각화"
   ]
  }
 ],
 "metadata": {
  "accelerator": "GPU",
  "colab": {
   "name": "120.Mnist_LeNet.ipynb",
   "provenance": []
  },
  "kernelspec": {
   "display_name": "Python 3 (ipykernel)",
   "language": "python",
   "name": "python3"
  },
  "language_info": {
   "codemirror_mode": {
    "name": "ipython",
    "version": 3
   },
   "file_extension": ".py",
   "mimetype": "text/x-python",
   "name": "python",
   "nbconvert_exporter": "python",
   "pygments_lexer": "ipython3",
   "version": "3.9.7"
  }
 },
 "nbformat": 4,
 "nbformat_minor": 5
}
