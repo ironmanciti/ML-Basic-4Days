{
 "cells": [
  {
   "cell_type": "markdown",
   "id": "49ff6f83",
   "metadata": {
    "colab_type": "text",
    "id": "l5FbT6SKYfZU"
   },
   "source": [
    "# LeNet-5 (1998, Yan LeCunn)"
   ]
  },
  {
   "cell_type": "code",
   "execution_count": null,
   "id": "4f8ce179",
   "metadata": {},
   "outputs": [],
   "source": []
  },
  {
   "cell_type": "markdown",
   "id": "e2c63e32",
   "metadata": {
    "colab_type": "text",
    "id": "qop11kd_Yv7k"
   },
   "source": [
    "### train, test split"
   ]
  },
  {
   "cell_type": "code",
   "execution_count": null,
   "id": "3a5762e5",
   "metadata": {},
   "outputs": [],
   "source": [
    "# MNIST 숫자 이미지 데이터셋 로드\n",
    "# 각 데이터셋의 형태 출력"
   ]
  },
  {
   "cell_type": "code",
   "execution_count": null,
   "id": "b73f491b",
   "metadata": {},
   "outputs": [],
   "source": [
    "# 5x5 크기의 전체 그림 틀 생성\n",
    "# 처음 9개의 학습 이미지 시각화\n",
    "# 그래프 간 여백 자동 조정\n",
    "# 그래프 출력"
   ]
  },
  {
   "cell_type": "markdown",
   "id": "3132650e",
   "metadata": {
    "colab_type": "text",
    "id": "Fe3CcX3wY00Q"
   },
   "source": [
    "### scaling \n",
    "- 0 `~` 1 사이로 pixel 값을 scale"
   ]
  },
  {
   "cell_type": "code",
   "execution_count": null,
   "id": "1dddcd40",
   "metadata": {},
   "outputs": [],
   "source": [
    "# 픽셀 값을 0~1 사이로 정규화 (원래는 0~255 사이 정수값)"
   ]
  },
  {
   "cell_type": "markdown",
   "id": "bd382eac",
   "metadata": {
    "colab_type": "text",
    "id": "FVOg-qtFZCOB"
   },
   "source": [
    "### Conv2D layer 의  입력 사양에 맞추어 3 dimension 으로 차원 증가"
   ]
  },
  {
   "cell_type": "code",
   "execution_count": null,
   "id": "cfa11874",
   "metadata": {},
   "outputs": [],
   "source": [
    "# 차원 확장: (28, 28) → (28, 28, 1)\n",
    "# 흑백 이미지에 채널 차원(axis=3)을 추가하여 CNN 입력 형식에 맞춤"
   ]
  },
  {
   "cell_type": "code",
   "execution_count": null,
   "id": "056ec4c9",
   "metadata": {},
   "outputs": [],
   "source": []
  },
  {
   "cell_type": "markdown",
   "id": "f14d6b43",
   "metadata": {
    "colab_type": "text",
    "id": "tkiTO0FpZV3u"
   },
   "source": [
    "### label 을 one-hot-encoding"
   ]
  },
  {
   "cell_type": "code",
   "execution_count": null,
   "id": "36c10de6",
   "metadata": {},
   "outputs": [],
   "source": [
    "# 정수형 클래스 레이블을 One-hot 인코딩 형식으로 변환\n",
    "# 예: 3 → [0, 0, 0, 1, 0, 0, 0, 0, 0, 0]"
   ]
  },
  {
   "cell_type": "markdown",
   "id": "9317b3b2",
   "metadata": {
    "colab_type": "text",
    "id": "Nea8kCD6YfZi"
   },
   "source": [
    "## tf.data 를 이용한 shuffling and batch 구성"
   ]
  },
  {
   "cell_type": "code",
   "execution_count": null,
   "id": "8438d5e2",
   "metadata": {},
   "outputs": [],
   "source": [
    "# 학습 데이터를 TensorFlow Dataset 객체로 변환\n",
    "# - 데이터를 섞고(shuffle), 배치 단위로 나누어(batch) 학습에 사용\n",
    "# 테스트 데이터도 Dataset 객체로 변환 (섞지 않고 배치 처리만)"
   ]
  },
  {
   "cell_type": "markdown",
   "id": "8f88d1fd",
   "metadata": {
    "colab_type": "text",
    "id": "AP1ClTjeYfZl"
   },
   "source": [
    "## LeNet 구성\n",
    "\n",
    "<img src=\"https://d2l.ai/_images/lenet.svg\" width=\"800\" />"
   ]
  },
  {
   "cell_type": "code",
   "execution_count": null,
   "id": "e62a5c29",
   "metadata": {},
   "outputs": [],
   "source": [
    "# Sequential 모델 생성\n",
    "# 입력층: 28x28 크기의 흑백 이미지 (채널 1개)\n",
    "# 첫 번째 Conv2D 층: 6개의 5x5 필터, 출력 크기 유지 (padding=\"same\")\n",
    "# 두 번째 Conv2D 층: 16개의 5x5 필터, 출력 크기 축소 (padding=\"valid\")\n",
    "# 평탄화(Flatten): 2차원 feature map → 1차원 벡터로 변환\n",
    "# 완전 연결층 (Dense Layer)\n",
    "# 출력층: 클래스 수 10개 (0~9), softmax로 확률 출력\n",
    "# 모델 구조 요약 출력"
   ]
  },
  {
   "cell_type": "code",
   "execution_count": null,
   "id": "eaf4ba2d",
   "metadata": {},
   "outputs": [],
   "source": [
    "# 모델 컴파일: 손실 함수, 옵티마이저, 평가 지표 설정"
   ]
  },
  {
   "cell_type": "code",
   "execution_count": null,
   "id": "4b8bb8b9",
   "metadata": {},
   "outputs": [],
   "source": [
    "# 모델 학습 수행"
   ]
  },
  {
   "cell_type": "code",
   "execution_count": null,
   "id": "c670ec7b",
   "metadata": {},
   "outputs": [],
   "source": [
    "# 테스트 데이터셋을 사용해 모델 성능 평가\n",
    "# verbose=0 → 출력 생략 (조용하게 실행)"
   ]
  },
  {
   "cell_type": "code",
   "execution_count": null,
   "id": "f78caecb",
   "metadata": {},
   "outputs": [],
   "source": []
  },
  {
   "cell_type": "code",
   "execution_count": null,
   "id": "7d312550",
   "metadata": {},
   "outputs": [],
   "source": [
    "# 학습 과정 동안의 정확도와 손실을 시각화\n",
    "# 정확도 그래프 (왼쪽)\n",
    "# 손실(loss) 그래프 (오른쪽)"
   ]
  },
  {
   "cell_type": "code",
   "execution_count": null,
   "id": "01b2aae3",
   "metadata": {},
   "outputs": [],
   "source": [
    "# 모델을 사용해 테스트 이미지에 대한 예측 수행\n",
    "# model.predict()는 각 클래스(0~9)에 대한 확률을 반환 → shape: (10000, 10)\n",
    "# .argmax(axis=1)을 통해 가장 확률이 높은 클래스의 인덱스(즉, 예측 레이블) 추출"
   ]
  },
  {
   "cell_type": "code",
   "execution_count": null,
   "id": "e1448277",
   "metadata": {},
   "outputs": [],
   "source": []
  },
  {
   "cell_type": "code",
   "execution_count": null,
   "id": "6f5c4199",
   "metadata": {},
   "outputs": [],
   "source": [
    "# 혼동 행렬 출력: 실제 값(y_test) vs 예측 값(y_pred)"
   ]
  },
  {
   "cell_type": "code",
   "execution_count": null,
   "id": "cba1f953",
   "metadata": {},
   "outputs": [],
   "source": [
    "# 혼동 행렬 생성 및 시각화\n",
    "# x, y축 눈금 라벨 설정 (클래스 0~9)\n",
    "# 축 라벨 및 제목 설정\n",
    "# 정확도 출력"
   ]
  },
  {
   "cell_type": "markdown",
   "id": "87da3f49",
   "metadata": {},
   "source": [
    "# 실습 : fashion MNIST 를 이용하여 위와 동일한 작업\n",
    "\n",
    "Label\tClass  \n",
    "0\tT-shirt/top  \n",
    "1\tTrouser  \n",
    "2\tPullover  \n",
    "3\tDress  \n",
    "4\tCoat  \n",
    "5\tSandal  \n",
    "6\tShirt  \n",
    "7\tSneaker  \n",
    "8\tBag  \n",
    "9\tAnkle boot"
   ]
  },
  {
   "cell_type": "code",
   "execution_count": null,
   "id": "9ac4a80c",
   "metadata": {},
   "outputs": [],
   "source": []
  },
  {
   "cell_type": "code",
   "execution_count": null,
   "id": "2b93f59f",
   "metadata": {},
   "outputs": [],
   "source": [
    "# 패션 MNIST 데이터셋 로드 (훈련용/테스트용 자동 분리)\n",
    "# 각 데이터셋의 형상 출력"
   ]
  },
  {
   "cell_type": "code",
   "execution_count": null,
   "id": "457b7ed4",
   "metadata": {},
   "outputs": [],
   "source": [
    "# 패션 MNIST 데이터셋의 레이블(정수값 0~9)을 사람이 이해할 수 있는 클래스 이름으로 매핑"
   ]
  },
  {
   "cell_type": "code",
   "execution_count": null,
   "id": "f61c550e",
   "metadata": {},
   "outputs": [],
   "source": [
    "# 훈련 이미지 중 처음 25장을 5x5 격자로 시각화"
   ]
  },
  {
   "cell_type": "code",
   "execution_count": null,
   "id": "3a314798",
   "metadata": {},
   "outputs": [],
   "source": [
    "# 픽셀 값을 0~1 사이로 정규화\n",
    "# 원래 픽셀 값은 0~255 범위의 정수 → 255로 나누어 실수화"
   ]
  },
  {
   "cell_type": "code",
   "execution_count": null,
   "id": "167b9967",
   "metadata": {},
   "outputs": [],
   "source": [
    "# Conv2D layer 의  입력 사양에 맞추어 3 dimension 으로 차원 증가"
   ]
  },
  {
   "cell_type": "code",
   "execution_count": null,
   "id": "4eb8981c",
   "metadata": {},
   "outputs": [],
   "source": [
    "# label 을 one-hot-encoding"
   ]
  },
  {
   "cell_type": "code",
   "execution_count": null,
   "id": "7a3a8ff0",
   "metadata": {},
   "outputs": [],
   "source": [
    "# tf.data 를 이용한 shuffling and batch 구성"
   ]
  },
  {
   "cell_type": "code",
   "execution_count": null,
   "id": "60e9c761",
   "metadata": {},
   "outputs": [],
   "source": [
    "# LeNet model 구성"
   ]
  },
  {
   "cell_type": "code",
   "execution_count": null,
   "id": "2fd60346",
   "metadata": {},
   "outputs": [],
   "source": [
    "# model compile and predict"
   ]
  },
  {
   "cell_type": "code",
   "execution_count": null,
   "id": "62452cdc",
   "metadata": {},
   "outputs": [],
   "source": [
    "# train history 시각화"
   ]
  },
  {
   "cell_type": "code",
   "execution_count": null,
   "id": "e0643d26",
   "metadata": {},
   "outputs": [],
   "source": [
    "# confusion matrix 시각화"
   ]
  }
 ],
 "metadata": {
  "accelerator": "GPU",
  "colab": {
   "name": "120.Mnist_LeNet.ipynb",
   "provenance": []
  },
  "kernelspec": {
   "display_name": "Python 3 (ipykernel)",
   "language": "python",
   "name": "python3"
  },
  "language_info": {
   "codemirror_mode": {
    "name": "ipython",
    "version": 3
   },
   "file_extension": ".py",
   "mimetype": "text/x-python",
   "name": "python",
   "nbconvert_exporter": "python",
   "pygments_lexer": "ipython3",
   "version": "3.9.21"
  }
 },
 "nbformat": 4,
 "nbformat_minor": 5
}
