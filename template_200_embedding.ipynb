{
 "cells": [
  {
   "cell_type": "markdown",
   "id": "c387e7ef",
   "metadata": {},
   "source": [
    "#  문장 내의 단어들을 임베딩\n",
    "- keras.layers.Embedding 레이어 사용"
   ]
  },
  {
   "cell_type": "code",
   "execution_count": null,
   "id": "70014ea0",
   "metadata": {},
   "outputs": [],
   "source": [
    "# 샘플 데이터: 간단한 문장들의 모음"
   ]
  },
  {
   "cell_type": "code",
   "execution_count": null,
   "id": "1e1c9fb7",
   "metadata": {},
   "outputs": [],
   "source": [
    "# 각 문장을 단어로 나눈 뒤, 단어마다 고유한 인덱스를 부여하는 딕셔너리 생성"
   ]
  },
  {
   "cell_type": "code",
   "execution_count": null,
   "id": "148ec6a2",
   "metadata": {},
   "outputs": [],
   "source": [
    "# 문장들을 단어 인덱스의 시퀀스로 변환"
   ]
  },
  {
   "cell_type": "code",
   "execution_count": null,
   "id": "6f59bb5b",
   "metadata": {},
   "outputs": [],
   "source": [
    "# 문장들 중 가장 긴 것의 길이를 구함\n",
    "# 모든 문장을 가장 긴 문장의 길이로 패딩"
   ]
  },
  {
   "cell_type": "code",
   "execution_count": null,
   "id": "7ec7f7c9",
   "metadata": {},
   "outputs": [],
   "source": [
    "# Embedding 레이어 생성\n",
    "# 패딩된 시퀀스를 Embedding 레이어에 통과시켜 임베딩된 결과를 얻음"
   ]
  },
  {
   "cell_type": "code",
   "execution_count": null,
   "id": "1bdfcdec",
   "metadata": {},
   "outputs": [],
   "source": [
    "# Embedding 레이어의 가중치 (단어 임베딩 행렬) 출력\n",
    "# 예: 'love'라는 단어의 임베딩 벡터를 출력"
   ]
  },
  {
   "cell_type": "markdown",
   "id": "8bf45463",
   "metadata": {},
   "source": [
    "0은 보통 패딩을 나타내는 인덱스로 사용됩니다. 결과적으로, Embedding 레이어의 가중치 행렬의 크기는 (고유한 단어 수 + 1, 임베딩 벡터의 차원수)가 되므로, (11, 8)이 됩니다."
   ]
  },
  {
   "cell_type": "code",
   "execution_count": null,
   "id": "0affc86e",
   "metadata": {},
   "outputs": [],
   "source": []
  }
 ],
 "metadata": {
  "kernelspec": {
   "display_name": "Python 3 (ipykernel)",
   "language": "python",
   "name": "python3"
  },
  "language_info": {
   "codemirror_mode": {
    "name": "ipython",
    "version": 3
   },
   "file_extension": ".py",
   "mimetype": "text/x-python",
   "name": "python",
   "nbconvert_exporter": "python",
   "pygments_lexer": "ipython3",
   "version": "3.9.21"
  }
 },
 "nbformat": 4,
 "nbformat_minor": 5
}
