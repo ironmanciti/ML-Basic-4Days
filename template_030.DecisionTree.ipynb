{
 "cells": [
  {
   "cell_type": "markdown",
   "id": "67a3df7d",
   "metadata": {},
   "source": [
    "# 030.Decision Tree"
   ]
  },
  {
   "cell_type": "markdown",
   "id": "0899ff21",
   "metadata": {
    "slideshow": {
     "slide_type": "slide"
    }
   },
   "source": [
    "### iris dataset\n",
    "\n",
    "iris.feature_names : \n",
    "\n",
    "Sepal Length : 꽃받침 길이  \n",
    "Sepal Width  : 꽃받침 너비   \n",
    "Petal Length  : 꽃잎 길이  \n",
    "Petal Width   :  꽃잎 너비 \n",
    "\n",
    "Species (꽃의 종류) :  setosa / versicolor / virginica 의 3종류로 구분된다.\n",
    "\n",
    "**위 feature 를 모두 가지고 Decision Tree 알고리즘을 이용하여 꽃의 종류 분류**"
   ]
  },
  {
   "cell_type": "code",
   "execution_count": null,
   "id": "8dc79372",
   "metadata": {},
   "outputs": [],
   "source": []
  },
  {
   "cell_type": "code",
   "execution_count": null,
   "id": "2d367ec7",
   "metadata": {},
   "outputs": [],
   "source": []
  },
  {
   "cell_type": "code",
   "execution_count": null,
   "id": "353f2154",
   "metadata": {},
   "outputs": [],
   "source": []
  },
  {
   "cell_type": "markdown",
   "id": "0fb79719",
   "metadata": {
    "slideshow": {
     "slide_type": "slide"
    }
   },
   "source": [
    "### train / test split & accuracy check"
   ]
  },
  {
   "cell_type": "code",
   "execution_count": null,
   "id": "8ef33de2",
   "metadata": {},
   "outputs": [],
   "source": []
  },
  {
   "cell_type": "code",
   "execution_count": null,
   "id": "8161e4cc",
   "metadata": {},
   "outputs": [],
   "source": []
  },
  {
   "cell_type": "code",
   "execution_count": null,
   "id": "5e007642",
   "metadata": {},
   "outputs": [],
   "source": []
  },
  {
   "cell_type": "code",
   "execution_count": null,
   "id": "6c839553",
   "metadata": {},
   "outputs": [],
   "source": []
  },
  {
   "cell_type": "code",
   "execution_count": null,
   "id": "2b4d2b76",
   "metadata": {},
   "outputs": [],
   "source": []
  },
  {
   "cell_type": "markdown",
   "id": "133f0c76",
   "metadata": {},
   "source": [
    "## 결정 기준 시각화"
   ]
  },
  {
   "cell_type": "code",
   "execution_count": null,
   "id": "a7d83ab3",
   "metadata": {},
   "outputs": [],
   "source": []
  },
  {
   "cell_type": "code",
   "execution_count": null,
   "id": "f53e6759",
   "metadata": {},
   "outputs": [],
   "source": []
  },
  {
   "cell_type": "code",
   "execution_count": null,
   "id": "58aa3550",
   "metadata": {},
   "outputs": [],
   "source": []
  },
  {
   "cell_type": "code",
   "execution_count": null,
   "id": "1ddfc8ef",
   "metadata": {},
   "outputs": [],
   "source": []
  },
  {
   "cell_type": "code",
   "execution_count": null,
   "id": "76767fd9",
   "metadata": {},
   "outputs": [],
   "source": []
  }
 ],
 "metadata": {
  "kernelspec": {
   "display_name": "Python 3 (ipykernel)",
   "language": "python",
   "name": "python3"
  },
  "language_info": {
   "codemirror_mode": {
    "name": "ipython",
    "version": 3
   },
   "file_extension": ".py",
   "mimetype": "text/x-python",
   "name": "python",
   "nbconvert_exporter": "python",
   "pygments_lexer": "ipython3",
   "version": "3.9.7"
  }
 },
 "nbformat": 4,
 "nbformat_minor": 5
}
