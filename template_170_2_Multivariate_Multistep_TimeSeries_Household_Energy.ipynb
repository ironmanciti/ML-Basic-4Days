{
 "cells": [
  {
   "cell_type": "markdown",
   "metadata": {
    "id": "5VAOVdKqyOoh"
   },
   "source": [
    "# Multivariate Multistep TimeSeries 실습\n",
    "\n",
    "- 가구의 Energy 사용량 예측\n",
    "\n",
    "- Household Power Consumption Dataset 은 한 가구의 4 년간 전력소비를 나타내는 multivariate time series dataset 임\n",
    "\n",
    "- data 수집기간은 2006 Dec 에서 2010 Nov 까지의 분 단위 관측값 2075259 개로 구성\n",
    "\n",
    "- variables :  \n",
    "\n",
    "\n",
    "\n",
    "    - global active power: 가구에서 소비한 총 유효전력 (total active power, kilowatts).\n",
    "    - global reactive power: 가구에서 소비한 총 무효전력 (total reactive power, kilowatts).\n",
    "    - voltage: 평균 voltage (volts).\n",
    "    - global intensity: 평균 전류 밀도 (amps).\n",
    "    - sub metering 1: 주방에서 사용된 active energy (watt-hours of active energy).\n",
    "    - sub metering 2: 세탁에 사용된 active energy (watt-hours of active energy).\n",
    "    - sub metering 3: 공조기 제어 시스템에 사용된 active energy (watt-hours of active energy)\n",
    "    - sub metering 4: 기타 다른 곳에서 사용된 energy "
   ]
  },
  {
   "cell_type": "markdown",
   "metadata": {
    "id": "nu4zKtwHyOot"
   },
   "source": [
    "- remove all NaN data "
   ]
  },
  {
   "cell_type": "markdown",
   "metadata": {
    "id": "7IyZJa8syOov"
   },
   "source": [
    "## Exploratory Data Analysis\n",
    "\n",
    "#### multivariate data 이므로 각각의 변수에 대해 line plot 을 그려 비교 (기간 : 2006 Dec 에서 2010 Nov 까지)"
   ]
  },
  {
   "cell_type": "markdown",
   "metadata": {
    "id": "UmFZLdNDyOow"
   },
   "source": [
    "## 개별 변수에 대하여 분석\n",
    "\n",
    "#### Global_active_power 를 연도별로 plot"
   ]
  },
  {
   "cell_type": "markdown",
   "metadata": {
    "id": "lROD3JB2yOoy"
   },
   "source": [
    "#### Global_active_power 를 특정연도(2007) 의 월별로 plot"
   ]
  },
  {
   "cell_type": "markdown",
   "metadata": {
    "id": "1333wt2syOoz"
   },
   "source": [
    "#### Global_active_power 를 특정연도(2007) 의 특정월(January)의 일별로 plot\n",
    "\n",
    "- first 20 days"
   ]
  },
  {
   "cell_type": "markdown",
   "metadata": {
    "id": "u8cyEUs4yOo0"
   },
   "source": [
    "## Multivariate multi-step forecasting\n",
    "\n",
    "    - next week 의 daily 사용량(global active power) 예측  \n",
    "    - next month 의 daily 사용량(global active power) 예측  \n",
    "    - next year 의 monthly 사용량(global active power) 예측 \n",
    "    \n",
    "    \n",
    "- daily total 이 계산되어 있으면 편리하므로 분단위 data 를 일단위 data 로 downsampling 한다.  \n",
    "\n",
    "- resample('D') 이용"
   ]
  },
  {
   "cell_type": "markdown",
   "metadata": {
    "id": "jF4X1dJ5yOo1"
   },
   "source": [
    "weekly 로 resampling 하고 싶은 경우 `W` option 사용"
   ]
  },
  {
   "cell_type": "markdown",
   "metadata": {
    "id": "hkpMXVu6yOo2"
   },
   "source": [
    "## LSTM Multivatiate Multi-step Input and Single-step output\n",
    "\n",
    "- next week 의 daily 사용량 예측 이므로 window_size = 7 으로 하고 `daily_data` 사용"
   ]
  },
  {
   "cell_type": "markdown",
   "metadata": {
    "id": "-bMY0ja-yOo3"
   },
   "source": [
    "input : window size 기간 내의 all features  \n",
    "target : window size +1 의 `Global_active_power`"
   ]
  }
 ],
 "metadata": {
  "accelerator": "GPU",
  "colab": {
   "name": "170.Multivariate_Multistep_TimeSeries_Household_Energy.ipynb",
   "provenance": []
  },
  "kernelspec": {
   "display_name": "Python 3",
   "language": "python",
   "name": "python3"
  },
  "language_info": {
   "codemirror_mode": {
    "name": "ipython",
    "version": 3
   },
   "file_extension": ".py",
   "mimetype": "text/x-python",
   "name": "python",
   "nbconvert_exporter": "python",
   "pygments_lexer": "ipython3",
   "version": "3.7.10"
  }
 },
 "nbformat": 4,
 "nbformat_minor": 1
}
