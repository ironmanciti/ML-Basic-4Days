{
 "cells": [
  {
   "cell_type": "markdown",
   "id": "diverse-links",
   "metadata": {},
   "source": [
    "# 110. Malware Detection - binary classification"
   ]
  },
  {
   "cell_type": "code",
   "execution_count": 2,
   "id": "respected-property",
   "metadata": {},
   "outputs": [
    {
     "data": {
      "text/html": [
       "<div>\n",
       "<style scoped>\n",
       "    .dataframe tbody tr th:only-of-type {\n",
       "        vertical-align: middle;\n",
       "    }\n",
       "\n",
       "    .dataframe tbody tr th {\n",
       "        vertical-align: top;\n",
       "    }\n",
       "\n",
       "    .dataframe thead th {\n",
       "        text-align: right;\n",
       "    }\n",
       "</style>\n",
       "<table border=\"1\" class=\"dataframe\">\n",
       "  <thead>\n",
       "    <tr style=\"text-align: right;\">\n",
       "      <th></th>\n",
       "      <th>Name</th>\n",
       "      <th>md5</th>\n",
       "      <th>Machine</th>\n",
       "      <th>SizeOfOptionalHeader</th>\n",
       "      <th>Characteristics</th>\n",
       "      <th>MajorLinkerVersion</th>\n",
       "      <th>MinorLinkerVersion</th>\n",
       "      <th>SizeOfCode</th>\n",
       "      <th>SizeOfInitializedData</th>\n",
       "      <th>SizeOfUninitializedData</th>\n",
       "      <th>...</th>\n",
       "      <th>ResourcesNb</th>\n",
       "      <th>ResourcesMeanEntropy</th>\n",
       "      <th>ResourcesMinEntropy</th>\n",
       "      <th>ResourcesMaxEntropy</th>\n",
       "      <th>ResourcesMeanSize</th>\n",
       "      <th>ResourcesMinSize</th>\n",
       "      <th>ResourcesMaxSize</th>\n",
       "      <th>LoadConfigurationSize</th>\n",
       "      <th>VersionInformationSize</th>\n",
       "      <th>legitimate</th>\n",
       "    </tr>\n",
       "  </thead>\n",
       "  <tbody>\n",
       "    <tr>\n",
       "      <th>26978</th>\n",
       "      <td>iexplore.exe</td>\n",
       "      <td>ff484b9824dcc3580e244a85352b425a</td>\n",
       "      <td>332</td>\n",
       "      <td>224</td>\n",
       "      <td>258</td>\n",
       "      <td>9</td>\n",
       "      <td>0</td>\n",
       "      <td>44544</td>\n",
       "      <td>624640</td>\n",
       "      <td>0</td>\n",
       "      <td>...</td>\n",
       "      <td>180</td>\n",
       "      <td>4.384464</td>\n",
       "      <td>2.186408</td>\n",
       "      <td>7.990925</td>\n",
       "      <td>3386.7000</td>\n",
       "      <td>20</td>\n",
       "      <td>67585</td>\n",
       "      <td>72</td>\n",
       "      <td>16</td>\n",
       "      <td>1</td>\n",
       "    </tr>\n",
       "    <tr>\n",
       "      <th>71368</th>\n",
       "      <td>VirusShare_aba338aa279d2edc208ea8c3adc2cdb4</td>\n",
       "      <td>aba338aa279d2edc208ea8c3adc2cdb4</td>\n",
       "      <td>332</td>\n",
       "      <td>224</td>\n",
       "      <td>258</td>\n",
       "      <td>10</td>\n",
       "      <td>0</td>\n",
       "      <td>120320</td>\n",
       "      <td>385024</td>\n",
       "      <td>0</td>\n",
       "      <td>...</td>\n",
       "      <td>6</td>\n",
       "      <td>3.671986</td>\n",
       "      <td>2.458492</td>\n",
       "      <td>5.317552</td>\n",
       "      <td>2739.5000</td>\n",
       "      <td>48</td>\n",
       "      <td>9640</td>\n",
       "      <td>72</td>\n",
       "      <td>15</td>\n",
       "      <td>0</td>\n",
       "    </tr>\n",
       "    <tr>\n",
       "      <th>106224</th>\n",
       "      <td>VirusShare_c8b22b719bcf452e61df803c55476327</td>\n",
       "      <td>c8b22b719bcf452e61df803c55476327</td>\n",
       "      <td>332</td>\n",
       "      <td>224</td>\n",
       "      <td>258</td>\n",
       "      <td>10</td>\n",
       "      <td>0</td>\n",
       "      <td>118784</td>\n",
       "      <td>383488</td>\n",
       "      <td>0</td>\n",
       "      <td>...</td>\n",
       "      <td>16</td>\n",
       "      <td>6.378131</td>\n",
       "      <td>2.458492</td>\n",
       "      <td>7.992688</td>\n",
       "      <td>20821.9375</td>\n",
       "      <td>48</td>\n",
       "      <td>33945</td>\n",
       "      <td>72</td>\n",
       "      <td>14</td>\n",
       "      <td>0</td>\n",
       "    </tr>\n",
       "    <tr>\n",
       "      <th>10238</th>\n",
       "      <td>mcstoredb.ni.dll</td>\n",
       "      <td>fcf892732a5d81c2e88a2bf3c7d04ebe</td>\n",
       "      <td>34404</td>\n",
       "      <td>240</td>\n",
       "      <td>8226</td>\n",
       "      <td>8</td>\n",
       "      <td>0</td>\n",
       "      <td>0</td>\n",
       "      <td>0</td>\n",
       "      <td>0</td>\n",
       "      <td>...</td>\n",
       "      <td>1</td>\n",
       "      <td>3.543663</td>\n",
       "      <td>3.543663</td>\n",
       "      <td>3.543663</td>\n",
       "      <td>968.0000</td>\n",
       "      <td>968</td>\n",
       "      <td>968</td>\n",
       "      <td>0</td>\n",
       "      <td>16</td>\n",
       "      <td>1</td>\n",
       "    </tr>\n",
       "    <tr>\n",
       "      <th>75450</th>\n",
       "      <td>VirusShare_6770aaaf853db1ace6f7b0ed3fc5ce9c</td>\n",
       "      <td>6770aaaf853db1ace6f7b0ed3fc5ce9c</td>\n",
       "      <td>332</td>\n",
       "      <td>224</td>\n",
       "      <td>258</td>\n",
       "      <td>10</td>\n",
       "      <td>0</td>\n",
       "      <td>120320</td>\n",
       "      <td>385024</td>\n",
       "      <td>0</td>\n",
       "      <td>...</td>\n",
       "      <td>6</td>\n",
       "      <td>3.729824</td>\n",
       "      <td>2.458492</td>\n",
       "      <td>5.317552</td>\n",
       "      <td>2739.5000</td>\n",
       "      <td>48</td>\n",
       "      <td>9640</td>\n",
       "      <td>72</td>\n",
       "      <td>15</td>\n",
       "      <td>0</td>\n",
       "    </tr>\n",
       "  </tbody>\n",
       "</table>\n",
       "<p>5 rows × 57 columns</p>\n",
       "</div>"
      ],
      "text/plain": [
       "                                               Name  \\\n",
       "26978                                  iexplore.exe   \n",
       "71368   VirusShare_aba338aa279d2edc208ea8c3adc2cdb4   \n",
       "106224  VirusShare_c8b22b719bcf452e61df803c55476327   \n",
       "10238                              mcstoredb.ni.dll   \n",
       "75450   VirusShare_6770aaaf853db1ace6f7b0ed3fc5ce9c   \n",
       "\n",
       "                                     md5  Machine  SizeOfOptionalHeader  \\\n",
       "26978   ff484b9824dcc3580e244a85352b425a      332                   224   \n",
       "71368   aba338aa279d2edc208ea8c3adc2cdb4      332                   224   \n",
       "106224  c8b22b719bcf452e61df803c55476327      332                   224   \n",
       "10238   fcf892732a5d81c2e88a2bf3c7d04ebe    34404                   240   \n",
       "75450   6770aaaf853db1ace6f7b0ed3fc5ce9c      332                   224   \n",
       "\n",
       "        Characteristics  MajorLinkerVersion  MinorLinkerVersion  SizeOfCode  \\\n",
       "26978               258                   9                   0       44544   \n",
       "71368               258                  10                   0      120320   \n",
       "106224              258                  10                   0      118784   \n",
       "10238              8226                   8                   0           0   \n",
       "75450               258                  10                   0      120320   \n",
       "\n",
       "        SizeOfInitializedData  SizeOfUninitializedData  ...  ResourcesNb  \\\n",
       "26978                  624640                        0  ...          180   \n",
       "71368                  385024                        0  ...            6   \n",
       "106224                 383488                        0  ...           16   \n",
       "10238                       0                        0  ...            1   \n",
       "75450                  385024                        0  ...            6   \n",
       "\n",
       "        ResourcesMeanEntropy  ResourcesMinEntropy  ResourcesMaxEntropy  \\\n",
       "26978               4.384464             2.186408             7.990925   \n",
       "71368               3.671986             2.458492             5.317552   \n",
       "106224              6.378131             2.458492             7.992688   \n",
       "10238               3.543663             3.543663             3.543663   \n",
       "75450               3.729824             2.458492             5.317552   \n",
       "\n",
       "        ResourcesMeanSize  ResourcesMinSize  ResourcesMaxSize  \\\n",
       "26978           3386.7000                20             67585   \n",
       "71368           2739.5000                48              9640   \n",
       "106224         20821.9375                48             33945   \n",
       "10238            968.0000               968               968   \n",
       "75450           2739.5000                48              9640   \n",
       "\n",
       "        LoadConfigurationSize  VersionInformationSize  legitimate  \n",
       "26978                      72                      16           1  \n",
       "71368                      72                      15           0  \n",
       "106224                     72                      14           0  \n",
       "10238                       0                      16           1  \n",
       "75450                      72                      15           0  \n",
       "\n",
       "[5 rows x 57 columns]"
      ]
     },
     "execution_count": 2,
     "metadata": {},
     "output_type": "execute_result"
    }
   ],
   "source": [
    "import pandas as pd\n",
    "import numpy as np\n",
    "from sklearn.model_selection import train_test_split\n",
    "from sklearn.preprocessing import StandardScaler\n",
    "import tensorflow as tf\n",
    "from tensorflow.keras.layers import Dense\n",
    "import matplotlib.pyplot as plt\n",
    "\n",
    "df = pd.read_csv('datasets/malware.csv', index_col=0)\n",
    "df.head()"
   ]
  },
  {
   "cell_type": "code",
   "execution_count": 2,
   "id": "elementary-mortality",
   "metadata": {},
   "outputs": [
    {
     "data": {
      "text/html": [
       "<div>\n",
       "<style scoped>\n",
       "    .dataframe tbody tr th:only-of-type {\n",
       "        vertical-align: middle;\n",
       "    }\n",
       "\n",
       "    .dataframe tbody tr th {\n",
       "        vertical-align: top;\n",
       "    }\n",
       "\n",
       "    .dataframe thead th {\n",
       "        text-align: right;\n",
       "    }\n",
       "</style>\n",
       "<table border=\"1\" class=\"dataframe\">\n",
       "  <thead>\n",
       "    <tr style=\"text-align: right;\">\n",
       "      <th></th>\n",
       "      <th>Name</th>\n",
       "      <th>md5</th>\n",
       "      <th>Machine</th>\n",
       "      <th>SizeOfOptionalHeader</th>\n",
       "      <th>Characteristics</th>\n",
       "      <th>MajorLinkerVersion</th>\n",
       "      <th>MinorLinkerVersion</th>\n",
       "      <th>SizeOfCode</th>\n",
       "      <th>SizeOfInitializedData</th>\n",
       "      <th>SizeOfUninitializedData</th>\n",
       "      <th>...</th>\n",
       "      <th>ResourcesNb</th>\n",
       "      <th>ResourcesMeanEntropy</th>\n",
       "      <th>ResourcesMinEntropy</th>\n",
       "      <th>ResourcesMaxEntropy</th>\n",
       "      <th>ResourcesMeanSize</th>\n",
       "      <th>ResourcesMinSize</th>\n",
       "      <th>ResourcesMaxSize</th>\n",
       "      <th>LoadConfigurationSize</th>\n",
       "      <th>VersionInformationSize</th>\n",
       "      <th>legitimate</th>\n",
       "    </tr>\n",
       "  </thead>\n",
       "  <tbody>\n",
       "    <tr>\n",
       "      <th>54090</th>\n",
       "      <td>VirusShare_4ddf75fd1b09f068e55e7f510638008e</td>\n",
       "      <td>4ddf75fd1b09f068e55e7f510638008e</td>\n",
       "      <td>332</td>\n",
       "      <td>224</td>\n",
       "      <td>258</td>\n",
       "      <td>10</td>\n",
       "      <td>0</td>\n",
       "      <td>117248</td>\n",
       "      <td>389632</td>\n",
       "      <td>0</td>\n",
       "      <td>...</td>\n",
       "      <td>5</td>\n",
       "      <td>3.312743</td>\n",
       "      <td>2.674420</td>\n",
       "      <td>3.764385</td>\n",
       "      <td>2517.600000</td>\n",
       "      <td>48</td>\n",
       "      <td>7336</td>\n",
       "      <td>72</td>\n",
       "      <td>14</td>\n",
       "      <td>0</td>\n",
       "    </tr>\n",
       "    <tr>\n",
       "      <th>808</th>\n",
       "      <td>bfsvc.exe</td>\n",
       "      <td>7903ff991f1424a69c58ab3f25a36895</td>\n",
       "      <td>332</td>\n",
       "      <td>224</td>\n",
       "      <td>258</td>\n",
       "      <td>9</td>\n",
       "      <td>0</td>\n",
       "      <td>56832</td>\n",
       "      <td>8192</td>\n",
       "      <td>0</td>\n",
       "      <td>...</td>\n",
       "      <td>3</td>\n",
       "      <td>3.726305</td>\n",
       "      <td>2.700607</td>\n",
       "      <td>4.897066</td>\n",
       "      <td>604.000000</td>\n",
       "      <td>200</td>\n",
       "      <td>916</td>\n",
       "      <td>72</td>\n",
       "      <td>16</td>\n",
       "      <td>1</td>\n",
       "    </tr>\n",
       "    <tr>\n",
       "      <th>117627</th>\n",
       "      <td>VirusShare_b1949f01e0f9c1d487a69add16ff3e7e</td>\n",
       "      <td>b1949f01e0f9c1d487a69add16ff3e7e</td>\n",
       "      <td>332</td>\n",
       "      <td>224</td>\n",
       "      <td>258</td>\n",
       "      <td>8</td>\n",
       "      <td>0</td>\n",
       "      <td>7680</td>\n",
       "      <td>307200</td>\n",
       "      <td>0</td>\n",
       "      <td>...</td>\n",
       "      <td>6</td>\n",
       "      <td>3.402905</td>\n",
       "      <td>2.100609</td>\n",
       "      <td>5.155409</td>\n",
       "      <td>1314.166667</td>\n",
       "      <td>48</td>\n",
       "      <td>3752</td>\n",
       "      <td>0</td>\n",
       "      <td>23</td>\n",
       "      <td>0</td>\n",
       "    </tr>\n",
       "    <tr>\n",
       "      <th>115783</th>\n",
       "      <td>VirusShare_abfc28e03858655ddf5e1a2f4731cc2f</td>\n",
       "      <td>abfc28e03858655ddf5e1a2f4731cc2f</td>\n",
       "      <td>332</td>\n",
       "      <td>224</td>\n",
       "      <td>258</td>\n",
       "      <td>8</td>\n",
       "      <td>0</td>\n",
       "      <td>7680</td>\n",
       "      <td>309760</td>\n",
       "      <td>0</td>\n",
       "      <td>...</td>\n",
       "      <td>6</td>\n",
       "      <td>3.679834</td>\n",
       "      <td>2.156889</td>\n",
       "      <td>5.155409</td>\n",
       "      <td>1314.166667</td>\n",
       "      <td>48</td>\n",
       "      <td>3752</td>\n",
       "      <td>0</td>\n",
       "      <td>23</td>\n",
       "      <td>0</td>\n",
       "    </tr>\n",
       "    <tr>\n",
       "      <th>28943</th>\n",
       "      <td>UpdateServiceCProxy.dll</td>\n",
       "      <td>0adbb5f7fca00f382ab7f08202c8bc8c</td>\n",
       "      <td>332</td>\n",
       "      <td>224</td>\n",
       "      <td>8450</td>\n",
       "      <td>9</td>\n",
       "      <td>0</td>\n",
       "      <td>128512</td>\n",
       "      <td>47616</td>\n",
       "      <td>0</td>\n",
       "      <td>...</td>\n",
       "      <td>2</td>\n",
       "      <td>4.126145</td>\n",
       "      <td>3.456316</td>\n",
       "      <td>4.795974</td>\n",
       "      <td>587.000000</td>\n",
       "      <td>346</td>\n",
       "      <td>828</td>\n",
       "      <td>72</td>\n",
       "      <td>16</td>\n",
       "      <td>1</td>\n",
       "    </tr>\n",
       "  </tbody>\n",
       "</table>\n",
       "<p>5 rows × 57 columns</p>\n",
       "</div>"
      ],
      "text/plain": [
       "                                               Name  \\\n",
       "54090   VirusShare_4ddf75fd1b09f068e55e7f510638008e   \n",
       "808                                       bfsvc.exe   \n",
       "117627  VirusShare_b1949f01e0f9c1d487a69add16ff3e7e   \n",
       "115783  VirusShare_abfc28e03858655ddf5e1a2f4731cc2f   \n",
       "28943                       UpdateServiceCProxy.dll   \n",
       "\n",
       "                                     md5  Machine  SizeOfOptionalHeader  \\\n",
       "54090   4ddf75fd1b09f068e55e7f510638008e      332                   224   \n",
       "808     7903ff991f1424a69c58ab3f25a36895      332                   224   \n",
       "117627  b1949f01e0f9c1d487a69add16ff3e7e      332                   224   \n",
       "115783  abfc28e03858655ddf5e1a2f4731cc2f      332                   224   \n",
       "28943   0adbb5f7fca00f382ab7f08202c8bc8c      332                   224   \n",
       "\n",
       "        Characteristics  MajorLinkerVersion  MinorLinkerVersion  SizeOfCode  \\\n",
       "54090               258                  10                   0      117248   \n",
       "808                 258                   9                   0       56832   \n",
       "117627              258                   8                   0        7680   \n",
       "115783              258                   8                   0        7680   \n",
       "28943              8450                   9                   0      128512   \n",
       "\n",
       "        SizeOfInitializedData  SizeOfUninitializedData  ...  ResourcesNb  \\\n",
       "54090                  389632                        0  ...            5   \n",
       "808                      8192                        0  ...            3   \n",
       "117627                 307200                        0  ...            6   \n",
       "115783                 309760                        0  ...            6   \n",
       "28943                   47616                        0  ...            2   \n",
       "\n",
       "        ResourcesMeanEntropy  ResourcesMinEntropy  ResourcesMaxEntropy  \\\n",
       "54090               3.312743             2.674420             3.764385   \n",
       "808                 3.726305             2.700607             4.897066   \n",
       "117627              3.402905             2.100609             5.155409   \n",
       "115783              3.679834             2.156889             5.155409   \n",
       "28943               4.126145             3.456316             4.795974   \n",
       "\n",
       "        ResourcesMeanSize  ResourcesMinSize  ResourcesMaxSize  \\\n",
       "54090         2517.600000                48              7336   \n",
       "808            604.000000               200               916   \n",
       "117627        1314.166667                48              3752   \n",
       "115783        1314.166667                48              3752   \n",
       "28943          587.000000               346               828   \n",
       "\n",
       "        LoadConfigurationSize  VersionInformationSize  legitimate  \n",
       "54090                      72                      14           0  \n",
       "808                        72                      16           1  \n",
       "117627                      0                      23           0  \n",
       "115783                      0                      23           0  \n",
       "28943                      72                      16           1  \n",
       "\n",
       "[5 rows x 57 columns]"
      ]
     },
     "execution_count": 2,
     "metadata": {},
     "output_type": "execute_result"
    }
   ],
   "source": [
    "df.tail()"
   ]
  },
  {
   "cell_type": "code",
   "execution_count": 3,
   "id": "polished-flush",
   "metadata": {},
   "outputs": [
    {
     "data": {
      "text/plain": [
       "(100000, 57)"
      ]
     },
     "execution_count": 3,
     "metadata": {},
     "output_type": "execute_result"
    }
   ],
   "source": [
    "df.shape"
   ]
  },
  {
   "cell_type": "code",
   "execution_count": 4,
   "id": "differential-south",
   "metadata": {},
   "outputs": [
    {
     "data": {
      "text/plain": [
       "0    69881\n",
       "1    30119\n",
       "Name: legitimate, dtype: int64"
      ]
     },
     "execution_count": 4,
     "metadata": {},
     "output_type": "execute_result"
    }
   ],
   "source": [
    "df['legitimate'].value_counts()"
   ]
  },
  {
   "cell_type": "code",
   "execution_count": 5,
   "id": "civilian-johnson",
   "metadata": {},
   "outputs": [
    {
     "data": {
      "text/plain": [
       "Index(['Name', 'md5', 'Machine', 'SizeOfOptionalHeader', 'Characteristics',\n",
       "       'MajorLinkerVersion', 'MinorLinkerVersion', 'SizeOfCode',\n",
       "       'SizeOfInitializedData', 'SizeOfUninitializedData',\n",
       "       'AddressOfEntryPoint', 'BaseOfCode', 'BaseOfData', 'ImageBase',\n",
       "       'SectionAlignment', 'FileAlignment', 'MajorOperatingSystemVersion',\n",
       "       'MinorOperatingSystemVersion', 'MajorImageVersion', 'MinorImageVersion',\n",
       "       'MajorSubsystemVersion', 'MinorSubsystemVersion', 'SizeOfImage',\n",
       "       'SizeOfHeaders', 'CheckSum', 'Subsystem', 'DllCharacteristics',\n",
       "       'SizeOfStackReserve', 'SizeOfStackCommit', 'SizeOfHeapReserve',\n",
       "       'SizeOfHeapCommit', 'LoaderFlags', 'NumberOfRvaAndSizes', 'SectionsNb',\n",
       "       'SectionsMeanEntropy', 'SectionsMinEntropy', 'SectionsMaxEntropy',\n",
       "       'SectionsMeanRawsize', 'SectionsMinRawsize', 'SectionMaxRawsize',\n",
       "       'SectionsMeanVirtualsize', 'SectionsMinVirtualsize',\n",
       "       'SectionMaxVirtualsize', 'ImportsNbDLL', 'ImportsNb',\n",
       "       'ImportsNbOrdinal', 'ExportNb', 'ResourcesNb', 'ResourcesMeanEntropy',\n",
       "       'ResourcesMinEntropy', 'ResourcesMaxEntropy', 'ResourcesMeanSize',\n",
       "       'ResourcesMinSize', 'ResourcesMaxSize', 'LoadConfigurationSize',\n",
       "       'VersionInformationSize', 'legitimate'],\n",
       "      dtype='object')"
      ]
     },
     "execution_count": 5,
     "metadata": {},
     "output_type": "execute_result"
    }
   ],
   "source": [
    "df.columns"
   ]
  },
  {
   "cell_type": "markdown",
   "id": "casual-snapshot",
   "metadata": {},
   "source": [
    "- Name : 제외\n",
    "- md5 : hash value 제외"
   ]
  },
  {
   "cell_type": "code",
   "execution_count": 6,
   "id": "authentic-nurse",
   "metadata": {},
   "outputs": [],
   "source": [
    "df = df.iloc[:, 2:]"
   ]
  },
  {
   "cell_type": "code",
   "execution_count": 7,
   "id": "single-walker",
   "metadata": {},
   "outputs": [
    {
     "data": {
      "text/plain": [
       "(100000, 55)"
      ]
     },
     "execution_count": 7,
     "metadata": {},
     "output_type": "execute_result"
    }
   ],
   "source": [
    "df.shape"
   ]
  },
  {
   "cell_type": "code",
   "execution_count": 8,
   "id": "unlike-avenue",
   "metadata": {},
   "outputs": [],
   "source": [
    "y = df.pop('legitimate').values\n",
    "X = df.values"
   ]
  },
  {
   "cell_type": "code",
   "execution_count": 9,
   "id": "amino-globe",
   "metadata": {},
   "outputs": [
    {
     "data": {
      "text/plain": [
       "((100000, 54), (100000,))"
      ]
     },
     "execution_count": 9,
     "metadata": {},
     "output_type": "execute_result"
    }
   ],
   "source": [
    "X.shape, y.shape"
   ]
  },
  {
   "cell_type": "code",
   "execution_count": 10,
   "id": "retired-organization",
   "metadata": {},
   "outputs": [
    {
     "data": {
      "text/plain": [
       "((80000, 54), (20000, 54), (80000,), (20000,))"
      ]
     },
     "execution_count": 10,
     "metadata": {},
     "output_type": "execute_result"
    }
   ],
   "source": [
    "X_train, X_test, y_train, y_test = train_test_split(X, y, test_size=0.2, random_state=0)\n",
    "\n",
    "X_train.shape, X_test.shape, y_train.shape, y_test.shape"
   ]
  },
  {
   "cell_type": "code",
   "execution_count": 11,
   "id": "hispanic-platinum",
   "metadata": {},
   "outputs": [],
   "source": [
    "sc = StandardScaler()\n",
    "X_train = sc.fit_transform(X_train)\n",
    "X_test  = sc.transform(X_test)"
   ]
  },
  {
   "cell_type": "code",
   "execution_count": 12,
   "id": "commercial-gilbert",
   "metadata": {},
   "outputs": [],
   "source": [
    "model = tf.keras.Sequential()\n",
    "\n",
    "model.add(Dense(32, input_shape=(54,), activation=\"relu\"))\n",
    "model.add(Dense(16, activation=\"relu\"))\n",
    "model.add(Dense(1, activation=\"sigmoid\"))"
   ]
  },
  {
   "cell_type": "code",
   "execution_count": 13,
   "id": "charitable-flight",
   "metadata": {},
   "outputs": [
    {
     "name": "stdout",
     "output_type": "stream",
     "text": [
      "Model: \"sequential\"\n",
      "_________________________________________________________________\n",
      "Layer (type)                 Output Shape              Param #   \n",
      "=================================================================\n",
      "dense (Dense)                (None, 32)                1760      \n",
      "_________________________________________________________________\n",
      "dense_1 (Dense)              (None, 16)                528       \n",
      "_________________________________________________________________\n",
      "dense_2 (Dense)              (None, 1)                 17        \n",
      "=================================================================\n",
      "Total params: 2,305\n",
      "Trainable params: 2,305\n",
      "Non-trainable params: 0\n",
      "_________________________________________________________________\n"
     ]
    }
   ],
   "source": [
    "model.summary()"
   ]
  },
  {
   "cell_type": "code",
   "execution_count": 14,
   "id": "employed-paste",
   "metadata": {},
   "outputs": [],
   "source": [
    "model.compile(loss='binary_crossentropy', optimizer='adam', metrics=[\"accuracy\"])"
   ]
  },
  {
   "cell_type": "code",
   "execution_count": 40,
   "id": "universal-behavior",
   "metadata": {},
   "outputs": [
    {
     "name": "stdout",
     "output_type": "stream",
     "text": [
      "Epoch 1/20\n",
      "2500/2500 [==============================] - 3s 1ms/step - loss: 0.1230 - accuracy: 0.9598 - val_loss: 0.0541 - val_accuracy: 0.9862\n",
      "Epoch 2/20\n",
      "2500/2500 [==============================] - 2s 648us/step - loss: 0.0447 - accuracy: 0.9870 - val_loss: 0.1079 - val_accuracy: 0.9876\n",
      "Epoch 3/20\n",
      "2500/2500 [==============================] - 2s 648us/step - loss: 0.0391 - accuracy: 0.9881 - val_loss: 0.0914 - val_accuracy: 0.9876\n",
      "Epoch 4/20\n",
      "2500/2500 [==============================] - 2s 648us/step - loss: 0.0400 - accuracy: 0.9881 - val_loss: 0.1447 - val_accuracy: 0.9868\n",
      "Epoch 5/20\n",
      "2500/2500 [==============================] - 2s 647us/step - loss: 0.0380 - accuracy: 0.9882 - val_loss: 0.1601 - val_accuracy: 0.9872\n",
      "Epoch 6/20\n",
      "2500/2500 [==============================] - 2s 648us/step - loss: 0.0362 - accuracy: 0.9883 - val_loss: 0.1684 - val_accuracy: 0.9881\n",
      "Epoch 7/20\n",
      "2500/2500 [==============================] - 2s 664us/step - loss: 0.0355 - accuracy: 0.9887 - val_loss: 0.1562 - val_accuracy: 0.9881\n",
      "Epoch 8/20\n",
      "2500/2500 [==============================] - 2s 660us/step - loss: 0.0356 - accuracy: 0.9883 - val_loss: 0.2366 - val_accuracy: 0.9883\n",
      "Epoch 9/20\n",
      "2500/2500 [==============================] - 2s 646us/step - loss: 0.0355 - accuracy: 0.9889 - val_loss: 0.1420 - val_accuracy: 0.9887\n",
      "Epoch 10/20\n",
      "2500/2500 [==============================] - 2s 649us/step - loss: 0.0340 - accuracy: 0.9891 - val_loss: 0.3071 - val_accuracy: 0.9885\n",
      "Epoch 11/20\n",
      "2500/2500 [==============================] - 2s 646us/step - loss: 0.0337 - accuracy: 0.9885 - val_loss: 0.1771 - val_accuracy: 0.9884\n",
      "Epoch 12/20\n",
      "2500/2500 [==============================] - 2s 646us/step - loss: 0.0359 - accuracy: 0.9880 - val_loss: 0.1486 - val_accuracy: 0.9890\n",
      "Epoch 13/20\n",
      "2500/2500 [==============================] - 2s 648us/step - loss: 0.0358 - accuracy: 0.9886 - val_loss: 0.2152 - val_accuracy: 0.9887\n",
      "Epoch 14/20\n",
      "2500/2500 [==============================] - 2s 647us/step - loss: 0.0330 - accuracy: 0.9889 - val_loss: 0.3569 - val_accuracy: 0.9889\n",
      "Epoch 15/20\n",
      "2500/2500 [==============================] - 2s 647us/step - loss: 0.0312 - accuracy: 0.9891 - val_loss: 0.1757 - val_accuracy: 0.9895\n",
      "Epoch 16/20\n",
      "2500/2500 [==============================] - 2s 649us/step - loss: 0.0322 - accuracy: 0.9892 - val_loss: 0.1829 - val_accuracy: 0.9892\n",
      "Epoch 17/20\n",
      "2500/2500 [==============================] - 2s 654us/step - loss: 0.0327 - accuracy: 0.9891 - val_loss: 0.2280 - val_accuracy: 0.9894\n",
      "Epoch 18/20\n",
      "2500/2500 [==============================] - 2s 655us/step - loss: 0.0317 - accuracy: 0.9891 - val_loss: 0.0397 - val_accuracy: 0.9895\n",
      "Epoch 19/20\n",
      "2500/2500 [==============================] - 2s 651us/step - loss: 0.0306 - accuracy: 0.9900 - val_loss: 0.1058 - val_accuracy: 0.9896\n",
      "Epoch 20/20\n",
      "2500/2500 [==============================] - 2s 661us/step - loss: 0.0294 - accuracy: 0.9902 - val_loss: 0.0341 - val_accuracy: 0.9894\n"
     ]
    }
   ],
   "source": [
    "history = model.fit(X_train, y_train, epochs=20, \n",
    "                    validation_data=(X_test, y_test))"
   ]
  },
  {
   "cell_type": "code",
   "execution_count": 41,
   "id": "illegal-boundary",
   "metadata": {},
   "outputs": [
    {
     "name": "stdout",
     "output_type": "stream",
     "text": [
      "['loss', 'accuracy']\n",
      "Test score : 0.03\n",
      "Test accuracy : 0.99\n"
     ]
    }
   ],
   "source": [
    "score = model.evaluate(X_test, y_test, verbose=0)\n",
    "\n",
    "print(model.metrics_names)\n",
    "print(\"Test score : {:.2f}\".format(score[0]))\n",
    "print(\"Test accuracy : {:.2f}\".format(score[1]))"
   ]
  },
  {
   "cell_type": "code",
   "execution_count": 42,
   "id": "adolescent-source",
   "metadata": {},
   "outputs": [
    {
     "data": {
      "text/plain": [
       "<matplotlib.legend.Legend at 0x7fe1cadac110>"
      ]
     },
     "execution_count": 42,
     "metadata": {},
     "output_type": "execute_result"
    },
    {
     "data": {
      "image/png": "[encoded data removed]",
      "text/plain": [
       "<Figure size 864x288 with 2 Axes>"
      ]
     },
     "metadata": {
      "needs_background": "light"
     },
     "output_type": "display_data"
    }
   ],
   "source": [
    "plt.figure(figsize=(12,4))\n",
    "plt.subplot(1, 2, 1)\n",
    "plt.plot(history.history['accuracy'])\n",
    "plt.plot(history.history['val_accuracy'])\n",
    "plt.title('model accuracy')\n",
    "plt.xlabel('epoch')\n",
    "plt.ylabel('accuracy')\n",
    "plt.legend(['train', 'test'])\n",
    "\n",
    "plt.subplot(1, 2, 2)\n",
    "plt.plot(history.history['loss'])\n",
    "plt.plot(history.history['val_loss'])\n",
    "plt.title('model loss')\n",
    "plt.xlabel('epoch')\n",
    "plt.ylabel('loss')\n",
    "plt.legend(['train', 'test'])"
   ]
  }
 ],
 "metadata": {
  "kernelspec": {
   "display_name": "Python 3",
   "language": "python",
   "name": "python3"
  },
  "language_info": {
   "codemirror_mode": {
    "name": "ipython",
    "version": 3
   },
   "file_extension": ".py",
   "mimetype": "text/x-python",
   "name": "python",
   "nbconvert_exporter": "python",
   "pygments_lexer": "ipython3",
   "version": "3.7.10"
  }
 },
 "nbformat": 4,
 "nbformat_minor": 5
}
