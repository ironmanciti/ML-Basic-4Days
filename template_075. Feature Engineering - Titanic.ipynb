{
 "cells": [
  {
   "cell_type": "markdown",
   "id": "4a3960ca",
   "metadata": {},
   "source": [
    "# 실습 - Titanic 호 data 를 이용한 Feature Engineering 과 Modeling\n",
    "\n",
    "Pclass - Passenger Class (1 = 1st; 2 = 2nd; 3 = 3rd)  $\\rightarrow$ 객실 등급  \n",
    "survival -  Survival (0 = 사망; 1 = 생존)  $\\rightarrow$ 생존여부  \n",
    "name - Name  \n",
    "sex - Sex  \n",
    "age - Age  \n",
    "sibsp - Number of Siblings/Spouses Aboard  $\\rightarrow$ 함께 탑승한 형제 또는 배우자 수   \n",
    "parch - Number of Parents/Children Aboard  $\\rightarrow$ 함께 탑승한 부모 또는 자녀 수  \n",
    "ticket - Ticket Number  \n",
    "fare - Passenger Fare (British pound)  \n",
    "cabin - Cabin  $\\rightarrow$ 선실번호  \n",
    "embarked - Port of Embarkation (C = Cherbourg; Q = Queenstown; S = Southampton)  $\\rightarrow$ 탑승한 항구(얼마나 부유한지와 관련)"
   ]
  },
  {
   "cell_type": "code",
   "execution_count": null,
   "id": "1748a65e",
   "metadata": {},
   "outputs": [],
   "source": []
  },
  {
   "cell_type": "code",
   "execution_count": null,
   "id": "92599341",
   "metadata": {},
   "outputs": [],
   "source": []
  },
  {
   "cell_type": "code",
   "execution_count": null,
   "id": "d7e792b8",
   "metadata": {},
   "outputs": [],
   "source": []
  },
  {
   "cell_type": "code",
   "execution_count": null,
   "id": "d7a50b16",
   "metadata": {},
   "outputs": [],
   "source": []
  },
  {
   "cell_type": "code",
   "execution_count": null,
   "id": "ea1cbfe8",
   "metadata": {},
   "outputs": [],
   "source": []
  },
  {
   "cell_type": "code",
   "execution_count": null,
   "id": "e3956ab2",
   "metadata": {},
   "outputs": [],
   "source": []
  },
  {
   "cell_type": "code",
   "execution_count": null,
   "id": "91f4eed6",
   "metadata": {},
   "outputs": [],
   "source": []
  },
  {
   "cell_type": "code",
   "execution_count": null,
   "id": "84077fb6",
   "metadata": {},
   "outputs": [],
   "source": []
  },
  {
   "cell_type": "markdown",
   "id": "139e362c",
   "metadata": {},
   "source": [
    "### Feature Analysis\n",
    "\n",
    "- feature 간의 correlation check\n",
    "\n",
    "- Survived 와 각 Feature 간 상관관계 파악"
   ]
  },
  {
   "cell_type": "code",
   "execution_count": null,
   "id": "a28fad90",
   "metadata": {},
   "outputs": [],
   "source": []
  },
  {
   "cell_type": "code",
   "execution_count": null,
   "id": "9e38dbbe",
   "metadata": {},
   "outputs": [],
   "source": []
  },
  {
   "cell_type": "markdown",
   "id": "9bd6322c",
   "metadata": {},
   "source": [
    "가장 양의 상관 관계가 높은 feature 는 Fare 이고 Pclass 는 가장 음의 상관관계가 높은 것으로 나타난다."
   ]
  },
  {
   "cell_type": "markdown",
   "id": "0b089d79",
   "metadata": {},
   "source": [
    "### Missing Value 처리"
   ]
  },
  {
   "cell_type": "code",
   "execution_count": null,
   "id": "0da025b4",
   "metadata": {},
   "outputs": [],
   "source": []
  },
  {
   "cell_type": "code",
   "execution_count": null,
   "id": "9fd8e172",
   "metadata": {},
   "outputs": [],
   "source": []
  },
  {
   "cell_type": "markdown",
   "id": "8ab99fd8",
   "metadata": {},
   "source": [
    "891 개의 data 중 177 개를 drop 시키는 것은 너무 많은 양이므로 Age 는 median 으로 채워주고 Embarked 는 drop 시킨다."
   ]
  },
  {
   "cell_type": "code",
   "execution_count": null,
   "id": "ebd6c793",
   "metadata": {},
   "outputs": [],
   "source": []
  },
  {
   "cell_type": "code",
   "execution_count": null,
   "id": "64e3d82f",
   "metadata": {},
   "outputs": [],
   "source": []
  },
  {
   "cell_type": "markdown",
   "id": "8a5194cc",
   "metadata": {},
   "source": [
    "### Data 의 skewness  check"
   ]
  },
  {
   "cell_type": "code",
   "execution_count": null,
   "id": "4e6c600c",
   "metadata": {},
   "outputs": [],
   "source": []
  },
  {
   "cell_type": "markdown",
   "id": "c8d693e2",
   "metadata": {},
   "source": [
    "### Fare 의 분포가 심하게 skew 되어 있으므로 log 값으로 바꾸어 skewness 를 완화 시킨다."
   ]
  },
  {
   "cell_type": "code",
   "execution_count": null,
   "id": "c974d236",
   "metadata": {},
   "outputs": [],
   "source": []
  },
  {
   "cell_type": "code",
   "execution_count": null,
   "id": "d9c701e3",
   "metadata": {},
   "outputs": [],
   "source": []
  },
  {
   "cell_type": "code",
   "execution_count": null,
   "id": "3e8a3cdd",
   "metadata": {},
   "outputs": [],
   "source": []
  },
  {
   "cell_type": "markdown",
   "id": "86f03fda",
   "metadata": {},
   "source": [
    "### Category 변수 처리\n",
    "\n",
    "Category column 들을 one-hot-encoding 으로 변환한다."
   ]
  },
  {
   "cell_type": "code",
   "execution_count": null,
   "id": "018bfa20",
   "metadata": {},
   "outputs": [],
   "source": []
  },
  {
   "cell_type": "markdown",
   "id": "a1d13f90",
   "metadata": {},
   "source": [
    "### Train / Test dataset split"
   ]
  },
  {
   "cell_type": "code",
   "execution_count": null,
   "id": "3cd50c30",
   "metadata": {},
   "outputs": [],
   "source": []
  },
  {
   "cell_type": "code",
   "execution_count": null,
   "id": "ebf00719",
   "metadata": {},
   "outputs": [],
   "source": []
  },
  {
   "cell_type": "code",
   "execution_count": null,
   "id": "5e42ebd9",
   "metadata": {},
   "outputs": [],
   "source": []
  },
  {
   "cell_type": "markdown",
   "id": "7ddd86a2",
   "metadata": {},
   "source": [
    "### Standard Scaling"
   ]
  },
  {
   "cell_type": "code",
   "execution_count": null,
   "id": "c5a2a528",
   "metadata": {},
   "outputs": [],
   "source": []
  },
  {
   "cell_type": "markdown",
   "id": "bc0392cb",
   "metadata": {},
   "source": [
    "## Random Forest Model"
   ]
  },
  {
   "cell_type": "code",
   "execution_count": null,
   "id": "5e4c3d4d",
   "metadata": {},
   "outputs": [],
   "source": [
    "# 랜덤 포레스트 분류기 모델을 생성 (결정 트리 개수: 10개, 기준: 엔트로피, 랜덤 시드: 0)\n",
    "# 훈련 데이터(X_train, y_train)를 사용하여 모델 학습"
   ]
  },
  {
   "cell_type": "code",
   "execution_count": null,
   "id": "b36d2dec",
   "metadata": {},
   "outputs": [],
   "source": [
    "# 테스트 데이터(X_test)에 대해 학습된 모델로 예측 수행\n",
    "# 테스트 세트에서 실제 값이 True(또는 1)인 샘플 수 출력\n",
    "# 예측 결과에서 True(또는 1)로 예측된 샘플 수 출력\n",
    "# 정확도 계산 및 출력 (예측이 정답과 일치하는 비율)"
   ]
  },
  {
   "cell_type": "markdown",
   "id": "bf68faf1",
   "metadata": {},
   "source": [
    "### Feature Importance 시각화"
   ]
  },
  {
   "cell_type": "code",
   "execution_count": null,
   "id": "0552aa6a",
   "metadata": {},
   "outputs": [],
   "source": []
  },
  {
   "cell_type": "code",
   "execution_count": null,
   "id": "da39c8a5",
   "metadata": {},
   "outputs": [],
   "source": [
    "# 학습된 랜덤 포레스트 모델로부터 각 특성(feature)의 중요도를 가져와 시리즈로 생성\n",
    "# 인덱스는 X_train의 컬럼명, 값은 중요도\n",
    "# 정렬된 특성 중요도 출력"
   ]
  },
  {
   "cell_type": "code",
   "execution_count": null,
   "id": "2316e722",
   "metadata": {},
   "outputs": [],
   "source": []
  },
  {
   "cell_type": "markdown",
   "id": "452583bf",
   "metadata": {},
   "source": [
    "## Gradient Boosting Classifier\n",
    "\n",
    "- min_samples_split : node 분리에 필요한 최소 sample 수 => overfitting 방지  \n",
    "- max_depth : tree 깊이 조절 => overfitting 방지\n",
    "- learning_rate : 각 tree 의 기여도 조정, n_estimators 와 trade-off \n",
    "- n_estimators : number of sequential trees"
   ]
  },
  {
   "cell_type": "code",
   "execution_count": null,
   "id": "e4585c31",
   "metadata": {},
   "outputs": [],
   "source": [
    "# Gradient Boosting 모델 생성\n",
    "# learning_rate: 학습률, n_estimators: 약한 학습기(트리) 개수, max_depth: 각 트리의 최대 깊이\n",
    "# 훈련 데이터(X_train, y_train)를 사용하여 모델 학습"
   ]
  },
  {
   "cell_type": "code",
   "execution_count": null,
   "id": "3aac735a",
   "metadata": {},
   "outputs": [],
   "source": [
    "# 테스트 데이터(X_test)에 대해 학습된 그래디언트 부스팅 모델로 예측 수행\n",
    "# 테스트 세트에서 실제로 True(또는 1)인 샘플 수 출력\n",
    "# 예측 결과에서 True(또는 1)로 예측된 샘플 수 출력\n",
    "# 정확도 계산 및 출력 (예측이 정답과 일치하는 비율)"
   ]
  },
  {
   "cell_type": "code",
   "execution_count": null,
   "id": "3332b413",
   "metadata": {},
   "outputs": [],
   "source": [
    "# 학습된 그래디언트 부스팅 모델로부터 각 특성의 중요도를 가져와 시리즈로 생성\n",
    "# 인덱스는 X_train의 컬럼명, 값은 해당 특성의 중요도\n",
    "# 정렬된 특성 중요도 출력"
   ]
  },
  {
   "cell_type": "code",
   "execution_count": null,
   "id": "820fc589",
   "metadata": {},
   "outputs": [],
   "source": []
  },
  {
   "cell_type": "code",
   "execution_count": null,
   "id": "e2d45349",
   "metadata": {},
   "outputs": [],
   "source": []
  }
 ],
 "metadata": {
  "kernelspec": {
   "display_name": "Python 3 (ipykernel)",
   "language": "python",
   "name": "python3"
  },
  "language_info": {
   "codemirror_mode": {
    "name": "ipython",
    "version": 3
   },
   "file_extension": ".py",
   "mimetype": "text/x-python",
   "name": "python",
   "nbconvert_exporter": "python",
   "pygments_lexer": "ipython3",
   "version": "3.9.21"
  }
 },
 "nbformat": 4,
 "nbformat_minor": 5
}
