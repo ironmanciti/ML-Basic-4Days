{
 "cells": [
  {
   "cell_type": "markdown",
   "metadata": {},
   "source": [
    "# 080.K-Means Clustering\n",
    "\n",
    "### Random 하게 생성된 toy dataset 으로 K-Means clustering test\n",
    "\n",
    "make_blobs : \n",
    "```\n",
    "    Input :\n",
    "         n_samples :  cluster 에 균등 분할될 total data point 숫자  \n",
    "         centers : generate 할 centroid 숫자  \n",
    "         cluster_std : cluster 의 standard deviation    \n",
    "\n",
    "    Output : \n",
    "        X: 생성된 sample 들  \n",
    "        y: 각 sample 의 label\n",
    "```\n",
    "KMeans :  주요 parameters\n",
    "> init : initialization method -> k-means++ (smart choosing of centroids - centroids 들이 서로 멀리 떨어지도록 초기화)  \n",
    "> n_clusters : k 값  \n",
    "> n_init : 반복횟수  "
   ]
  },
  {
   "cell_type": "markdown",
   "metadata": {},
   "source": [
    "- ListedColormap : color 를 RGBA tuple 로 반환"
   ]
  }
 ],
 "metadata": {
  "kernelspec": {
   "display_name": "Python 3",
   "language": "python",
   "name": "python3"
  },
  "language_info": {
   "codemirror_mode": {
    "name": "ipython",
    "version": 3
   },
   "file_extension": ".py",
   "mimetype": "text/x-python",
   "name": "python",
   "nbconvert_exporter": "python",
   "pygments_lexer": "ipython3",
   "version": "3.7.10"
  }
 },
 "nbformat": 4,
 "nbformat_minor": 2
}
