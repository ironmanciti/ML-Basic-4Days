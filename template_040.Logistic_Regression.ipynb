{
 "cells": [
  {
   "cell_type": "markdown",
   "id": "a585bb6c",
   "metadata": {},
   "source": [
    "# Logistic Regression\n",
    "\n",
    "### data: 성별 소득 data 에 따라 특정 구매자의 구매할지 여부를 예측"
   ]
  },
  {
   "cell_type": "code",
   "execution_count": null,
   "id": "e67acedb",
   "metadata": {},
   "outputs": [],
   "source": []
  },
  {
   "cell_type": "code",
   "execution_count": null,
   "id": "d86b680b",
   "metadata": {},
   "outputs": [],
   "source": []
  },
  {
   "cell_type": "code",
   "execution_count": null,
   "id": "d7c8d2b9",
   "metadata": {},
   "outputs": [],
   "source": [
    "# 'Purchased' 열에 있는 각 값(클래스)이 몇 번 등장했는지 계산"
   ]
  },
  {
   "cell_type": "markdown",
   "id": "087c243c",
   "metadata": {},
   "source": [
    "### Age, EstimatedSalary 를 변수로 선택"
   ]
  },
  {
   "cell_type": "code",
   "execution_count": null,
   "id": "ca925e76",
   "metadata": {},
   "outputs": [],
   "source": [
    "# X에 데이터프레임의 2번, 3번 열(즉, 세 번째, 네 번째 열)을 선택하여 입력 특성으로 저장\n",
    "# y에 데이터프레임의 4번 열(즉, 다섯 번째 열)을 선택하여 타깃 레이블로 저장"
   ]
  },
  {
   "cell_type": "markdown",
   "id": "3cd16c53",
   "metadata": {},
   "source": [
    "dataset 을 Training 과 Test set 으로 분리"
   ]
  },
  {
   "cell_type": "code",
   "execution_count": null,
   "id": "b554d5e9",
   "metadata": {},
   "outputs": [],
   "source": [
    "# 데이터를 학습용과 테스트용으로 분리\n",
    "# X: 입력 데이터, y: 타깃 레이블\n",
    "# test_size=0.2 → 전체 데이터 중 20%를 테스트 데이터로 사용\n",
    "# random_state=0 → 데이터 분할 시 랜덤 시드를 고정하여 결과 재현 가능하게 함"
   ]
  },
  {
   "cell_type": "markdown",
   "id": "919643c8",
   "metadata": {},
   "source": [
    "## Feature Scaling\n",
    "\n",
    "### train data 로 fit 하고, test data 는 train data 의 분포에 맞추어 transform"
   ]
  },
  {
   "cell_type": "code",
   "execution_count": null,
   "id": "9fd31132",
   "metadata": {},
   "outputs": [],
   "source": [
    "# 표준화(정규화)를 위한 StandardScaler 객체 생성\n",
    "# 학습 데이터에 대해 평균과 표준편차를 계산(fit)하고, 변환(transform)하여 정규화된 데이터로 변환\n",
    "# 테스트 데이터는 학습 데이터에서 계산한 평균과 표준편차를 사용하여 정규화"
   ]
  },
  {
   "cell_type": "markdown",
   "id": "65d66b8e",
   "metadata": {},
   "source": [
    "### Training set 에 대해 Logistic Regression model 을 fitting"
   ]
  },
  {
   "cell_type": "code",
   "execution_count": null,
   "id": "2e7249f1",
   "metadata": {},
   "outputs": [],
   "source": [
    "# 로지스틱 회귀 분류기 생성\n",
    "# solver='lbfgs'는 최적화 알고리즘 설정 (작은 데이터셋에 적합)\n",
    "# random_state=0으로 고정하여 결과의 일관성 유지\n",
    "# 학습 데이터(X_train, y_train)를 사용하여 모델 학습"
   ]
  },
  {
   "cell_type": "markdown",
   "id": "8b44fd67",
   "metadata": {},
   "source": [
    "### predict\n",
    "\n",
    "- predict() - 예측된 class 반환 using X_test\n",
    "- predict_proba() - class 당 probability 반환 using X_test"
   ]
  },
  {
   "cell_type": "code",
   "execution_count": null,
   "id": "720d973b",
   "metadata": {},
   "outputs": [],
   "source": []
  },
  {
   "cell_type": "code",
   "execution_count": null,
   "id": "fccbde42",
   "metadata": {},
   "outputs": [],
   "source": [
    "# 테스트 데이터에 대한 각 클래스별 예측 확률을 계산\n",
    "# 처음 5개의 샘플에 대해 [클래스 0 확률, 클래스 1 확률] 출력\n",
    "# 처음 5개의 샘플에 대해 '클래스 1'에 대한 예측 확률만 출력"
   ]
  },
  {
   "cell_type": "code",
   "execution_count": null,
   "id": "d215a66e",
   "metadata": {},
   "outputs": [],
   "source": [
    "# 예측 확률 중 '클래스 1' (즉, churn=1일 확률)만 추출\n",
    "# churn=1일 확률이 0.5보다 큰 데이터 포인트의 개수 계산"
   ]
  },
  {
   "cell_type": "code",
   "execution_count": null,
   "id": "ca521510",
   "metadata": {},
   "outputs": [],
   "source": []
  },
  {
   "cell_type": "markdown",
   "id": "3b7e2a36",
   "metadata": {},
   "source": [
    "## confusion matrix 를 이용한 model 평가"
   ]
  },
  {
   "cell_type": "code",
   "execution_count": null,
   "id": "130043f0",
   "metadata": {},
   "outputs": [],
   "source": [
    "# 혼동 행렬(confusion matrix)을 생성\n",
    "# labels=[1, 0]으로 설정하여 행렬의 순서를 [양성(1), 음성(0)] 기준으로 정렬\n",
    "# 혼동 행렬 출력\n",
    "# 출력 시각화: 5x4 크기의 그림 생성\n",
    "# seaborn을 이용한 히트맵(heatmap)으로 혼동 행렬 시각화\n",
    "# annot=True: 셀 안에 숫자 표시 / fmt='d': 정수 형식 / x, y축 라벨 설정\n",
    "# y축 라벨 설정\n",
    "# 그래프 제목 설정\n",
    "# None을 써서 출력 결과 방해 없도록 처리 (별다른 효과는 없음)"
   ]
  },
  {
   "cell_type": "markdown",
   "id": "4320435f",
   "metadata": {},
   "source": [
    "# 실습 \n",
    "\n",
    "### 통신회사의 고객 이탈 여부를 logistic regression 으로 예측"
   ]
  },
  {
   "cell_type": "code",
   "execution_count": null,
   "id": "1a805ee0",
   "metadata": {},
   "outputs": [],
   "source": []
  },
  {
   "cell_type": "markdown",
   "id": "2f131f0c",
   "metadata": {},
   "source": [
    "## Data pre-processing and feature selection\n",
    "\n",
    "개별 feature 에 대한 분석 후(본 과정에서는 생략)에 Logistic Regression 에 사용할 feature 선정\n",
    "\n",
    "tenure(가입기간), age (연령), income(수입) 으로 예측하고 churn (이탈여부) 은 integer 로 type 변경"
   ]
  },
  {
   "cell_type": "code",
   "execution_count": null,
   "id": "226a525a",
   "metadata": {},
   "outputs": [],
   "source": [
    "# 'tenure', 'age', 'income', 'churn' 열만 선택하여 새로운 DataFrame 구성\n",
    "# 앞부분 5개 행 출력 (데이터 확인용)"
   ]
  },
  {
   "cell_type": "code",
   "execution_count": null,
   "id": "5c544da9",
   "metadata": {},
   "outputs": [],
   "source": [
    "# 'tenure', 'age', 'income' 열을 입력 특성(X)으로 설정\n",
    "# 'churn' 열을 타깃 변수(y)로 설정"
   ]
  },
  {
   "cell_type": "markdown",
   "id": "de5d7819",
   "metadata": {},
   "source": [
    "### data scaling"
   ]
  },
  {
   "cell_type": "code",
   "execution_count": null,
   "id": "bc182711",
   "metadata": {},
   "outputs": [],
   "source": [
    "# your code here"
   ]
  },
  {
   "cell_type": "markdown",
   "id": "d3453d18",
   "metadata": {},
   "source": [
    "### Train/Test dataset 분리"
   ]
  },
  {
   "cell_type": "code",
   "execution_count": null,
   "id": "6ccd9ac2",
   "metadata": {},
   "outputs": [],
   "source": [
    "# your code here"
   ]
  },
  {
   "cell_type": "code",
   "execution_count": null,
   "id": "18734373",
   "metadata": {},
   "outputs": [],
   "source": [
    "# train the model"
   ]
  },
  {
   "cell_type": "code",
   "execution_count": null,
   "id": "d5a7bbdf",
   "metadata": {},
   "outputs": [],
   "source": [
    "# predict"
   ]
  },
  {
   "cell_type": "code",
   "execution_count": null,
   "id": "685724f8",
   "metadata": {},
   "outputs": [],
   "source": [
    "# confusion matrix 작성"
   ]
  },
  {
   "cell_type": "code",
   "execution_count": null,
   "id": "3fbca1f8",
   "metadata": {},
   "outputs": [],
   "source": []
  },
  {
   "cell_type": "code",
   "execution_count": null,
   "id": "b8a33b16",
   "metadata": {},
   "outputs": [],
   "source": []
  }
 ],
 "metadata": {
  "kernelspec": {
   "display_name": "Python 3 (ipykernel)",
   "language": "python",
   "name": "python3"
  },
  "language_info": {
   "codemirror_mode": {
    "name": "ipython",
    "version": 3
   },
   "file_extension": ".py",
   "mimetype": "text/x-python",
   "name": "python",
   "nbconvert_exporter": "python",
   "pygments_lexer": "ipython3",
   "version": "3.9.21"
  }
 },
 "nbformat": 4,
 "nbformat_minor": 5
}
