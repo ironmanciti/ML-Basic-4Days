{
 "cells": [
  {
   "cell_type": "code",
   "execution_count": 1,
   "id": "43040ee6-74e0-4045-96e2-bb69408db255",
   "metadata": {},
   "outputs": [],
   "source": [
    "import nbformat as nbf\n",
    "import os\n",
    "\n",
    "# 현재 작업 디렉토리에서 모든 Jupyter 노트북 파일을 필터링\n",
    "notebooks = [file for file in os.listdir(os.getcwd()) if file.endswith('.ipynb') and \n",
    "             file not in ['Merging_Notebooks.ipynb', 'empty_page.ipynb', 'Untitled.ipynb', 'Template_Creation.ipynb', 'Template_PY_Creation.ipynb'] and\n",
    "             not file.startswith('combine') and not file.startswith('template_') and\n",
    "             not file.startswith('문제풀이')]\n",
    "\n",
    "for note in notebooks:\n",
    "    # 노트북 파일을 읽음\n",
    "    ntbk = nbf.read(note, nbf.NO_CONVERT)\n",
    "    new_ntbk = nbf.v4.new_notebook()\n",
    "    new_ntbk['metadata'] = ntbk['metadata']\n",
    "    \n",
    "    new_cells = []\n",
    "    for cell in ntbk.cells:\n",
    "        if cell.cell_type == \"markdown\":\n",
    "            new_cells.append(cell)\n",
    "        elif cell.cell_type == \"code\":\n",
    "            # code 셀의 주석과 함수 정의(def), 클래스 정의(class)만 남기고 실제 코드는 제거\n",
    "            new_source = []\n",
    "            for line in cell.source.split('\\n'):\n",
    "                stripped_line = line.strip()\n",
    "                if stripped_line.startswith(\"#\") or stripped_line.startswith(\"def \") or stripped_line.startswith(\"class \"):\n",
    "                    new_source.append(line)\n",
    "            new_code_cell = nbf.v4.new_code_cell(\"\\n\".join(new_source))\n",
    "            new_cells.append(new_code_cell)\n",
    "    \n",
    "    new_ntbk.cells = new_cells\n",
    "    \n",
    "    # 새로운 노트북 파일로 저장\n",
    "    nbf.write(new_ntbk, \"template_\" + note, version=nbf.NO_CONVERT)\n"
   ]
  },
  {
   "cell_type": "code",
   "execution_count": null,
   "id": "7c4f932e-b4f3-47c9-b695-edad58dcccb2",
   "metadata": {},
   "outputs": [],
   "source": []
  }
 ],
 "metadata": {
  "kernelspec": {
   "display_name": "Python 3 (ipykernel)",
   "language": "python",
   "name": "python3"
  },
  "language_info": {
   "codemirror_mode": {
    "name": "ipython",
    "version": 3
   },
   "file_extension": ".py",
   "mimetype": "text/x-python",
   "name": "python",
   "nbconvert_exporter": "python",
   "pygments_lexer": "ipython3",
   "version": "3.8.13"
  }
 },
 "nbformat": 4,
 "nbformat_minor": 5
}
