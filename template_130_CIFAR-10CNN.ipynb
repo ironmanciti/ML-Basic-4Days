{
 "cells": [
  {
   "cell_type": "markdown",
   "id": "8b2ce09c",
   "metadata": {},
   "source": [
    "# CIFAR-10 을 이용한 CNN 구축"
   ]
  },
  {
   "cell_type": "code",
   "execution_count": null,
   "id": "8744e0e8",
   "metadata": {},
   "outputs": [],
   "source": []
  },
  {
   "cell_type": "code",
   "execution_count": null,
   "id": "aa76292b",
   "metadata": {},
   "outputs": [],
   "source": [
    "# CIFAR-10 데이터셋 로드 (훈련/테스트 데이터 자동 분리)"
   ]
  },
  {
   "cell_type": "code",
   "execution_count": null,
   "id": "9391c303",
   "metadata": {},
   "outputs": [],
   "source": [
    "# CIFAR-10 데이터셋의 입력 이미지와 레이블의 형태 출력"
   ]
  },
  {
   "cell_type": "code",
   "execution_count": null,
   "id": "26865449",
   "metadata": {},
   "outputs": [],
   "source": [
    "# CIFAR-10 데이터셋의 클래스 이름을 리스트로 정의"
   ]
  },
  {
   "cell_type": "code",
   "execution_count": null,
   "id": "71605587",
   "metadata": {},
   "outputs": [],
   "source": []
  },
  {
   "cell_type": "code",
   "execution_count": null,
   "id": "a8e23618",
   "metadata": {},
   "outputs": [],
   "source": [
    "# data normalization"
   ]
  },
  {
   "cell_type": "code",
   "execution_count": null,
   "id": "d9035dd8",
   "metadata": {},
   "outputs": [],
   "source": [
    "# 클래스 레이블(정수형)을 One-hot 인코딩 형식으로 변환\n",
    "# 변환된 레이블의 shape 확인"
   ]
  },
  {
   "cell_type": "code",
   "execution_count": null,
   "id": "323474ef",
   "metadata": {},
   "outputs": [],
   "source": [
    "# 훈련 데이터를 TensorFlow Dataset 형식으로 변환\n",
    "# 데이터를 섞고(shuffle), 배치 단위로 나눔 (64개씩)\n",
    "# 테스트 데이터도 Dataset으로 변환 (배치 처리만 수행, 섞지 않음)"
   ]
  },
  {
   "cell_type": "code",
   "execution_count": null,
   "id": "552f0f96",
   "metadata": {},
   "outputs": [],
   "source": [
    "# 입력층: 32x32 크기의 RGB 이미지\n",
    "# 첫 번째 합성곱 블록\n",
    "# 두 번째 합성곱 블록\n",
    "# 세 번째 합성곱 블록\n",
    "# 완전 연결층 (FC)\n",
    "# 출력층"
   ]
  },
  {
   "cell_type": "code",
   "execution_count": null,
   "id": "c95fec88",
   "metadata": {},
   "outputs": [],
   "source": []
  },
  {
   "cell_type": "code",
   "execution_count": null,
   "id": "5d1265f3",
   "metadata": {},
   "outputs": [],
   "source": [
    "# 모델 컴파일: 손실 함수, 옵티마이저, 평가 지표 설정"
   ]
  },
  {
   "cell_type": "code",
   "execution_count": null,
   "id": "0c8ef7ab",
   "metadata": {},
   "outputs": [],
   "source": [
    "# 모델 학습 시작"
   ]
  },
  {
   "cell_type": "code",
   "execution_count": null,
   "id": "77172548",
   "metadata": {},
   "outputs": [],
   "source": [
    "# 테스트 데이터셋을 사용해 모델 성능 평가\n",
    "# verbose=0 → 출력 없이 조용히 실행"
   ]
  },
  {
   "cell_type": "code",
   "execution_count": null,
   "id": "7c84c55c",
   "metadata": {},
   "outputs": [],
   "source": [
    "# 테스트 이미지에 대해 예측 수행\n",
    "# model.predict()는 각 클래스에 대한 확률 벡터를 반환 → shape: (10000, 10)\n",
    "# .argmax(axis=-1) → 가장 확률이 높은 클래스(0~9)를 선택\n",
    "# 예측 결과의 shape 및 내용 확인"
   ]
  },
  {
   "cell_type": "code",
   "execution_count": null,
   "id": "e030496c",
   "metadata": {},
   "outputs": [],
   "source": [
    "# y_test는 (10000, 1) 형태의 2차원 배열이므로\n",
    "# .ravel()을 통해 1차원 벡터로 변환 → (10000,)\n",
    "# 변환된 실제 정답 레이블 확인"
   ]
  },
  {
   "cell_type": "code",
   "execution_count": null,
   "id": "5ee41079",
   "metadata": {},
   "outputs": [],
   "source": [
    "# 16개의 무작위 이미지를 선택하여 표시\n",
    "    # 실제 라벨과 예측된 라벨로 제목 설정"
   ]
  },
  {
   "cell_type": "markdown",
   "id": "9223b67d",
   "metadata": {},
   "source": [
    "## accuracy 시각화"
   ]
  },
  {
   "cell_type": "code",
   "execution_count": null,
   "id": "5905aa45",
   "metadata": {},
   "outputs": [],
   "source": [
    "# 예측값(y_pred)과 실제값(y_true)을 비교하여 혼동 행렬 생성"
   ]
  },
  {
   "cell_type": "markdown",
   "id": "ffa0d3d7",
   "metadata": {},
   "source": [
    "### heatmap 작성"
   ]
  },
  {
   "cell_type": "code",
   "execution_count": null,
   "id": "e231308d",
   "metadata": {},
   "outputs": [],
   "source": [
    "# 혼동 행렬을 히트맵으로 시각화 (정수로 표시)\n",
    "# x축, y축 눈금에 클래스 이름 표시 + 회전 각도와 글자 크기 조정\n",
    "# 축 라벨 및 제목 설정\n",
    "# 정확도 출력"
   ]
  },
  {
   "cell_type": "markdown",
   "id": "44f263c4",
   "metadata": {},
   "source": [
    "# 실습 :\n",
    "\n",
    "## Convolutional Layer 와 Pooling Layer 를  추가하고 Hyper-parameter 조정하여 성능 개선 혹은 epochs 늘려서 accuracy 향상 비교"
   ]
  },
  {
   "cell_type": "code",
   "execution_count": null,
   "id": "2e00c2c9",
   "metadata": {},
   "outputs": [],
   "source": []
  }
 ],
 "metadata": {
  "kernelspec": {
   "display_name": "Python 3 (ipykernel)",
   "language": "python",
   "name": "python3"
  },
  "language_info": {
   "codemirror_mode": {
    "name": "ipython",
    "version": 3
   },
   "file_extension": ".py",
   "mimetype": "text/x-python",
   "name": "python",
   "nbconvert_exporter": "python",
   "pygments_lexer": "ipython3",
   "version": "3.9.21"
  }
 },
 "nbformat": 4,
 "nbformat_minor": 5
}
