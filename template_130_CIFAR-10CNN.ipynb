{
 "cells": [
  {
   "cell_type": "markdown",
   "id": "4b133a2d",
   "metadata": {},
   "source": [
    "# CIFAR-10 을 이용한 CNN 구축"
   ]
  },
  {
   "cell_type": "code",
   "execution_count": null,
   "id": "8bc580df",
   "metadata": {},
   "outputs": [],
   "source": []
  },
  {
   "cell_type": "code",
   "execution_count": null,
   "id": "2d0b17bc",
   "metadata": {},
   "outputs": [],
   "source": []
  },
  {
   "cell_type": "code",
   "execution_count": null,
   "id": "97c9ed06",
   "metadata": {},
   "outputs": [],
   "source": []
  },
  {
   "cell_type": "code",
   "execution_count": null,
   "id": "88b35ded",
   "metadata": {},
   "outputs": [],
   "source": []
  },
  {
   "cell_type": "code",
   "execution_count": null,
   "id": "d668f632",
   "metadata": {},
   "outputs": [],
   "source": []
  },
  {
   "cell_type": "code",
   "execution_count": null,
   "id": "2f9d91f5",
   "metadata": {},
   "outputs": [],
   "source": []
  },
  {
   "cell_type": "code",
   "execution_count": null,
   "id": "79deb695",
   "metadata": {},
   "outputs": [],
   "source": []
  },
  {
   "cell_type": "code",
   "execution_count": null,
   "id": "0fe36c95",
   "metadata": {},
   "outputs": [],
   "source": [
    "# data normalization"
   ]
  },
  {
   "cell_type": "code",
   "execution_count": null,
   "id": "66214465",
   "metadata": {},
   "outputs": [],
   "source": [
    "# one-hot encoding of class labels"
   ]
  },
  {
   "cell_type": "code",
   "execution_count": null,
   "id": "a9c02873",
   "metadata": {},
   "outputs": [],
   "source": []
  },
  {
   "cell_type": "code",
   "execution_count": null,
   "id": "5d0d3d6b",
   "metadata": {},
   "outputs": [],
   "source": [
    "# model build"
   ]
  },
  {
   "cell_type": "code",
   "execution_count": null,
   "id": "d9ede431",
   "metadata": {},
   "outputs": [],
   "source": []
  },
  {
   "cell_type": "code",
   "execution_count": null,
   "id": "11f6ff6b",
   "metadata": {},
   "outputs": [],
   "source": [
    "# model compile"
   ]
  },
  {
   "cell_type": "code",
   "execution_count": null,
   "id": "ecf7c977",
   "metadata": {},
   "outputs": [],
   "source": []
  },
  {
   "cell_type": "code",
   "execution_count": null,
   "id": "3986f757",
   "metadata": {},
   "outputs": [],
   "source": []
  },
  {
   "cell_type": "code",
   "execution_count": null,
   "id": "cd4a5fed",
   "metadata": {},
   "outputs": [],
   "source": []
  },
  {
   "cell_type": "code",
   "execution_count": null,
   "id": "2536ed2e",
   "metadata": {},
   "outputs": [],
   "source": []
  },
  {
   "cell_type": "code",
   "execution_count": null,
   "id": "72011cfe",
   "metadata": {},
   "outputs": [],
   "source": [
    "# 16개의 무작위 이미지를 선택하여 표시\n",
    "    # 실제 라벨과 예측된 라벨로 제목 설정"
   ]
  },
  {
   "cell_type": "markdown",
   "id": "a4bddffe",
   "metadata": {},
   "source": [
    "## accuracy 시각화"
   ]
  },
  {
   "cell_type": "code",
   "execution_count": null,
   "id": "8e9c1491",
   "metadata": {},
   "outputs": [],
   "source": []
  },
  {
   "cell_type": "markdown",
   "id": "64f0ade0",
   "metadata": {},
   "source": [
    "### heatmap 작성"
   ]
  },
  {
   "cell_type": "code",
   "execution_count": null,
   "id": "a526ea6f",
   "metadata": {},
   "outputs": [],
   "source": []
  },
  {
   "cell_type": "markdown",
   "id": "01b623e3",
   "metadata": {},
   "source": [
    "# 실습 :\n",
    "\n",
    "## Convolutional Layer 와 Pooling Layer 를  추가하고 Hyper-parameter 조정하여 성능 개선 혹은 epochs 늘려서 accuracy 향상 비교"
   ]
  },
  {
   "cell_type": "code",
   "execution_count": null,
   "id": "e0e56d5e",
   "metadata": {},
   "outputs": [],
   "source": []
  }
 ],
 "metadata": {
  "kernelspec": {
   "display_name": "Python 3 (ipykernel)",
   "language": "python",
   "name": "python3"
  },
  "language_info": {
   "codemirror_mode": {
    "name": "ipython",
    "version": 3
   },
   "file_extension": ".py",
   "mimetype": "text/x-python",
   "name": "python",
   "nbconvert_exporter": "python",
   "pygments_lexer": "ipython3",
   "version": "3.9.7"
  }
 },
 "nbformat": 4,
 "nbformat_minor": 5
}
