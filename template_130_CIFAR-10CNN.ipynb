{
 "cells": [
  {
   "cell_type": "markdown",
   "id": "2893d1c5",
   "metadata": {},
   "source": [
    "# CIFAR-10 을 이용한 CNN 구축"
   ]
  },
  {
   "cell_type": "code",
   "execution_count": null,
   "id": "c40f726f",
   "metadata": {},
   "outputs": [],
   "source": []
  },
  {
   "cell_type": "code",
   "execution_count": null,
   "id": "7fda7bc7",
   "metadata": {},
   "outputs": [],
   "source": []
  },
  {
   "cell_type": "code",
   "execution_count": null,
   "id": "46eb4b24",
   "metadata": {},
   "outputs": [],
   "source": []
  },
  {
   "cell_type": "code",
   "execution_count": null,
   "id": "65d68049",
   "metadata": {},
   "outputs": [],
   "source": []
  },
  {
   "cell_type": "code",
   "execution_count": null,
   "id": "bedc5231",
   "metadata": {},
   "outputs": [],
   "source": []
  },
  {
   "cell_type": "code",
   "execution_count": null,
   "id": "07bc7a04",
   "metadata": {},
   "outputs": [],
   "source": []
  },
  {
   "cell_type": "code",
   "execution_count": null,
   "id": "bc5aebf8",
   "metadata": {},
   "outputs": [],
   "source": []
  },
  {
   "cell_type": "code",
   "execution_count": null,
   "id": "2d635016",
   "metadata": {},
   "outputs": [],
   "source": [
    "# data normalization"
   ]
  },
  {
   "cell_type": "code",
   "execution_count": null,
   "id": "6f9945f2",
   "metadata": {},
   "outputs": [],
   "source": [
    "# one-hot encoding of class labels"
   ]
  },
  {
   "cell_type": "code",
   "execution_count": null,
   "id": "a698f5a5",
   "metadata": {},
   "outputs": [],
   "source": []
  },
  {
   "cell_type": "code",
   "execution_count": null,
   "id": "51b7983c",
   "metadata": {},
   "outputs": [],
   "source": [
    "# model build"
   ]
  },
  {
   "cell_type": "code",
   "execution_count": null,
   "id": "612a35b4",
   "metadata": {},
   "outputs": [],
   "source": []
  },
  {
   "cell_type": "code",
   "execution_count": null,
   "id": "5e521c56",
   "metadata": {},
   "outputs": [],
   "source": [
    "# model compile"
   ]
  },
  {
   "cell_type": "code",
   "execution_count": null,
   "id": "52cdfe8a",
   "metadata": {},
   "outputs": [],
   "source": []
  },
  {
   "cell_type": "code",
   "execution_count": null,
   "id": "0605bffb",
   "metadata": {},
   "outputs": [],
   "source": []
  },
  {
   "cell_type": "code",
   "execution_count": null,
   "id": "d46401c5",
   "metadata": {},
   "outputs": [],
   "source": []
  },
  {
   "cell_type": "code",
   "execution_count": null,
   "id": "db5cf8d4",
   "metadata": {},
   "outputs": [],
   "source": []
  },
  {
   "cell_type": "code",
   "execution_count": null,
   "id": "41d36b22",
   "metadata": {},
   "outputs": [],
   "source": [
    "# 16개의 무작위 이미지를 선택하여 표시\n",
    "    # 실제 라벨과 예측된 라벨로 제목 설정"
   ]
  },
  {
   "cell_type": "markdown",
   "id": "2cd4a161",
   "metadata": {},
   "source": [
    "## accuracy 시각화"
   ]
  },
  {
   "cell_type": "code",
   "execution_count": null,
   "id": "85b4dc9d",
   "metadata": {},
   "outputs": [],
   "source": []
  },
  {
   "cell_type": "markdown",
   "id": "0a6649dc",
   "metadata": {},
   "source": [
    "### heatmap 작성"
   ]
  },
  {
   "cell_type": "code",
   "execution_count": null,
   "id": "199ddb18",
   "metadata": {},
   "outputs": [],
   "source": []
  },
  {
   "cell_type": "markdown",
   "id": "b43fd077",
   "metadata": {},
   "source": [
    "# 실습 :\n",
    "\n",
    "## Convolutional Layer 와 Pooling Layer 를  추가하고 Hyper-parameter 조정하여 성능 개선 혹은 epochs 늘려서 accuracy 향상 비교"
   ]
  },
  {
   "cell_type": "code",
   "execution_count": null,
   "id": "3a27980e",
   "metadata": {},
   "outputs": [],
   "source": []
  }
 ],
 "metadata": {
  "kernelspec": {
   "display_name": "Python 3 (ipykernel)",
   "language": "python",
   "name": "python3"
  },
  "language_info": {
   "codemirror_mode": {
    "name": "ipython",
    "version": 3
   },
   "file_extension": ".py",
   "mimetype": "text/x-python",
   "name": "python",
   "nbconvert_exporter": "python",
   "pygments_lexer": "ipython3",
   "version": "3.9.7"
  }
 },
 "nbformat": 4,
 "nbformat_minor": 5
}
