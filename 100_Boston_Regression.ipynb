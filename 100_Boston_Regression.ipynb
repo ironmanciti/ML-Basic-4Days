{
 "cells": [
  {
   "cell_type": "markdown",
   "metadata": {
    "colab_type": "text",
    "id": "uMzSmlzgrTPV"
   },
   "source": [
    "# 100. Boston House Price Regression\n",
    "\n",
    "- 보스턴 주택가격 예측\n",
    "\n",
    "### 13 개의 종속변수와 1 개의 독립변수 (주택가격 중앙값) 으로 구성\n",
    "\n",
    "#### 독립변수 (13 개)\n",
    "CRIM 자치시(town) 별 1인당 범죄율  \n",
    "ZN 25,000 평방피트를 초과하는 거주지역의 비율  \n",
    "INDUS 비소매상업지역이 점유하고 있는 토지의 비율  \n",
    "CHAS 찰스강에 대한 더미변수(강의 경계에 위치한 경우는 1, 아니면 0)  \n",
    "NOX 10ppm 당 농축 일산화질소  \n",
    "RM 주택 1가구당 평균 방의 개수  \n",
    "AGE 1940년 이전에 건축된 소유주택의 비율  \n",
    "DIS 5개의 보스턴 직업센터까지의 접근성 지수  \n",
    "RAD 방사형 도로까지의 접근성 지수  \n",
    "TAX 10,000 달러 당 재산세율  \n",
    "PTRATIO 자치시(town)별 학생/교사 비율  \n",
    "B 1000(Bk-0.63)^2, 여기서 Bk는 자치시별 흑인의 비율을 말함  \n",
    "LSTAT 모집단의 하위계층의 비율(%)   \n",
    "\n",
    "#### 종속변수 (1 개)\n",
    "MEDV 본인 소유의 주택가격(중앙값) (단위: $1,000)  "
   ]
  },
  {
   "cell_type": "code",
   "execution_count": 27,
   "metadata": {
    "colab": {},
    "colab_type": "code",
    "id": "phPT7edHrTPW"
   },
   "outputs": [],
   "source": [
    "from sklearn.model_selection import train_test_split\n",
    "from sklearn.preprocessing import MinMaxScaler\n",
    "from sklearn.metrics import mean_squared_error, r2_score\n",
    "\n",
    "from tensorflow.keras.models import Sequential\n",
    "from tensorflow.keras.layers import Dense\n",
    "import pandas as pd\n",
    "import matplotlib.pyplot as plt\n",
    "import tensorflow as tf"
   ]
  },
  {
   "cell_type": "code",
   "execution_count": 28,
   "metadata": {
    "colab": {
     "base_uri": "https://localhost:8080/",
     "height": 198
    },
    "colab_type": "code",
    "id": "CLOt7W58rTPa",
    "outputId": "f632edd1-51ff-47d7-8de6-255fbe874e22"
   },
   "outputs": [],
   "source": [
    "df_boston = pd.read_csv(\"boston_house.csv\", index_col=0)\n",
    "boston = df_boston.drop('MEDV', axis=1)\n",
    "target = df_boston.pop('MEDV')"
   ]
  },
  {
   "cell_type": "code",
   "execution_count": 29,
   "metadata": {
    "colab": {},
    "colab_type": "code",
    "id": "dTar7PMprTPd"
   },
   "outputs": [],
   "source": [
    "X = boston.values\n",
    "y = target.values"
   ]
  },
  {
   "cell_type": "code",
   "execution_count": 30,
   "metadata": {
    "colab": {
     "base_uri": "https://localhost:8080/",
     "height": 35
    },
    "colab_type": "code",
    "id": "tjU7kLnRrTPg",
    "outputId": "4dd6c014-c002-4f6f-ec4f-14016fbd5382"
   },
   "outputs": [
    {
     "data": {
      "text/plain": [
       "array([24. , 21.6, 34.7, 33.4, 36.2, 28.7, 22.9, 27.1, 16.5, 18.9])"
      ]
     },
     "execution_count": 30,
     "metadata": {},
     "output_type": "execute_result"
    }
   ],
   "source": [
    "y[:10]"
   ]
  },
  {
   "cell_type": "code",
   "execution_count": 31,
   "metadata": {
    "colab": {
     "base_uri": "https://localhost:8080/",
     "height": 53
    },
    "colab_type": "code",
    "id": "T6CypJZVrTPj",
    "outputId": "1ac5c40e-8039-470b-fdd6-4811ec19d395"
   },
   "outputs": [
    {
     "name": "stdout",
     "output_type": "stream",
     "text": [
      "(506, 13)\n",
      "(506,)\n"
     ]
    }
   ],
   "source": [
    "print(X.shape)\n",
    "print(y.shape)"
   ]
  },
  {
   "cell_type": "code",
   "execution_count": 32,
   "metadata": {
    "colab": {},
    "colab_type": "code",
    "id": "4cgRCJrBrTPl"
   },
   "outputs": [
    {
     "data": {
      "text/plain": [
       "((379, 13), (127, 13), (379,), (127,))"
      ]
     },
     "execution_count": 32,
     "metadata": {},
     "output_type": "execute_result"
    }
   ],
   "source": [
    "X_train, X_test, y_train, y_test = train_test_split(X, y)\n",
    "X_train.shape, X_test.shape, y_train.shape, y_test.shape"
   ]
  },
  {
   "cell_type": "code",
   "execution_count": 33,
   "metadata": {
    "colab": {},
    "colab_type": "code",
    "id": "cMm9Wk5DrTPo"
   },
   "outputs": [],
   "source": [
    "sc = MinMaxScaler()\n",
    "X_train = sc.fit_transform(X_train)\n",
    "X_test  = sc.transform(X_test)"
   ]
  },
  {
   "cell_type": "markdown",
   "metadata": {
    "colab_type": "text",
    "id": "pLf27y9VrTPr"
   },
   "source": [
    "### model build"
   ]
  },
  {
   "cell_type": "code",
   "execution_count": 34,
   "metadata": {
    "colab": {},
    "colab_type": "code",
    "id": "1GPf5hWlrTPs"
   },
   "outputs": [],
   "source": [
    "model = Sequential()\n",
    "\n",
    "model.add(Dense(64, input_shape=(13,), activation='relu'))\n",
    "model.add(Dense(32, activation='relu'))\n",
    "model.add(Dense(1))"
   ]
  },
  {
   "cell_type": "code",
   "execution_count": 35,
   "metadata": {
    "colab": {},
    "colab_type": "code",
    "id": "g5NRN0k1rTPu"
   },
   "outputs": [],
   "source": [
    "model.compile(loss='mean_squared_error', optimizer='adam', \n",
    "              metrics=['mae', 'mse'])"
   ]
  },
  {
   "cell_type": "code",
   "execution_count": 36,
   "metadata": {},
   "outputs": [
    {
     "name": "stdout",
     "output_type": "stream",
     "text": [
      "Model: \"sequential_1\"\n",
      "_________________________________________________________________\n",
      " Layer (type)                Output Shape              Param #   \n",
      "=================================================================\n",
      " dense_3 (Dense)             (None, 64)                896       \n",
      "                                                                 \n",
      " dense_4 (Dense)             (None, 32)                2080      \n",
      "                                                                 \n",
      " dense_5 (Dense)             (None, 1)                 33        \n",
      "                                                                 \n",
      "=================================================================\n",
      "Total params: 3009 (11.75 KB)\n",
      "Trainable params: 3009 (11.75 KB)\n",
      "Non-trainable params: 0 (0.00 Byte)\n",
      "_________________________________________________________________\n"
     ]
    }
   ],
   "source": [
    "model.summary()"
   ]
  },
  {
   "cell_type": "markdown",
   "metadata": {
    "colab_type": "text",
    "id": "4nlJzIHwrTPy"
   },
   "source": [
    "- epoch 수와 batchz_size 변경하며 test"
   ]
  },
  {
   "cell_type": "code",
   "execution_count": 37,
   "metadata": {
    "colab": {
     "base_uri": "https://localhost:8080/",
     "height": 1000
    },
    "colab_type": "code",
    "id": "GiBonfIdrTPy",
    "outputId": "809d622a-d39f-481b-c12b-dae8d8226c17",
    "scrolled": true
   },
   "outputs": [
    {
     "name": "stdout",
     "output_type": "stream",
     "text": [
      "Epoch 1/500\n",
      "12/12 [==============================] - 0s 11ms/step - loss: 584.1790 - mae: 22.3857 - mse: 584.1790 - val_loss: 590.2112 - val_mae: 22.3456 - val_mse: 590.2112\n",
      "Epoch 2/500\n",
      "12/12 [==============================] - 0s 4ms/step - loss: 558.5334 - mae: 21.7956 - mse: 558.5334 - val_loss: 561.3457 - val_mae: 21.6833 - val_mse: 561.3457\n",
      "Epoch 3/500\n",
      "12/12 [==============================] - 0s 3ms/step - loss: 527.4417 - mae: 21.0627 - mse: 527.4417 - val_loss: 526.5532 - val_mae: 20.8446 - val_mse: 526.5532\n",
      "Epoch 4/500\n",
      "12/12 [==============================] - 0s 3ms/step - loss: 488.9519 - mae: 20.0876 - mse: 488.9519 - val_loss: 480.9487 - val_mae: 19.6681 - val_mse: 480.9487\n",
      "Epoch 5/500\n",
      "12/12 [==============================] - 0s 3ms/step - loss: 436.5801 - mae: 18.6978 - mse: 436.5801 - val_loss: 420.8056 - val_mae: 17.9691 - val_mse: 420.8056\n",
      "Epoch 6/500\n",
      "12/12 [==============================] - 0s 3ms/step - loss: 370.5331 - mae: 16.7685 - mse: 370.5331 - val_loss: 346.4344 - val_mae: 15.6603 - val_mse: 346.4344\n",
      "Epoch 7/500\n",
      "12/12 [==============================] - 0s 3ms/step - loss: 292.4507 - mae: 14.2579 - mse: 292.4507 - val_loss: 263.8882 - val_mae: 13.0389 - val_mse: 263.8882\n",
      "Epoch 8/500\n",
      "12/12 [==============================] - 0s 4ms/step - loss: 212.1123 - mae: 11.5995 - mse: 212.1123 - val_loss: 196.0818 - val_mae: 10.9289 - val_mse: 196.0818\n",
      "Epoch 9/500\n",
      "12/12 [==============================] - 0s 4ms/step - loss: 155.2656 - mae: 9.7641 - mse: 155.2656 - val_loss: 155.9302 - val_mae: 9.6220 - val_mse: 155.9302\n",
      "Epoch 10/500\n",
      "12/12 [==============================] - 0s 3ms/step - loss: 127.7986 - mae: 8.7670 - mse: 127.7986 - val_loss: 140.7828 - val_mae: 9.1673 - val_mse: 140.7828\n",
      "Epoch 11/500\n",
      "12/12 [==============================] - 0s 4ms/step - loss: 118.6662 - mae: 8.4695 - mse: 118.6662 - val_loss: 132.0496 - val_mae: 8.8507 - val_mse: 132.0496\n",
      "Epoch 12/500\n",
      "12/12 [==============================] - 0s 3ms/step - loss: 109.9516 - mae: 8.1104 - mse: 109.9516 - val_loss: 122.3634 - val_mae: 8.4285 - val_mse: 122.3634\n",
      "Epoch 13/500\n",
      "12/12 [==============================] - 0s 4ms/step - loss: 101.8866 - mae: 7.7211 - mse: 101.8866 - val_loss: 113.5831 - val_mae: 8.0316 - val_mse: 113.5831\n",
      "Epoch 14/500\n",
      "12/12 [==============================] - 0s 4ms/step - loss: 95.1087 - mae: 7.3736 - mse: 95.1087 - val_loss: 105.4459 - val_mae: 7.6402 - val_mse: 105.4459\n",
      "Epoch 15/500\n",
      "12/12 [==============================] - 0s 4ms/step - loss: 88.0753 - mae: 7.0405 - mse: 88.0753 - val_loss: 97.7024 - val_mae: 7.3196 - val_mse: 97.7024\n",
      "Epoch 16/500\n",
      "12/12 [==============================] - 0s 3ms/step - loss: 82.2405 - mae: 6.7775 - mse: 82.2405 - val_loss: 90.4530 - val_mae: 7.0230 - val_mse: 90.4530\n",
      "Epoch 17/500\n",
      "12/12 [==============================] - 0s 3ms/step - loss: 76.6535 - mae: 6.4948 - mse: 76.6535 - val_loss: 83.9894 - val_mae: 6.6898 - val_mse: 83.9894\n",
      "Epoch 18/500\n",
      "12/12 [==============================] - 0s 3ms/step - loss: 72.1111 - mae: 6.2845 - mse: 72.1111 - val_loss: 77.9210 - val_mae: 6.4454 - val_mse: 77.9210\n",
      "Epoch 19/500\n",
      "12/12 [==============================] - 0s 3ms/step - loss: 67.5514 - mae: 6.0262 - mse: 67.5514 - val_loss: 72.8268 - val_mae: 6.1631 - val_mse: 72.8268\n",
      "Epoch 20/500\n",
      "12/12 [==============================] - 0s 3ms/step - loss: 64.0744 - mae: 5.8149 - mse: 64.0744 - val_loss: 68.0517 - val_mae: 5.9340 - val_mse: 68.0517\n",
      "Epoch 21/500\n",
      "12/12 [==============================] - 0s 4ms/step - loss: 61.0455 - mae: 5.6739 - mse: 61.0455 - val_loss: 63.7620 - val_mae: 5.7803 - val_mse: 63.7620\n",
      "Epoch 22/500\n",
      "12/12 [==============================] - 0s 3ms/step - loss: 58.1893 - mae: 5.4984 - mse: 58.1893 - val_loss: 60.2075 - val_mae: 5.5801 - val_mse: 60.2075\n",
      "Epoch 23/500\n",
      "12/12 [==============================] - 0s 4ms/step - loss: 55.9797 - mae: 5.3101 - mse: 55.9797 - val_loss: 57.3130 - val_mae: 5.4122 - val_mse: 57.3130\n",
      "Epoch 24/500\n",
      "12/12 [==============================] - 0s 3ms/step - loss: 54.2760 - mae: 5.2615 - mse: 54.2760 - val_loss: 54.2694 - val_mae: 5.3385 - val_mse: 54.2694\n",
      "Epoch 25/500\n",
      "12/12 [==============================] - 0s 4ms/step - loss: 52.4426 - mae: 5.1075 - mse: 52.4426 - val_loss: 52.0857 - val_mae: 5.1455 - val_mse: 52.0857\n",
      "Epoch 26/500\n",
      "12/12 [==============================] - 0s 3ms/step - loss: 50.9494 - mae: 5.0095 - mse: 50.9494 - val_loss: 49.8300 - val_mae: 5.0668 - val_mse: 49.8300\n",
      "Epoch 27/500\n",
      "12/12 [==============================] - 0s 3ms/step - loss: 49.5555 - mae: 4.9729 - mse: 49.5555 - val_loss: 48.1666 - val_mae: 4.9951 - val_mse: 48.1666\n",
      "Epoch 28/500\n",
      "12/12 [==============================] - 0s 3ms/step - loss: 48.5618 - mae: 4.9542 - mse: 48.5618 - val_loss: 46.7923 - val_mae: 4.9535 - val_mse: 46.7923\n",
      "Epoch 29/500\n",
      "12/12 [==============================] - 0s 3ms/step - loss: 47.1094 - mae: 4.8402 - mse: 47.1094 - val_loss: 45.2113 - val_mae: 4.8179 - val_mse: 45.2113\n",
      "Epoch 30/500\n",
      "12/12 [==============================] - 0s 3ms/step - loss: 45.9255 - mae: 4.7381 - mse: 45.9255 - val_loss: 43.9763 - val_mae: 4.7755 - val_mse: 43.9763\n",
      "Epoch 31/500\n",
      "12/12 [==============================] - 0s 3ms/step - loss: 44.9880 - mae: 4.6984 - mse: 44.9880 - val_loss: 42.6549 - val_mae: 4.7137 - val_mse: 42.6549\n",
      "Epoch 32/500\n",
      "12/12 [==============================] - 0s 3ms/step - loss: 44.1210 - mae: 4.7556 - mse: 44.1210 - val_loss: 41.7465 - val_mae: 4.7667 - val_mse: 41.7465\n",
      "Epoch 33/500\n",
      "12/12 [==============================] - 0s 3ms/step - loss: 42.5936 - mae: 4.6401 - mse: 42.5936 - val_loss: 40.6908 - val_mae: 4.6037 - val_mse: 40.6908\n",
      "Epoch 34/500\n",
      "12/12 [==============================] - 0s 3ms/step - loss: 41.7267 - mae: 4.4696 - mse: 41.7267 - val_loss: 39.4014 - val_mae: 4.5647 - val_mse: 39.4014\n",
      "Epoch 35/500\n",
      "12/12 [==============================] - 0s 3ms/step - loss: 40.5772 - mae: 4.4906 - mse: 40.5772 - val_loss: 38.2264 - val_mae: 4.5497 - val_mse: 38.2264\n",
      "Epoch 36/500\n",
      "12/12 [==============================] - 0s 3ms/step - loss: 39.5100 - mae: 4.4155 - mse: 39.5100 - val_loss: 37.0979 - val_mae: 4.4759 - val_mse: 37.0979\n",
      "Epoch 37/500\n",
      "12/12 [==============================] - 0s 3ms/step - loss: 38.5482 - mae: 4.3598 - mse: 38.5482 - val_loss: 36.1010 - val_mae: 4.4376 - val_mse: 36.1010\n",
      "Epoch 38/500\n",
      "12/12 [==============================] - 0s 3ms/step - loss: 37.5549 - mae: 4.2825 - mse: 37.5549 - val_loss: 35.1879 - val_mae: 4.3834 - val_mse: 35.1879\n",
      "Epoch 39/500\n",
      "12/12 [==============================] - 0s 3ms/step - loss: 36.9034 - mae: 4.2757 - mse: 36.9034 - val_loss: 34.3364 - val_mae: 4.3776 - val_mse: 34.3364\n",
      "Epoch 40/500\n",
      "12/12 [==============================] - 0s 4ms/step - loss: 35.8319 - mae: 4.1558 - mse: 35.8319 - val_loss: 33.3180 - val_mae: 4.2579 - val_mse: 33.3180\n",
      "Epoch 41/500\n",
      "12/12 [==============================] - 0s 4ms/step - loss: 34.8422 - mae: 4.0922 - mse: 34.8422 - val_loss: 32.3023 - val_mae: 4.2502 - val_mse: 32.3023\n",
      "Epoch 42/500\n",
      "12/12 [==============================] - 0s 4ms/step - loss: 34.1449 - mae: 4.0902 - mse: 34.1449 - val_loss: 31.4650 - val_mae: 4.2145 - val_mse: 31.4650\n",
      "Epoch 43/500\n",
      "12/12 [==============================] - 0s 4ms/step - loss: 33.0874 - mae: 4.0321 - mse: 33.0874 - val_loss: 30.6057 - val_mae: 4.1319 - val_mse: 30.6057\n",
      "Epoch 44/500\n",
      "12/12 [==============================] - 0s 4ms/step - loss: 32.3999 - mae: 3.9133 - mse: 32.3999 - val_loss: 29.6779 - val_mae: 4.0776 - val_mse: 29.6779\n",
      "Epoch 45/500\n",
      "12/12 [==============================] - 0s 4ms/step - loss: 31.7814 - mae: 3.9671 - mse: 31.7814 - val_loss: 29.1751 - val_mae: 4.0833 - val_mse: 29.1751\n",
      "Epoch 46/500\n",
      "12/12 [==============================] - 0s 3ms/step - loss: 30.9896 - mae: 3.8462 - mse: 30.9896 - val_loss: 28.0819 - val_mae: 3.9732 - val_mse: 28.0819\n",
      "Epoch 47/500\n",
      "12/12 [==============================] - 0s 3ms/step - loss: 30.1725 - mae: 3.7779 - mse: 30.1725 - val_loss: 27.3714 - val_mae: 3.9357 - val_mse: 27.3714\n",
      "Epoch 48/500\n",
      "12/12 [==============================] - 0s 3ms/step - loss: 29.8379 - mae: 3.8134 - mse: 29.8379 - val_loss: 26.8121 - val_mae: 3.9187 - val_mse: 26.8121\n",
      "Epoch 49/500\n",
      "12/12 [==============================] - 0s 3ms/step - loss: 29.0621 - mae: 3.7527 - mse: 29.0621 - val_loss: 26.0260 - val_mae: 3.8675 - val_mse: 26.0260\n",
      "Epoch 50/500\n",
      "12/12 [==============================] - 0s 3ms/step - loss: 28.3272 - mae: 3.6799 - mse: 28.3272 - val_loss: 25.3005 - val_mae: 3.8042 - val_mse: 25.3005\n",
      "Epoch 51/500\n",
      "12/12 [==============================] - 0s 4ms/step - loss: 27.8510 - mae: 3.5915 - mse: 27.8510 - val_loss: 24.7426 - val_mae: 3.7528 - val_mse: 24.7426\n",
      "Epoch 52/500\n",
      "12/12 [==============================] - 0s 3ms/step - loss: 27.2233 - mae: 3.6130 - mse: 27.2233 - val_loss: 24.4609 - val_mae: 3.7757 - val_mse: 24.4609\n",
      "Epoch 53/500\n",
      "12/12 [==============================] - 0s 4ms/step - loss: 26.7736 - mae: 3.5687 - mse: 26.7736 - val_loss: 23.7246 - val_mae: 3.6907 - val_mse: 23.7246\n",
      "Epoch 54/500\n",
      "12/12 [==============================] - 0s 3ms/step - loss: 26.4817 - mae: 3.5382 - mse: 26.4817 - val_loss: 23.2507 - val_mae: 3.6650 - val_mse: 23.2507\n",
      "Epoch 55/500\n",
      "12/12 [==============================] - 0s 3ms/step - loss: 26.0648 - mae: 3.4349 - mse: 26.0648 - val_loss: 22.7536 - val_mae: 3.6305 - val_mse: 22.7536\n",
      "Epoch 56/500\n",
      "12/12 [==============================] - 0s 3ms/step - loss: 25.6773 - mae: 3.4980 - mse: 25.6773 - val_loss: 22.6237 - val_mae: 3.6549 - val_mse: 22.6237\n",
      "Epoch 57/500\n",
      "12/12 [==============================] - 0s 3ms/step - loss: 25.1793 - mae: 3.4050 - mse: 25.1793 - val_loss: 21.7310 - val_mae: 3.5526 - val_mse: 21.7310\n",
      "Epoch 58/500\n",
      "12/12 [==============================] - 0s 3ms/step - loss: 25.0491 - mae: 3.4310 - mse: 25.0491 - val_loss: 21.7735 - val_mae: 3.5984 - val_mse: 21.7735\n",
      "Epoch 59/500\n",
      "12/12 [==============================] - 0s 4ms/step - loss: 24.5972 - mae: 3.3401 - mse: 24.5972 - val_loss: 21.1285 - val_mae: 3.5075 - val_mse: 21.1285\n",
      "Epoch 60/500\n",
      "12/12 [==============================] - 0s 4ms/step - loss: 24.2978 - mae: 3.3227 - mse: 24.2978 - val_loss: 21.2151 - val_mae: 3.5788 - val_mse: 21.2151\n",
      "Epoch 61/500\n",
      "12/12 [==============================] - 0s 3ms/step - loss: 23.9867 - mae: 3.3233 - mse: 23.9867 - val_loss: 20.2285 - val_mae: 3.4633 - val_mse: 20.2285\n",
      "Epoch 62/500\n",
      "12/12 [==============================] - 0s 4ms/step - loss: 23.7523 - mae: 3.2726 - mse: 23.7523 - val_loss: 20.0603 - val_mae: 3.4572 - val_mse: 20.0603\n",
      "Epoch 63/500\n",
      "12/12 [==============================] - 0s 3ms/step - loss: 23.5648 - mae: 3.2658 - mse: 23.5648 - val_loss: 19.7865 - val_mae: 3.4333 - val_mse: 19.7865\n",
      "Epoch 64/500\n",
      "12/12 [==============================] - 0s 4ms/step - loss: 23.4086 - mae: 3.2459 - mse: 23.4086 - val_loss: 20.1167 - val_mae: 3.4934 - val_mse: 20.1167\n",
      "Epoch 65/500\n",
      "12/12 [==============================] - 0s 3ms/step - loss: 23.2718 - mae: 3.3005 - mse: 23.2718 - val_loss: 19.5240 - val_mae: 3.4029 - val_mse: 19.5240\n",
      "Epoch 66/500\n",
      "12/12 [==============================] - 0s 3ms/step - loss: 23.5792 - mae: 3.1907 - mse: 23.5792 - val_loss: 18.8006 - val_mae: 3.3460 - val_mse: 18.8006\n",
      "Epoch 67/500\n",
      "12/12 [==============================] - 0s 3ms/step - loss: 23.0998 - mae: 3.2787 - mse: 23.0998 - val_loss: 19.3849 - val_mae: 3.4456 - val_mse: 19.3849\n",
      "Epoch 68/500\n",
      "12/12 [==============================] - 0s 3ms/step - loss: 22.7246 - mae: 3.2493 - mse: 22.7246 - val_loss: 18.9830 - val_mae: 3.3799 - val_mse: 18.9830\n",
      "Epoch 69/500\n",
      "12/12 [==============================] - 0s 3ms/step - loss: 22.5938 - mae: 3.1629 - mse: 22.5938 - val_loss: 18.4829 - val_mae: 3.3093 - val_mse: 18.4829\n",
      "Epoch 70/500\n",
      "12/12 [==============================] - 0s 3ms/step - loss: 22.5921 - mae: 3.1893 - mse: 22.5921 - val_loss: 18.8501 - val_mae: 3.3981 - val_mse: 18.8501\n",
      "Epoch 71/500\n",
      "12/12 [==============================] - 0s 3ms/step - loss: 22.4465 - mae: 3.1729 - mse: 22.4465 - val_loss: 18.2431 - val_mae: 3.3267 - val_mse: 18.2431\n",
      "Epoch 72/500\n",
      "12/12 [==============================] - 0s 3ms/step - loss: 22.2390 - mae: 3.1791 - mse: 22.2390 - val_loss: 18.1332 - val_mae: 3.3227 - val_mse: 18.1332\n",
      "Epoch 73/500\n",
      "12/12 [==============================] - 0s 3ms/step - loss: 22.1431 - mae: 3.1851 - mse: 22.1431 - val_loss: 18.0135 - val_mae: 3.2964 - val_mse: 18.0135\n",
      "Epoch 74/500\n",
      "12/12 [==============================] - 0s 3ms/step - loss: 22.2217 - mae: 3.1841 - mse: 22.2217 - val_loss: 18.1296 - val_mae: 3.3198 - val_mse: 18.1296\n",
      "Epoch 75/500\n",
      "12/12 [==============================] - 0s 3ms/step - loss: 22.0925 - mae: 3.1134 - mse: 22.0925 - val_loss: 17.5331 - val_mae: 3.2434 - val_mse: 17.5331\n",
      "Epoch 76/500\n",
      "12/12 [==============================] - 0s 3ms/step - loss: 21.7308 - mae: 3.1528 - mse: 21.7308 - val_loss: 18.0207 - val_mae: 3.3512 - val_mse: 18.0207\n",
      "Epoch 77/500\n",
      "12/12 [==============================] - 0s 3ms/step - loss: 21.7280 - mae: 3.1772 - mse: 21.7280 - val_loss: 17.4627 - val_mae: 3.2339 - val_mse: 17.4627\n",
      "Epoch 78/500\n",
      "12/12 [==============================] - 0s 3ms/step - loss: 21.7166 - mae: 3.1317 - mse: 21.7166 - val_loss: 17.5599 - val_mae: 3.2778 - val_mse: 17.5599\n",
      "Epoch 79/500\n",
      "12/12 [==============================] - 0s 4ms/step - loss: 21.7312 - mae: 3.1110 - mse: 21.7312 - val_loss: 17.1789 - val_mae: 3.2423 - val_mse: 17.1789\n",
      "Epoch 80/500\n",
      "12/12 [==============================] - 0s 3ms/step - loss: 21.3829 - mae: 3.1181 - mse: 21.3829 - val_loss: 17.1882 - val_mae: 3.2606 - val_mse: 17.1882\n",
      "Epoch 81/500\n",
      "12/12 [==============================] - 0s 3ms/step - loss: 21.4109 - mae: 3.0977 - mse: 21.4109 - val_loss: 17.1235 - val_mae: 3.2266 - val_mse: 17.1235\n",
      "Epoch 82/500\n",
      "12/12 [==============================] - 0s 3ms/step - loss: 21.1773 - mae: 3.1141 - mse: 21.1773 - val_loss: 17.2902 - val_mae: 3.2659 - val_mse: 17.2902\n",
      "Epoch 83/500\n",
      "12/12 [==============================] - 0s 3ms/step - loss: 21.0966 - mae: 3.1067 - mse: 21.0966 - val_loss: 16.6307 - val_mae: 3.1669 - val_mse: 16.6307\n",
      "Epoch 84/500\n",
      "12/12 [==============================] - 0s 3ms/step - loss: 21.2814 - mae: 3.0940 - mse: 21.2814 - val_loss: 16.5657 - val_mae: 3.1411 - val_mse: 16.5657\n",
      "Epoch 85/500\n",
      "12/12 [==============================] - 0s 3ms/step - loss: 20.9089 - mae: 3.0373 - mse: 20.9089 - val_loss: 16.9578 - val_mae: 3.2522 - val_mse: 16.9578\n",
      "Epoch 86/500\n",
      "12/12 [==============================] - 0s 3ms/step - loss: 20.9161 - mae: 3.1111 - mse: 20.9161 - val_loss: 16.5859 - val_mae: 3.1893 - val_mse: 16.5859\n",
      "Epoch 87/500\n",
      "12/12 [==============================] - 0s 3ms/step - loss: 20.8651 - mae: 3.0684 - mse: 20.8651 - val_loss: 16.3269 - val_mae: 3.1301 - val_mse: 16.3269\n",
      "Epoch 88/500\n",
      "12/12 [==============================] - 0s 3ms/step - loss: 20.7490 - mae: 3.0204 - mse: 20.7490 - val_loss: 16.4630 - val_mae: 3.1877 - val_mse: 16.4630\n",
      "Epoch 89/500\n",
      "12/12 [==============================] - 0s 3ms/step - loss: 20.7098 - mae: 3.0276 - mse: 20.7098 - val_loss: 16.2611 - val_mae: 3.1487 - val_mse: 16.2611\n",
      "Epoch 90/500\n",
      "12/12 [==============================] - 0s 3ms/step - loss: 20.5753 - mae: 3.0802 - mse: 20.5753 - val_loss: 16.4802 - val_mae: 3.2027 - val_mse: 16.4802\n",
      "Epoch 91/500\n",
      "12/12 [==============================] - 0s 3ms/step - loss: 20.6241 - mae: 3.0304 - mse: 20.6241 - val_loss: 16.2721 - val_mae: 3.1505 - val_mse: 16.2721\n",
      "Epoch 92/500\n",
      "12/12 [==============================] - 0s 3ms/step - loss: 20.4456 - mae: 3.0145 - mse: 20.4456 - val_loss: 16.3414 - val_mae: 3.1718 - val_mse: 16.3414\n",
      "Epoch 93/500\n",
      "12/12 [==============================] - 0s 3ms/step - loss: 20.5085 - mae: 3.0355 - mse: 20.5085 - val_loss: 15.8837 - val_mae: 3.1107 - val_mse: 15.8837\n",
      "Epoch 94/500\n",
      "12/12 [==============================] - 0s 3ms/step - loss: 20.2859 - mae: 3.0448 - mse: 20.2859 - val_loss: 15.9459 - val_mae: 3.1323 - val_mse: 15.9459\n",
      "Epoch 95/500\n",
      "12/12 [==============================] - 0s 3ms/step - loss: 20.6739 - mae: 3.0196 - mse: 20.6739 - val_loss: 15.8974 - val_mae: 3.1189 - val_mse: 15.8974\n",
      "Epoch 96/500\n",
      "12/12 [==============================] - 0s 3ms/step - loss: 21.0042 - mae: 3.2272 - mse: 21.0042 - val_loss: 15.9832 - val_mae: 3.1140 - val_mse: 15.9832\n",
      "Epoch 97/500\n",
      "12/12 [==============================] - 0s 3ms/step - loss: 21.0124 - mae: 3.0319 - mse: 21.0124 - val_loss: 15.2863 - val_mae: 3.0195 - val_mse: 15.2863\n"
     ]
    },
    {
     "name": "stdout",
     "output_type": "stream",
     "text": [
      "Epoch 98/500\n",
      "12/12 [==============================] - 0s 3ms/step - loss: 20.5662 - mae: 3.1413 - mse: 20.5662 - val_loss: 15.9104 - val_mae: 3.1549 - val_mse: 15.9104\n",
      "Epoch 99/500\n",
      "12/12 [==============================] - 0s 4ms/step - loss: 19.9434 - mae: 2.9859 - mse: 19.9434 - val_loss: 15.3268 - val_mae: 3.0206 - val_mse: 15.3268\n",
      "Epoch 100/500\n",
      "12/12 [==============================] - 0s 3ms/step - loss: 19.7363 - mae: 2.9483 - mse: 19.7363 - val_loss: 15.9350 - val_mae: 3.1488 - val_mse: 15.9350\n",
      "Epoch 101/500\n",
      "12/12 [==============================] - 0s 3ms/step - loss: 19.8396 - mae: 3.0210 - mse: 19.8396 - val_loss: 15.2117 - val_mae: 3.0434 - val_mse: 15.2117\n",
      "Epoch 102/500\n",
      "12/12 [==============================] - 0s 3ms/step - loss: 19.6493 - mae: 2.9505 - mse: 19.6493 - val_loss: 15.2214 - val_mae: 3.0464 - val_mse: 15.2214\n",
      "Epoch 103/500\n",
      "12/12 [==============================] - 0s 3ms/step - loss: 19.5646 - mae: 2.9713 - mse: 19.5646 - val_loss: 15.3839 - val_mae: 3.0732 - val_mse: 15.3839\n",
      "Epoch 104/500\n",
      "12/12 [==============================] - 0s 3ms/step - loss: 19.6100 - mae: 2.9874 - mse: 19.6100 - val_loss: 14.9959 - val_mae: 2.9931 - val_mse: 14.9959\n",
      "Epoch 105/500\n",
      "12/12 [==============================] - 0s 3ms/step - loss: 19.4439 - mae: 2.9202 - mse: 19.4439 - val_loss: 15.0462 - val_mae: 3.0275 - val_mse: 15.0462\n",
      "Epoch 106/500\n",
      "12/12 [==============================] - 0s 3ms/step - loss: 19.4155 - mae: 2.9766 - mse: 19.4155 - val_loss: 15.3364 - val_mae: 3.0590 - val_mse: 15.3364\n",
      "Epoch 107/500\n",
      "12/12 [==============================] - 0s 3ms/step - loss: 19.3653 - mae: 2.9236 - mse: 19.3653 - val_loss: 15.0377 - val_mae: 3.0306 - val_mse: 15.0377\n",
      "Epoch 108/500\n",
      "12/12 [==============================] - 0s 3ms/step - loss: 19.3085 - mae: 2.9765 - mse: 19.3085 - val_loss: 15.0056 - val_mae: 3.0449 - val_mse: 15.0056\n",
      "Epoch 109/500\n",
      "12/12 [==============================] - 0s 3ms/step - loss: 19.4975 - mae: 2.9022 - mse: 19.4975 - val_loss: 14.7712 - val_mae: 2.9908 - val_mse: 14.7712\n",
      "Epoch 110/500\n",
      "12/12 [==============================] - 0s 3ms/step - loss: 19.4915 - mae: 3.0401 - mse: 19.4915 - val_loss: 15.1573 - val_mae: 3.0560 - val_mse: 15.1573\n",
      "Epoch 111/500\n",
      "12/12 [==============================] - 0s 3ms/step - loss: 19.0835 - mae: 2.9082 - mse: 19.0835 - val_loss: 14.6389 - val_mae: 2.9687 - val_mse: 14.6389\n",
      "Epoch 112/500\n",
      "12/12 [==============================] - 0s 3ms/step - loss: 19.0231 - mae: 2.8874 - mse: 19.0231 - val_loss: 14.9353 - val_mae: 3.0491 - val_mse: 14.9353\n",
      "Epoch 113/500\n",
      "12/12 [==============================] - 0s 3ms/step - loss: 18.9396 - mae: 2.9240 - mse: 18.9396 - val_loss: 14.5538 - val_mae: 2.9810 - val_mse: 14.5538\n",
      "Epoch 114/500\n",
      "12/12 [==============================] - 0s 3ms/step - loss: 18.8302 - mae: 2.8838 - mse: 18.8302 - val_loss: 14.4346 - val_mae: 2.9312 - val_mse: 14.4346\n",
      "Epoch 115/500\n",
      "12/12 [==============================] - 0s 3ms/step - loss: 18.7477 - mae: 2.8866 - mse: 18.7477 - val_loss: 14.8891 - val_mae: 3.0475 - val_mse: 14.8891\n",
      "Epoch 116/500\n",
      "12/12 [==============================] - 0s 3ms/step - loss: 18.8379 - mae: 2.8815 - mse: 18.8379 - val_loss: 14.4705 - val_mae: 2.9623 - val_mse: 14.4705\n",
      "Epoch 117/500\n",
      "12/12 [==============================] - 0s 3ms/step - loss: 18.6369 - mae: 2.9087 - mse: 18.6369 - val_loss: 14.4428 - val_mae: 2.9689 - val_mse: 14.4428\n",
      "Epoch 118/500\n",
      "12/12 [==============================] - 0s 3ms/step - loss: 18.5919 - mae: 2.8516 - mse: 18.5919 - val_loss: 14.3766 - val_mae: 2.9615 - val_mse: 14.3766\n",
      "Epoch 119/500\n",
      "12/12 [==============================] - 0s 4ms/step - loss: 18.4877 - mae: 2.8800 - mse: 18.4877 - val_loss: 14.3699 - val_mae: 2.9731 - val_mse: 14.3699\n",
      "Epoch 120/500\n",
      "12/12 [==============================] - 0s 3ms/step - loss: 18.3989 - mae: 2.8486 - mse: 18.3989 - val_loss: 14.2119 - val_mae: 2.9319 - val_mse: 14.2119\n",
      "Epoch 121/500\n",
      "12/12 [==============================] - 0s 3ms/step - loss: 18.3206 - mae: 2.8541 - mse: 18.3206 - val_loss: 14.2338 - val_mae: 2.9500 - val_mse: 14.2338\n",
      "Epoch 122/500\n",
      "12/12 [==============================] - 0s 3ms/step - loss: 18.3834 - mae: 2.8461 - mse: 18.3834 - val_loss: 14.1001 - val_mae: 2.9275 - val_mse: 14.1001\n",
      "Epoch 123/500\n",
      "12/12 [==============================] - 0s 4ms/step - loss: 18.2286 - mae: 2.8690 - mse: 18.2286 - val_loss: 14.1141 - val_mae: 2.9342 - val_mse: 14.1141\n",
      "Epoch 124/500\n",
      "12/12 [==============================] - 0s 3ms/step - loss: 18.2051 - mae: 2.8355 - mse: 18.2051 - val_loss: 13.8390 - val_mae: 2.8803 - val_mse: 13.8390\n",
      "Epoch 125/500\n",
      "12/12 [==============================] - 0s 3ms/step - loss: 18.0076 - mae: 2.8292 - mse: 18.0076 - val_loss: 14.2403 - val_mae: 2.9649 - val_mse: 14.2403\n",
      "Epoch 126/500\n",
      "12/12 [==============================] - 0s 3ms/step - loss: 17.9892 - mae: 2.8255 - mse: 17.9892 - val_loss: 13.7234 - val_mae: 2.8591 - val_mse: 13.7234\n",
      "Epoch 127/500\n",
      "12/12 [==============================] - 0s 3ms/step - loss: 18.0161 - mae: 2.7829 - mse: 18.0161 - val_loss: 13.7699 - val_mae: 2.9039 - val_mse: 13.7699\n",
      "Epoch 128/500\n",
      "12/12 [==============================] - 0s 4ms/step - loss: 18.0009 - mae: 2.8637 - mse: 18.0009 - val_loss: 13.7505 - val_mae: 2.8821 - val_mse: 13.7505\n",
      "Epoch 129/500\n",
      "12/12 [==============================] - 0s 3ms/step - loss: 17.7786 - mae: 2.7860 - mse: 17.7786 - val_loss: 13.5863 - val_mae: 2.8785 - val_mse: 13.5863\n",
      "Epoch 130/500\n",
      "12/12 [==============================] - 0s 3ms/step - loss: 17.7728 - mae: 2.8073 - mse: 17.7728 - val_loss: 13.5164 - val_mae: 2.8488 - val_mse: 13.5164\n",
      "Epoch 131/500\n",
      "12/12 [==============================] - 0s 3ms/step - loss: 17.7096 - mae: 2.8193 - mse: 17.7096 - val_loss: 13.5537 - val_mae: 2.8581 - val_mse: 13.5537\n",
      "Epoch 132/500\n",
      "12/12 [==============================] - 0s 3ms/step - loss: 17.5902 - mae: 2.7652 - mse: 17.5902 - val_loss: 13.3963 - val_mae: 2.8547 - val_mse: 13.3963\n",
      "Epoch 133/500\n",
      "12/12 [==============================] - 0s 3ms/step - loss: 18.0680 - mae: 2.8730 - mse: 18.0680 - val_loss: 13.2655 - val_mae: 2.7783 - val_mse: 13.2655\n",
      "Epoch 134/500\n",
      "12/12 [==============================] - 0s 3ms/step - loss: 17.9311 - mae: 2.7698 - mse: 17.9311 - val_loss: 13.8073 - val_mae: 2.9575 - val_mse: 13.8073\n",
      "Epoch 135/500\n",
      "12/12 [==============================] - 0s 3ms/step - loss: 17.6604 - mae: 2.8935 - mse: 17.6604 - val_loss: 13.1399 - val_mae: 2.7873 - val_mse: 13.1399\n",
      "Epoch 136/500\n",
      "12/12 [==============================] - 0s 3ms/step - loss: 17.9598 - mae: 2.7759 - mse: 17.9598 - val_loss: 13.8442 - val_mae: 2.9487 - val_mse: 13.8442\n",
      "Epoch 137/500\n",
      "12/12 [==============================] - 0s 3ms/step - loss: 17.5934 - mae: 2.7663 - mse: 17.5934 - val_loss: 12.9910 - val_mae: 2.7848 - val_mse: 12.9910\n",
      "Epoch 138/500\n",
      "12/12 [==============================] - 0s 3ms/step - loss: 17.0916 - mae: 2.7334 - mse: 17.0916 - val_loss: 13.4045 - val_mae: 2.8689 - val_mse: 13.4045\n",
      "Epoch 139/500\n",
      "12/12 [==============================] - 0s 3ms/step - loss: 17.1567 - mae: 2.7770 - mse: 17.1567 - val_loss: 13.1164 - val_mae: 2.8185 - val_mse: 13.1164\n",
      "Epoch 140/500\n",
      "12/12 [==============================] - 0s 3ms/step - loss: 17.0720 - mae: 2.7546 - mse: 17.0720 - val_loss: 12.9313 - val_mae: 2.7659 - val_mse: 12.9313\n",
      "Epoch 141/500\n",
      "12/12 [==============================] - 0s 3ms/step - loss: 17.2070 - mae: 2.6976 - mse: 17.2070 - val_loss: 12.9547 - val_mae: 2.8143 - val_mse: 12.9547\n",
      "Epoch 142/500\n",
      "12/12 [==============================] - 0s 3ms/step - loss: 17.1914 - mae: 2.8306 - mse: 17.1914 - val_loss: 12.9693 - val_mae: 2.7973 - val_mse: 12.9693\n",
      "Epoch 143/500\n",
      "12/12 [==============================] - 0s 3ms/step - loss: 17.1005 - mae: 2.7087 - mse: 17.1005 - val_loss: 12.9633 - val_mae: 2.8013 - val_mse: 12.9633\n",
      "Epoch 144/500\n",
      "12/12 [==============================] - 0s 3ms/step - loss: 16.9827 - mae: 2.7770 - mse: 16.9827 - val_loss: 12.9841 - val_mae: 2.8076 - val_mse: 12.9841\n",
      "Epoch 145/500\n",
      "12/12 [==============================] - 0s 3ms/step - loss: 16.7431 - mae: 2.6935 - mse: 16.7431 - val_loss: 12.6943 - val_mae: 2.7443 - val_mse: 12.6943\n",
      "Epoch 146/500\n",
      "12/12 [==============================] - 0s 3ms/step - loss: 16.6554 - mae: 2.6786 - mse: 16.6554 - val_loss: 12.9250 - val_mae: 2.8288 - val_mse: 12.9250\n",
      "Epoch 147/500\n",
      "12/12 [==============================] - 0s 3ms/step - loss: 16.7537 - mae: 2.7386 - mse: 16.7537 - val_loss: 12.5986 - val_mae: 2.7167 - val_mse: 12.5986\n",
      "Epoch 148/500\n",
      "12/12 [==============================] - 0s 3ms/step - loss: 16.7115 - mae: 2.6693 - mse: 16.7115 - val_loss: 12.7119 - val_mae: 2.8051 - val_mse: 12.7119\n",
      "Epoch 149/500\n",
      "12/12 [==============================] - 0s 4ms/step - loss: 16.5751 - mae: 2.7360 - mse: 16.5751 - val_loss: 12.7159 - val_mae: 2.7954 - val_mse: 12.7159\n",
      "Epoch 150/500\n",
      "12/12 [==============================] - 0s 3ms/step - loss: 16.4493 - mae: 2.6810 - mse: 16.4493 - val_loss: 12.6093 - val_mae: 2.7460 - val_mse: 12.6093\n",
      "Epoch 151/500\n",
      "12/12 [==============================] - 0s 3ms/step - loss: 16.3291 - mae: 2.6665 - mse: 16.3291 - val_loss: 12.5922 - val_mae: 2.7491 - val_mse: 12.5922\n",
      "Epoch 152/500\n",
      "12/12 [==============================] - 0s 3ms/step - loss: 16.2556 - mae: 2.6730 - mse: 16.2556 - val_loss: 12.4136 - val_mae: 2.7366 - val_mse: 12.4136\n",
      "Epoch 153/500\n",
      "12/12 [==============================] - 0s 3ms/step - loss: 16.2378 - mae: 2.6544 - mse: 16.2378 - val_loss: 12.2876 - val_mae: 2.7322 - val_mse: 12.2876\n",
      "Epoch 154/500\n",
      "12/12 [==============================] - 0s 4ms/step - loss: 16.1366 - mae: 2.6823 - mse: 16.1366 - val_loss: 12.5126 - val_mae: 2.7715 - val_mse: 12.5126\n",
      "Epoch 155/500\n",
      "12/12 [==============================] - 0s 4ms/step - loss: 16.0756 - mae: 2.6604 - mse: 16.0756 - val_loss: 12.1680 - val_mae: 2.6567 - val_mse: 12.1680\n",
      "Epoch 156/500\n",
      "12/12 [==============================] - 0s 4ms/step - loss: 16.1605 - mae: 2.6278 - mse: 16.1605 - val_loss: 12.6397 - val_mae: 2.8131 - val_mse: 12.6397\n",
      "Epoch 157/500\n",
      "12/12 [==============================] - 0s 4ms/step - loss: 16.0314 - mae: 2.6669 - mse: 16.0314 - val_loss: 12.1436 - val_mae: 2.7158 - val_mse: 12.1436\n",
      "Epoch 158/500\n",
      "12/12 [==============================] - 0s 3ms/step - loss: 15.9743 - mae: 2.6069 - mse: 15.9743 - val_loss: 12.2200 - val_mae: 2.7076 - val_mse: 12.2200\n",
      "Epoch 159/500\n",
      "12/12 [==============================] - 0s 3ms/step - loss: 16.0216 - mae: 2.6700 - mse: 16.0216 - val_loss: 11.9323 - val_mae: 2.6591 - val_mse: 11.9323\n",
      "Epoch 160/500\n",
      "12/12 [==============================] - 0s 4ms/step - loss: 15.8323 - mae: 2.6049 - mse: 15.8323 - val_loss: 12.0910 - val_mae: 2.7038 - val_mse: 12.0910\n",
      "Epoch 161/500\n",
      "12/12 [==============================] - 0s 3ms/step - loss: 16.0496 - mae: 2.7001 - mse: 16.0496 - val_loss: 11.9746 - val_mae: 2.6481 - val_mse: 11.9746\n",
      "Epoch 162/500\n",
      "12/12 [==============================] - 0s 3ms/step - loss: 15.8116 - mae: 2.6189 - mse: 15.8116 - val_loss: 12.0528 - val_mae: 2.7105 - val_mse: 12.0528\n",
      "Epoch 163/500\n",
      "12/12 [==============================] - 0s 3ms/step - loss: 15.6147 - mae: 2.5833 - mse: 15.6147 - val_loss: 11.7324 - val_mae: 2.6353 - val_mse: 11.7324\n",
      "Epoch 164/500\n",
      "12/12 [==============================] - 0s 4ms/step - loss: 15.7432 - mae: 2.5859 - mse: 15.7432 - val_loss: 12.2110 - val_mae: 2.7717 - val_mse: 12.2110\n",
      "Epoch 165/500\n",
      "12/12 [==============================] - 0s 3ms/step - loss: 15.6459 - mae: 2.6443 - mse: 15.6459 - val_loss: 11.7825 - val_mae: 2.6261 - val_mse: 11.7825\n",
      "Epoch 166/500\n",
      "12/12 [==============================] - 0s 3ms/step - loss: 15.5265 - mae: 2.5704 - mse: 15.5265 - val_loss: 11.9444 - val_mae: 2.7194 - val_mse: 11.9444\n",
      "Epoch 167/500\n",
      "12/12 [==============================] - 0s 3ms/step - loss: 15.5605 - mae: 2.6580 - mse: 15.5605 - val_loss: 12.0603 - val_mae: 2.7114 - val_mse: 12.0603\n",
      "Epoch 168/500\n",
      "12/12 [==============================] - 0s 3ms/step - loss: 15.3637 - mae: 2.5689 - mse: 15.3637 - val_loss: 11.6834 - val_mae: 2.6353 - val_mse: 11.6834\n",
      "Epoch 169/500\n",
      "12/12 [==============================] - 0s 4ms/step - loss: 15.2328 - mae: 2.5585 - mse: 15.2328 - val_loss: 11.6596 - val_mae: 2.6428 - val_mse: 11.6596\n",
      "Epoch 170/500\n",
      "12/12 [==============================] - 0s 4ms/step - loss: 15.3971 - mae: 2.6082 - mse: 15.3971 - val_loss: 11.7659 - val_mae: 2.6471 - val_mse: 11.7659\n",
      "Epoch 171/500\n",
      "12/12 [==============================] - 0s 4ms/step - loss: 15.2429 - mae: 2.5432 - mse: 15.2429 - val_loss: 11.5638 - val_mae: 2.6251 - val_mse: 11.5638\n",
      "Epoch 172/500\n",
      "12/12 [==============================] - 0s 4ms/step - loss: 15.0498 - mae: 2.5859 - mse: 15.0498 - val_loss: 11.5385 - val_mae: 2.6358 - val_mse: 11.5385\n",
      "Epoch 173/500\n",
      "12/12 [==============================] - 0s 3ms/step - loss: 15.0962 - mae: 2.5387 - mse: 15.0962 - val_loss: 11.6464 - val_mae: 2.6533 - val_mse: 11.6464\n",
      "Epoch 174/500\n",
      "12/12 [==============================] - 0s 3ms/step - loss: 15.1645 - mae: 2.6211 - mse: 15.1645 - val_loss: 11.2870 - val_mae: 2.5378 - val_mse: 11.2870\n",
      "Epoch 175/500\n",
      "12/12 [==============================] - 0s 3ms/step - loss: 15.5354 - mae: 2.5821 - mse: 15.5354 - val_loss: 11.9199 - val_mae: 2.7482 - val_mse: 11.9199\n",
      "Epoch 176/500\n",
      "12/12 [==============================] - 0s 3ms/step - loss: 15.0853 - mae: 2.5470 - mse: 15.0853 - val_loss: 11.1630 - val_mae: 2.5368 - val_mse: 11.1630\n",
      "Epoch 177/500\n",
      "12/12 [==============================] - 0s 4ms/step - loss: 14.8314 - mae: 2.5565 - mse: 14.8314 - val_loss: 11.7696 - val_mae: 2.7191 - val_mse: 11.7696\n",
      "Epoch 178/500\n",
      "12/12 [==============================] - 0s 3ms/step - loss: 14.8717 - mae: 2.5229 - mse: 14.8717 - val_loss: 11.3004 - val_mae: 2.5832 - val_mse: 11.3004\n",
      "Epoch 179/500\n",
      "12/12 [==============================] - 0s 4ms/step - loss: 14.7116 - mae: 2.5533 - mse: 14.7116 - val_loss: 11.2472 - val_mae: 2.5959 - val_mse: 11.2472\n",
      "Epoch 180/500\n",
      "12/12 [==============================] - 0s 4ms/step - loss: 14.6252 - mae: 2.4992 - mse: 14.6252 - val_loss: 11.2663 - val_mae: 2.6000 - val_mse: 11.2663\n",
      "Epoch 181/500\n",
      "12/12 [==============================] - 0s 4ms/step - loss: 14.8344 - mae: 2.5107 - mse: 14.8344 - val_loss: 11.7250 - val_mae: 2.7079 - val_mse: 11.7250\n",
      "Epoch 182/500\n",
      "12/12 [==============================] - 0s 4ms/step - loss: 14.5559 - mae: 2.5077 - mse: 14.5559 - val_loss: 11.1796 - val_mae: 2.5959 - val_mse: 11.1796\n",
      "Epoch 183/500\n",
      "12/12 [==============================] - 0s 3ms/step - loss: 14.4664 - mae: 2.5029 - mse: 14.4664 - val_loss: 11.1933 - val_mae: 2.5952 - val_mse: 11.1933\n",
      "Epoch 184/500\n",
      "12/12 [==============================] - 0s 3ms/step - loss: 14.3111 - mae: 2.4838 - mse: 14.3111 - val_loss: 10.9767 - val_mae: 2.5385 - val_mse: 10.9767\n",
      "Epoch 185/500\n",
      "12/12 [==============================] - 0s 3ms/step - loss: 14.2839 - mae: 2.4782 - mse: 14.2839 - val_loss: 11.0358 - val_mae: 2.5714 - val_mse: 11.0358\n",
      "Epoch 186/500\n",
      "12/12 [==============================] - 0s 3ms/step - loss: 14.2808 - mae: 2.5058 - mse: 14.2808 - val_loss: 10.9866 - val_mae: 2.5477 - val_mse: 10.9866\n",
      "Epoch 187/500\n",
      "12/12 [==============================] - 0s 3ms/step - loss: 14.1303 - mae: 2.4645 - mse: 14.1303 - val_loss: 11.0445 - val_mae: 2.5777 - val_mse: 11.0445\n",
      "Epoch 188/500\n",
      "12/12 [==============================] - 0s 3ms/step - loss: 14.1016 - mae: 2.4723 - mse: 14.1016 - val_loss: 10.7043 - val_mae: 2.5103 - val_mse: 10.7043\n",
      "Epoch 189/500\n",
      "12/12 [==============================] - 0s 4ms/step - loss: 14.2454 - mae: 2.4779 - mse: 14.2454 - val_loss: 10.8393 - val_mae: 2.5199 - val_mse: 10.8393\n",
      "Epoch 190/500\n",
      "12/12 [==============================] - 0s 3ms/step - loss: 14.1023 - mae: 2.4642 - mse: 14.1023 - val_loss: 10.7966 - val_mae: 2.5196 - val_mse: 10.7966\n",
      "Epoch 191/500\n",
      "12/12 [==============================] - 0s 4ms/step - loss: 14.2542 - mae: 2.4542 - mse: 14.2542 - val_loss: 11.0975 - val_mae: 2.6318 - val_mse: 11.0975\n",
      "Epoch 192/500\n",
      "12/12 [==============================] - 0s 3ms/step - loss: 14.1428 - mae: 2.5097 - mse: 14.1428 - val_loss: 10.6793 - val_mae: 2.5154 - val_mse: 10.6793\n",
      "Epoch 193/500\n",
      "12/12 [==============================] - 0s 3ms/step - loss: 13.7327 - mae: 2.4461 - mse: 13.7327 - val_loss: 11.0094 - val_mae: 2.5905 - val_mse: 11.0094\n",
      "Epoch 194/500\n"
     ]
    },
    {
     "name": "stdout",
     "output_type": "stream",
     "text": [
      "12/12 [==============================] - 0s 4ms/step - loss: 13.7385 - mae: 2.4623 - mse: 13.7385 - val_loss: 10.7012 - val_mae: 2.4978 - val_mse: 10.7012\n",
      "Epoch 195/500\n",
      "12/12 [==============================] - 0s 4ms/step - loss: 13.8976 - mae: 2.4494 - mse: 13.8976 - val_loss: 10.7095 - val_mae: 2.5343 - val_mse: 10.7095\n",
      "Epoch 196/500\n",
      "12/12 [==============================] - 0s 3ms/step - loss: 13.6373 - mae: 2.4142 - mse: 13.6373 - val_loss: 10.4831 - val_mae: 2.4854 - val_mse: 10.4831\n",
      "Epoch 197/500\n",
      "12/12 [==============================] - 0s 4ms/step - loss: 13.5479 - mae: 2.4033 - mse: 13.5479 - val_loss: 10.6853 - val_mae: 2.5382 - val_mse: 10.6853\n",
      "Epoch 198/500\n",
      "12/12 [==============================] - 0s 3ms/step - loss: 13.5802 - mae: 2.4743 - mse: 13.5802 - val_loss: 10.4911 - val_mae: 2.4930 - val_mse: 10.4911\n",
      "Epoch 199/500\n",
      "12/12 [==============================] - 0s 3ms/step - loss: 13.7719 - mae: 2.4104 - mse: 13.7719 - val_loss: 10.9856 - val_mae: 2.5774 - val_mse: 10.9856\n",
      "Epoch 200/500\n",
      "12/12 [==============================] - 0s 3ms/step - loss: 13.6128 - mae: 2.4313 - mse: 13.6128 - val_loss: 10.8349 - val_mae: 2.5698 - val_mse: 10.8349\n",
      "Epoch 201/500\n",
      "12/12 [==============================] - 0s 4ms/step - loss: 13.4530 - mae: 2.4679 - mse: 13.4530 - val_loss: 10.2594 - val_mae: 2.4314 - val_mse: 10.2594\n",
      "Epoch 202/500\n",
      "12/12 [==============================] - 0s 3ms/step - loss: 13.9429 - mae: 2.4612 - mse: 13.9429 - val_loss: 11.0370 - val_mae: 2.6386 - val_mse: 11.0370\n",
      "Epoch 203/500\n",
      "12/12 [==============================] - 0s 4ms/step - loss: 13.4000 - mae: 2.4508 - mse: 13.4000 - val_loss: 10.2983 - val_mae: 2.4378 - val_mse: 10.2983\n",
      "Epoch 204/500\n",
      "12/12 [==============================] - 0s 3ms/step - loss: 13.3573 - mae: 2.4208 - mse: 13.3573 - val_loss: 10.4291 - val_mae: 2.4945 - val_mse: 10.4291\n",
      "Epoch 205/500\n",
      "12/12 [==============================] - 0s 3ms/step - loss: 13.1761 - mae: 2.3705 - mse: 13.1761 - val_loss: 10.2930 - val_mae: 2.4822 - val_mse: 10.2930\n",
      "Epoch 206/500\n",
      "12/12 [==============================] - 0s 3ms/step - loss: 13.1309 - mae: 2.3817 - mse: 13.1309 - val_loss: 10.4256 - val_mae: 2.5121 - val_mse: 10.4256\n",
      "Epoch 207/500\n",
      "12/12 [==============================] - 0s 3ms/step - loss: 13.2152 - mae: 2.4082 - mse: 13.2152 - val_loss: 10.2547 - val_mae: 2.4592 - val_mse: 10.2547\n",
      "Epoch 208/500\n",
      "12/12 [==============================] - 0s 3ms/step - loss: 13.0793 - mae: 2.3949 - mse: 13.0793 - val_loss: 10.3250 - val_mae: 2.4837 - val_mse: 10.3250\n",
      "Epoch 209/500\n",
      "12/12 [==============================] - 0s 3ms/step - loss: 13.0007 - mae: 2.3744 - mse: 13.0007 - val_loss: 10.2456 - val_mae: 2.4783 - val_mse: 10.2456\n",
      "Epoch 210/500\n",
      "12/12 [==============================] - 0s 3ms/step - loss: 13.1215 - mae: 2.3862 - mse: 13.1215 - val_loss: 10.4448 - val_mae: 2.5309 - val_mse: 10.4448\n",
      "Epoch 211/500\n",
      "12/12 [==============================] - 0s 3ms/step - loss: 12.8684 - mae: 2.3759 - mse: 12.8684 - val_loss: 10.0473 - val_mae: 2.3902 - val_mse: 10.0473\n",
      "Epoch 212/500\n",
      "12/12 [==============================] - 0s 4ms/step - loss: 13.0215 - mae: 2.3932 - mse: 13.0215 - val_loss: 10.2085 - val_mae: 2.4744 - val_mse: 10.2085\n",
      "Epoch 213/500\n",
      "12/12 [==============================] - 0s 4ms/step - loss: 12.7980 - mae: 2.3590 - mse: 12.7980 - val_loss: 10.1199 - val_mae: 2.4645 - val_mse: 10.1199\n",
      "Epoch 214/500\n",
      "12/12 [==============================] - 0s 3ms/step - loss: 12.8573 - mae: 2.3810 - mse: 12.8573 - val_loss: 9.8511 - val_mae: 2.3816 - val_mse: 9.8511\n",
      "Epoch 215/500\n",
      "12/12 [==============================] - 0s 3ms/step - loss: 12.6376 - mae: 2.3327 - mse: 12.6376 - val_loss: 10.1093 - val_mae: 2.4828 - val_mse: 10.1093\n",
      "Epoch 216/500\n",
      "12/12 [==============================] - 0s 3ms/step - loss: 12.7144 - mae: 2.3861 - mse: 12.7144 - val_loss: 10.1883 - val_mae: 2.4671 - val_mse: 10.1883\n",
      "Epoch 217/500\n",
      "12/12 [==============================] - 0s 4ms/step - loss: 12.5846 - mae: 2.3520 - mse: 12.5846 - val_loss: 9.8667 - val_mae: 2.4007 - val_mse: 9.8667\n",
      "Epoch 218/500\n",
      "12/12 [==============================] - 0s 3ms/step - loss: 12.4979 - mae: 2.3361 - mse: 12.4979 - val_loss: 10.2768 - val_mae: 2.5084 - val_mse: 10.2768\n",
      "Epoch 219/500\n",
      "12/12 [==============================] - 0s 3ms/step - loss: 12.9254 - mae: 2.4211 - mse: 12.9254 - val_loss: 9.7800 - val_mae: 2.3282 - val_mse: 9.7800\n",
      "Epoch 220/500\n",
      "12/12 [==============================] - 0s 3ms/step - loss: 12.6333 - mae: 2.3813 - mse: 12.6333 - val_loss: 10.3919 - val_mae: 2.5245 - val_mse: 10.3919\n",
      "Epoch 221/500\n",
      "12/12 [==============================] - 0s 3ms/step - loss: 12.4967 - mae: 2.3552 - mse: 12.4967 - val_loss: 9.7712 - val_mae: 2.4003 - val_mse: 9.7712\n",
      "Epoch 222/500\n",
      "12/12 [==============================] - 0s 3ms/step - loss: 12.3803 - mae: 2.3384 - mse: 12.3803 - val_loss: 9.9190 - val_mae: 2.4413 - val_mse: 9.9190\n",
      "Epoch 223/500\n",
      "12/12 [==============================] - 0s 3ms/step - loss: 12.4425 - mae: 2.3398 - mse: 12.4425 - val_loss: 9.7024 - val_mae: 2.3595 - val_mse: 9.7024\n",
      "Epoch 224/500\n",
      "12/12 [==============================] - 0s 3ms/step - loss: 12.3470 - mae: 2.3228 - mse: 12.3470 - val_loss: 10.2657 - val_mae: 2.5091 - val_mse: 10.2657\n",
      "Epoch 225/500\n",
      "12/12 [==============================] - 0s 3ms/step - loss: 12.3937 - mae: 2.3257 - mse: 12.3937 - val_loss: 9.6072 - val_mae: 2.3829 - val_mse: 9.6072\n",
      "Epoch 226/500\n",
      "12/12 [==============================] - 0s 3ms/step - loss: 12.5213 - mae: 2.3815 - mse: 12.5213 - val_loss: 9.6098 - val_mae: 2.3463 - val_mse: 9.6098\n",
      "Epoch 227/500\n",
      "12/12 [==============================] - 0s 3ms/step - loss: 12.5543 - mae: 2.3596 - mse: 12.5543 - val_loss: 9.9854 - val_mae: 2.4455 - val_mse: 9.9854\n",
      "Epoch 228/500\n",
      "12/12 [==============================] - 0s 4ms/step - loss: 12.2771 - mae: 2.3120 - mse: 12.2771 - val_loss: 9.8047 - val_mae: 2.4384 - val_mse: 9.8047\n",
      "Epoch 229/500\n",
      "12/12 [==============================] - 0s 3ms/step - loss: 12.1428 - mae: 2.3261 - mse: 12.1428 - val_loss: 9.6501 - val_mae: 2.4143 - val_mse: 9.6501\n",
      "Epoch 230/500\n",
      "12/12 [==============================] - 0s 4ms/step - loss: 12.1288 - mae: 2.3201 - mse: 12.1288 - val_loss: 9.7797 - val_mae: 2.4186 - val_mse: 9.7797\n",
      "Epoch 231/500\n",
      "12/12 [==============================] - 0s 3ms/step - loss: 12.0528 - mae: 2.3431 - mse: 12.0528 - val_loss: 9.6614 - val_mae: 2.3758 - val_mse: 9.6614\n",
      "Epoch 232/500\n",
      "12/12 [==============================] - 0s 3ms/step - loss: 11.9038 - mae: 2.2920 - mse: 11.9038 - val_loss: 9.6679 - val_mae: 2.4001 - val_mse: 9.6679\n",
      "Epoch 233/500\n",
      "12/12 [==============================] - 0s 4ms/step - loss: 11.9476 - mae: 2.3534 - mse: 11.9476 - val_loss: 9.4753 - val_mae: 2.3444 - val_mse: 9.4753\n",
      "Epoch 234/500\n",
      "12/12 [==============================] - 0s 4ms/step - loss: 12.0834 - mae: 2.3054 - mse: 12.0834 - val_loss: 9.8332 - val_mae: 2.4455 - val_mse: 9.8332\n",
      "Epoch 235/500\n",
      "12/12 [==============================] - 0s 3ms/step - loss: 11.8455 - mae: 2.3068 - mse: 11.8455 - val_loss: 9.5502 - val_mae: 2.3481 - val_mse: 9.5502\n",
      "Epoch 236/500\n",
      "12/12 [==============================] - 0s 3ms/step - loss: 11.7685 - mae: 2.2788 - mse: 11.7685 - val_loss: 9.5116 - val_mae: 2.3849 - val_mse: 9.5116\n",
      "Epoch 237/500\n",
      "12/12 [==============================] - 0s 3ms/step - loss: 12.0797 - mae: 2.3491 - mse: 12.0797 - val_loss: 9.4772 - val_mae: 2.2937 - val_mse: 9.4772\n",
      "Epoch 238/500\n",
      "12/12 [==============================] - 0s 3ms/step - loss: 11.8765 - mae: 2.2955 - mse: 11.8765 - val_loss: 9.9814 - val_mae: 2.4966 - val_mse: 9.9814\n",
      "Epoch 239/500\n",
      "12/12 [==============================] - 0s 3ms/step - loss: 12.2212 - mae: 2.3876 - mse: 12.2212 - val_loss: 9.4734 - val_mae: 2.2639 - val_mse: 9.4734\n",
      "Epoch 240/500\n",
      "12/12 [==============================] - 0s 3ms/step - loss: 11.7911 - mae: 2.3042 - mse: 11.7911 - val_loss: 9.7977 - val_mae: 2.4384 - val_mse: 9.7977\n",
      "Epoch 241/500\n",
      "12/12 [==============================] - 0s 3ms/step - loss: 11.5302 - mae: 2.2733 - mse: 11.5302 - val_loss: 9.3635 - val_mae: 2.3106 - val_mse: 9.3635\n",
      "Epoch 242/500\n",
      "12/12 [==============================] - 0s 3ms/step - loss: 11.7567 - mae: 2.3272 - mse: 11.7567 - val_loss: 9.5763 - val_mae: 2.4040 - val_mse: 9.5763\n"
     ]
    },
    {
     "name": "stdout",
     "output_type": "stream",
     "text": [
      "Epoch 243/500\n",
      "12/12 [==============================] - 0s 3ms/step - loss: 11.7995 - mae: 2.2794 - mse: 11.7995 - val_loss: 9.7395 - val_mae: 2.4389 - val_mse: 9.7395\n",
      "Epoch 244/500\n",
      "12/12 [==============================] - 0s 3ms/step - loss: 11.5718 - mae: 2.3377 - mse: 11.5718 - val_loss: 9.3724 - val_mae: 2.3155 - val_mse: 9.3724\n",
      "Epoch 245/500\n",
      "12/12 [==============================] - 0s 3ms/step - loss: 11.5376 - mae: 2.2644 - mse: 11.5376 - val_loss: 9.5789 - val_mae: 2.4138 - val_mse: 9.5789\n",
      "Epoch 246/500\n",
      "12/12 [==============================] - 0s 4ms/step - loss: 11.5207 - mae: 2.2959 - mse: 11.5207 - val_loss: 9.3092 - val_mae: 2.3273 - val_mse: 9.3092\n",
      "Epoch 247/500\n",
      "12/12 [==============================] - 0s 3ms/step - loss: 11.4147 - mae: 2.2770 - mse: 11.4147 - val_loss: 9.3926 - val_mae: 2.3499 - val_mse: 9.3926\n",
      "Epoch 248/500\n",
      "12/12 [==============================] - 0s 3ms/step - loss: 11.7043 - mae: 2.2604 - mse: 11.7043 - val_loss: 9.5850 - val_mae: 2.4237 - val_mse: 9.5850\n",
      "Epoch 249/500\n",
      "12/12 [==============================] - 0s 3ms/step - loss: 11.3375 - mae: 2.2809 - mse: 11.3375 - val_loss: 9.3299 - val_mae: 2.3262 - val_mse: 9.3299\n",
      "Epoch 250/500\n",
      "12/12 [==============================] - 0s 3ms/step - loss: 11.4841 - mae: 2.2599 - mse: 11.4841 - val_loss: 9.9375 - val_mae: 2.4760 - val_mse: 9.9375\n",
      "Epoch 251/500\n",
      "12/12 [==============================] - 0s 4ms/step - loss: 11.4716 - mae: 2.3259 - mse: 11.4716 - val_loss: 9.2875 - val_mae: 2.2971 - val_mse: 9.2875\n",
      "Epoch 252/500\n",
      "12/12 [==============================] - 0s 4ms/step - loss: 11.3257 - mae: 2.2790 - mse: 11.3257 - val_loss: 9.3124 - val_mae: 2.3299 - val_mse: 9.3124\n",
      "Epoch 253/500\n",
      "12/12 [==============================] - 0s 3ms/step - loss: 11.3583 - mae: 2.2412 - mse: 11.3583 - val_loss: 9.4020 - val_mae: 2.3855 - val_mse: 9.4020\n",
      "Epoch 254/500\n",
      "12/12 [==============================] - 0s 3ms/step - loss: 11.5034 - mae: 2.2907 - mse: 11.5034 - val_loss: 9.1709 - val_mae: 2.2836 - val_mse: 9.1709\n",
      "Epoch 255/500\n",
      "12/12 [==============================] - 0s 3ms/step - loss: 11.0526 - mae: 2.2571 - mse: 11.0526 - val_loss: 9.3194 - val_mae: 2.3533 - val_mse: 9.3194\n",
      "Epoch 256/500\n",
      "12/12 [==============================] - 0s 3ms/step - loss: 11.0804 - mae: 2.2255 - mse: 11.0804 - val_loss: 9.4572 - val_mae: 2.3871 - val_mse: 9.4572\n",
      "Epoch 257/500\n",
      "12/12 [==============================] - 0s 4ms/step - loss: 11.2531 - mae: 2.2832 - mse: 11.2531 - val_loss: 9.1648 - val_mae: 2.2798 - val_mse: 9.1648\n",
      "Epoch 258/500\n",
      "12/12 [==============================] - 0s 3ms/step - loss: 10.9576 - mae: 2.2337 - mse: 10.9576 - val_loss: 9.3047 - val_mae: 2.3502 - val_mse: 9.3047\n",
      "Epoch 259/500\n",
      "12/12 [==============================] - 0s 3ms/step - loss: 10.9336 - mae: 2.2392 - mse: 10.9336 - val_loss: 9.2271 - val_mae: 2.3246 - val_mse: 9.2271\n",
      "Epoch 260/500\n",
      "12/12 [==============================] - 0s 3ms/step - loss: 10.9876 - mae: 2.2475 - mse: 10.9876 - val_loss: 9.2100 - val_mae: 2.3169 - val_mse: 9.2100\n",
      "Epoch 261/500\n",
      "12/12 [==============================] - 0s 3ms/step - loss: 10.9128 - mae: 2.2301 - mse: 10.9128 - val_loss: 9.2331 - val_mae: 2.3451 - val_mse: 9.2331\n",
      "Epoch 262/500\n",
      "12/12 [==============================] - 0s 3ms/step - loss: 10.8167 - mae: 2.2370 - mse: 10.8167 - val_loss: 9.1241 - val_mae: 2.2804 - val_mse: 9.1241\n",
      "Epoch 263/500\n",
      "12/12 [==============================] - 0s 3ms/step - loss: 11.0280 - mae: 2.2237 - mse: 11.0280 - val_loss: 9.8814 - val_mae: 2.4761 - val_mse: 9.8814\n",
      "Epoch 264/500\n",
      "12/12 [==============================] - 0s 3ms/step - loss: 11.0203 - mae: 2.2832 - mse: 11.0203 - val_loss: 9.1591 - val_mae: 2.2418 - val_mse: 9.1591\n",
      "Epoch 265/500\n",
      "12/12 [==============================] - 0s 3ms/step - loss: 11.2892 - mae: 2.2580 - mse: 11.2892 - val_loss: 9.2337 - val_mae: 2.3239 - val_mse: 9.2337\n",
      "Epoch 266/500\n",
      "12/12 [==============================] - 0s 3ms/step - loss: 11.0563 - mae: 2.2299 - mse: 11.0563 - val_loss: 9.2188 - val_mae: 2.3636 - val_mse: 9.2188\n",
      "Epoch 267/500\n",
      "12/12 [==============================] - 0s 3ms/step - loss: 11.0551 - mae: 2.2950 - mse: 11.0551 - val_loss: 9.0907 - val_mae: 2.2467 - val_mse: 9.0907\n",
      "Epoch 268/500\n",
      "12/12 [==============================] - 0s 3ms/step - loss: 10.8226 - mae: 2.2421 - mse: 10.8226 - val_loss: 9.1038 - val_mae: 2.3071 - val_mse: 9.1038\n",
      "Epoch 269/500\n",
      "12/12 [==============================] - 0s 3ms/step - loss: 10.7018 - mae: 2.1955 - mse: 10.7018 - val_loss: 9.0527 - val_mae: 2.3018 - val_mse: 9.0527\n",
      "Epoch 270/500\n",
      "12/12 [==============================] - 0s 4ms/step - loss: 10.6303 - mae: 2.2081 - mse: 10.6303 - val_loss: 9.1336 - val_mae: 2.3279 - val_mse: 9.1336\n",
      "Epoch 271/500\n",
      "12/12 [==============================] - 0s 3ms/step - loss: 10.6189 - mae: 2.2213 - mse: 10.6189 - val_loss: 8.9404 - val_mae: 2.2595 - val_mse: 8.9404\n",
      "Epoch 272/500\n",
      "12/12 [==============================] - 0s 3ms/step - loss: 10.6943 - mae: 2.2143 - mse: 10.6943 - val_loss: 9.1519 - val_mae: 2.3012 - val_mse: 9.1519\n",
      "Epoch 273/500\n",
      "12/12 [==============================] - 0s 3ms/step - loss: 10.4259 - mae: 2.1921 - mse: 10.4259 - val_loss: 8.9629 - val_mae: 2.2683 - val_mse: 8.9629\n",
      "Epoch 274/500\n",
      "12/12 [==============================] - 0s 4ms/step - loss: 10.4999 - mae: 2.1853 - mse: 10.4999 - val_loss: 8.9600 - val_mae: 2.2983 - val_mse: 8.9600\n",
      "Epoch 275/500\n",
      "12/12 [==============================] - 0s 3ms/step - loss: 10.4412 - mae: 2.1861 - mse: 10.4412 - val_loss: 8.9585 - val_mae: 2.2754 - val_mse: 8.9585\n",
      "Epoch 276/500\n",
      "12/12 [==============================] - 0s 3ms/step - loss: 10.4723 - mae: 2.2000 - mse: 10.4723 - val_loss: 9.1297 - val_mae: 2.3036 - val_mse: 9.1297\n",
      "Epoch 277/500\n",
      "12/12 [==============================] - 0s 3ms/step - loss: 10.5886 - mae: 2.2116 - mse: 10.5886 - val_loss: 8.8191 - val_mae: 2.2261 - val_mse: 8.8191\n",
      "Epoch 278/500\n",
      "12/12 [==============================] - 0s 3ms/step - loss: 10.7335 - mae: 2.2306 - mse: 10.7335 - val_loss: 8.8597 - val_mae: 2.2388 - val_mse: 8.8597\n",
      "Epoch 279/500\n",
      "12/12 [==============================] - 0s 3ms/step - loss: 10.4493 - mae: 2.1827 - mse: 10.4493 - val_loss: 9.0351 - val_mae: 2.3106 - val_mse: 9.0351\n",
      "Epoch 280/500\n",
      "12/12 [==============================] - 0s 3ms/step - loss: 10.2752 - mae: 2.1841 - mse: 10.2752 - val_loss: 8.8688 - val_mae: 2.2600 - val_mse: 8.8688\n",
      "Epoch 281/500\n",
      "12/12 [==============================] - 0s 3ms/step - loss: 10.3312 - mae: 2.1879 - mse: 10.3312 - val_loss: 9.1026 - val_mae: 2.3225 - val_mse: 9.1026\n",
      "Epoch 282/500\n",
      "12/12 [==============================] - 0s 3ms/step - loss: 10.3034 - mae: 2.1877 - mse: 10.3034 - val_loss: 8.8472 - val_mae: 2.2370 - val_mse: 8.8472\n",
      "Epoch 283/500\n",
      "12/12 [==============================] - 0s 3ms/step - loss: 10.2492 - mae: 2.1758 - mse: 10.2492 - val_loss: 8.8726 - val_mae: 2.2729 - val_mse: 8.8726\n",
      "Epoch 284/500\n",
      "12/12 [==============================] - 0s 3ms/step - loss: 10.2705 - mae: 2.1733 - mse: 10.2705 - val_loss: 8.9726 - val_mae: 2.2947 - val_mse: 8.9726\n",
      "Epoch 285/500\n",
      "12/12 [==============================] - 0s 3ms/step - loss: 10.3275 - mae: 2.1612 - mse: 10.3275 - val_loss: 9.1478 - val_mae: 2.3419 - val_mse: 9.1478\n",
      "Epoch 286/500\n",
      "12/12 [==============================] - 0s 4ms/step - loss: 10.3419 - mae: 2.2009 - mse: 10.3419 - val_loss: 8.7876 - val_mae: 2.2255 - val_mse: 8.7876\n",
      "Epoch 287/500\n",
      "12/12 [==============================] - 0s 3ms/step - loss: 10.3147 - mae: 2.1816 - mse: 10.3147 - val_loss: 9.3452 - val_mae: 2.3693 - val_mse: 9.3452\n",
      "Epoch 288/500\n",
      "12/12 [==============================] - 0s 3ms/step - loss: 10.3003 - mae: 2.1878 - mse: 10.3003 - val_loss: 8.9111 - val_mae: 2.2827 - val_mse: 8.9111\n",
      "Epoch 289/500\n",
      "12/12 [==============================] - 0s 3ms/step - loss: 10.0969 - mae: 2.1651 - mse: 10.0969 - val_loss: 8.8079 - val_mae: 2.2482 - val_mse: 8.8079\n",
      "Epoch 290/500\n",
      "12/12 [==============================] - 0s 3ms/step - loss: 10.0672 - mae: 2.1487 - mse: 10.0672 - val_loss: 8.8538 - val_mae: 2.2745 - val_mse: 8.8538\n",
      "Epoch 291/500\n",
      "12/12 [==============================] - 0s 3ms/step - loss: 10.3478 - mae: 2.1851 - mse: 10.3478 - val_loss: 8.8800 - val_mae: 2.2309 - val_mse: 8.8800\n",
      "Epoch 292/500\n"
     ]
    },
    {
     "name": "stdout",
     "output_type": "stream",
     "text": [
      "12/12 [==============================] - 0s 3ms/step - loss: 10.3316 - mae: 2.2210 - mse: 10.3316 - val_loss: 9.0151 - val_mae: 2.3075 - val_mse: 9.0151\n",
      "Epoch 293/500\n",
      "12/12 [==============================] - 0s 4ms/step - loss: 10.0237 - mae: 2.1567 - mse: 10.0237 - val_loss: 8.7902 - val_mae: 2.2439 - val_mse: 8.7902\n",
      "Epoch 294/500\n",
      "12/12 [==============================] - 0s 3ms/step - loss: 9.9378 - mae: 2.1514 - mse: 9.9378 - val_loss: 8.8542 - val_mae: 2.2628 - val_mse: 8.8542\n",
      "Epoch 295/500\n",
      "12/12 [==============================] - 0s 3ms/step - loss: 10.0136 - mae: 2.1400 - mse: 10.0136 - val_loss: 8.8891 - val_mae: 2.2818 - val_mse: 8.8891\n",
      "Epoch 296/500\n",
      "12/12 [==============================] - 0s 3ms/step - loss: 10.0638 - mae: 2.1650 - mse: 10.0638 - val_loss: 8.7547 - val_mae: 2.2015 - val_mse: 8.7547\n",
      "Epoch 297/500\n",
      "12/12 [==============================] - 0s 3ms/step - loss: 10.1146 - mae: 2.1578 - mse: 10.1146 - val_loss: 9.2508 - val_mae: 2.3372 - val_mse: 9.2508\n",
      "Epoch 298/500\n",
      "12/12 [==============================] - 0s 4ms/step - loss: 9.9375 - mae: 2.1597 - mse: 9.9375 - val_loss: 8.7611 - val_mae: 2.2206 - val_mse: 8.7611\n",
      "Epoch 299/500\n",
      "12/12 [==============================] - 0s 4ms/step - loss: 9.8781 - mae: 2.1494 - mse: 9.8781 - val_loss: 8.7136 - val_mae: 2.2248 - val_mse: 8.7136\n",
      "Epoch 300/500\n",
      "12/12 [==============================] - 0s 3ms/step - loss: 9.8235 - mae: 2.1433 - mse: 9.8235 - val_loss: 8.7837 - val_mae: 2.2643 - val_mse: 8.7837\n",
      "Epoch 301/500\n",
      "12/12 [==============================] - 0s 3ms/step - loss: 9.8281 - mae: 2.1391 - mse: 9.8281 - val_loss: 8.6758 - val_mae: 2.2108 - val_mse: 8.6758\n",
      "Epoch 302/500\n",
      "12/12 [==============================] - 0s 3ms/step - loss: 10.2548 - mae: 2.1949 - mse: 10.2548 - val_loss: 9.6223 - val_mae: 2.4198 - val_mse: 9.6223\n",
      "Epoch 303/500\n",
      "12/12 [==============================] - 0s 3ms/step - loss: 10.1395 - mae: 2.2210 - mse: 10.1395 - val_loss: 8.9598 - val_mae: 2.1897 - val_mse: 8.9598\n",
      "Epoch 304/500\n",
      "12/12 [==============================] - 0s 3ms/step - loss: 10.2422 - mae: 2.1980 - mse: 10.2422 - val_loss: 9.1359 - val_mae: 2.3351 - val_mse: 9.1359\n",
      "Epoch 305/500\n",
      "12/12 [==============================] - 0s 3ms/step - loss: 9.8405 - mae: 2.1374 - mse: 9.8405 - val_loss: 8.6319 - val_mae: 2.2215 - val_mse: 8.6319\n",
      "Epoch 306/500\n",
      "12/12 [==============================] - 0s 4ms/step - loss: 9.7382 - mae: 2.1380 - mse: 9.7382 - val_loss: 8.4958 - val_mae: 2.1878 - val_mse: 8.4958\n",
      "Epoch 307/500\n",
      "12/12 [==============================] - 0s 3ms/step - loss: 9.7520 - mae: 2.1274 - mse: 9.7520 - val_loss: 8.7152 - val_mae: 2.2288 - val_mse: 8.7152\n",
      "Epoch 308/500\n",
      "12/12 [==============================] - 0s 3ms/step - loss: 9.6826 - mae: 2.1197 - mse: 9.6826 - val_loss: 8.7483 - val_mae: 2.2525 - val_mse: 8.7483\n",
      "Epoch 309/500\n",
      "12/12 [==============================] - 0s 3ms/step - loss: 9.6919 - mae: 2.1352 - mse: 9.6919 - val_loss: 8.5466 - val_mae: 2.1862 - val_mse: 8.5466\n",
      "Epoch 310/500\n",
      "12/12 [==============================] - 0s 3ms/step - loss: 9.8556 - mae: 2.1595 - mse: 9.8556 - val_loss: 9.4310 - val_mae: 2.3697 - val_mse: 9.4310\n",
      "Epoch 311/500\n",
      "12/12 [==============================] - 0s 3ms/step - loss: 9.6264 - mae: 2.1314 - mse: 9.6264 - val_loss: 8.5352 - val_mae: 2.1758 - val_mse: 8.5352\n",
      "Epoch 312/500\n",
      "12/12 [==============================] - 0s 3ms/step - loss: 9.7853 - mae: 2.1401 - mse: 9.7853 - val_loss: 8.5468 - val_mae: 2.1990 - val_mse: 8.5468\n",
      "Epoch 313/500\n",
      "12/12 [==============================] - 0s 3ms/step - loss: 9.6040 - mae: 2.1201 - mse: 9.6040 - val_loss: 8.5640 - val_mae: 2.2034 - val_mse: 8.5640\n",
      "Epoch 314/500\n",
      "12/12 [==============================] - 0s 3ms/step - loss: 9.5972 - mae: 2.1168 - mse: 9.5972 - val_loss: 8.5674 - val_mae: 2.2250 - val_mse: 8.5674\n",
      "Epoch 315/500\n",
      "12/12 [==============================] - 0s 3ms/step - loss: 9.5668 - mae: 2.1140 - mse: 9.5668 - val_loss: 8.5328 - val_mae: 2.1970 - val_mse: 8.5328\n",
      "Epoch 316/500\n",
      "12/12 [==============================] - 0s 3ms/step - loss: 9.4835 - mae: 2.1036 - mse: 9.4835 - val_loss: 8.5300 - val_mae: 2.2156 - val_mse: 8.5300\n",
      "Epoch 317/500\n",
      "12/12 [==============================] - 0s 3ms/step - loss: 9.8365 - mae: 2.1630 - mse: 9.8365 - val_loss: 8.6033 - val_mae: 2.1740 - val_mse: 8.6033\n",
      "Epoch 318/500\n",
      "12/12 [==============================] - 0s 4ms/step - loss: 9.8173 - mae: 2.1419 - mse: 9.8173 - val_loss: 9.2652 - val_mae: 2.3452 - val_mse: 9.2652\n",
      "Epoch 319/500\n",
      "12/12 [==============================] - 0s 3ms/step - loss: 9.9001 - mae: 2.1366 - mse: 9.9001 - val_loss: 8.4197 - val_mae: 2.1864 - val_mse: 8.4197\n",
      "Epoch 320/500\n",
      "12/12 [==============================] - 0s 3ms/step - loss: 9.5935 - mae: 2.1967 - mse: 9.5935 - val_loss: 8.5224 - val_mae: 2.2151 - val_mse: 8.5224\n",
      "Epoch 321/500\n",
      "12/12 [==============================] - 0s 3ms/step - loss: 9.9647 - mae: 2.1453 - mse: 9.9647 - val_loss: 9.1580 - val_mae: 2.3222 - val_mse: 9.1580\n",
      "Epoch 322/500\n",
      "12/12 [==============================] - 0s 3ms/step - loss: 9.6449 - mae: 2.1302 - mse: 9.6449 - val_loss: 8.3876 - val_mae: 2.1627 - val_mse: 8.3876\n",
      "Epoch 323/500\n",
      "12/12 [==============================] - 0s 3ms/step - loss: 9.5742 - mae: 2.1100 - mse: 9.5742 - val_loss: 8.3942 - val_mae: 2.1785 - val_mse: 8.3942\n",
      "Epoch 324/500\n",
      "12/12 [==============================] - 0s 4ms/step - loss: 9.3121 - mae: 2.0845 - mse: 9.3121 - val_loss: 8.6197 - val_mae: 2.2252 - val_mse: 8.6197\n",
      "Epoch 325/500\n",
      "12/12 [==============================] - 0s 3ms/step - loss: 9.2659 - mae: 2.0834 - mse: 9.2659 - val_loss: 8.4082 - val_mae: 2.1645 - val_mse: 8.4082\n",
      "Epoch 326/500\n",
      "12/12 [==============================] - 0s 3ms/step - loss: 9.3287 - mae: 2.1118 - mse: 9.3287 - val_loss: 8.8307 - val_mae: 2.2935 - val_mse: 8.8307\n",
      "Epoch 327/500\n",
      "12/12 [==============================] - 0s 3ms/step - loss: 9.5465 - mae: 2.1584 - mse: 9.5465 - val_loss: 8.3934 - val_mae: 2.1770 - val_mse: 8.3934\n",
      "Epoch 328/500\n",
      "12/12 [==============================] - 0s 3ms/step - loss: 9.4123 - mae: 2.1151 - mse: 9.4123 - val_loss: 8.3758 - val_mae: 2.1588 - val_mse: 8.3758\n",
      "Epoch 329/500\n",
      "12/12 [==============================] - 0s 3ms/step - loss: 9.3866 - mae: 2.0864 - mse: 9.3866 - val_loss: 8.6231 - val_mae: 2.2390 - val_mse: 8.6231\n",
      "Epoch 330/500\n",
      "12/12 [==============================] - 0s 3ms/step - loss: 9.3390 - mae: 2.0892 - mse: 9.3390 - val_loss: 8.6669 - val_mae: 2.2436 - val_mse: 8.6669\n",
      "Epoch 331/500\n",
      "12/12 [==============================] - 0s 3ms/step - loss: 9.2870 - mae: 2.0963 - mse: 9.2870 - val_loss: 8.4144 - val_mae: 2.1769 - val_mse: 8.4144\n",
      "Epoch 332/500\n",
      "12/12 [==============================] - 0s 3ms/step - loss: 9.2379 - mae: 2.0889 - mse: 9.2379 - val_loss: 8.4890 - val_mae: 2.2009 - val_mse: 8.4890\n",
      "Epoch 333/500\n",
      "12/12 [==============================] - 0s 3ms/step - loss: 9.3426 - mae: 2.1055 - mse: 9.3426 - val_loss: 8.4639 - val_mae: 2.2103 - val_mse: 8.4639\n",
      "Epoch 334/500\n",
      "12/12 [==============================] - 0s 3ms/step - loss: 9.1831 - mae: 2.0750 - mse: 9.1831 - val_loss: 8.5985 - val_mae: 2.2307 - val_mse: 8.5985\n",
      "Epoch 335/500\n",
      "12/12 [==============================] - 0s 3ms/step - loss: 9.0347 - mae: 2.0652 - mse: 9.0347 - val_loss: 8.3483 - val_mae: 2.1800 - val_mse: 8.3483\n",
      "Epoch 336/500\n",
      "12/12 [==============================] - 0s 3ms/step - loss: 9.2050 - mae: 2.0627 - mse: 9.2050 - val_loss: 8.4470 - val_mae: 2.1916 - val_mse: 8.4470\n",
      "Epoch 337/500\n",
      "12/12 [==============================] - 0s 3ms/step - loss: 9.0746 - mae: 2.0725 - mse: 9.0746 - val_loss: 8.2984 - val_mae: 2.1659 - val_mse: 8.2984\n",
      "Epoch 338/500\n",
      "12/12 [==============================] - 0s 3ms/step - loss: 9.0605 - mae: 2.0873 - mse: 9.0605 - val_loss: 8.4860 - val_mae: 2.2229 - val_mse: 8.4860\n",
      "Epoch 339/500\n",
      "12/12 [==============================] - 0s 4ms/step - loss: 9.0602 - mae: 2.0534 - mse: 9.0602 - val_loss: 8.3885 - val_mae: 2.1717 - val_mse: 8.3885\n",
      "Epoch 340/500\n",
      "12/12 [==============================] - 0s 3ms/step - loss: 9.1784 - mae: 2.0946 - mse: 9.1784 - val_loss: 8.3989 - val_mae: 2.1861 - val_mse: 8.3989\n",
      "Epoch 341/500\n",
      "12/12 [==============================] - 0s 3ms/step - loss: 9.0244 - mae: 2.0596 - mse: 9.0244 - val_loss: 8.5208 - val_mae: 2.2239 - val_mse: 8.5208\n"
     ]
    },
    {
     "name": "stdout",
     "output_type": "stream",
     "text": [
      "Epoch 342/500\n",
      "12/12 [==============================] - 0s 3ms/step - loss: 9.0701 - mae: 2.0711 - mse: 9.0701 - val_loss: 8.4463 - val_mae: 2.1938 - val_mse: 8.4463\n",
      "Epoch 343/500\n",
      "12/12 [==============================] - 0s 3ms/step - loss: 8.9822 - mae: 2.0470 - mse: 8.9822 - val_loss: 8.3388 - val_mae: 2.1753 - val_mse: 8.3388\n",
      "Epoch 344/500\n",
      "12/12 [==============================] - 0s 3ms/step - loss: 8.9082 - mae: 2.0504 - mse: 8.9082 - val_loss: 8.3470 - val_mae: 2.1746 - val_mse: 8.3470\n",
      "Epoch 345/500\n",
      "12/12 [==============================] - 0s 3ms/step - loss: 8.9875 - mae: 2.0806 - mse: 8.9875 - val_loss: 8.2884 - val_mae: 2.1501 - val_mse: 8.2884\n",
      "Epoch 346/500\n",
      "12/12 [==============================] - 0s 3ms/step - loss: 9.0098 - mae: 2.0601 - mse: 9.0098 - val_loss: 8.5771 - val_mae: 2.2256 - val_mse: 8.5771\n",
      "Epoch 347/500\n",
      "12/12 [==============================] - 0s 3ms/step - loss: 8.8702 - mae: 2.0477 - mse: 8.8702 - val_loss: 8.3553 - val_mae: 2.1849 - val_mse: 8.3553\n",
      "Epoch 348/500\n",
      "12/12 [==============================] - 0s 3ms/step - loss: 9.0723 - mae: 2.0899 - mse: 9.0723 - val_loss: 8.3389 - val_mae: 2.1464 - val_mse: 8.3389\n",
      "Epoch 349/500\n",
      "12/12 [==============================] - 0s 3ms/step - loss: 9.0442 - mae: 2.0785 - mse: 9.0442 - val_loss: 8.4039 - val_mae: 2.1969 - val_mse: 8.4039\n",
      "Epoch 350/500\n",
      "12/12 [==============================] - 0s 4ms/step - loss: 8.7788 - mae: 2.0288 - mse: 8.7788 - val_loss: 8.2701 - val_mae: 2.1702 - val_mse: 8.2701\n",
      "Epoch 351/500\n",
      "12/12 [==============================] - 0s 3ms/step - loss: 8.9348 - mae: 2.0682 - mse: 8.9348 - val_loss: 8.2318 - val_mae: 2.1373 - val_mse: 8.2318\n",
      "Epoch 352/500\n",
      "12/12 [==============================] - 0s 3ms/step - loss: 8.7552 - mae: 2.0148 - mse: 8.7552 - val_loss: 8.4735 - val_mae: 2.2098 - val_mse: 8.4735\n",
      "Epoch 353/500\n",
      "12/12 [==============================] - 0s 4ms/step - loss: 8.6967 - mae: 2.0319 - mse: 8.6967 - val_loss: 8.1497 - val_mae: 2.1384 - val_mse: 8.1497\n",
      "Epoch 354/500\n",
      "12/12 [==============================] - 0s 3ms/step - loss: 8.7055 - mae: 2.0296 - mse: 8.7055 - val_loss: 8.3009 - val_mae: 2.1852 - val_mse: 8.3009\n",
      "Epoch 355/500\n",
      "12/12 [==============================] - 0s 3ms/step - loss: 8.7482 - mae: 2.0327 - mse: 8.7482 - val_loss: 8.5121 - val_mae: 2.2142 - val_mse: 8.5121\n",
      "Epoch 356/500\n",
      "12/12 [==============================] - 0s 3ms/step - loss: 8.7069 - mae: 2.0262 - mse: 8.7069 - val_loss: 8.2310 - val_mae: 2.1569 - val_mse: 8.2310\n",
      "Epoch 357/500\n",
      "12/12 [==============================] - 0s 3ms/step - loss: 8.6585 - mae: 2.0331 - mse: 8.6585 - val_loss: 8.2559 - val_mae: 2.1563 - val_mse: 8.2559\n",
      "Epoch 358/500\n",
      "12/12 [==============================] - 0s 4ms/step - loss: 8.6874 - mae: 2.0286 - mse: 8.6874 - val_loss: 8.2429 - val_mae: 2.1620 - val_mse: 8.2429\n",
      "Epoch 359/500\n",
      "12/12 [==============================] - 0s 3ms/step - loss: 8.7102 - mae: 2.0366 - mse: 8.7102 - val_loss: 8.4198 - val_mae: 2.1967 - val_mse: 8.4198\n",
      "Epoch 360/500\n",
      "12/12 [==============================] - 0s 3ms/step - loss: 8.6247 - mae: 2.0180 - mse: 8.6247 - val_loss: 8.1709 - val_mae: 2.1567 - val_mse: 8.1709\n",
      "Epoch 361/500\n",
      "12/12 [==============================] - 0s 3ms/step - loss: 8.6939 - mae: 2.0196 - mse: 8.6939 - val_loss: 8.2520 - val_mae: 2.1558 - val_mse: 8.2520\n",
      "Epoch 362/500\n",
      "12/12 [==============================] - 0s 3ms/step - loss: 8.8821 - mae: 2.0525 - mse: 8.8821 - val_loss: 8.5998 - val_mae: 2.2303 - val_mse: 8.5998\n",
      "Epoch 363/500\n",
      "12/12 [==============================] - 0s 3ms/step - loss: 8.7741 - mae: 2.0412 - mse: 8.7741 - val_loss: 8.3464 - val_mae: 2.1969 - val_mse: 8.3464\n",
      "Epoch 364/500\n",
      "12/12 [==============================] - 0s 3ms/step - loss: 8.6387 - mae: 2.0387 - mse: 8.6387 - val_loss: 8.2003 - val_mae: 2.1409 - val_mse: 8.2003\n",
      "Epoch 365/500\n",
      "12/12 [==============================] - 0s 3ms/step - loss: 8.5181 - mae: 2.0135 - mse: 8.5181 - val_loss: 8.4022 - val_mae: 2.1960 - val_mse: 8.4022\n",
      "Epoch 366/500\n",
      "12/12 [==============================] - 0s 3ms/step - loss: 8.5028 - mae: 2.0022 - mse: 8.5028 - val_loss: 8.1146 - val_mae: 2.1405 - val_mse: 8.1146\n",
      "Epoch 367/500\n",
      "12/12 [==============================] - 0s 3ms/step - loss: 8.6778 - mae: 2.0458 - mse: 8.6778 - val_loss: 8.2206 - val_mae: 2.1382 - val_mse: 8.2206\n",
      "Epoch 368/500\n",
      "12/12 [==============================] - 0s 3ms/step - loss: 8.8792 - mae: 2.0518 - mse: 8.8792 - val_loss: 8.3168 - val_mae: 2.1710 - val_mse: 8.3168\n",
      "Epoch 369/500\n",
      "12/12 [==============================] - 0s 3ms/step - loss: 8.3906 - mae: 1.9929 - mse: 8.3906 - val_loss: 8.0695 - val_mae: 2.1427 - val_mse: 8.0695\n",
      "Epoch 370/500\n",
      "12/12 [==============================] - 0s 3ms/step - loss: 8.5437 - mae: 2.0199 - mse: 8.5437 - val_loss: 8.1070 - val_mae: 2.1542 - val_mse: 8.1070\n",
      "Epoch 371/500\n",
      "12/12 [==============================] - 0s 3ms/step - loss: 8.3879 - mae: 2.0004 - mse: 8.3879 - val_loss: 8.1455 - val_mae: 2.1448 - val_mse: 8.1455\n",
      "Epoch 372/500\n",
      "12/12 [==============================] - 0s 3ms/step - loss: 8.3836 - mae: 2.0004 - mse: 8.3836 - val_loss: 8.1711 - val_mae: 2.1604 - val_mse: 8.1711\n",
      "Epoch 373/500\n",
      "12/12 [==============================] - 0s 3ms/step - loss: 8.4179 - mae: 2.0010 - mse: 8.4179 - val_loss: 8.0857 - val_mae: 2.1415 - val_mse: 8.0857\n",
      "Epoch 374/500\n",
      "12/12 [==============================] - 0s 3ms/step - loss: 8.3615 - mae: 1.9904 - mse: 8.3615 - val_loss: 8.1365 - val_mae: 2.1391 - val_mse: 8.1365\n",
      "Epoch 375/500\n",
      "12/12 [==============================] - 0s 3ms/step - loss: 8.4473 - mae: 2.0122 - mse: 8.4473 - val_loss: 8.1932 - val_mae: 2.1662 - val_mse: 8.1932\n",
      "Epoch 376/500\n",
      "12/12 [==============================] - 0s 3ms/step - loss: 8.3219 - mae: 1.9927 - mse: 8.3219 - val_loss: 8.1911 - val_mae: 2.1619 - val_mse: 8.1911\n",
      "Epoch 377/500\n",
      "12/12 [==============================] - 0s 3ms/step - loss: 8.4559 - mae: 1.9926 - mse: 8.4559 - val_loss: 8.0515 - val_mae: 2.1187 - val_mse: 8.0515\n",
      "Epoch 378/500\n",
      "12/12 [==============================] - 0s 3ms/step - loss: 8.2458 - mae: 1.9875 - mse: 8.2458 - val_loss: 8.2536 - val_mae: 2.1689 - val_mse: 8.2536\n",
      "Epoch 379/500\n",
      "12/12 [==============================] - 0s 3ms/step - loss: 8.4055 - mae: 2.0131 - mse: 8.4055 - val_loss: 8.7253 - val_mae: 2.2411 - val_mse: 8.7253\n",
      "Epoch 380/500\n",
      "12/12 [==============================] - 0s 3ms/step - loss: 8.3305 - mae: 1.9953 - mse: 8.3305 - val_loss: 8.0424 - val_mae: 2.1212 - val_mse: 8.0424\n",
      "Epoch 381/500\n",
      "12/12 [==============================] - 0s 3ms/step - loss: 8.2301 - mae: 1.9842 - mse: 8.2301 - val_loss: 8.6276 - val_mae: 2.2217 - val_mse: 8.6276\n",
      "Epoch 382/500\n",
      "12/12 [==============================] - 0s 3ms/step - loss: 8.4032 - mae: 2.0256 - mse: 8.4032 - val_loss: 8.0045 - val_mae: 2.1245 - val_mse: 8.0045\n",
      "Epoch 383/500\n",
      "12/12 [==============================] - 0s 3ms/step - loss: 8.2130 - mae: 1.9901 - mse: 8.2130 - val_loss: 8.0222 - val_mae: 2.1240 - val_mse: 8.0222\n",
      "Epoch 384/500\n",
      "12/12 [==============================] - 0s 3ms/step - loss: 8.4642 - mae: 2.0164 - mse: 8.4642 - val_loss: 9.3069 - val_mae: 2.3531 - val_mse: 9.3069\n",
      "Epoch 385/500\n",
      "12/12 [==============================] - 0s 3ms/step - loss: 8.7658 - mae: 2.0683 - mse: 8.7658 - val_loss: 8.2337 - val_mae: 2.1574 - val_mse: 8.2337\n",
      "Epoch 386/500\n",
      "12/12 [==============================] - 0s 3ms/step - loss: 8.1425 - mae: 1.9830 - mse: 8.1425 - val_loss: 8.6397 - val_mae: 2.2261 - val_mse: 8.6397\n",
      "Epoch 387/500\n",
      "12/12 [==============================] - 0s 3ms/step - loss: 8.2396 - mae: 2.0153 - mse: 8.2396 - val_loss: 8.0691 - val_mae: 2.1259 - val_mse: 8.0691\n",
      "Epoch 388/500\n",
      "12/12 [==============================] - 0s 4ms/step - loss: 8.3217 - mae: 1.9888 - mse: 8.3217 - val_loss: 8.0121 - val_mae: 2.1125 - val_mse: 8.0121\n",
      "Epoch 389/500\n",
      "12/12 [==============================] - 0s 3ms/step - loss: 8.2164 - mae: 2.0082 - mse: 8.2164 - val_loss: 7.9973 - val_mae: 2.1262 - val_mse: 7.9973\n",
      "Epoch 390/500\n",
      "12/12 [==============================] - 0s 3ms/step - loss: 8.4751 - mae: 2.0267 - mse: 8.4751 - val_loss: 8.0816 - val_mae: 2.1373 - val_mse: 8.0816\n",
      "Epoch 391/500\n",
      "12/12 [==============================] - 0s 4ms/step - loss: 8.1796 - mae: 1.9783 - mse: 8.1796 - val_loss: 7.9954 - val_mae: 2.1254 - val_mse: 7.9954\n"
     ]
    },
    {
     "name": "stdout",
     "output_type": "stream",
     "text": [
      "Epoch 392/500\n",
      "12/12 [==============================] - 0s 3ms/step - loss: 8.0727 - mae: 1.9740 - mse: 8.0727 - val_loss: 8.1967 - val_mae: 2.1573 - val_mse: 8.1967\n",
      "Epoch 393/500\n",
      "12/12 [==============================] - 0s 3ms/step - loss: 8.0256 - mae: 1.9740 - mse: 8.0256 - val_loss: 7.9972 - val_mae: 2.1264 - val_mse: 7.9972\n",
      "Epoch 394/500\n",
      "12/12 [==============================] - 0s 3ms/step - loss: 8.1097 - mae: 1.9811 - mse: 8.1097 - val_loss: 8.0934 - val_mae: 2.1336 - val_mse: 8.0934\n",
      "Epoch 395/500\n",
      "12/12 [==============================] - 0s 3ms/step - loss: 8.1788 - mae: 1.9901 - mse: 8.1788 - val_loss: 9.0575 - val_mae: 2.3227 - val_mse: 9.0575\n",
      "Epoch 396/500\n",
      "12/12 [==============================] - 0s 3ms/step - loss: 8.2153 - mae: 2.0145 - mse: 8.2153 - val_loss: 7.9623 - val_mae: 2.1160 - val_mse: 7.9623\n",
      "Epoch 397/500\n",
      "12/12 [==============================] - 0s 4ms/step - loss: 8.0092 - mae: 1.9662 - mse: 8.0092 - val_loss: 8.4096 - val_mae: 2.1937 - val_mse: 8.4096\n",
      "Epoch 398/500\n",
      "12/12 [==============================] - 0s 3ms/step - loss: 8.1016 - mae: 1.9735 - mse: 8.1016 - val_loss: 8.0780 - val_mae: 2.1452 - val_mse: 8.0780\n",
      "Epoch 399/500\n",
      "12/12 [==============================] - 0s 4ms/step - loss: 7.9527 - mae: 1.9647 - mse: 7.9527 - val_loss: 7.8729 - val_mae: 2.1120 - val_mse: 7.8729\n",
      "Epoch 400/500\n",
      "12/12 [==============================] - 0s 3ms/step - loss: 7.9591 - mae: 1.9603 - mse: 7.9591 - val_loss: 8.0669 - val_mae: 2.1365 - val_mse: 8.0669\n",
      "Epoch 401/500\n",
      "12/12 [==============================] - 0s 3ms/step - loss: 7.9092 - mae: 1.9458 - mse: 7.9092 - val_loss: 8.1369 - val_mae: 2.1486 - val_mse: 8.1369\n",
      "Epoch 402/500\n",
      "12/12 [==============================] - 0s 3ms/step - loss: 8.0870 - mae: 1.9989 - mse: 8.0870 - val_loss: 7.9922 - val_mae: 2.1220 - val_mse: 7.9922\n",
      "Epoch 403/500\n",
      "12/12 [==============================] - 0s 3ms/step - loss: 7.9061 - mae: 1.9893 - mse: 7.9061 - val_loss: 8.0104 - val_mae: 2.1283 - val_mse: 8.0104\n",
      "Epoch 404/500\n",
      "12/12 [==============================] - 0s 3ms/step - loss: 7.9242 - mae: 1.9618 - mse: 7.9242 - val_loss: 8.0690 - val_mae: 2.1303 - val_mse: 8.0690\n",
      "Epoch 405/500\n",
      "12/12 [==============================] - 0s 3ms/step - loss: 7.7920 - mae: 1.9409 - mse: 7.7920 - val_loss: 7.8977 - val_mae: 2.1142 - val_mse: 7.8977\n",
      "Epoch 406/500\n",
      "12/12 [==============================] - 0s 3ms/step - loss: 7.9306 - mae: 1.9792 - mse: 7.9306 - val_loss: 7.8810 - val_mae: 2.1156 - val_mse: 7.8810\n",
      "Epoch 407/500\n",
      "12/12 [==============================] - 0s 3ms/step - loss: 7.8107 - mae: 1.9436 - mse: 7.8107 - val_loss: 7.9927 - val_mae: 2.1231 - val_mse: 7.9927\n",
      "Epoch 408/500\n",
      "12/12 [==============================] - 0s 3ms/step - loss: 7.8163 - mae: 1.9463 - mse: 7.8163 - val_loss: 7.9085 - val_mae: 2.1162 - val_mse: 7.9085\n",
      "Epoch 409/500\n",
      "12/12 [==============================] - 0s 3ms/step - loss: 7.7481 - mae: 1.9412 - mse: 7.7481 - val_loss: 7.9089 - val_mae: 2.1134 - val_mse: 7.9089\n",
      "Epoch 410/500\n",
      "12/12 [==============================] - 0s 3ms/step - loss: 7.7391 - mae: 1.9399 - mse: 7.7391 - val_loss: 7.9419 - val_mae: 2.1185 - val_mse: 7.9419\n",
      "Epoch 411/500\n",
      "12/12 [==============================] - 0s 3ms/step - loss: 7.7183 - mae: 1.9441 - mse: 7.7183 - val_loss: 8.0260 - val_mae: 2.1250 - val_mse: 8.0260\n",
      "Epoch 412/500\n",
      "12/12 [==============================] - 0s 4ms/step - loss: 7.7194 - mae: 1.9322 - mse: 7.7194 - val_loss: 7.8678 - val_mae: 2.1099 - val_mse: 7.8678\n",
      "Epoch 413/500\n",
      "12/12 [==============================] - 0s 4ms/step - loss: 7.7395 - mae: 1.9429 - mse: 7.7395 - val_loss: 8.0036 - val_mae: 2.1276 - val_mse: 8.0036\n",
      "Epoch 414/500\n",
      "12/12 [==============================] - 0s 3ms/step - loss: 7.7258 - mae: 1.9480 - mse: 7.7258 - val_loss: 8.0687 - val_mae: 2.1334 - val_mse: 8.0687\n",
      "Epoch 415/500\n",
      "12/12 [==============================] - 0s 3ms/step - loss: 7.6604 - mae: 1.9274 - mse: 7.6604 - val_loss: 7.8520 - val_mae: 2.1024 - val_mse: 7.8520\n",
      "Epoch 416/500\n",
      "12/12 [==============================] - 0s 4ms/step - loss: 7.7179 - mae: 1.9268 - mse: 7.7179 - val_loss: 8.2119 - val_mae: 2.1608 - val_mse: 8.2119\n",
      "Epoch 417/500\n",
      "12/12 [==============================] - 0s 3ms/step - loss: 7.8724 - mae: 1.9920 - mse: 7.8724 - val_loss: 8.1314 - val_mae: 2.1588 - val_mse: 8.1314\n",
      "Epoch 418/500\n",
      "12/12 [==============================] - 0s 3ms/step - loss: 7.7233 - mae: 1.9440 - mse: 7.7233 - val_loss: 8.2767 - val_mae: 2.1594 - val_mse: 8.2767\n",
      "Epoch 419/500\n",
      "12/12 [==============================] - 0s 3ms/step - loss: 7.6857 - mae: 1.9518 - mse: 7.6857 - val_loss: 7.8419 - val_mae: 2.1000 - val_mse: 7.8419\n",
      "Epoch 420/500\n",
      "12/12 [==============================] - 0s 4ms/step - loss: 7.5344 - mae: 1.9208 - mse: 7.5344 - val_loss: 8.5083 - val_mae: 2.1935 - val_mse: 8.5083\n",
      "Epoch 421/500\n",
      "12/12 [==============================] - 0s 3ms/step - loss: 7.7477 - mae: 1.9585 - mse: 7.7477 - val_loss: 7.9743 - val_mae: 2.1269 - val_mse: 7.9743\n",
      "Epoch 422/500\n",
      "12/12 [==============================] - 0s 3ms/step - loss: 7.5687 - mae: 1.9301 - mse: 7.5687 - val_loss: 8.0213 - val_mae: 2.1296 - val_mse: 8.0213\n",
      "Epoch 423/500\n",
      "12/12 [==============================] - 0s 3ms/step - loss: 7.6229 - mae: 1.9228 - mse: 7.6229 - val_loss: 7.8761 - val_mae: 2.1026 - val_mse: 7.8761\n",
      "Epoch 424/500\n",
      "12/12 [==============================] - 0s 4ms/step - loss: 7.7619 - mae: 1.9525 - mse: 7.7619 - val_loss: 7.9043 - val_mae: 2.1036 - val_mse: 7.9043\n",
      "Epoch 425/500\n",
      "12/12 [==============================] - 0s 3ms/step - loss: 7.5364 - mae: 1.9186 - mse: 7.5364 - val_loss: 7.8848 - val_mae: 2.1101 - val_mse: 7.8848\n",
      "Epoch 426/500\n",
      "12/12 [==============================] - 0s 3ms/step - loss: 7.5960 - mae: 1.9337 - mse: 7.5960 - val_loss: 7.8445 - val_mae: 2.1075 - val_mse: 7.8445\n",
      "Epoch 427/500\n",
      "12/12 [==============================] - 0s 3ms/step - loss: 7.6418 - mae: 1.9734 - mse: 7.6418 - val_loss: 7.9003 - val_mae: 2.1085 - val_mse: 7.9003\n",
      "Epoch 428/500\n",
      "12/12 [==============================] - 0s 3ms/step - loss: 7.7816 - mae: 1.9469 - mse: 7.7816 - val_loss: 8.0913 - val_mae: 2.1301 - val_mse: 8.0913\n",
      "Epoch 429/500\n",
      "12/12 [==============================] - 0s 3ms/step - loss: 7.6043 - mae: 1.9428 - mse: 7.6043 - val_loss: 8.0148 - val_mae: 2.1292 - val_mse: 8.0148\n",
      "Epoch 430/500\n",
      "12/12 [==============================] - 0s 3ms/step - loss: 7.6257 - mae: 1.9180 - mse: 7.6257 - val_loss: 7.9865 - val_mae: 2.1153 - val_mse: 7.9865\n",
      "Epoch 431/500\n",
      "12/12 [==============================] - 0s 3ms/step - loss: 7.6066 - mae: 1.9345 - mse: 7.6066 - val_loss: 7.8901 - val_mae: 2.1161 - val_mse: 7.8901\n",
      "Epoch 432/500\n",
      "12/12 [==============================] - 0s 4ms/step - loss: 7.3643 - mae: 1.9121 - mse: 7.3643 - val_loss: 7.9892 - val_mae: 2.1200 - val_mse: 7.9892\n",
      "Epoch 433/500\n",
      "12/12 [==============================] - 0s 3ms/step - loss: 7.3546 - mae: 1.9076 - mse: 7.3546 - val_loss: 7.9590 - val_mae: 2.1149 - val_mse: 7.9590\n",
      "Epoch 434/500\n",
      "12/12 [==============================] - 0s 4ms/step - loss: 7.3126 - mae: 1.8995 - mse: 7.3126 - val_loss: 7.9274 - val_mae: 2.1131 - val_mse: 7.9274\n",
      "Epoch 435/500\n",
      "12/12 [==============================] - 0s 3ms/step - loss: 7.6364 - mae: 1.9415 - mse: 7.6364 - val_loss: 7.9361 - val_mae: 2.1132 - val_mse: 7.9361\n",
      "Epoch 436/500\n",
      "12/12 [==============================] - 0s 3ms/step - loss: 7.4818 - mae: 1.9359 - mse: 7.4818 - val_loss: 8.1382 - val_mae: 2.1456 - val_mse: 8.1382\n",
      "Epoch 437/500\n",
      "12/12 [==============================] - 0s 3ms/step - loss: 7.2883 - mae: 1.9033 - mse: 7.2883 - val_loss: 7.9456 - val_mae: 2.1228 - val_mse: 7.9456\n",
      "Epoch 438/500\n",
      "12/12 [==============================] - 0s 3ms/step - loss: 7.4001 - mae: 1.9210 - mse: 7.4001 - val_loss: 7.9365 - val_mae: 2.1182 - val_mse: 7.9365\n",
      "Epoch 439/500\n",
      "12/12 [==============================] - 0s 3ms/step - loss: 7.3619 - mae: 1.9076 - mse: 7.3619 - val_loss: 8.0172 - val_mae: 2.1154 - val_mse: 8.0172\n",
      "Epoch 440/500\n",
      "12/12 [==============================] - 0s 3ms/step - loss: 7.2691 - mae: 1.8938 - mse: 7.2691 - val_loss: 8.0278 - val_mae: 2.1297 - val_mse: 8.0278\n",
      "Epoch 441/500\n",
      "12/12 [==============================] - 0s 3ms/step - loss: 7.2943 - mae: 1.8929 - mse: 7.2943 - val_loss: 8.1058 - val_mae: 2.1373 - val_mse: 8.1058\n"
     ]
    },
    {
     "name": "stdout",
     "output_type": "stream",
     "text": [
      "Epoch 442/500\n",
      "12/12 [==============================] - 0s 3ms/step - loss: 7.2266 - mae: 1.9003 - mse: 7.2266 - val_loss: 7.9055 - val_mae: 2.1137 - val_mse: 7.9055\n",
      "Epoch 443/500\n",
      "12/12 [==============================] - 0s 3ms/step - loss: 7.2649 - mae: 1.9038 - mse: 7.2649 - val_loss: 8.0345 - val_mae: 2.1276 - val_mse: 8.0345\n",
      "Epoch 444/500\n",
      "12/12 [==============================] - 0s 3ms/step - loss: 7.2993 - mae: 1.9011 - mse: 7.2993 - val_loss: 7.8862 - val_mae: 2.1051 - val_mse: 7.8862\n",
      "Epoch 445/500\n",
      "12/12 [==============================] - 0s 3ms/step - loss: 7.1836 - mae: 1.8818 - mse: 7.1836 - val_loss: 8.1890 - val_mae: 2.1491 - val_mse: 8.1890\n",
      "Epoch 446/500\n",
      "12/12 [==============================] - 0s 3ms/step - loss: 7.3244 - mae: 1.9065 - mse: 7.3244 - val_loss: 8.1426 - val_mae: 2.1381 - val_mse: 8.1426\n",
      "Epoch 447/500\n",
      "12/12 [==============================] - 0s 3ms/step - loss: 7.1484 - mae: 1.8862 - mse: 7.1484 - val_loss: 7.9196 - val_mae: 2.1193 - val_mse: 7.9196\n",
      "Epoch 448/500\n",
      "12/12 [==============================] - 0s 4ms/step - loss: 7.1188 - mae: 1.8747 - mse: 7.1188 - val_loss: 8.4161 - val_mae: 2.1766 - val_mse: 8.4161\n",
      "Epoch 449/500\n",
      "12/12 [==============================] - 0s 3ms/step - loss: 7.3976 - mae: 1.8861 - mse: 7.3976 - val_loss: 7.9752 - val_mae: 2.1263 - val_mse: 7.9752\n",
      "Epoch 450/500\n",
      "12/12 [==============================] - 0s 3ms/step - loss: 7.3180 - mae: 1.9236 - mse: 7.3180 - val_loss: 7.9713 - val_mae: 2.1244 - val_mse: 7.9713\n",
      "Epoch 451/500\n",
      "12/12 [==============================] - 0s 3ms/step - loss: 7.1116 - mae: 1.8917 - mse: 7.1116 - val_loss: 8.0669 - val_mae: 2.1311 - val_mse: 8.0669\n",
      "Epoch 452/500\n",
      "12/12 [==============================] - 0s 3ms/step - loss: 7.3408 - mae: 1.9003 - mse: 7.3408 - val_loss: 8.2480 - val_mae: 2.1536 - val_mse: 8.2480\n",
      "Epoch 453/500\n",
      "12/12 [==============================] - 0s 3ms/step - loss: 7.1680 - mae: 1.8864 - mse: 7.1680 - val_loss: 7.9698 - val_mae: 2.1172 - val_mse: 7.9698\n",
      "Epoch 454/500\n",
      "12/12 [==============================] - 0s 3ms/step - loss: 7.2374 - mae: 1.8803 - mse: 7.2374 - val_loss: 8.1697 - val_mae: 2.1585 - val_mse: 8.1697\n",
      "Epoch 455/500\n",
      "12/12 [==============================] - 0s 3ms/step - loss: 7.1510 - mae: 1.9280 - mse: 7.1510 - val_loss: 7.9677 - val_mae: 2.1190 - val_mse: 7.9677\n",
      "Epoch 456/500\n",
      "12/12 [==============================] - 0s 3ms/step - loss: 7.1261 - mae: 1.8852 - mse: 7.1261 - val_loss: 7.9061 - val_mae: 2.1158 - val_mse: 7.9061\n",
      "Epoch 457/500\n",
      "12/12 [==============================] - 0s 3ms/step - loss: 7.1571 - mae: 1.8633 - mse: 7.1571 - val_loss: 8.2976 - val_mae: 2.1542 - val_mse: 8.2976\n",
      "Epoch 458/500\n",
      "12/12 [==============================] - 0s 3ms/step - loss: 6.9533 - mae: 1.8715 - mse: 6.9533 - val_loss: 7.9766 - val_mae: 2.1318 - val_mse: 7.9766\n",
      "Epoch 459/500\n",
      "12/12 [==============================] - 0s 3ms/step - loss: 7.0059 - mae: 1.8764 - mse: 7.0059 - val_loss: 7.9749 - val_mae: 2.1310 - val_mse: 7.9749\n",
      "Epoch 460/500\n",
      "12/12 [==============================] - 0s 3ms/step - loss: 6.9713 - mae: 1.8685 - mse: 6.9713 - val_loss: 8.0252 - val_mae: 2.1269 - val_mse: 8.0252\n",
      "Epoch 461/500\n",
      "12/12 [==============================] - 0s 3ms/step - loss: 7.0009 - mae: 1.8835 - mse: 7.0009 - val_loss: 8.0391 - val_mae: 2.1380 - val_mse: 8.0391\n",
      "Epoch 462/500\n",
      "12/12 [==============================] - 0s 3ms/step - loss: 6.9868 - mae: 1.8843 - mse: 6.9868 - val_loss: 8.0550 - val_mae: 2.1337 - val_mse: 8.0550\n",
      "Epoch 463/500\n",
      "12/12 [==============================] - 0s 3ms/step - loss: 7.0712 - mae: 1.8984 - mse: 7.0712 - val_loss: 8.0372 - val_mae: 2.1233 - val_mse: 8.0372\n",
      "Epoch 464/500\n",
      "12/12 [==============================] - 0s 3ms/step - loss: 7.0346 - mae: 1.8916 - mse: 7.0346 - val_loss: 8.0339 - val_mae: 2.1397 - val_mse: 8.0339\n",
      "Epoch 465/500\n",
      "12/12 [==============================] - 0s 3ms/step - loss: 7.1273 - mae: 1.8861 - mse: 7.1273 - val_loss: 8.1069 - val_mae: 2.1447 - val_mse: 8.1069\n",
      "Epoch 466/500\n",
      "12/12 [==============================] - 0s 3ms/step - loss: 7.0958 - mae: 1.8779 - mse: 7.0958 - val_loss: 7.9809 - val_mae: 2.1120 - val_mse: 7.9809\n",
      "Epoch 467/500\n",
      "12/12 [==============================] - 0s 4ms/step - loss: 7.1490 - mae: 1.8890 - mse: 7.1490 - val_loss: 8.6104 - val_mae: 2.2294 - val_mse: 8.6104\n",
      "Epoch 468/500\n",
      "12/12 [==============================] - 0s 3ms/step - loss: 6.9293 - mae: 1.8711 - mse: 6.9293 - val_loss: 7.9817 - val_mae: 2.1216 - val_mse: 7.9817\n",
      "Epoch 469/500\n",
      "12/12 [==============================] - 0s 3ms/step - loss: 6.9317 - mae: 1.8736 - mse: 6.9317 - val_loss: 7.9817 - val_mae: 2.1203 - val_mse: 7.9817\n",
      "Epoch 470/500\n",
      "12/12 [==============================] - 0s 3ms/step - loss: 6.8927 - mae: 1.8621 - mse: 6.8927 - val_loss: 7.9699 - val_mae: 2.1230 - val_mse: 7.9699\n",
      "Epoch 471/500\n",
      "12/12 [==============================] - 0s 3ms/step - loss: 6.9064 - mae: 1.8650 - mse: 6.9064 - val_loss: 8.3240 - val_mae: 2.1762 - val_mse: 8.3240\n",
      "Epoch 472/500\n",
      "12/12 [==============================] - 0s 3ms/step - loss: 6.9881 - mae: 1.8840 - mse: 6.9881 - val_loss: 8.1073 - val_mae: 2.1494 - val_mse: 8.1073\n",
      "Epoch 473/500\n",
      "12/12 [==============================] - 0s 3ms/step - loss: 6.9647 - mae: 1.8947 - mse: 6.9647 - val_loss: 7.9934 - val_mae: 2.1345 - val_mse: 7.9934\n",
      "Epoch 474/500\n",
      "12/12 [==============================] - 0s 3ms/step - loss: 6.8579 - mae: 1.8523 - mse: 6.8579 - val_loss: 8.4508 - val_mae: 2.1773 - val_mse: 8.4508\n",
      "Epoch 475/500\n",
      "12/12 [==============================] - 0s 4ms/step - loss: 7.0666 - mae: 1.9143 - mse: 7.0666 - val_loss: 7.9156 - val_mae: 2.1167 - val_mse: 7.9156\n",
      "Epoch 476/500\n",
      "12/12 [==============================] - 0s 4ms/step - loss: 6.7686 - mae: 1.8481 - mse: 6.7686 - val_loss: 7.9968 - val_mae: 2.1336 - val_mse: 7.9968\n",
      "Epoch 477/500\n",
      "12/12 [==============================] - 0s 3ms/step - loss: 6.7449 - mae: 1.8486 - mse: 6.7449 - val_loss: 7.9516 - val_mae: 2.1193 - val_mse: 7.9516\n",
      "Epoch 478/500\n",
      "12/12 [==============================] - 0s 3ms/step - loss: 6.8409 - mae: 1.8665 - mse: 6.8409 - val_loss: 8.0268 - val_mae: 2.1383 - val_mse: 8.0268\n",
      "Epoch 479/500\n",
      "12/12 [==============================] - 0s 3ms/step - loss: 6.9063 - mae: 1.8724 - mse: 6.9063 - val_loss: 7.9874 - val_mae: 2.1250 - val_mse: 7.9874\n",
      "Epoch 480/500\n",
      "12/12 [==============================] - 0s 3ms/step - loss: 6.6661 - mae: 1.8359 - mse: 6.6661 - val_loss: 7.9503 - val_mae: 2.1216 - val_mse: 7.9503\n",
      "Epoch 481/500\n",
      "12/12 [==============================] - 0s 4ms/step - loss: 6.6546 - mae: 1.8460 - mse: 6.6546 - val_loss: 7.9286 - val_mae: 2.1203 - val_mse: 7.9286\n",
      "Epoch 482/500\n",
      "12/12 [==============================] - 0s 3ms/step - loss: 6.7536 - mae: 1.8407 - mse: 6.7536 - val_loss: 8.1553 - val_mae: 2.1479 - val_mse: 8.1553\n",
      "Epoch 483/500\n",
      "12/12 [==============================] - 0s 3ms/step - loss: 6.7505 - mae: 1.8472 - mse: 6.7505 - val_loss: 7.9488 - val_mae: 2.1261 - val_mse: 7.9488\n",
      "Epoch 484/500\n",
      "12/12 [==============================] - 0s 3ms/step - loss: 6.6746 - mae: 1.8596 - mse: 6.6746 - val_loss: 7.9212 - val_mae: 2.1161 - val_mse: 7.9212\n",
      "Epoch 485/500\n",
      "12/12 [==============================] - 0s 3ms/step - loss: 7.1689 - mae: 1.9113 - mse: 7.1689 - val_loss: 8.6144 - val_mae: 2.2122 - val_mse: 8.6144\n",
      "Epoch 486/500\n",
      "12/12 [==============================] - 0s 3ms/step - loss: 6.5665 - mae: 1.8408 - mse: 6.5665 - val_loss: 7.9032 - val_mae: 2.1215 - val_mse: 7.9032\n",
      "Epoch 487/500\n",
      "12/12 [==============================] - 0s 4ms/step - loss: 6.8066 - mae: 1.8648 - mse: 6.8066 - val_loss: 7.9072 - val_mae: 2.1213 - val_mse: 7.9072\n",
      "Epoch 488/500\n",
      "12/12 [==============================] - 0s 3ms/step - loss: 6.9175 - mae: 1.8783 - mse: 6.9175 - val_loss: 8.0063 - val_mae: 2.1214 - val_mse: 8.0063\n",
      "Epoch 489/500\n",
      "12/12 [==============================] - 0s 3ms/step - loss: 6.7866 - mae: 1.8486 - mse: 6.7866 - val_loss: 8.5517 - val_mae: 2.1989 - val_mse: 8.5517\n",
      "Epoch 490/500\n",
      "12/12 [==============================] - 0s 4ms/step - loss: 6.7471 - mae: 1.8528 - mse: 6.7471 - val_loss: 8.0004 - val_mae: 2.1265 - val_mse: 8.0004\n",
      "Epoch 491/500\n",
      "12/12 [==============================] - 0s 3ms/step - loss: 6.6498 - mae: 1.8483 - mse: 6.6498 - val_loss: 7.9190 - val_mae: 2.1126 - val_mse: 7.9190\n"
     ]
    },
    {
     "name": "stdout",
     "output_type": "stream",
     "text": [
      "Epoch 492/500\n",
      "12/12 [==============================] - 0s 3ms/step - loss: 6.5838 - mae: 1.8288 - mse: 6.5838 - val_loss: 8.0170 - val_mae: 2.1250 - val_mse: 8.0170\n",
      "Epoch 493/500\n",
      "12/12 [==============================] - 0s 3ms/step - loss: 6.7681 - mae: 1.8741 - mse: 6.7681 - val_loss: 7.8986 - val_mae: 2.1127 - val_mse: 7.8986\n",
      "Epoch 494/500\n",
      "12/12 [==============================] - 0s 3ms/step - loss: 6.6311 - mae: 1.8464 - mse: 6.6311 - val_loss: 8.2379 - val_mae: 2.1616 - val_mse: 8.2379\n",
      "Epoch 495/500\n",
      "12/12 [==============================] - 0s 3ms/step - loss: 6.6362 - mae: 1.8398 - mse: 6.6362 - val_loss: 7.9069 - val_mae: 2.1095 - val_mse: 7.9069\n",
      "Epoch 496/500\n",
      "12/12 [==============================] - 0s 3ms/step - loss: 6.5786 - mae: 1.8445 - mse: 6.5786 - val_loss: 7.8655 - val_mae: 2.1071 - val_mse: 7.8655\n",
      "Epoch 497/500\n",
      "12/12 [==============================] - 0s 4ms/step - loss: 6.5626 - mae: 1.8436 - mse: 6.5626 - val_loss: 8.0415 - val_mae: 2.1328 - val_mse: 8.0415\n",
      "Epoch 498/500\n",
      "12/12 [==============================] - 0s 3ms/step - loss: 6.5922 - mae: 1.8355 - mse: 6.5922 - val_loss: 8.0625 - val_mae: 2.1255 - val_mse: 8.0625\n",
      "Epoch 499/500\n",
      "12/12 [==============================] - 0s 3ms/step - loss: 6.7536 - mae: 1.8551 - mse: 6.7536 - val_loss: 7.9115 - val_mae: 2.1150 - val_mse: 7.9115\n",
      "Epoch 500/500\n",
      "12/12 [==============================] - 0s 3ms/step - loss: 6.5656 - mae: 1.8435 - mse: 6.5656 - val_loss: 7.9009 - val_mae: 2.1101 - val_mse: 7.9009\n"
     ]
    }
   ],
   "source": [
    "history = model.fit(X_train, y_train, batch_size=32, \n",
    "                    epochs=500, validation_data=(X_test, y_test), verbose=1)"
   ]
  },
  {
   "cell_type": "code",
   "execution_count": 38,
   "metadata": {
    "colab": {
     "base_uri": "https://localhost:8080/",
     "height": 35
    },
    "colab_type": "code",
    "id": "1ZFSsBqVrTP1",
    "outputId": "d294314b-4808-4c0f-defc-ed8e4de416a9",
    "scrolled": true
   },
   "outputs": [
    {
     "data": {
      "text/plain": [
       "[7.900918006896973, 2.1100828647613525, 7.900918006896973]"
      ]
     },
     "execution_count": 38,
     "metadata": {},
     "output_type": "execute_result"
    }
   ],
   "source": [
    "model.evaluate(X_test, y_test, verbose=0)"
   ]
  },
  {
   "cell_type": "code",
   "execution_count": 39,
   "metadata": {
    "colab": {},
    "colab_type": "code",
    "id": "ToA2qijTrTP4"
   },
   "outputs": [
    {
     "name": "stdout",
     "output_type": "stream",
     "text": [
      "4/4 [==============================] - 0s 1ms/step\n"
     ]
    }
   ],
   "source": [
    "y_pred = model.predict(X_test)"
   ]
  },
  {
   "cell_type": "code",
   "execution_count": 40,
   "metadata": {
    "colab": {
     "base_uri": "https://localhost:8080/",
     "height": 53
    },
    "colab_type": "code",
    "id": "bNIig2qBrTP6",
    "outputId": "39e3a8b5-4772-47c7-a7cb-3d1406ef776a"
   },
   "outputs": [
    {
     "name": "stdout",
     "output_type": "stream",
     "text": [
      "R2 score: 0.91\n"
     ]
    }
   ],
   "source": [
    "# R2 계산 \n",
    "print(\"R2 score: {:.2f}\".format(r2_score(y_test, y_pred)))"
   ]
  },
  {
   "cell_type": "code",
   "execution_count": 41,
   "metadata": {
    "colab": {
     "base_uri": "https://localhost:8080/",
     "height": 314
    },
    "colab_type": "code",
    "id": "1BsUtTlErTP9",
    "outputId": "7ac930ee-d227-4aa5-9d08-ebc46bb8c237"
   },
   "outputs": [
    {
     "data": {
      "text/plain": [
       "Text(0.5, 1.0, 'Boston House Price Prediction ($1,000)')"
      ]
     },
     "execution_count": 41,
     "metadata": {},
     "output_type": "execute_result"
    },
    {
     "data": {
      "image/png": "[encoded data removed]",
      "text/plain": [
       "<Figure size 640x480 with 1 Axes>"
      ]
     },
     "metadata": {},
     "output_type": "display_data"
    }
   ],
   "source": [
    "plt.scatter(y_test, y_test, label='true')\n",
    "plt.scatter(y_test, y_pred, label='predict')\n",
    "plt.xlabel('y_test')\n",
    "plt.ylabel('y')\n",
    "plt.legend()\n",
    "plt.title('Boston House Price Prediction ($1,000)')"
   ]
  },
  {
   "cell_type": "code",
   "execution_count": 42,
   "metadata": {},
   "outputs": [
    {
     "data": {
      "text/plain": [
       "<matplotlib.legend.Legend at 0x1e1ca03f100>"
      ]
     },
     "execution_count": 42,
     "metadata": {},
     "output_type": "execute_result"
    },
    {
     "data": {
      "image/png": "[encoded data removed]",
      "text/plain": [
       "<Figure size 640x480 with 1 Axes>"
      ]
     },
     "metadata": {},
     "output_type": "display_data"
    }
   ],
   "source": [
    "plt.plot(history.history['mse'], label='Train error')\n",
    "plt.plot(history.history['val_mse'], label='Test error')\n",
    "plt.ylim([0, 50])\n",
    "plt.legend()"
   ]
  },
  {
   "cell_type": "markdown",
   "metadata": {
    "colab_type": "text",
    "id": "HHSjTEgsrTQC"
   },
   "source": [
    "## sklearn LinearRegression 비교"
   ]
  },
  {
   "cell_type": "code",
   "execution_count": 43,
   "metadata": {
    "colab": {},
    "colab_type": "code",
    "id": "Ys50B2fQrTQD"
   },
   "outputs": [],
   "source": [
    "from sklearn.linear_model import LinearRegression\n",
    "regr = LinearRegression()\n",
    "\n",
    "X_train, X_test, y_train, y_test = train_test_split(X, y)\n",
    "\n",
    "sc = MinMaxScaler()\n",
    "X_train = sc.fit_transform(X_train)\n",
    "X_test  = sc.transform(X_test)"
   ]
  },
  {
   "cell_type": "code",
   "execution_count": 44,
   "metadata": {
    "colab": {
     "base_uri": "https://localhost:8080/",
     "height": 35
    },
    "colab_type": "code",
    "id": "w4jI7c37rTQF",
    "outputId": "f7686808-c371-4f24-fa07-7768b8424c9b"
   },
   "outputs": [
    {
     "data": {
      "text/plain": [
       "LinearRegression()"
      ]
     },
     "execution_count": 44,
     "metadata": {},
     "output_type": "execute_result"
    }
   ],
   "source": [
    "regr.fit(X_train, y_train)"
   ]
  },
  {
   "cell_type": "code",
   "execution_count": 45,
   "metadata": {
    "colab": {},
    "colab_type": "code",
    "id": "PovF4BEVrTQJ"
   },
   "outputs": [],
   "source": [
    "y_pred = regr.predict(X_test)"
   ]
  },
  {
   "cell_type": "code",
   "execution_count": 46,
   "metadata": {
    "colab": {
     "base_uri": "https://localhost:8080/",
     "height": 125
    },
    "colab_type": "code",
    "id": "2NPoXeQRrTQL",
    "outputId": "4429b9f7-7bef-4acf-edb3-b7f77d5ac319"
   },
   "outputs": [
    {
     "name": "stdout",
     "output_type": "stream",
     "text": [
      "Coefficients: \n",
      " [ -7.75933875   4.52576315   0.07067385   2.3206243   -9.19393729\n",
      "  16.69767646   2.03062437 -16.95389922   8.52972806  -6.34019087\n",
      " -10.22633856   3.49387693 -23.6354985 ]\n",
      "Intercept: \n",
      " 29.26110815965692\n"
     ]
    }
   ],
   "source": [
    "# The coefficients\n",
    "print('Coefficients: \\n', regr.coef_)\n",
    "print('Intercept: \\n', regr.intercept_)"
   ]
  },
  {
   "cell_type": "code",
   "execution_count": 47,
   "metadata": {
    "colab": {
     "base_uri": "https://localhost:8080/",
     "height": 53
    },
    "colab_type": "code",
    "id": "nmcGQEyXrTQP",
    "outputId": "1173b675-0c0a-4071-92ec-2135f0d1ba75"
   },
   "outputs": [
    {
     "name": "stdout",
     "output_type": "stream",
     "text": [
      "Mean squared error: 21.94\n",
      "R2 score: 0.74\n"
     ]
    }
   ],
   "source": [
    "# MSE(mean squared error) 계산\n",
    "print(\"Mean squared error: {:.2f}\".format(mean_squared_error(y_test, y_pred)))\n",
    "\n",
    "# R2 계산 \n",
    "print(\"R2 score: {:.2f}\".format(r2_score(y_test, y_pred)))"
   ]
  },
  {
   "cell_type": "code",
   "execution_count": 49,
   "metadata": {},
   "outputs": [
    {
     "data": {
      "text/plain": [
       "Text(0.5, 1.0, 'Boston House Price Prediction ($1,000)')"
      ]
     },
     "execution_count": 49,
     "metadata": {},
     "output_type": "execute_result"
    },
    {
     "data": {
      "image/png": "[encoded data removed]",
      "text/plain": [
       "<Figure size 640x480 with 1 Axes>"
      ]
     },
     "metadata": {},
     "output_type": "display_data"
    }
   ],
   "source": [
    "plt.scatter(y_test, y_pred)\n",
    "plt.plot([y_test.min(), y_test.max()], [y_test.min(), y_test.max()], '--', c='r')\n",
    "plt.xlabel('y_test')\n",
    "plt.ylabel('y_pred')\n",
    "plt.title('Boston House Price Prediction ($1,000)')"
   ]
  },
  {
   "cell_type": "markdown",
   "metadata": {
    "colab_type": "text",
    "id": "N1dR1BCOrTQV"
   },
   "source": [
    "## 실습\n",
    "\n",
    "### UCI Machine Learning Repository 의 Auto MPG dataset 을 사용하여 자동차 연비 예측 Regression model 작성\n",
    "\n",
    "- auto-mpg.data - data file  \n",
    "\n",
    "\n",
    "- auto-mpg.names - data 설명 file\n",
    "\n",
    "    1. mpg:           continuous  \n",
    "    2. cylinders:     multi-valued discrete  \n",
    "    3. displacement:  continuous (배기량)   \n",
    "    4. horsepower:    continuous  \n",
    "    5. weight:        continuous  \n",
    "    6. acceleration:  continuous  \n",
    "    7. model year:    multi-valued discrete  \n",
    "    8. origin:        multi-valued discrete, 1 - USA, 2 - Europe, 3 - Japan  \n",
    "    9. car name:      string (unique for each instance)  \n",
    "\n",
    "Missing Attribute Values:  horsepower has 6 missing values  ==> \"?\" 로 들어 있으므로 read_csv 시 nan 으로 변환"
   ]
  },
  {
   "cell_type": "code",
   "execution_count": 50,
   "metadata": {
    "colab": {},
    "colab_type": "code",
    "id": "tBbjUToQrTQV"
   },
   "outputs": [],
   "source": [
    "import pandas as pd\n",
    "import numpy as np\n",
    "import tensorflow as tf\n",
    "from tensorflow.keras import layers\n",
    "from sklearn.model_selection import train_test_split\n",
    "from sklearn.preprocessing import StandardScaler"
   ]
  },
  {
   "cell_type": "markdown",
   "metadata": {
    "colab_type": "text",
    "id": "OaJ3QC85rTQY"
   },
   "source": [
    "### Data load 및 Preprocessing"
   ]
  },
  {
   "cell_type": "code",
   "execution_count": 51,
   "metadata": {
    "colab": {
     "base_uri": "https://localhost:8080/",
     "height": 53
    },
    "colab_type": "code",
    "id": "zwc5ou1PrTQY",
    "outputId": "472698f8-440b-43fd-fc7d-4eac7e14ca27"
   },
   "outputs": [],
   "source": [
    "data_path = tf.keras.utils.get_file(\"auto-mpg.data\", \n",
    "        \"https://archive.ics.uci.edu/ml/machine-learning-databases/auto-mpg/auto-mpg.data\")\n",
    "\n",
    "column_names = ['mpg', 'cylinders', 'displacement', 'horsepower', 'weight', 'acceleration', 'model year', 'origin']\n",
    "\n",
    "rawdata = pd.read_csv(data_path, names=column_names, na_values=\"?\", comment=\"\\t\", sep=\" \", skipinitialspace=True)\n",
    "\n",
    "rawdata.dropna(inplace=True)\n",
    "\n",
    "data = rawdata.copy()\n",
    "\n",
    "data = pd.get_dummies(data, columns=['cylinders', 'origin'])\n",
    "\n",
    "label = data.pop('mpg')\n",
    "\n",
    "X_train, X_test, y_train, y_test = train_test_split(data.values, label.values)\n",
    "\n",
    "sc = StandardScaler()\n",
    "X_train = sc.fit_transform(X_train)\n",
    "X_test = sc.transform(X_test)"
   ]
  },
  {
   "cell_type": "markdown",
   "metadata": {
    "colab_type": "text",
    "id": "lSAJqN3DrTQa"
   },
   "source": [
    "### Regression Model Build\n",
    "\n",
    "### train\n",
    "\n",
    "### predict\n",
    "\n",
    "### $r^2$ 계산\n",
    "\n",
    "### 시각화"
   ]
  }
 ],
 "metadata": {
  "accelerator": "GPU",
  "colab": {
   "name": "100.Boston Regression.ipynb",
   "provenance": []
  },
  "kernelspec": {
   "display_name": "Python 3 (ipykernel)",
   "language": "python",
   "name": "python3"
  },
  "language_info": {
   "codemirror_mode": {
    "name": "ipython",
    "version": 3
   },
   "file_extension": ".py",
   "mimetype": "text/x-python",
   "name": "python",
   "nbconvert_exporter": "python",
   "pygments_lexer": "ipython3",
   "version": "3.9.7"
  }
 },
 "nbformat": 4,
 "nbformat_minor": 4
}
