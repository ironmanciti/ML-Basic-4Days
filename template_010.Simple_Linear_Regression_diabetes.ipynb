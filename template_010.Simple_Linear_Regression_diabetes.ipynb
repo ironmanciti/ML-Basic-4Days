{
 "cells": [
  {
   "cell_type": "markdown",
   "id": "673e67bc",
   "metadata": {
    "slideshow": {
     "slide_type": "slide"
    }
   },
   "source": [
    "# 010.Simple Linear Regression\n",
    "\n",
    "## Univariate Linear Regression (단변수 선형회귀)"
   ]
  },
  {
   "cell_type": "code",
   "execution_count": null,
   "id": "d825c6b0",
   "metadata": {},
   "outputs": [],
   "source": []
  },
  {
   "cell_type": "code",
   "execution_count": null,
   "id": "db0db1af",
   "metadata": {},
   "outputs": [],
   "source": [
    "# Load the diabetes dataset\n",
    "# 나이, 성별, 체질량지수, 혈압, 6가지 혈청 수치  --> already scaled"
   ]
  },
  {
   "cell_type": "code",
   "execution_count": null,
   "id": "89dcffe1",
   "metadata": {},
   "outputs": [],
   "source": []
  },
  {
   "cell_type": "code",
   "execution_count": null,
   "id": "958eea49",
   "metadata": {},
   "outputs": [],
   "source": []
  },
  {
   "cell_type": "code",
   "execution_count": null,
   "id": "fda8897f",
   "metadata": {},
   "outputs": [],
   "source": [
    "#1년 뒤 측정한 당뇨병의 진행률 - target(label)"
   ]
  },
  {
   "cell_type": "code",
   "execution_count": null,
   "id": "87914007",
   "metadata": {},
   "outputs": [],
   "source": []
  },
  {
   "cell_type": "code",
   "execution_count": null,
   "id": "1990722a",
   "metadata": {},
   "outputs": [],
   "source": []
  },
  {
   "cell_type": "markdown",
   "id": "f5ab35ff",
   "metadata": {},
   "source": [
    "## univariate linear regression data 생성"
   ]
  },
  {
   "cell_type": "code",
   "execution_count": null,
   "id": "3ada91af",
   "metadata": {},
   "outputs": [],
   "source": [
    "# Use only one feature (단변수 선형회귀)"
   ]
  },
  {
   "cell_type": "code",
   "execution_count": null,
   "id": "066ed8e3",
   "metadata": {},
   "outputs": [],
   "source": [
    "# training/testing data set 분할"
   ]
  },
  {
   "cell_type": "code",
   "execution_count": null,
   "id": "fadf0549",
   "metadata": {},
   "outputs": [],
   "source": [
    "# targets data 를 training/testing set 으로 분리"
   ]
  },
  {
   "cell_type": "markdown",
   "id": "a1524dc1",
   "metadata": {},
   "source": [
    "## sklearn model 이용"
   ]
  },
  {
   "cell_type": "code",
   "execution_count": null,
   "id": "07b13ef5",
   "metadata": {},
   "outputs": [],
   "source": [
    "# regression object 생성"
   ]
  },
  {
   "cell_type": "code",
   "execution_count": null,
   "id": "c8ae1de7",
   "metadata": {},
   "outputs": [],
   "source": []
  },
  {
   "cell_type": "code",
   "execution_count": null,
   "id": "3ecce3f0",
   "metadata": {},
   "outputs": [],
   "source": [
    "# training set 을 이용하여 model 훈련"
   ]
  },
  {
   "cell_type": "code",
   "execution_count": null,
   "id": "baf1b436",
   "metadata": {},
   "outputs": [],
   "source": [
    "# The coefficients"
   ]
  },
  {
   "cell_type": "code",
   "execution_count": null,
   "id": "9143e968",
   "metadata": {},
   "outputs": [],
   "source": []
  },
  {
   "cell_type": "code",
   "execution_count": null,
   "id": "c04c498a",
   "metadata": {},
   "outputs": [],
   "source": []
  },
  {
   "cell_type": "code",
   "execution_count": null,
   "id": "9e3e248c",
   "metadata": {},
   "outputs": [],
   "source": [
    "# 당뇨병 테스트 데이터의 산점도를 그림\n",
    "# 당뇨병 테스트 데이터에 대한 예측 값을 선 그래프로 그림\n",
    "# x축 라벨을 'bmi'로 설정\n",
    "# y축 라벨을 'progress'로 설정"
   ]
  },
  {
   "cell_type": "markdown",
   "id": "f1383e6b",
   "metadata": {},
   "source": [
    "## R2 계산"
   ]
  },
  {
   "cell_type": "code",
   "execution_count": null,
   "id": "162a5f6d",
   "metadata": {},
   "outputs": [],
   "source": []
  },
  {
   "cell_type": "markdown",
   "id": "d0c31726",
   "metadata": {
    "slideshow": {
     "slide_type": "slide"
    }
   },
   "source": [
    "## Multivariate Linear Regression (다변수 선형회귀)\n",
    "\n",
    "bmi, bp 두가지 변수를 이용한 Linear Regression"
   ]
  },
  {
   "cell_type": "code",
   "execution_count": null,
   "id": "6ca938ad",
   "metadata": {},
   "outputs": [],
   "source": []
  },
  {
   "cell_type": "code",
   "execution_count": null,
   "id": "a3ebc5cd",
   "metadata": {},
   "outputs": [],
   "source": [
    "# 2 개의 feature 를 사용"
   ]
  },
  {
   "cell_type": "code",
   "execution_count": null,
   "id": "1ea569eb",
   "metadata": {},
   "outputs": [],
   "source": []
  },
  {
   "cell_type": "code",
   "execution_count": null,
   "id": "1504d6ca",
   "metadata": {},
   "outputs": [],
   "source": [
    "# Split the data into training/testing sets"
   ]
  },
  {
   "cell_type": "code",
   "execution_count": null,
   "id": "c0380bdb",
   "metadata": {},
   "outputs": [],
   "source": [
    "# Split the targets into training/testing sets"
   ]
  },
  {
   "cell_type": "code",
   "execution_count": null,
   "id": "d1e8a6c8",
   "metadata": {},
   "outputs": [],
   "source": [
    "# Create linear regression object"
   ]
  },
  {
   "cell_type": "code",
   "execution_count": null,
   "id": "32e58a8e",
   "metadata": {},
   "outputs": [],
   "source": [
    "# Train the model using the training sets"
   ]
  },
  {
   "cell_type": "code",
   "execution_count": null,
   "id": "a65b75ea",
   "metadata": {},
   "outputs": [],
   "source": [
    "# Make predictions using the testing set"
   ]
  },
  {
   "cell_type": "code",
   "execution_count": null,
   "id": "c87fc434",
   "metadata": {},
   "outputs": [],
   "source": [
    "# R2 계산 "
   ]
  },
  {
   "cell_type": "code",
   "execution_count": null,
   "id": "85d86909",
   "metadata": {},
   "outputs": [],
   "source": []
  }
 ],
 "metadata": {
  "kernelspec": {
   "display_name": "Python 3 (ipykernel)",
   "language": "python",
   "name": "python3"
  },
  "language_info": {
   "codemirror_mode": {
    "name": "ipython",
    "version": 3
   },
   "file_extension": ".py",
   "mimetype": "text/x-python",
   "name": "python",
   "nbconvert_exporter": "python",
   "pygments_lexer": "ipython3",
   "version": "3.9.7"
  }
 },
 "nbformat": 4,
 "nbformat_minor": 5
}
