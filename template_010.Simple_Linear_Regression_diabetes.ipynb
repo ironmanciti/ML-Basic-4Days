{
 "cells": [
  {
   "cell_type": "markdown",
   "id": "fe617d44",
   "metadata": {
    "slideshow": {
     "slide_type": "slide"
    }
   },
   "source": [
    "# 010.Simple Linear Regression\n",
    "\n",
    "## Univariate Linear Regression (단변수 선형회귀)"
   ]
  },
  {
   "cell_type": "code",
   "execution_count": null,
   "id": "e0db5c32",
   "metadata": {},
   "outputs": [],
   "source": []
  },
  {
   "cell_type": "code",
   "execution_count": null,
   "id": "ce4c4b0c",
   "metadata": {},
   "outputs": [],
   "source": [
    "# Load the diabetes dataset\n",
    "# 나이, 성별, 체질량지수, 혈압, 6가지 혈청 수치  --> already scaled"
   ]
  },
  {
   "cell_type": "code",
   "execution_count": null,
   "id": "a86cd6c9",
   "metadata": {},
   "outputs": [],
   "source": []
  },
  {
   "cell_type": "code",
   "execution_count": null,
   "id": "c861b82a",
   "metadata": {},
   "outputs": [],
   "source": []
  },
  {
   "cell_type": "code",
   "execution_count": null,
   "id": "99482d42",
   "metadata": {},
   "outputs": [],
   "source": [
    "#1년 뒤 측정한 당뇨병의 진행률 - target(label)"
   ]
  },
  {
   "cell_type": "code",
   "execution_count": null,
   "id": "d84533b0",
   "metadata": {},
   "outputs": [],
   "source": []
  },
  {
   "cell_type": "code",
   "execution_count": null,
   "id": "fbaa2e30",
   "metadata": {},
   "outputs": [],
   "source": []
  },
  {
   "cell_type": "markdown",
   "id": "acc9f697",
   "metadata": {},
   "source": [
    "## univariate linear regression data 생성"
   ]
  },
  {
   "cell_type": "code",
   "execution_count": null,
   "id": "c82ad264",
   "metadata": {},
   "outputs": [],
   "source": [
    "# Use only one feature (단변수 선형회귀)"
   ]
  },
  {
   "cell_type": "code",
   "execution_count": null,
   "id": "9fed31d5",
   "metadata": {},
   "outputs": [],
   "source": [
    "# training/testing data set 분할"
   ]
  },
  {
   "cell_type": "code",
   "execution_count": null,
   "id": "0b8e8acc",
   "metadata": {},
   "outputs": [],
   "source": [
    "# targets data 를 training/testing set 으로 분리"
   ]
  },
  {
   "cell_type": "markdown",
   "id": "8ba59587",
   "metadata": {},
   "source": [
    "## sklearn model 이용"
   ]
  },
  {
   "cell_type": "code",
   "execution_count": null,
   "id": "304721d0",
   "metadata": {},
   "outputs": [],
   "source": [
    "# regression object 생성"
   ]
  },
  {
   "cell_type": "code",
   "execution_count": null,
   "id": "a0726081",
   "metadata": {},
   "outputs": [],
   "source": []
  },
  {
   "cell_type": "code",
   "execution_count": null,
   "id": "138fd96f",
   "metadata": {},
   "outputs": [],
   "source": [
    "# training set 을 이용하여 model 훈련"
   ]
  },
  {
   "cell_type": "code",
   "execution_count": null,
   "id": "847bd1d8",
   "metadata": {},
   "outputs": [],
   "source": [
    "# The coefficients"
   ]
  },
  {
   "cell_type": "code",
   "execution_count": null,
   "id": "6564ebe0",
   "metadata": {},
   "outputs": [],
   "source": []
  },
  {
   "cell_type": "code",
   "execution_count": null,
   "id": "c3204b99",
   "metadata": {},
   "outputs": [],
   "source": []
  },
  {
   "cell_type": "code",
   "execution_count": null,
   "id": "860c280d",
   "metadata": {},
   "outputs": [],
   "source": [
    "# 당뇨병 테스트 데이터의 산점도를 그림\n",
    "# 당뇨병 테스트 데이터에 대한 예측 값을 선 그래프로 그림\n",
    "# x축 라벨을 'bmi'로 설정\n",
    "# y축 라벨을 'progress'로 설정"
   ]
  },
  {
   "cell_type": "markdown",
   "id": "e7618b30",
   "metadata": {},
   "source": [
    "## R2 계산"
   ]
  },
  {
   "cell_type": "code",
   "execution_count": null,
   "id": "b6614c73",
   "metadata": {},
   "outputs": [],
   "source": []
  },
  {
   "cell_type": "markdown",
   "id": "e069d5ad",
   "metadata": {
    "slideshow": {
     "slide_type": "slide"
    }
   },
   "source": [
    "## Multivariate Linear Regression (다변수 선형회귀)\n",
    "\n",
    "bmi, bp 두가지 변수를 이용한 Linear Regression"
   ]
  },
  {
   "cell_type": "code",
   "execution_count": null,
   "id": "97266f11",
   "metadata": {},
   "outputs": [],
   "source": []
  },
  {
   "cell_type": "code",
   "execution_count": null,
   "id": "1d254cff",
   "metadata": {},
   "outputs": [],
   "source": [
    "# 2 개의 feature 를 사용"
   ]
  },
  {
   "cell_type": "code",
   "execution_count": null,
   "id": "c26ee098",
   "metadata": {},
   "outputs": [],
   "source": []
  },
  {
   "cell_type": "code",
   "execution_count": null,
   "id": "1feb7c7a",
   "metadata": {},
   "outputs": [],
   "source": [
    "# Split the data into training/testing sets"
   ]
  },
  {
   "cell_type": "code",
   "execution_count": null,
   "id": "8d620f27",
   "metadata": {},
   "outputs": [],
   "source": [
    "# Split the targets into training/testing sets"
   ]
  },
  {
   "cell_type": "code",
   "execution_count": null,
   "id": "bed742be",
   "metadata": {},
   "outputs": [],
   "source": [
    "# Create linear regression object"
   ]
  },
  {
   "cell_type": "code",
   "execution_count": null,
   "id": "d9f66aec",
   "metadata": {},
   "outputs": [],
   "source": [
    "# Train the model using the training sets"
   ]
  },
  {
   "cell_type": "code",
   "execution_count": null,
   "id": "f3c7fbca",
   "metadata": {},
   "outputs": [],
   "source": [
    "# Make predictions using the testing set"
   ]
  },
  {
   "cell_type": "code",
   "execution_count": null,
   "id": "db30c95e",
   "metadata": {},
   "outputs": [],
   "source": [
    "# R2 계산 "
   ]
  },
  {
   "cell_type": "code",
   "execution_count": null,
   "id": "e60f4749",
   "metadata": {},
   "outputs": [],
   "source": []
  }
 ],
 "metadata": {
  "kernelspec": {
   "display_name": "Python 3 (ipykernel)",
   "language": "python",
   "name": "python3"
  },
  "language_info": {
   "codemirror_mode": {
    "name": "ipython",
    "version": 3
   },
   "file_extension": ".py",
   "mimetype": "text/x-python",
   "name": "python",
   "nbconvert_exporter": "python",
   "pygments_lexer": "ipython3",
   "version": "3.9.7"
  }
 },
 "nbformat": 4,
 "nbformat_minor": 5
}
