{
 "cells": [
  {
   "cell_type": "markdown",
   "id": "646a988f",
   "metadata": {
    "slideshow": {
     "slide_type": "slide"
    }
   },
   "source": [
    "# 010.Simple Linear Regression\n",
    "\n",
    "## Univariate Linear Regression (단변수 선형회귀)"
   ]
  },
  {
   "cell_type": "code",
   "execution_count": null,
   "id": "f59a6a6c",
   "metadata": {},
   "outputs": [],
   "source": []
  },
  {
   "cell_type": "code",
   "execution_count": null,
   "id": "2163be6f",
   "metadata": {},
   "outputs": [],
   "source": [
    "# Load the diabetes dataset\n",
    "# 나이, 성별, 체질량지수, 혈압, 6가지 혈청 수치  --> already scaled"
   ]
  },
  {
   "cell_type": "code",
   "execution_count": null,
   "id": "11a291c4",
   "metadata": {},
   "outputs": [],
   "source": []
  },
  {
   "cell_type": "code",
   "execution_count": null,
   "id": "e599bfa0",
   "metadata": {},
   "outputs": [],
   "source": []
  },
  {
   "cell_type": "code",
   "execution_count": null,
   "id": "96c0247a",
   "metadata": {},
   "outputs": [],
   "source": [
    "#1년 뒤 측정한 당뇨병의 진행률 - target(label)"
   ]
  },
  {
   "cell_type": "code",
   "execution_count": null,
   "id": "2a3612cd",
   "metadata": {},
   "outputs": [],
   "source": []
  },
  {
   "cell_type": "code",
   "execution_count": null,
   "id": "c8728ca4",
   "metadata": {},
   "outputs": [],
   "source": []
  },
  {
   "cell_type": "markdown",
   "id": "2ff25fd2",
   "metadata": {},
   "source": [
    "## univariate linear regression data 생성"
   ]
  },
  {
   "cell_type": "code",
   "execution_count": null,
   "id": "aaf9bad5",
   "metadata": {},
   "outputs": [],
   "source": [
    "# Use only one feature (단변수 선형회귀)"
   ]
  },
  {
   "cell_type": "code",
   "execution_count": null,
   "id": "e869eded",
   "metadata": {},
   "outputs": [],
   "source": [
    "# training/testing data set 분할"
   ]
  },
  {
   "cell_type": "code",
   "execution_count": null,
   "id": "69519c4b",
   "metadata": {},
   "outputs": [],
   "source": [
    "# targets data 를 training/testing set 으로 분리"
   ]
  },
  {
   "cell_type": "markdown",
   "id": "c8028978",
   "metadata": {},
   "source": [
    "## sklearn model 이용"
   ]
  },
  {
   "cell_type": "code",
   "execution_count": null,
   "id": "ae715761",
   "metadata": {},
   "outputs": [],
   "source": [
    "# regression object 생성"
   ]
  },
  {
   "cell_type": "code",
   "execution_count": null,
   "id": "be1920a4",
   "metadata": {},
   "outputs": [],
   "source": []
  },
  {
   "cell_type": "code",
   "execution_count": null,
   "id": "bf36c9c5",
   "metadata": {},
   "outputs": [],
   "source": [
    "# training set 을 이용하여 model 훈련"
   ]
  },
  {
   "cell_type": "code",
   "execution_count": null,
   "id": "3ebc6a07",
   "metadata": {},
   "outputs": [],
   "source": [
    "# The coefficients"
   ]
  },
  {
   "cell_type": "code",
   "execution_count": null,
   "id": "e6b7829e",
   "metadata": {},
   "outputs": [],
   "source": []
  },
  {
   "cell_type": "code",
   "execution_count": null,
   "id": "841eeb87",
   "metadata": {},
   "outputs": [],
   "source": []
  },
  {
   "cell_type": "code",
   "execution_count": null,
   "id": "7ddcf4c8",
   "metadata": {},
   "outputs": [],
   "source": [
    "# 당뇨병 테스트 데이터의 산점도를 그림\n",
    "# 당뇨병 테스트 데이터에 대한 예측 값을 선 그래프로 그림\n",
    "# x축 라벨을 'bmi'로 설정\n",
    "# y축 라벨을 'progress'로 설정"
   ]
  },
  {
   "cell_type": "markdown",
   "id": "da92304a",
   "metadata": {},
   "source": [
    "## R2 계산"
   ]
  },
  {
   "cell_type": "code",
   "execution_count": null,
   "id": "a248ead4",
   "metadata": {},
   "outputs": [],
   "source": []
  },
  {
   "cell_type": "markdown",
   "id": "9f06186f",
   "metadata": {
    "slideshow": {
     "slide_type": "slide"
    }
   },
   "source": [
    "## Multivariate Linear Regression (다변수 선형회귀)\n",
    "\n",
    "bmi, bp 두가지 변수를 이용한 Linear Regression"
   ]
  },
  {
   "cell_type": "code",
   "execution_count": null,
   "id": "d16767c0",
   "metadata": {},
   "outputs": [],
   "source": []
  },
  {
   "cell_type": "code",
   "execution_count": null,
   "id": "1b08a4a8",
   "metadata": {},
   "outputs": [],
   "source": [
    "# 2 개의 feature 를 사용"
   ]
  },
  {
   "cell_type": "code",
   "execution_count": null,
   "id": "dfab6def",
   "metadata": {},
   "outputs": [],
   "source": []
  },
  {
   "cell_type": "code",
   "execution_count": null,
   "id": "e172b926",
   "metadata": {},
   "outputs": [],
   "source": [
    "# Split the data into training/testing sets"
   ]
  },
  {
   "cell_type": "code",
   "execution_count": null,
   "id": "3c5ba781",
   "metadata": {},
   "outputs": [],
   "source": [
    "# Split the targets into training/testing sets"
   ]
  },
  {
   "cell_type": "code",
   "execution_count": null,
   "id": "e16e6e01",
   "metadata": {},
   "outputs": [],
   "source": [
    "# Create linear regression object"
   ]
  },
  {
   "cell_type": "code",
   "execution_count": null,
   "id": "d6828823",
   "metadata": {},
   "outputs": [],
   "source": [
    "# Train the model using the training sets"
   ]
  },
  {
   "cell_type": "code",
   "execution_count": null,
   "id": "79829fcc",
   "metadata": {},
   "outputs": [],
   "source": [
    "# Make predictions using the testing set"
   ]
  },
  {
   "cell_type": "code",
   "execution_count": null,
   "id": "0ff399e8",
   "metadata": {},
   "outputs": [],
   "source": [
    "# R2 계산 "
   ]
  },
  {
   "cell_type": "code",
   "execution_count": null,
   "id": "314d393b",
   "metadata": {},
   "outputs": [],
   "source": []
  }
 ],
 "metadata": {
  "kernelspec": {
   "display_name": "Python 3 (ipykernel)",
   "language": "python",
   "name": "python3"
  },
  "language_info": {
   "codemirror_mode": {
    "name": "ipython",
    "version": 3
   },
   "file_extension": ".py",
   "mimetype": "text/x-python",
   "name": "python",
   "nbconvert_exporter": "python",
   "pygments_lexer": "ipython3",
   "version": "3.9.21"
  }
 },
 "nbformat": 4,
 "nbformat_minor": 5
}
