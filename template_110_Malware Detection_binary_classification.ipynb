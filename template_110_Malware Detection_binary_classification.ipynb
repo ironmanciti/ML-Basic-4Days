{
 "cells": [
  {
   "cell_type": "markdown",
   "id": "diverse-links",
   "metadata": {},
   "source": [
    "# 110. Malware Detection - binary classification"
   ]
  },
  {
   "cell_type": "code",
   "execution_count": null,
   "id": "e29fdf20",
   "metadata": {},
   "outputs": [],
   "source": []
  },
  {
   "cell_type": "code",
   "execution_count": null,
   "id": "87683b1c",
   "metadata": {},
   "outputs": [],
   "source": []
  },
  {
   "cell_type": "code",
   "execution_count": null,
   "id": "e76833fc",
   "metadata": {},
   "outputs": [],
   "source": []
  },
  {
   "cell_type": "code",
   "execution_count": null,
   "id": "4f58e225",
   "metadata": {},
   "outputs": [],
   "source": [
    "# 'legitimate' 열의 각 값(예: 0 또는 1)이 몇 번씩 등장하는지 계산"
   ]
  },
  {
   "cell_type": "code",
   "execution_count": null,
   "id": "3473be3f",
   "metadata": {},
   "outputs": [],
   "source": [
    "# 데이터프레임의 열(컬럼) 이름 목록을 출력"
   ]
  },
  {
   "cell_type": "markdown",
   "id": "casual-snapshot",
   "metadata": {},
   "source": [
    "- Name : 제외\n",
    "- md5 : hash value 제외"
   ]
  },
  {
   "cell_type": "code",
   "execution_count": null,
   "id": "23a79e29",
   "metadata": {},
   "outputs": [],
   "source": [
    "# 데이터프레임의 처음 두 개 열을 제외하고 나머지 열만 선택하여 df에 저장"
   ]
  },
  {
   "cell_type": "code",
   "execution_count": null,
   "id": "24fe8244",
   "metadata": {},
   "outputs": [],
   "source": []
  },
  {
   "cell_type": "code",
   "execution_count": null,
   "id": "8f3391fe",
   "metadata": {},
   "outputs": [],
   "source": [
    "# 'legitimate' 열을 타깃 변수 y로 분리하고, 데이터프레임(df)에서는 해당 열 제거\n",
    "# 나머지 열들을 입력 특성 X로 저장 (NumPy 배열 형태로 변환)"
   ]
  },
  {
   "cell_type": "code",
   "execution_count": null,
   "id": "6883add6",
   "metadata": {},
   "outputs": [],
   "source": []
  },
  {
   "cell_type": "code",
   "execution_count": null,
   "id": "f4d2f4ca",
   "metadata": {},
   "outputs": [],
   "source": [
    "# 전체 데이터를 학습용과 테스트용으로 분리\n",
    "# test_size=0.2 → 전체 데이터의 20%를 테스트 데이터로 사용\n",
    "# random_state=0 → 랜덤 시드를 고정하여 결과 재현 가능하게 설정\n",
    "# 분리된 데이터의 형태(샘플 수, 특성 수)를 출력"
   ]
  },
  {
   "cell_type": "code",
   "execution_count": null,
   "id": "14d878df",
   "metadata": {},
   "outputs": [],
   "source": [
    "# StandardScaler 객체 생성 (표준화: 평균 0, 표준편차 1로 스케일링)\n",
    "# 학습 데이터를 기준으로 평균과 표준편차를 계산한 후 정규화 수행\n",
    "# 테스트 데이터는 학습 데이터의 기준(평균, 표준편차)으로만 정규화 수행"
   ]
  },
  {
   "cell_type": "code",
   "execution_count": null,
   "id": "e9b2daac",
   "metadata": {},
   "outputs": [],
   "source": []
  },
  {
   "cell_type": "code",
   "execution_count": null,
   "id": "5c8eb327",
   "metadata": {},
   "outputs": [],
   "source": []
  },
  {
   "cell_type": "code",
   "execution_count": null,
   "id": "45a6f9e3",
   "metadata": {},
   "outputs": [],
   "source": [
    "# 모델 컴파일: 손실 함수, 옵티마이저, 평가 지표 설정"
   ]
  },
  {
   "cell_type": "code",
   "execution_count": null,
   "id": "148e6b2f",
   "metadata": {},
   "outputs": [],
   "source": [
    "# 모델 학습 시작"
   ]
  },
  {
   "cell_type": "code",
   "execution_count": null,
   "id": "02b71317",
   "metadata": {},
   "outputs": [],
   "source": [
    "# 테스트 데이터에 대해 예측 수행\n",
    "# 결과는 확률(0~1)이므로, 0.5 초과일 경우 True (즉, 클래스 1로 간주)\n",
    "# 정확도 평가: 실제 정답(y_test)과 예측 결과(y_pred)를 비교"
   ]
  },
  {
   "cell_type": "code",
   "execution_count": null,
   "id": "0b5d179b",
   "metadata": {},
   "outputs": [],
   "source": [
    "# 학습 정확도 및 손실 시각화\n",
    "# 📈 정확도 그래프 (왼쪽)\n",
    "# 📉 손실(loss) 그래프 (오른쪽)"
   ]
  },
  {
   "cell_type": "code",
   "execution_count": null,
   "id": "989f7807",
   "metadata": {},
   "outputs": [],
   "source": []
  }
 ],
 "metadata": {
  "kernelspec": {
   "display_name": "Python 3 (ipykernel)",
   "language": "python",
   "name": "python3"
  },
  "language_info": {
   "codemirror_mode": {
    "name": "ipython",
    "version": 3
   },
   "file_extension": ".py",
   "mimetype": "text/x-python",
   "name": "python",
   "nbconvert_exporter": "python",
   "pygments_lexer": "ipython3",
   "version": "3.9.21"
  }
 },
 "nbformat": 4,
 "nbformat_minor": 5
}
